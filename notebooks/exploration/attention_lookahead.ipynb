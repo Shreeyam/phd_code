{
 "cells": [
  {
   "cell_type": "code",
   "execution_count": 7,
   "metadata": {},
   "outputs": [
    {
     "name": "stdout",
     "output_type": "stream",
     "text": [
      "CLS output shape: torch.Size([2, 32])\n"
     ]
    }
   ],
   "source": [
    "import torch\n",
    "import torch.nn as nn\n",
    "\n",
    "class SimpleTransformerEncoder(nn.Module):\n",
    "    def __init__(self, input_dim, embed_dim, num_layers, num_heads):\n",
    "        \"\"\"\n",
    "        Args:\n",
    "            input_dim (int): Dimensionality of each imaging opportunity input,\n",
    "                             e.g., 3 for [time, angle, intrinsic utility].\n",
    "            embed_dim (int): Dimension for embeddings in the transformer.\n",
    "            num_layers (int): Number of transformer encoder layers.\n",
    "            num_heads (int): Number of attention heads.\n",
    "        \"\"\"\n",
    "        super().__init__()\n",
    "        # Project the 3-dimensional input into embed_dim.\n",
    "        self.input_embedding = nn.Linear(input_dim, embed_dim)\n",
    "        \n",
    "        # Learnable [CLS] token to summarize the sequence.\n",
    "        self.cls_token = nn.Parameter(torch.randn(1, 1, embed_dim))\n",
    "        \n",
    "        # Build the transformer encoder using the built-in encoder layer.\n",
    "        encoder_layer = nn.TransformerEncoderLayer(d_model=embed_dim, nhead=num_heads)\n",
    "        self.transformer_encoder = nn.TransformerEncoder(encoder_layer, num_layers=num_layers)\n",
    "    \n",
    "    def forward(self, x):\n",
    "        \"\"\"\n",
    "        Args:\n",
    "            x (Tensor): Input tensor of shape (batch_size, seq_len, input_dim)\n",
    "                        where each token is [time, angle, intrinsic utility].\n",
    "                        \n",
    "        Returns:\n",
    "            Tensor: The fixed-length representation from the [CLS] token with shape (batch_size, embed_dim).\n",
    "        \"\"\"\n",
    "        batch_size, seq_len, _ = x.shape\n",
    "        \n",
    "        # Embed the input features.\n",
    "        x = self.input_embedding(x)  # (batch_size, seq_len, embed_dim)\n",
    "        \n",
    "        # Prepend the [CLS] token.\n",
    "        cls_tokens = self.cls_token.expand(batch_size, -1, -1)  # (batch_size, 1, embed_dim)\n",
    "        x = torch.cat([cls_tokens, x], dim=1)  # (batch_size, seq_len+1, embed_dim)\n",
    "        \n",
    "        # The transformer expects input shape: (seq_len+1, batch_size, embed_dim).\n",
    "        x = x.transpose(0, 1)\n",
    "        \n",
    "        # Pass through the transformer encoder.\n",
    "        x = self.transformer_encoder(x)\n",
    "        \n",
    "        # Transpose back to (batch_size, seq_len+1, embed_dim) and extract the [CLS] token.\n",
    "        x = x.transpose(0, 1)\n",
    "        cls_output = x[:, 0, :]  # (batch_size, embed_dim)\n",
    "        return cls_output\n",
    "\n",
    "# ----- Example usage -----\n",
    "if __name__ == \"__main__\":\n",
    "    # Define parameters.\n",
    "    batch_size = 2\n",
    "    seq_len = 10  # For example, 10 imaging opportunities.\n",
    "    input_dim = 3   # Each opportunity is represented by [time, angle, intrinsic utility].\n",
    "    embed_dim = 32\n",
    "    num_heads = 4\n",
    "    num_layers = 2\n",
    "\n",
    "    # Create the model.\n",
    "    model = SimpleTransformerEncoder(input_dim, embed_dim, num_layers, num_heads)\n",
    "    \n",
    "    # Create a dummy input.\n",
    "    dummy_input = torch.randn(batch_size, seq_len, input_dim)\n",
    "    \n",
    "    # Forward pass.\n",
    "    cls_output = model(dummy_input)\n",
    "    print(\"CLS output shape:\", cls_output.shape)  # Expected: (batch_size, embed_dim)\n"
   ]
  }
 ],
 "metadata": {
  "kernelspec": {
   "display_name": "Python 3",
   "language": "python",
   "name": "python3"
  },
  "language_info": {
   "codemirror_mode": {
    "name": "ipython",
    "version": 3
   },
   "file_extension": ".py",
   "mimetype": "text/x-python",
   "name": "python",
   "nbconvert_exporter": "python",
   "pygments_lexer": "ipython3",
   "version": "3.12.6"
  }
 },
 "nbformat": 4,
 "nbformat_minor": 2
}
