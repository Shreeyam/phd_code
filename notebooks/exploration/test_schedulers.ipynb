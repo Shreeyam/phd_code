{
 "cells": [
  {
   "cell_type": "code",
   "execution_count": 31,
   "metadata": {},
   "outputs": [
    {
     "name": "stdout",
     "output_type": "stream",
     "text": [
      "The autoreload extension is already loaded. To reload it, use:\n",
      "  %reload_ext autoreload\n"
     ]
    }
   ],
   "source": [
    "import numpy as np\n",
    "import matplotlib.pyplot as plt\n",
    "import os\n",
    "import sys\n",
    "\n",
    "sys.path.append(os.path.join(os.path.curdir, '../../src'))\n",
    "\n",
    "from access import *\n",
    "from orbits import *\n",
    "from constants import *\n",
    "from cameras import *\n",
    "from schedulers import *\n",
    "\n",
    "%load_ext autoreload\n",
    "%autoreload 2\n"
   ]
  },
  {
   "cell_type": "code",
   "execution_count": null,
   "metadata": {},
   "outputs": [],
   "source": [
    "requests = load_worldcities(10000)\n",
    "# Assume random power law utility\n",
    "rng = np.random.default_rng()\n",
    "for i in range(len(requests)):\n",
    "    requests[i].utility = rng.pareto(2) + 1\n",
    "\n",
    "h = 400\n",
    "t0 = datetime.datetime(2024, 1, 1, 12, 0, 0)\n",
    "orbit = circular_orbit(a=Constants.R_E+h, i=np.deg2rad(51.6), Omega=np.pi, M=np.pi/2, t=t0)\n",
    "t_end = datetime.datetime(2024, 1, 1, 14, 0, 0)\n",
    "accesses = get_accesses(requests, orbit, 500, 30, t0, t_end)\n",
    "\n",
    "t_s = 20\n",
    "t_dotsq = 16\n",
    "\n",
    "def agility_bangbang(theta):\n",
    "    return t_s + t_dotsq * np.sqrt(np.abs(theta))"
   ]
  },
  {
   "cell_type": "code",
   "execution_count": 36,
   "metadata": {},
   "outputs": [],
   "source": [
    "# Test scheduler\n",
    "schedule_greedy = greedy_schedule(accesses, requests, agility_bangbang)\n",
    "schedule_milp = milp_schedule(accesses, requests, agility_bangbang)"
   ]
  },
  {
   "cell_type": "code",
   "execution_count": 40,
   "metadata": {},
   "outputs": [
    {
     "name": "stdout",
     "output_type": "stream",
     "text": [
      "[Access(7186, 53.2719, -9.0489, Galway, 2024-01-01 12:00:12.207031, 24.901537330328182, None, 1.0887914707791475), Access(2508, 52.9247, -1.478, Derby, 2024-01-01 12:01:25.449219, 24.836107556497264, None, 1.32246147099737), Access(4072, 52.15, 5.3833, Amersfoort, 2024-01-01 12:02:33.808594, 24.729087414718492, None, 1.0165753644874438), Access(2711, 50.8333, 12.9167, Chemnitz, 2024-01-01 12:03:51.933594, 25.55142366797685, None, 3.217223602166327), Access(2912, 48.7167, 21.25, Kosice, 2024-01-01 12:05:24.707031, 27.43967082092468, None, 1.1950733333984354), Access(8319, 45.3517, 28.8364, Izmail, 2024-01-01 12:07:03.339844, 22.327935274397408, None, 1.226950192535267), Access(4474, 41.5722, 35.9147, Bafra, 2024-01-01 12:08:44.902344, 20.28665394005264, None, 1.6643865671875053), Access(9438, 38.1944, 41.4911, Kozluk, 2024-01-01 12:10:12.792969, 21.981102652759038, None, 1.4527857498005488), Access(6687, 34.1103, 46.5275, Eslamabad-e Gharb, 2024-01-01 12:11:45.566406, 19.314273675226147, None, 1.1811812953147656), Access(6335, 30.36, 50.7839, Do Gonbadan, 2024-01-01 12:13:08.574219, 19.21280945235144, None, 1.8782821120934394), Access(9759, 25.5533, 55.5475, Umm al Qaywayn, 2024-01-01 12:14:51.113281, 18.921574072030054, None, 1.382874094695804), Access(3442, 19.0522, -104.3158, Manzanillo, 2024-01-01 13:15:35.644531, 10.324108679644205, None, 1.5091069199233644), Access(6027, 23.6528, -100.6444, Matehuala, 2024-01-01 13:17:07.441406, 13.602767622238433, None, 2.616803644380332), Access(5633, 29.5935, -95.6358, Sugar Land, 2024-01-01 13:19:06.582031, 20.69524798852349, None, 1.7051922846107106), Access(740, 35.1087, -89.9663, Memphis, 2024-01-01 13:21:03.769531, 25.40513323356473, None, 1.985104736694231), Access(468, 39.1413, -84.506, Cincinnati, 2024-01-01 13:22:38.496094, 25.504059858805384, None, 3.6872482081309457), Access(9629, 42.7394, -78.8581, Hamburg, 2024-01-01 13:24:08.339844, 26.960347370767074, None, 1.487597957163325), Access(6631, 45.4667, -73.45, Brossard, 2024-01-01 13:25:24.511719, 27.144661848746622, None, 1.2745578253576466), Access(4545, 48.39, -4.49, Brest, 2024-01-01 13:37:35.957031, 13.565810291594913, None, 1.0972952138703027), Access(4344, 45.7831, 3.0824, Clermont-Ferrand, 2024-01-01 13:39:08.730469, 14.389190151851416, None, 4.657387302731834), Access(8859, 42.4167, 12.1, Viterbo, 2024-01-01 13:41:04.941406, 25.531769884725676, None, 1.029519735596129), Access(1180, 32.1167, 20.0667, Benghazi, 2024-01-01 13:44:07.558594, -29.64204497395982, None, 1.3142947765258979), Access(1667, 26.7, 31.6, Al Maraghah, 2024-01-01 13:47:03.339844, 22.130101702581406, None, 1.0059771508742477), Access(1285, 19.6167, 37.2167, Port Sudan, 2024-01-01 13:49:23.964844, 15.313620511309583, None, 1.332273871908902), Access(7948, 13.0167, 42.7333, Assab, 2024-01-01 13:51:39.707031, 18.68574023110945, None, 2.6545748243324785), Access(9581, 8.55, 46.2333, Qoorlugud, 2024-01-01 13:53:10.527344, 20.871800330262705, None, 1.1693752478056607)]\n",
      "[Access(8480, 51.6159, -3.4175, Rhondda, 2024-01-01 12:01:08.847656, 3.805823874766654, None, 4.425357218669079), Access(6529, 50.8, 6.4833, Duren, 2024-01-01 12:02:49.433594, 8.201926643482558, None, 104.18719593982006), Access(7037, 48.45, 22.75, Mukacheve, 2024-01-01 12:05:40.332031, 29.957429193411354, None, 8.112827134127848), Access(8189, 40.875, 35.4633, Merzifon, 2024-01-01 12:08:47.832031, 9.07000456904841, None, 1.8434074921100694), Access(3037, 37.9333, 40.2333, Yenisehir, 2024-01-01 12:10:03.027344, 9.634000554707457, None, 58.091706967228795), Access(6794, 33.5294, 47.6092, Kuhdasht, 2024-01-01 12:12:02.167969, 22.427027684136764, None, 2.1329367203093024), Access(4490, 28.5031, 53.5658, Jahrom, 2024-01-01 12:13:57.402344, 26.68299793935555, None, 2.964253587604532), Access(8412, 23.5242, 58.4989, Al `Amirat, 2024-01-01 12:15:43.847656, 29.069076357501963, None, 9.874455292956487), Access(494, 21.1167, -101.6833, Leon de los Aldama, 2024-01-01 13:16:27.402344, 0.3441004387166284, None, 17.189428513584765), Access(1175, 30.442, -91.1311, Baton Rouge, 2024-01-01 13:20:01.269531, -13.938441758714662, None, 4.4725213878103975), Access(1220, 35.9692, -83.9496, Knoxville, 2024-01-01 13:22:12.128906, -14.999888235100755, None, 8.25376983372856), Access(7061, 39.949, -75.2891, Upper Darby, 2024-01-01 13:24:19.082031, -28.71090776259138, None, 18.610974781543828), Access(8442, 45.2806, -66.0761, Saint John, 2024-01-01 13:26:35.800781, -13.975923271265211, None, 1.7035027167515413), Access(8168, 47.2736, -2.2139, Saint-Nazaire, 2024-01-01 13:38:05.253906, 8.089567971156042, None, 12.62011736983557), Access(9897, 44.3081, 8.4811, Savona, 2024-01-01 13:40:13.183594, 25.463123260362188, None, 1.116425319001417), Access(5055, 40.9333, 14.2, Giugliano in Campania, 2024-01-01 13:41:39.121094, 22.842246394818687, None, 6.181756261079003), Access(9126, 27.65, 30.7, Dalja, 2024-01-01 13:46:43.808594, 22.32223636586903, None, 9.94935020011626), Access(6401, 14.1, 38.2833, Shire, 2024-01-01 13:50:42.089844, -23.753223146845382, None, 1.5139536706197914), Access(2465, 9.6, 41.8667, Dire Dawa, 2024-01-01 13:52:13.886719, -22.47832542348306, None, 1.881642914237889), Access(9233, 4.7358, 45.2036, Beledweyne, 2024-01-01 13:53:47.636719, -25.001292865764356, None, 2.5328999495502984)]\n",
      "26 20\n"
     ]
    }
   ],
   "source": [
    "print(schedule_greedy)\n",
    "print(schedule_milp)\n",
    "print(len(schedule_greedy), len(schedule_milp))"
   ]
  },
  {
   "cell_type": "code",
   "execution_count": 38,
   "metadata": {},
   "outputs": [
    {
     "name": "stdout",
     "output_type": "stream",
     "text": [
      "Utility greedy: 45.152894953362065, utility MILP: 277.65848327068557\n"
     ]
    }
   ],
   "source": [
    "# Evaluate schedules\n",
    "utlity_greedy = np.sum([access.utility for access in schedule_greedy])\n",
    "utility_milp = np.sum([access.utility for access in schedule_milp])\n",
    "\n",
    "print(f\"Utility greedy: {utlity_greedy}, utility MILP: {utility_milp}\")"
   ]
  },
  {
   "cell_type": "code",
   "execution_count": null,
   "metadata": {},
   "outputs": [],
   "source": []
  }
 ],
 "metadata": {
  "kernelspec": {
   "display_name": "Python 3",
   "language": "python",
   "name": "python3"
  },
  "language_info": {
   "codemirror_mode": {
    "name": "ipython",
    "version": 3
   },
   "file_extension": ".py",
   "mimetype": "text/x-python",
   "name": "python",
   "nbconvert_exporter": "python",
   "pygments_lexer": "ipython3",
   "version": "3.12.6"
  }
 },
 "nbformat": 4,
 "nbformat_minor": 2
}
