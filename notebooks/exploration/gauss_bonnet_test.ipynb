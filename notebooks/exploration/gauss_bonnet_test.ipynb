{
 "cells": [
  {
   "cell_type": "code",
   "execution_count": 83,
   "id": "186f332a",
   "metadata": {},
   "outputs": [
    {
     "name": "stdout",
     "output_type": "stream",
     "text": [
      "The autoreload extension is already loaded. To reload it, use:\n",
      "  %reload_ext autoreload\n"
     ]
    }
   ],
   "source": [
    "import numpy as np\n",
    "from dynamic_tasker.areas import *\n",
    "%load_ext autoreload\n",
    "%autoreload 2\n",
    "\n",
    "# ---------- small utilities ---------------------------------------------------\n",
    "EPS = 1e-12\n",
    "\n",
    "def normalize(v: np.ndarray) -> np.ndarray:\n",
    "    \"\"\"Return v / ‖v‖.\"\"\"\n",
    "    n = np.linalg.norm(v)\n",
    "    if n < EPS:\n",
    "        raise ValueError(\"zero‑length vector\")\n",
    "    return v / n\n",
    "\n",
    "\n",
    "def interior_signs(planes, interior_pt):\n",
    "    \"\"\"\n",
    "    Return σ_j = ±1 for every plane, where +1 means the interior point is on\n",
    "    the 'inside' side ( n·x > d ).\n",
    "    \"\"\"\n",
    "    return [1 if np.dot(p[\"n\"], interior_pt) - p[\"d\"] > 0 else -1\n",
    "            for p in planes]\n",
    "\n",
    "\n",
    "def vertex_angle(v, n_prev, n_next):\n",
    "    \"\"\"\n",
    "    Corner angle θ at vertex v where the boundary turns from plane n_prev\n",
    "    to plane n_next (both unit normals).\n",
    "    \"\"\"\n",
    "    t1 = normalize(np.cross(n_prev, v))\n",
    "    t2 = normalize(np.cross(n_next, v))\n",
    "    return np.arccos(np.clip(np.dot(t1, t2), -1.0, 1.0))\n",
    "\n",
    "\n",
    "def edge_contribution(v1, v2, n, d, sigma):\n",
    "    \"\"\"\n",
    "    ∫ κ_g ds of the small‑circle arc between v1 and v2 on plane (n,d),\n",
    "    with orientation sign sigma = ±1.\n",
    "    \"\"\"\n",
    "    α = np.arccos(d)                  # angular radius of the circle\n",
    "    if abs(np.cos(α)) < 1e-14:       # great circle ⇒ κ_g = 0\n",
    "        return 0.0\n",
    "\n",
    "    # project the vertices onto the plane to obtain circle centre‑angle Δψ\n",
    "    u1 = v1 - d * n\n",
    "    u2 = v2 - d * n\n",
    "    denom = np.sin(α) ** 2\n",
    "    cos_Δψ = np.clip(np.dot(u1, u2) / denom, -1.0, 1.0)\n",
    "    Δψ = np.arccos(cos_Δψ)\n",
    "\n",
    "    return sigma * np.cos(α) * Δψ\n",
    "# -----------------------------------------------------------------------------\n",
    "\n",
    "\n",
    "def spherical_polygon_area(vertices,                    # [N,3]\n",
    "                           planes,                      # list of {\"n\":..., \"d\":...}\n",
    "                           edge_plane_indices,          # [N] plane index for edge i→i+1\n",
    "                           interior_pt=None):\n",
    "    \"\"\"\n",
    "    Area of the region on the unit sphere bounded by the given planes.\n",
    "\n",
    "    Parameters\n",
    "    ----------\n",
    "    vertices            CCW‑ordered vertices on S² (N×3 array‑like)\n",
    "    planes              [{'n': unit normal (3,), 'd': scalar}, …]\n",
    "    edge_plane_indices  plane index of edge (v_i → v_{i+1})\n",
    "    interior_pt         optional point known to lie inside the patch\n",
    "                        (defaults to mean of vertices, then renormalised)\n",
    "\n",
    "    Returns\n",
    "    -------\n",
    "    area  (float) – steradians\n",
    "    \"\"\"\n",
    "    V = [normalize(np.asarray(v, float)) for v in vertices]\n",
    "    N = len(V)\n",
    "\n",
    "    if interior_pt is None:\n",
    "        interior_pt = normalize(np.mean(V, axis=0))\n",
    "\n",
    "    σ = interior_signs(planes, interior_pt)\n",
    "\n",
    "    corner_sum = 0.0\n",
    "    edge_sum   = 0.0\n",
    "\n",
    "    for i in range(N):\n",
    "        v_curr = V[i]\n",
    "        v_next = V[(i + 1) % N]\n",
    "\n",
    "        plane_prev = planes[edge_plane_indices[i - 1]]\n",
    "        plane_next = planes[edge_plane_indices[i]]\n",
    "\n",
    "        # --- corner term θ_i -----------------------------------------------\n",
    "        corner_sum += vertex_angle(v_curr,\n",
    "                                   plane_prev[\"n\"],\n",
    "                                   plane_next[\"n\"])\n",
    "\n",
    "        # --- edge line‑integral term ---------------------------------------\n",
    "        idx = edge_plane_indices[i]\n",
    "        p   = planes[idx]\n",
    "        edge_sum += edge_contribution(v_curr, v_next,\n",
    "                                      p[\"n\"], p[\"d\"], σ[idx])\n",
    "\n",
    "    # Gauss–Bonnet on S²  →  A = 2π − Σθ_i − Σ∫κ_g ds\n",
    "    return 2.0 * np.pi - corner_sum - edge_sum\n"
   ]
  },
  {
   "cell_type": "code",
   "execution_count": 84,
   "id": "94babba4",
   "metadata": {},
   "outputs": [
    {
     "name": "stdout",
     "output_type": "stream",
     "text": [
      "1.5707963267948966\n"
     ]
    }
   ],
   "source": [
    "# three orthogonal planes x=0, y=0, z=0 (positive octant)\n",
    "planes = [\n",
    "    {\"n\": np.array([ 1, 0, 0]), \"d\": 0.0},\n",
    "    {\"n\": np.array([ 0, 1, 0]), \"d\": 0.0},\n",
    "    {\"n\": np.array([ 0, 0, 1]), \"d\": 0.0},\n",
    "]\n",
    "\n",
    "vertices = [np.array([1,0,0]),\n",
    "            np.array([0,1,0]),\n",
    "            np.array([0,0,1])]\n",
    "\n",
    "# edges: (1,0,0)→(0,1,0) lies on z=0 plane, etc.\n",
    "edge_plane_indices = [2, 0, 1]\n",
    "\n",
    "area = spherical_polygon_area(vertices, planes, edge_plane_indices)\n",
    "print(area)          # 1.57079632679 ≈ π/2  (1/8 of the sphere)\n"
   ]
  },
  {
   "cell_type": "code",
   "execution_count": 85,
   "id": "d7dc3989",
   "metadata": {},
   "outputs": [
    {
     "name": "stdout",
     "output_type": "stream",
     "text": [
      "Area = 0.785398 steradians\n"
     ]
    }
   ],
   "source": [
    "# --- assume spherical_polygon_area is defined as in the previous snippet ---\n",
    "\n",
    "# 1) Define the three planes:\n",
    "planes = [\n",
    "    {\"n\": np.array([0, 0, 1]), \"d\": 0.5},   # small circle: z = 0.5  (α = 60°)\n",
    "    {\"n\": np.array([1, 0, 0]), \"d\": 0.0},   # great circle: x = 0\n",
    "    {\"n\": np.array([0, 1, 0]), \"d\": 0.0},   # great circle: y = 0\n",
    "]\n",
    "\n",
    "# 2) List the CCW‐ordered vertices around D:\n",
    "vertices = [\n",
    "    np.array([ 0.8660254,  0.0,       0.5      ]),  # v1: on y=0 & z=0.5\n",
    "    np.array([ 0.0,        0.0,       1.0      ]),  # v2: intersection of x=0,y=0\n",
    "    np.array([ 0.0,        0.8660254,  0.5      ]),  # v3: on x=0 & z=0.5\n",
    "]\n",
    "\n",
    "# 3) For each edge (v_i → v_{i+1}), record which plane it lies on:\n",
    "#    v1→v2 lies on y=0  → planes[2];  v2→v3 on x=0 → planes[1];\n",
    "#    v3→v1 on z=0.5    → planes[0].\n",
    "edge_plane_indices = [2, 1, 0]\n",
    "\n",
    "# 4) Compute the area\n",
    "area = spherical_polygon_area(vertices, planes, edge_plane_indices)\n",
    "print(f\"Area = {area:.6f} steradians\")\n"
   ]
  },
  {
   "cell_type": "code",
   "execution_count": 86,
   "id": "05a4f52f",
   "metadata": {},
   "outputs": [
    {
     "name": "stdout",
     "output_type": "stream",
     "text": [
      "Computed area = 3.141593 steradians\n",
      "π/4 ≈ 0.785398,   area > π/4? True\n"
     ]
    }
   ],
   "source": [
    "planes = [\n",
    "    {\"n\": np.array([ 0, 0,  1]), \"d\": -0.5},   # z ≥ -0.5\n",
    "    {\"n\": np.array([ 0, 0, -1]), \"d\": -0.5},   # z ≤  0.5  ⇔  -z ≥ -0.5\n",
    "    {\"n\": np.array([ 1, 0,  0]), \"d\":  0.0},   # x ≥  0\n",
    "]\n",
    "\n",
    "# 2) The four corner‐vertices of D on the unit sphere, ordered CCW:\n",
    "r = np.sqrt(1 - 0.5**2)  # = √0.75 ≈ 0.8660254\n",
    "vertices = [\n",
    "    np.array([0.0,  r,  0.5]),  # top‐front  (x=0,y>0,z=0.5)\n",
    "    np.array([0.0, -r,  0.5]),  # top‐back   (x=0,y<0,z=0.5)\n",
    "    np.array([0.0, -r, -0.5]),  # bot‐back   (x=0,y<0,z=-0.5)\n",
    "    np.array([0.0,  r, -0.5]),  # bot‐front  (x=0,y>0,z=-0.5)\n",
    "]\n",
    "\n",
    "# 3) Each edge lies alternately on z=0.5 (planes[1]), x=0 (planes[2]),\n",
    "#    z=-0.5 (planes[0]), x=0 (planes[2]):\n",
    "edge_plane_indices = [1, 2, 0, 2]\n",
    "\n",
    "# 4) Compute:\n",
    "area = spherical_polygon_area(vertices, planes, edge_plane_indices, interior_pt=[1, 0, 0])\n",
    "\n",
    "print(f\"Computed area = {area:.6f} steradians\")\n",
    "print(f\"π/4 ≈ {np.pi/4:.6f},   area > π/4? {area > np.pi/4}\")"
   ]
  },
  {
   "cell_type": "code",
   "execution_count": 91,
   "id": "71e3c848",
   "metadata": {},
   "outputs": [
    {
     "ename": "ValueError",
     "evalue": "zero‑length vector",
     "output_type": "error",
     "traceback": [
      "\u001b[31m---------------------------------------------------------------------------\u001b[39m",
      "\u001b[31mValueError\u001b[39m                                Traceback (most recent call last)",
      "\u001b[36mCell\u001b[39m\u001b[36m \u001b[39m\u001b[32mIn[91]\u001b[39m\u001b[32m, line 10\u001b[39m\n\u001b[32m      7\u001b[39m vertices, planes, edge_idxs = vertex_set_from_planes(planes)\n\u001b[32m      9\u001b[39m \u001b[38;5;66;03m# Now calculate the Gauss–Bonnet area of the spherical polygon defined by the planes:\u001b[39;00m\n\u001b[32m---> \u001b[39m\u001b[32m10\u001b[39m area = \u001b[43mspherical_polygon_area\u001b[49m\u001b[43m(\u001b[49m\u001b[43mvertices\u001b[49m\u001b[43m,\u001b[49m\u001b[43m \u001b[49m\u001b[43mplanes\u001b[49m\u001b[43m,\u001b[49m\u001b[43m \u001b[49m\u001b[43medge_idxs\u001b[49m\u001b[43m)\u001b[49m\n\u001b[32m     11\u001b[39m \u001b[38;5;28mprint\u001b[39m(area)\n",
      "\u001b[36mCell\u001b[39m\u001b[36m \u001b[39m\u001b[32mIn[83]\u001b[39m\u001b[32m, line 94\u001b[39m, in \u001b[36mspherical_polygon_area\u001b[39m\u001b[34m(vertices, planes, edge_plane_indices, interior_pt)\u001b[39m\n\u001b[32m     91\u001b[39m plane_next = planes[edge_plane_indices[i]]\n\u001b[32m     93\u001b[39m \u001b[38;5;66;03m# --- corner term θ_i -----------------------------------------------\u001b[39;00m\n\u001b[32m---> \u001b[39m\u001b[32m94\u001b[39m corner_sum += \u001b[43mvertex_angle\u001b[49m\u001b[43m(\u001b[49m\u001b[43mv_curr\u001b[49m\u001b[43m,\u001b[49m\n\u001b[32m     95\u001b[39m \u001b[43m                           \u001b[49m\u001b[43mplane_prev\u001b[49m\u001b[43m[\u001b[49m\u001b[33;43m\"\u001b[39;49m\u001b[33;43mn\u001b[39;49m\u001b[33;43m\"\u001b[39;49m\u001b[43m]\u001b[49m\u001b[43m,\u001b[49m\n\u001b[32m     96\u001b[39m \u001b[43m                           \u001b[49m\u001b[43mplane_next\u001b[49m\u001b[43m[\u001b[49m\u001b[33;43m\"\u001b[39;49m\u001b[33;43mn\u001b[39;49m\u001b[33;43m\"\u001b[39;49m\u001b[43m]\u001b[49m\u001b[43m)\u001b[49m\n\u001b[32m     98\u001b[39m \u001b[38;5;66;03m# --- edge line‑integral term ---------------------------------------\u001b[39;00m\n\u001b[32m     99\u001b[39m idx = edge_plane_indices[i]\n",
      "\u001b[36mCell\u001b[39m\u001b[36m \u001b[39m\u001b[32mIn[83]\u001b[39m\u001b[32m, line 32\u001b[39m, in \u001b[36mvertex_angle\u001b[39m\u001b[34m(v, n_prev, n_next)\u001b[39m\n\u001b[32m     27\u001b[39m \u001b[38;5;250m\u001b[39m\u001b[33;03m\"\"\"\u001b[39;00m\n\u001b[32m     28\u001b[39m \u001b[33;03mCorner angle θ at vertex v where the boundary turns from plane n_prev\u001b[39;00m\n\u001b[32m     29\u001b[39m \u001b[33;03mto plane n_next (both unit normals).\u001b[39;00m\n\u001b[32m     30\u001b[39m \u001b[33;03m\"\"\"\u001b[39;00m\n\u001b[32m     31\u001b[39m t1 = normalize(np.cross(n_prev, v))\n\u001b[32m---> \u001b[39m\u001b[32m32\u001b[39m t2 = \u001b[43mnormalize\u001b[49m\u001b[43m(\u001b[49m\u001b[43mnp\u001b[49m\u001b[43m.\u001b[49m\u001b[43mcross\u001b[49m\u001b[43m(\u001b[49m\u001b[43mn_next\u001b[49m\u001b[43m,\u001b[49m\u001b[43m \u001b[49m\u001b[43mv\u001b[49m\u001b[43m)\u001b[49m\u001b[43m)\u001b[49m\n\u001b[32m     33\u001b[39m \u001b[38;5;28;01mreturn\u001b[39;00m np.arccos(np.clip(np.dot(t1, t2), -\u001b[32m1.0\u001b[39m, \u001b[32m1.0\u001b[39m))\n",
      "\u001b[36mCell\u001b[39m\u001b[36m \u001b[39m\u001b[32mIn[83]\u001b[39m\u001b[32m, line 13\u001b[39m, in \u001b[36mnormalize\u001b[39m\u001b[34m(v)\u001b[39m\n\u001b[32m     11\u001b[39m n = np.linalg.norm(v)\n\u001b[32m     12\u001b[39m \u001b[38;5;28;01mif\u001b[39;00m n < EPS:\n\u001b[32m---> \u001b[39m\u001b[32m13\u001b[39m     \u001b[38;5;28;01mraise\u001b[39;00m \u001b[38;5;167;01mValueError\u001b[39;00m(\u001b[33m\"\u001b[39m\u001b[33mzero‑length vector\u001b[39m\u001b[33m\"\u001b[39m)\n\u001b[32m     14\u001b[39m \u001b[38;5;28;01mreturn\u001b[39;00m v / n\n",
      "\u001b[31mValueError\u001b[39m: zero‑length vector"
     ]
    }
   ],
   "source": [
    "planes = [\n",
    "    {\"n\": np.array([ 1, 0, 0]), \"d\": 0.0},\n",
    "    {\"n\": np.array([ 0, 1, 0]), \"d\": 0.0},\n",
    "    {\"n\": np.array([ 0, 0, 1]), \"d\": 0.0},\n",
    "]\n",
    "\n",
    "vertices, planes, edge_idxs = vertex_set_from_planes(planes)\n",
    "\n",
    "# Now calculate the Gauss–Bonnet area of the spherical polygon defined by the planes:\n",
    "area = spherical_polygon_area(vertices, planes, edge_idxs)\n",
    "print(area)"
   ]
  },
  {
   "cell_type": "code",
   "execution_count": 94,
   "id": "712d127e",
   "metadata": {},
   "outputs": [
    {
     "name": "stdout",
     "output_type": "stream",
     "text": [
      "vertices\n",
      "[ 0.         0.8660254 -0.5      ]\n",
      "[ 0.        -0.8660254 -0.5      ]\n",
      "[ 0.        -0.8660254  0.5      ]\n",
      "[0.        0.8660254 0.5      ]\n",
      "planes\n",
      "{'n': array([0, 0, 1]), 'd': -0.5}\n",
      "{'n': array([ 0,  0, -1]), 'd': -0.5}\n",
      "{'n': array([1, 0, 0]), 'd': 0.0}\n",
      "edge_idxs\n",
      "0\n",
      "2\n",
      "1\n",
      "2\n",
      "3.1415926535897944\n"
     ]
    }
   ],
   "source": [
    "# Test to the limits\n",
    "\n",
    "planes = [\n",
    "    {\"n\": np.array([ 0, 0,  1]), \"d\": -0.5},   # z ≥ -0.5\n",
    "    {\"n\": np.array([ 0, 0, -1]), \"d\": -0.5},   # z ≤  0.5  ⇔  -z ≥ -0.5\n",
    "    {\"n\": np.array([ 1, 0,  0]), \"d\":  0.0},   # x ≥  0\n",
    "]\n",
    "\n",
    "vertices, planes, edge_idxs = vertex_set_from_planes(planes, interior_pt=[1, 0, 0])\n",
    "\n",
    "print(f\"vertices\")\n",
    "for v in vertices:\n",
    "    print(v)\n",
    "\n",
    "print(f\"planes\")\n",
    "for p in planes:\n",
    "    print(p)\n",
    "\n",
    "print(f\"edge_idxs\")\n",
    "for e in edge_idxs:\n",
    "    print(e)\n",
    "    \n",
    "\n",
    "# Now calculate the Gauss–Bonnet area of the spherical polygon defined by the planes:\n",
    "area = spherical_polygon_area(vertices, planes, edge_idxs, interior_pt=[1, 0, 0])\n",
    "print(area)"
   ]
  },
  {
   "cell_type": "code",
   "execution_count": null,
   "id": "a83aaca1",
   "metadata": {},
   "outputs": [],
   "source": []
  },
  {
   "cell_type": "code",
   "execution_count": null,
   "id": "5de5c7f1",
   "metadata": {},
   "outputs": [],
   "source": []
  },
  {
   "cell_type": "code",
   "execution_count": null,
   "id": "4381b138",
   "metadata": {},
   "outputs": [],
   "source": []
  }
 ],
 "metadata": {
  "kernelspec": {
   "display_name": "Python 3",
   "language": "python",
   "name": "python3"
  },
  "language_info": {
   "codemirror_mode": {
    "name": "ipython",
    "version": 3
   },
   "file_extension": ".py",
   "mimetype": "text/x-python",
   "name": "python",
   "nbconvert_exporter": "python",
   "pygments_lexer": "ipython3",
   "version": "3.12.6"
  }
 },
 "nbformat": 4,
 "nbformat_minor": 5
}
