{
 "cells": [
  {
   "cell_type": "code",
   "execution_count": 29,
   "id": "43218058",
   "metadata": {},
   "outputs": [
    {
     "name": "stdout",
     "output_type": "stream",
     "text": [
      "The autoreload extension is already loaded. To reload it, use:\n",
      "  %reload_ext autoreload\n"
     ]
    }
   ],
   "source": [
    "import torch\n",
    "from stable_baselines3 import PPO, SAC\n",
    "from stable_baselines3.common.env_checker import check_env\n",
    "import numpy as np\n",
    "import gymnasium as gym\n",
    "from gymnasium import spaces\n",
    "from dynamic_tasker.access import *\n",
    "from dynamic_tasker.schedulers import *\n",
    "from dynamic_tasker.orbits import *\n",
    "from dynamic_tasker.cameras import *\n",
    "import matplotlib.pyplot as plt\n",
    "from stable_baselines3.common.vec_env import DummyVecEnv, VecNormalize, SubprocVecEnv\n",
    "from gymnasium.wrappers import RecordEpisodeStatistics \n",
    "import scipy.stats as st\n",
    "import datetime\n",
    "%load_ext autoreload\n",
    "%autoreload 2\n"
   ]
  },
  {
   "cell_type": "code",
   "execution_count": null,
   "id": "7cb506b5",
   "metadata": {},
   "outputs": [],
   "source": [
    "class LookaheadEnv(gym.Env):\n",
    "\n",
    "    def __init__(self, orbit, requests, t_start, t_end, agility, field_of_regard, crosstrack_discretization, alongtrack_discretization, eval_analytic=False):\n",
    "        self.orbit = orbit\n",
    "        self.requests = requests\n",
    "        self.t_start = t_start\n",
    "        self.t_end = t_end\n",
    "        self.agility = agility\n",
    "        self.field_of_regard = field_of_regard\n",
    "        self.width = 800\n",
    "        self.height = 800\n",
    "        self.K = get_intrinsics_from_fov(45, self.width, self.height)\n",
    "        self.eval_analytic = eval_analytic\n",
    "        self.orbit_reset_count = 0\n",
    "        # Obtain the omniscient schedule\n",
    "        self.accesses = get_accesses(requests, orbit, 500, 45, t_start, t_end)\n",
    "        # Assign the states\n",
    "        for i in range(len(self.accesses)):\n",
    "            self.accesses[i].state = {\"observed\": False, \"cloudy\": np.random.rand() < 0.66}\n",
    "\n",
    "        # self.optimal_schedule = milp_schedule(self.orbit, self.requests, t_start, t_end)\n",
    "        self.schedule = milp_schedule(self.accesses, self.requests, self.agility)\n",
    "        # Calculate how many tasks in the schedule are not cloudy\n",
    "        self.base_advantage = np.sum([not a.state[\"cloudy\"] for a in self.schedule])\n",
    "        self.current_idx = 0\n",
    "        \n",
    "        # Try first discretizing in just time and angle...\n",
    "        self.crosstrack_discretization = crosstrack_discretization\n",
    "        self.alongtrack_discretization = alongtrack_discretization\n",
    "\n",
    "        # Figure out the number of states\n",
    "        self.crosstrack_states = int(np.floor(2 * self.field_of_regard / (self.crosstrack_discretization)))\n",
    "        # First figure out the horizon angle\n",
    "        self.horizon_angle = horizon_angle(self.orbit)\n",
    "        self.horizon_time = horizon_time(self.orbit)\n",
    "        self.alongtrack_states = int(np.floor(self.horizon_time/ (self.alongtrack_discretization)))\n",
    "\n",
    "\n",
    "        # total_observational_states = crosstrack_states * alongtrack_states\n",
    "\n",
    "        # Action space - 3d vector, \n",
    "        self.action_space = spaces.Box(low=-1, high=1, shape=(1,))\n",
    "        self.observation_space = spaces.Box(low=0.0, high=np.inf, shape=(2, self.alongtrack_states, self.crosstrack_states))\n",
    "\n",
    "\n",
    "    def step(self, action):\n",
    "        # Current time...\n",
    "        time = self.schedule[self.current_idx].time\n",
    "        orbit_new = propagate_orbit(self.orbit, time)\n",
    "        r , v = kepler2eci(orbit_new)\n",
    "        pos_ecef = eci2ecef(r, time)\n",
    "        \n",
    "        # Convert to ECI points\n",
    "        accesses_converted = [(latlong2ecef([a.lat, a.long]), a.angle, a.time, a, i) for i, a in enumerate(self.accesses)]\n",
    "        accesses_filtered = filter_accesses_horizon(orbit_new, time, accesses_converted, pos_ecef)\n",
    "        points = np.array([r for r, _, _, _, _ in accesses_filtered])\n",
    "\n",
    "        # Get pitch and roll from action\n",
    "        pitch_deg = action[0] * 90\n",
    "\n",
    "        # roll_deg = np.arcsin(action[2])\n",
    "        # For now roll_deg = 0\n",
    "        roll_deg = 0\n",
    "\n",
    "        # (Optional) Return equivalent analytic DT pairing\n",
    "        # Calculate analytic heuristic...\n",
    "        if(self.eval_analytic):\n",
    "            _, _, utility_analytic, _, _, _, _ = actual_advantage(pitch_deg, roll_deg, orbit_new, self.K, time, accesses_filtered, points, self.schedule)\n",
    "        # If the first action is 0, don't do anything\n",
    "        if pitch_deg <= 22.5 or len(accesses_filtered) == 0:                \n",
    "            self.current_idx = self.current_idx + 1\n",
    "            return self._get_obs(accesses_filtered, self.schedule,time), 0, False, True, {\"utility_analytic\": None if not self.eval_analytic else utility_analytic}\n",
    "\n",
    "\n",
    "        # Now project them into the camera frame\n",
    "        projected_accesses, in_box = project_in_box(pitch_deg, roll_deg, orbit_new, time, accesses_filtered, points, self.width, self.height, self.K)\n",
    "        # Mark the ones in box as observed\n",
    "        for i in in_box:\n",
    "            accesses_filtered[i][-2].state[\"observed\"] = True\n",
    "\n",
    "        # Calculate the total advantage\n",
    "        times = [a[-2].time for a in accesses_filtered]\n",
    "        max_time = np.max(times)\n",
    "        min_time = np.min(times)\n",
    "\n",
    "        # Get the slice of the schedule that is in the time range\n",
    "        schedule_slice = [a for a in self.schedule if a.time >= min_time and a.time <= max_time]\n",
    "        original_schedule_advantage = np.sum([not a.state[\"cloudy\"] for a in schedule_slice])\n",
    "        access_slice = [a for a in self.accesses if a.time >= min_time and a.time <= max_time and not (a.state[\"observed\"] and a.state[\"cloudy\"])]\n",
    "        access_slice_omni = [a for a in self.accesses if a.time >= min_time and a.time<= max_time and not (a.state[\"cloudy\"])]\n",
    "\n",
    "        new_schedule = milp_schedule(access_slice, self.requests, self.agility)\n",
    "        omni_schedule = milp_schedule(access_slice_omni, self.requests, self.agility)\n",
    "        \n",
    "        new_advantage = np.sum([not a.state[\"cloudy\"] for a in new_schedule])\n",
    "        omni_advantage = len(omni_schedule)\n",
    "\n",
    "        # 22.5 deg boresight        \n",
    "        t_maneuver = (self.agility(pitch_deg - 22.5) * 2) - self.agility(0)\n",
    "        missed_opportunities = len([s for s in schedule_slice if not s.state[\"cloudy\"] and self.agility(s.angle) > t_maneuver])\n",
    "        # reward = new_advantage - missed_opportunities - original_schedule_advantage - 0.001 * (t_maneuver)\n",
    "\n",
    "        if(omni_advantage - missed_opportunities == 0):\n",
    "            reward = 0\n",
    "        else:\n",
    "            reward = (new_advantage - missed_opportunities) / (omni_advantage - missed_opportunities)\n",
    "\n",
    "        # Move to the next schedule block\n",
    "        self.current_idx = self.current_idx + 1\n",
    "        \n",
    "        return self._get_obs(accesses_filtered, self.schedule, time), reward, False, True, {\"utility_analytic\": None if not self.eval_analytic else utility_analytic}\n",
    "    \n",
    "    def reset(self, seed=None, options=None):\n",
    "        # Only actually reset when current_idx is at the end\n",
    "        if self.current_idx >= (len(self.schedule) - 1):\n",
    "            self.orbit_reset_count = self.orbit_reset_count + 1\n",
    "\n",
    "            if(self.orbit_reset_count > 10):\n",
    "                self.requests = generate_requests(10000)\n",
    "                self.accesses = get_accesses(self.requests, self.orbit, 500, 45, self.t_start, self.t_end)\n",
    "                self.orbit_reset_count = 0\n",
    "\n",
    "            self.current_idx = 0\n",
    "            for a in self.accesses:\n",
    "                a.state = {\n",
    "                    \"observed\": False,\n",
    "                    \"cloudy\": np.random.rand() < 0.66\n",
    "                }\n",
    "                \n",
    "            self.schedule = milp_schedule(self.accesses, self.requests, self.agility)\n",
    "            \n",
    "        r , v = kepler2eci(self.orbit)\n",
    "        pos_ecef = eci2ecef(r, self.t_start)    \n",
    "        accesses_converted = [(latlong2ecef([a.lat, a.long]), a.angle, a.time, a, i) for i, a in enumerate(self.accesses)]\n",
    "        accesses_filtered = filter_accesses_horizon(self.orbit, self.t_start, accesses_converted, pos_ecef)\n",
    "\n",
    "        return self._get_obs(accesses_filtered, self.schedule, self.t_start), {}\n",
    "\n",
    "    def _get_obs(self, accesses, schedule, time):\n",
    "        # Source data\n",
    "        times = [(a[2] - time).total_seconds() for a in accesses if not a[-2].state[\"observed\"]]\n",
    "        angles = [a[1] for a in accesses if not a[-2].state[\"observed\"]]\n",
    "\n",
    "        schedule_times = [(a.time - time).total_seconds() for a in schedule]\n",
    "        schedule_angles = [a.angle for a in schedule]\n",
    "\n",
    "        # Convert to 2D histogram\n",
    "        hist_accesses = np.histogram2d(times, angles, bins=[self.alongtrack_states, self.crosstrack_states], range=[[0, self.horizon_time], [-self.field_of_regard, self.field_of_regard]])\n",
    "        hist_schedule = np.histogram2d(schedule_times, schedule_angles, bins=[self.alongtrack_states, self.crosstrack_states], range=[[0, self.horizon_time], [-self.field_of_regard, self.field_of_regard]])\n",
    "\n",
    "        return np.stack([hist_accesses[0].astype(np.float32), hist_schedule[0].astype(np.float32)])\n",
    "\n",
    "    def _get_reward(self):\n",
    "        pass\n",
    "\n",
    "    def close(self):    \n",
    "        pass"
   ]
  },
  {
   "cell_type": "code",
   "execution_count": 79,
   "id": "36df836d",
   "metadata": {},
   "outputs": [],
   "source": [
    "# Generate randomly spaced requests\n",
    "\n",
    "def generate_requests(N):\n",
    "    \"\"\"\n",
    "    Generate N Request objects with lat/long\n",
    "    sampled uniformly over Earth's surface, using numpy.\n",
    "    \"\"\"\n",
    "    # 1) sample z = sin(lat) uniformly in [-1,1]\n",
    "    z = np.random.uniform(-1.0, 1.0, size=N)\n",
    "    # 2) sample longitude angle θ uniformly in [0, 2π)\n",
    "    theta = np.random.uniform(0.0, 2*np.pi, size=N)\n",
    "\n",
    "    # convert to lat, lon in degrees\n",
    "    lat = np.degrees(np.arcsin(z))\n",
    "    lon = np.degrees(theta)\n",
    "    # shift to [–180, +180)\n",
    "    lon = np.where(lon > 180.0, lon - 360.0, lon)\n",
    "\n",
    "    # build Request instances\n",
    "    return [\n",
    "        Request(i, float(lat[i]), float(lon[i]), f\"request_{i}\")\n",
    "        for i in range(N)\n",
    "    ]\n",
    "\n",
    "# requests = generate_requests(10)\n",
    "# print(requests)"
   ]
  },
  {
   "cell_type": "code",
   "execution_count": 80,
   "id": "b9ecaff0",
   "metadata": {},
   "outputs": [],
   "source": [
    "# Train with PPO\n",
    "t0 = datetime.datetime(2024, 1, 1)\n",
    "t_end = datetime.datetime(2024, 1, 1, 18, 0, 0)\n",
    "\n",
    "h = 400\n",
    "field_of_regard = 45\n",
    "crosstrack_discretization = 7.5 # deg\n",
    "alongtrack_discretization = 10 # seconds\n",
    "\n",
    "t_s = 10\n",
    "t_dotsq = 4\n",
    "def agility_bangbang(theta):\n",
    "    return t_s + t_dotsq * np.sqrt(np.abs(theta))\n",
    "\n",
    "orbit = circular_orbit(a=Constants.R_E+h, i=np.deg2rad(51.6), Omega=np.pi, M=np.pi/2, t=t0)\n",
    "requests = generate_requests(10000)\n",
    "\n",
    "# env.reset()\n",
    "# env.step(np.array([1, 0, 0]))\n",
    "# env = LookaheadEnv(orbit, requests, t0, t_end, agility_bangbang, field_of_regard, crosstrack_discretization, alongtrack_discretization)\n",
    "\n",
    "# check_env(env)"
   ]
  },
  {
   "cell_type": "code",
   "execution_count": 81,
   "id": "20017519",
   "metadata": {},
   "outputs": [],
   "source": [
    "# Some helpers for the analytic one\n",
    "width = 800\n",
    "height = 600\n",
    "\n",
    "def analytic_chain_probability(L, lam, M, c):\n",
    "    if L < (M-1)*c:\n",
    "        return 0.0\n",
    "    x = L - (M-1)*c\n",
    "    # Note: scipy's gamma.cdf(x, a, scale) uses 'a' as the shape and scale=1/rate.\n",
    "    return st.gamma.cdf(x, a=M-1, scale=1/lam)\n",
    "\n",
    "def expected_advantage(N, t_total, t_gap, A_min, A_max):\n",
    "   all_adv = np.arange(A_min, A_max+1)\n",
    "\n",
    "   probabilities = np.array([analytic_chain_probability(t_total, N/t_total * 1/3, adv + 2, t_gap) for adv in all_adv])\n",
    "   probabilities = [probabilities[i] - probabilities[i+1] for i in range(len(probabilities)-1)]\n",
    "   probabilities = np.append(probabilities, probabilities[-1])\n",
    "   \n",
    "   return np.sum(probabilities * all_adv)\n",
    "\n",
    "def actual_advantage(pitch_deg, roll_deg, orbit, K, time, accesses_filtered, points, schedule):\n",
    "    accesses_inbox, in_box_idx = project_in_box(pitch_deg, roll_deg, orbit, time, accesses_filtered, points, width, height, K)\n",
    "    N = len([a for a in accesses_inbox if a[-2].state[\"observed\"] == False]) * 0.34\n",
    "    adv = 0\n",
    "    if(N > 0):\n",
    "        t_total = np.max([a[2] for a in accesses_inbox]) - np.min([a[2] for a in accesses_inbox])\n",
    "        t_gap = agility_bangbang(30)\n",
    "\n",
    "        if(t_total.total_seconds() > 0):\n",
    "            adv = expected_advantage(N, t_total.total_seconds(), t_gap, 2, 40)\n",
    "\n",
    "    # Now calculate cost...\n",
    "    # Check how many tasks in the schedul we miss\n",
    "    schedule_filtered = [s for s in schedule if s.time > time and s.time <= time + datetime.timedelta(hours=1)]\n",
    "    # Total lookahead maneuver time\n",
    "    # No setting time for lookahead\n",
    "    # Assume 35 deg boresight angle\n",
    "    t_maneuver = 2 * (agility_bangbang(pitch_deg - 35)) - agility_bangbang(0)\n",
    "\n",
    "    schedule_missed = [s for s in schedule_filtered if time + datetime.timedelta(seconds=t_maneuver) > s.time]\n",
    "\n",
    "    cost = len(schedule_missed) * 0.34\n",
    "    utility = adv - cost\n",
    "    missed = len(schedule_missed)\n",
    "    return accesses_inbox, in_box_idx, utility, adv, cost, missed, t_maneuver\n",
    "\n",
    "def evaluate_lookahead_chain(time, orbit, schedule, accesses, K):\n",
    "    orbit_new = propagate_orbit(orbit, time)\n",
    "    r , v = kepler2eci(orbit_new)\n",
    "    pos_ecef = eci2ecef(r, time)\n",
    "    v_ecef = eci2ecef(v, time)\n",
    "\n",
    "    accesses_filtered = filter_accesses_horizon(orbit, time, accesses, pos_ecef)\n",
    "    min_time = agility_bangbang(30)\n",
    "    accesses_filtered = [a for a in accesses_filtered if a[-2].time > time + datetime.timedelta(seconds=min_time)]\n",
    "    # Let's do a test to figure out what the heuristic will do best at...\n",
    "    points = np.array([r for r, _, _, _, _ in accesses_filtered])\n",
    "    idxs = np.array([i for _, _, _, _, i in accesses_filtered])\n",
    "\n",
    "    roll_deg = 0\n",
    "    pitch_degs = np.linspace(0, 70)\n",
    "\n",
    "    expected_utilities = []\n",
    "    expected_advantages = []\n",
    "    expected_costs = []\n",
    "    for pitch_deg in pitch_degs:\n",
    "        _, _, utility, adv, cost, _, _ = actual_advantage(pitch_deg, roll_deg, orbit, K, time, accesses_filtered, points, schedule)\n",
    "        \n",
    "        expected_utilities.append(utility)\n",
    "        expected_advantages.append(adv)\n",
    "        expected_costs.append(cost)\n",
    "\n",
    "    # Find the maximum advantage\n",
    "    max_adv = np.max(expected_utilities)\n",
    "    max_idx = np.argmax(expected_utilities)\n",
    "    # Find the pitch angle that gives the maximum advantage\n",
    "    best_pitch_deg = pitch_degs[max_idx]\n",
    "\n",
    "    # Recalculate in box\n",
    "    accesses_inbox, in_box_idx, utility, adv, cost, missed, t_maneuver = actual_advantage(best_pitch_deg, roll_deg, orbit, K, time, accesses_filtered, points, schedule)\n",
    "\n",
    "    mapped_in_box_idx = [idxs[i] for i in in_box_idx]\n",
    "    # Recalculate utility\n",
    "\n",
    "    return ((best_pitch_deg, roll_deg), mapped_in_box_idx, expected_utilities, expected_advantages, expected_costs, utility, adv, cost, missed, t_maneuver)"
   ]
  },
  {
   "cell_type": "code",
   "execution_count": 87,
   "id": "d561e552",
   "metadata": {},
   "outputs": [
    {
     "name": "stderr",
     "output_type": "stream",
     "text": [
      "/Users/shreeyam/phd_code/src/dynamic_tasker/orbits.py:61: RuntimeWarning: divide by zero encountered in matmul\n",
      "  eci = ecef @ rot_mat.T\n",
      "/Users/shreeyam/phd_code/src/dynamic_tasker/orbits.py:61: RuntimeWarning: overflow encountered in matmul\n",
      "  eci = ecef @ rot_mat.T\n",
      "/Users/shreeyam/phd_code/src/dynamic_tasker/orbits.py:61: RuntimeWarning: invalid value encountered in matmul\n",
      "  eci = ecef @ rot_mat.T\n",
      "/Users/shreeyam/phd_code/src/dynamic_tasker/orbits.py:61: RuntimeWarning: divide by zero encountered in matmul\n",
      "  eci = ecef @ rot_mat.T\n",
      "/Users/shreeyam/phd_code/src/dynamic_tasker/orbits.py:61: RuntimeWarning: overflow encountered in matmul\n",
      "  eci = ecef @ rot_mat.T\n",
      "/Users/shreeyam/phd_code/src/dynamic_tasker/orbits.py:61: RuntimeWarning: invalid value encountered in matmul\n",
      "  eci = ecef @ rot_mat.T\n",
      "/Users/shreeyam/phd_code/src/dynamic_tasker/orbits.py:61: RuntimeWarning: divide by zero encountered in matmul\n",
      "  eci = ecef @ rot_mat.T\n",
      "/Users/shreeyam/phd_code/src/dynamic_tasker/orbits.py:61: RuntimeWarning: overflow encountered in matmul\n",
      "  eci = ecef @ rot_mat.T\n",
      "/Users/shreeyam/phd_code/src/dynamic_tasker/orbits.py:61: RuntimeWarning: invalid value encountered in matmul\n",
      "  eci = ecef @ rot_mat.T\n",
      "/Users/shreeyam/phd_code/src/dynamic_tasker/orbits.py:61: RuntimeWarning: divide by zero encountered in matmul\n",
      "  eci = ecef @ rot_mat.T\n",
      "/Users/shreeyam/phd_code/src/dynamic_tasker/orbits.py:61: RuntimeWarning: overflow encountered in matmul\n",
      "  eci = ecef @ rot_mat.T\n",
      "/Users/shreeyam/phd_code/src/dynamic_tasker/orbits.py:61: RuntimeWarning: invalid value encountered in matmul\n",
      "  eci = ecef @ rot_mat.T\n",
      "/Users/shreeyam/phd_code/src/dynamic_tasker/orbits.py:61: RuntimeWarning: divide by zero encountered in matmul\n",
      "  eci = ecef @ rot_mat.T\n",
      "/Users/shreeyam/phd_code/src/dynamic_tasker/orbits.py:61: RuntimeWarning: overflow encountered in matmul\n",
      "  eci = ecef @ rot_mat.T\n",
      "/Users/shreeyam/phd_code/src/dynamic_tasker/orbits.py:61: RuntimeWarning: invalid value encountered in matmul\n",
      "  eci = ecef @ rot_mat.T\n",
      "/Users/shreeyam/phd_code/src/dynamic_tasker/orbits.py:61: RuntimeWarning: divide by zero encountered in matmul\n",
      "  eci = ecef @ rot_mat.T\n",
      "/Users/shreeyam/phd_code/src/dynamic_tasker/orbits.py:61: RuntimeWarning: overflow encountered in matmul\n",
      "  eci = ecef @ rot_mat.T\n",
      "/Users/shreeyam/phd_code/src/dynamic_tasker/orbits.py:61: RuntimeWarning: invalid value encountered in matmul\n",
      "  eci = ecef @ rot_mat.T\n",
      "/Users/shreeyam/phd_code/src/dynamic_tasker/orbits.py:61: RuntimeWarning: divide by zero encountered in matmul\n",
      "  eci = ecef @ rot_mat.T\n",
      "/Users/shreeyam/phd_code/src/dynamic_tasker/orbits.py:61: RuntimeWarning: overflow encountered in matmul\n",
      "  eci = ecef @ rot_mat.T\n",
      "/Users/shreeyam/phd_code/src/dynamic_tasker/orbits.py:61: RuntimeWarning: invalid value encountered in matmul\n",
      "  eci = ecef @ rot_mat.T\n",
      "/Users/shreeyam/phd_code/src/dynamic_tasker/orbits.py:61: RuntimeWarning: divide by zero encountered in matmul\n",
      "  eci = ecef @ rot_mat.T\n",
      "/Users/shreeyam/phd_code/src/dynamic_tasker/orbits.py:61: RuntimeWarning: overflow encountered in matmul\n",
      "  eci = ecef @ rot_mat.T\n",
      "/Users/shreeyam/phd_code/src/dynamic_tasker/orbits.py:61: RuntimeWarning: invalid value encountered in matmul\n",
      "  eci = ecef @ rot_mat.T\n",
      "/Users/shreeyam/phd_code/src/dynamic_tasker/orbits.py:61: RuntimeWarning: divide by zero encountered in matmul\n",
      "  eci = ecef @ rot_mat.T\n",
      "/Users/shreeyam/phd_code/src/dynamic_tasker/orbits.py:61: RuntimeWarning: overflow encountered in matmul\n",
      "  eci = ecef @ rot_mat.T\n",
      "/Users/shreeyam/phd_code/src/dynamic_tasker/orbits.py:61: RuntimeWarning: invalid value encountered in matmul\n",
      "  eci = ecef @ rot_mat.T\n",
      "/Users/shreeyam/phd_code/src/dynamic_tasker/orbits.py:61: RuntimeWarning: divide by zero encountered in matmul\n",
      "  eci = ecef @ rot_mat.T\n",
      "/Users/shreeyam/phd_code/src/dynamic_tasker/orbits.py:61: RuntimeWarning: overflow encountered in matmul\n",
      "  eci = ecef @ rot_mat.T\n",
      "/Users/shreeyam/phd_code/src/dynamic_tasker/orbits.py:61: RuntimeWarning: invalid value encountered in matmul\n",
      "  eci = ecef @ rot_mat.T\n",
      "/Users/shreeyam/phd_code/src/dynamic_tasker/orbits.py:61: RuntimeWarning: divide by zero encountered in matmul\n",
      "  eci = ecef @ rot_mat.T\n",
      "/Users/shreeyam/phd_code/src/dynamic_tasker/orbits.py:61: RuntimeWarning: overflow encountered in matmul\n",
      "  eci = ecef @ rot_mat.T\n",
      "/Users/shreeyam/phd_code/src/dynamic_tasker/orbits.py:61: RuntimeWarning: invalid value encountered in matmul\n",
      "  eci = ecef @ rot_mat.T\n",
      "/Users/shreeyam/phd_code/src/dynamic_tasker/orbits.py:61: RuntimeWarning: divide by zero encountered in matmul\n",
      "  eci = ecef @ rot_mat.T\n",
      "/Users/shreeyam/phd_code/src/dynamic_tasker/orbits.py:61: RuntimeWarning: overflow encountered in matmul\n",
      "  eci = ecef @ rot_mat.T\n",
      "/Users/shreeyam/phd_code/src/dynamic_tasker/orbits.py:61: RuntimeWarning: invalid value encountered in matmul\n",
      "  eci = ecef @ rot_mat.T\n"
     ]
    }
   ],
   "source": [
    "# Now train with PPO\n",
    "# env = LookaheadEnv(orbit, requests, t0, t_end, agility_bangbang, field_of_regard, crosstrack_discretization, alongtrack_discretization, eval_analytic=False)\n",
    "# eval_env = env\n",
    "# env = RecordEpisodeStatistics(env)\n",
    "# env = DummyVecEnv([lambda: env])\n",
    "# env = AsyncVectorEnv(env)\n",
    "def make_env(rank, seed=0):\n",
    "    def _init():\n",
    "        env = LookaheadEnv(\n",
    "            orbit, requests, t0, t_end,\n",
    "            agility_bangbang, field_of_regard,\n",
    "            crosstrack_discretization, alongtrack_discretization,\n",
    "            eval_analytic=False,\n",
    "        )\n",
    "        env = RecordEpisodeStatistics(env)\n",
    "        env.reset(seed=seed + rank)       # different seed per worker\n",
    "        return env\n",
    "    return _init\n",
    "\n",
    "N_ENVS = 12                                # ≤ number of CPU cores\n",
    "train_env = SubprocVecEnv([make_env(i) for i in range(N_ENVS)])\n",
    "# env = VecNormalize(env, norm_obs=True, norm_reward=True)\n"
   ]
  },
  {
   "cell_type": "code",
   "execution_count": null,
   "id": "ab167d97",
   "metadata": {},
   "outputs": [],
   "source": [
    "# model = PPO(\"MlpPolicy\", env, verbose=1, tensorboard_log=\"./test_with_schedule\")\n",
    "\n",
    "# Define a larger policy network with 5 layers\n",
    "policy_kwargs = {\n",
    "    \"net_arch\": {\n",
    "        \"pi\": [256, 256, 256, 256, 256],  # Policy network: 5 layers of 256 units\n",
    "        \"qf\": [256, 256, 256, 256, 256]   # Q-function network: 5 layers of 256 units\n",
    "    }\n",
    "}\n",
    "\n",
    "# model = SAC(\"MlpPolicy\", train_env, verbose=0, tensorboard_log=\"./test_with_schedule\", policy_kwargs=policy_kwargs, gamma=1.0, batch_size=256)\n",
    "model = PPO(\"MlpPolicy\", train_env, verbose=0, tensorboard_log=\"./test_with_schedule\", policy_kwargs=policy_kwargs, gamma=1.0)\n",
    "model.learn(total_timesteps=500000)"
   ]
  },
  {
   "cell_type": "code",
   "execution_count": null,
   "id": "54ec7ba4",
   "metadata": {},
   "outputs": [],
   "source": [
    "model.save(\"test_with_schedule_sac_200k\")"
   ]
  },
  {
   "cell_type": "code",
   "execution_count": null,
   "id": "ab483faa",
   "metadata": {},
   "outputs": [
    {
     "name": "stdout",
     "output_type": "stream",
     "text": [
      "True\n"
     ]
    }
   ],
   "source": [
    "# Eval environment\n",
    "\n",
    "# eval_env = LookaheadEnv(orbit, requests, t0, t_end, agility_bangbang, field_of_regard, crosstrack_discretization, alongtrack_discretization, eval_analytic=True)"
   ]
  },
  {
   "cell_type": "code",
   "execution_count": 84,
   "id": "c709048f",
   "metadata": {},
   "outputs": [
    {
     "name": "stderr",
     "output_type": "stream",
     "text": [
      "/Users/shreeyam/phd_code/src/dynamic_tasker/orbits.py:61: RuntimeWarning: divide by zero encountered in matmul\n",
      "  eci = ecef @ rot_mat.T\n",
      "/Users/shreeyam/phd_code/src/dynamic_tasker/orbits.py:61: RuntimeWarning: overflow encountered in matmul\n",
      "  eci = ecef @ rot_mat.T\n",
      "/Users/shreeyam/phd_code/src/dynamic_tasker/orbits.py:61: RuntimeWarning: invalid value encountered in matmul\n",
      "  eci = ecef @ rot_mat.T\n",
      "  1%|          | 3/500 [00:00<00:20, 24.77it/s]"
     ]
    },
    {
     "name": "stdout",
     "output_type": "stream",
     "text": [
      "67.33146\n",
      "61.624912\n",
      "47.456432\n",
      "53.843307\n",
      "42.0144\n",
      "49.83493\n"
     ]
    },
    {
     "name": "stderr",
     "output_type": "stream",
     "text": [
      "  2%|▏         | 9/500 [00:00<00:19, 24.99it/s]"
     ]
    },
    {
     "name": "stdout",
     "output_type": "stream",
     "text": [
      "67.62602\n",
      "56.00401\n",
      "53.65257\n",
      "71.24638\n",
      "60.5331\n",
      "63.870575\n"
     ]
    },
    {
     "name": "stderr",
     "output_type": "stream",
     "text": [
      "  3%|▎         | 15/500 [00:00<00:19, 25.17it/s]"
     ]
    },
    {
     "name": "stdout",
     "output_type": "stream",
     "text": [
      "42.90025\n",
      "52.005016\n",
      "57.881268\n",
      "75.00876\n",
      "49.5007\n",
      "63.752674\n"
     ]
    },
    {
     "name": "stderr",
     "output_type": "stream",
     "text": [
      "  4%|▍         | 21/500 [00:00<00:18, 25.26it/s]"
     ]
    },
    {
     "name": "stdout",
     "output_type": "stream",
     "text": [
      "55.150486\n",
      "51.494358\n",
      "59.857754\n",
      "56.67424\n",
      "49.79944\n",
      "65.44695\n"
     ]
    },
    {
     "name": "stderr",
     "output_type": "stream",
     "text": [
      "  5%|▌         | 27/500 [00:01<00:19, 24.64it/s]"
     ]
    },
    {
     "name": "stdout",
     "output_type": "stream",
     "text": [
      "74.96515\n",
      "58.019485\n",
      "35.747345\n",
      "59.617718\n",
      "58.66961\n",
      "54.864563\n"
     ]
    },
    {
     "name": "stderr",
     "output_type": "stream",
     "text": [
      "  7%|▋         | 33/500 [00:01<00:18, 25.27it/s]"
     ]
    },
    {
     "name": "stdout",
     "output_type": "stream",
     "text": [
      "60.822533\n",
      "60.245224\n",
      "82.88516\n",
      "64.32809\n",
      "69.84191\n",
      "60.143303\n"
     ]
    },
    {
     "name": "stderr",
     "output_type": "stream",
     "text": [
      "  8%|▊         | 39/500 [00:01<00:18, 25.30it/s]"
     ]
    },
    {
     "name": "stdout",
     "output_type": "stream",
     "text": [
      "63.73877\n",
      "60.344746\n",
      "62.20752\n",
      "55.472202\n",
      "64.70381\n",
      "61.8014\n"
     ]
    },
    {
     "name": "stderr",
     "output_type": "stream",
     "text": [
      "  9%|▉         | 45/500 [00:01<00:17, 25.50it/s]"
     ]
    },
    {
     "name": "stdout",
     "output_type": "stream",
     "text": [
      "52.19772\n",
      "61.796764\n",
      "69.23423\n",
      "39.002293\n",
      "62.026985\n",
      "55.640236\n"
     ]
    },
    {
     "name": "stderr",
     "output_type": "stream",
     "text": [
      " 10%|█         | 51/500 [00:02<00:17, 25.72it/s]"
     ]
    },
    {
     "name": "stdout",
     "output_type": "stream",
     "text": [
      "58.20926\n",
      "65.14895\n",
      "69.560455\n",
      "32.63256\n",
      "70.78989\n",
      "78.45707\n"
     ]
    },
    {
     "name": "stderr",
     "output_type": "stream",
     "text": [
      " 11%|█▏        | 57/500 [00:02<00:17, 25.53it/s]"
     ]
    },
    {
     "name": "stdout",
     "output_type": "stream",
     "text": [
      "59.47846\n",
      "59.941708\n",
      "47.20467\n",
      "63.576294\n",
      "52.839497\n"
     ]
    },
    {
     "name": "stderr",
     "output_type": "stream",
     "text": [
      " 13%|█▎        | 63/500 [00:02<00:18, 23.71it/s]"
     ]
    },
    {
     "name": "stdout",
     "output_type": "stream",
     "text": [
      "68.56718\n",
      "28.996288\n",
      "64.244484\n",
      "64.52812\n",
      "59.980545\n"
     ]
    },
    {
     "name": "stderr",
     "output_type": "stream",
     "text": [
      " 13%|█▎        | 66/500 [00:02<00:18, 23.69it/s]"
     ]
    },
    {
     "name": "stdout",
     "output_type": "stream",
     "text": [
      "34.050194\n",
      "66.00502\n",
      "69.385925\n",
      "44.09867\n"
     ]
    },
    {
     "name": "stderr",
     "output_type": "stream",
     "text": [
      " 14%|█▍        | 72/500 [00:03<00:21, 19.94it/s]"
     ]
    },
    {
     "name": "stdout",
     "output_type": "stream",
     "text": [
      "59.108635\n",
      "62.58396\n",
      "56.253498\n",
      "44.857094\n",
      "46.764023\n"
     ]
    },
    {
     "name": "stderr",
     "output_type": "stream",
     "text": [
      " 16%|█▌        | 78/500 [00:03<00:18, 22.23it/s]"
     ]
    },
    {
     "name": "stdout",
     "output_type": "stream",
     "text": [
      "59.127926\n",
      "60.31613\n",
      "46.73259\n",
      "38.879993\n",
      "52.95699\n",
      "52.183\n"
     ]
    },
    {
     "name": "stderr",
     "output_type": "stream",
     "text": [
      " 17%|█▋        | 84/500 [00:03<00:17, 23.78it/s]"
     ]
    },
    {
     "name": "stdout",
     "output_type": "stream",
     "text": [
      "62.668785\n",
      "64.67706\n",
      "69.87774\n",
      "44.262283\n",
      "42.125347\n",
      "56.51803\n"
     ]
    },
    {
     "name": "stderr",
     "output_type": "stream",
     "text": [
      " 18%|█▊        | 90/500 [00:03<00:16, 24.72it/s]"
     ]
    },
    {
     "name": "stdout",
     "output_type": "stream",
     "text": [
      "62.832462\n",
      "56.61165\n",
      "58.950233\n",
      "71.135506\n",
      "60.630775\n",
      "65.339096\n"
     ]
    },
    {
     "name": "stderr",
     "output_type": "stream",
     "text": [
      " 19%|█▉        | 96/500 [00:03<00:16, 24.51it/s]"
     ]
    },
    {
     "name": "stdout",
     "output_type": "stream",
     "text": [
      "64.63669\n",
      "52.886745\n",
      "73.27601\n",
      "68.4501\n",
      "68.94854\n",
      "71.510864\n"
     ]
    },
    {
     "name": "stderr",
     "output_type": "stream",
     "text": [
      " 20%|██        | 102/500 [00:04<00:16, 24.62it/s]"
     ]
    },
    {
     "name": "stdout",
     "output_type": "stream",
     "text": [
      "66.422935\n",
      "32.58513\n",
      "71.37386\n",
      "71.18409\n",
      "53.50565\n",
      "72.63724\n"
     ]
    },
    {
     "name": "stderr",
     "output_type": "stream",
     "text": [
      " 21%|██        | 105/500 [00:04<00:16, 24.29it/s]"
     ]
    },
    {
     "name": "stdout",
     "output_type": "stream",
     "text": [
      "62.212143\n",
      "72.50238\n",
      "77.196075\n",
      "46.229782\n",
      "67.00179\n"
     ]
    },
    {
     "name": "stderr",
     "output_type": "stream",
     "text": [
      " 22%|██▏       | 111/500 [00:04<00:16, 23.69it/s]"
     ]
    },
    {
     "name": "stdout",
     "output_type": "stream",
     "text": [
      "67.893974\n",
      "57.35303\n",
      "46.6166\n",
      "65.51268\n",
      "69.621254\n"
     ]
    },
    {
     "name": "stderr",
     "output_type": "stream",
     "text": [
      " 23%|██▎       | 117/500 [00:04<00:16, 23.78it/s]"
     ]
    },
    {
     "name": "stdout",
     "output_type": "stream",
     "text": [
      "69.30757\n",
      "57.66816\n",
      "75.676544\n",
      "72.24545\n",
      "26.588888\n",
      "70.01904\n"
     ]
    },
    {
     "name": "stderr",
     "output_type": "stream",
     "text": [
      " 25%|██▍       | 123/500 [00:05<00:15, 24.70it/s]"
     ]
    },
    {
     "name": "stdout",
     "output_type": "stream",
     "text": [
      "69.99028\n",
      "63.698086\n",
      "65.24976\n",
      "57.11603\n",
      "56.559055\n",
      "65.65181\n"
     ]
    },
    {
     "name": "stderr",
     "output_type": "stream",
     "text": [
      " 26%|██▌       | 129/500 [00:05<00:15, 24.38it/s]"
     ]
    },
    {
     "name": "stdout",
     "output_type": "stream",
     "text": [
      "60.426308\n",
      "72.59499\n",
      "67.05602\n",
      "57.782593\n",
      "50.547195\n"
     ]
    },
    {
     "name": "stderr",
     "output_type": "stream",
     "text": [
      " 27%|██▋       | 135/500 [00:05<00:14, 24.65it/s]"
     ]
    },
    {
     "name": "stdout",
     "output_type": "stream",
     "text": [
      "51.46874\n",
      "69.87266\n",
      "60.77445\n",
      "56.967716\n",
      "81.06178\n",
      "65.826416\n"
     ]
    },
    {
     "name": "stderr",
     "output_type": "stream",
     "text": [
      " 28%|██▊       | 141/500 [00:05<00:14, 24.80it/s]"
     ]
    },
    {
     "name": "stdout",
     "output_type": "stream",
     "text": [
      "47.011463\n",
      "72.85607\n",
      "44.25515\n",
      "61.012875\n",
      "51.266068\n",
      "62.7079\n"
     ]
    },
    {
     "name": "stderr",
     "output_type": "stream",
     "text": [
      " 29%|██▉       | 147/500 [00:06<00:14, 24.71it/s]"
     ]
    },
    {
     "name": "stdout",
     "output_type": "stream",
     "text": [
      "56.987843\n",
      "73.96305\n",
      "67.678055\n",
      "52.83059\n",
      "46.262077\n",
      "55.327106\n"
     ]
    },
    {
     "name": "stderr",
     "output_type": "stream",
     "text": [
      " 31%|███       | 153/500 [00:06<00:13, 25.29it/s]"
     ]
    },
    {
     "name": "stdout",
     "output_type": "stream",
     "text": [
      "51.962414\n",
      "60.68157\n",
      "79.524254\n",
      "69.43114\n",
      "60.01445\n",
      "46.33945\n"
     ]
    },
    {
     "name": "stderr",
     "output_type": "stream",
     "text": [
      " 32%|███▏      | 159/500 [00:06<00:13, 25.26it/s]"
     ]
    },
    {
     "name": "stdout",
     "output_type": "stream",
     "text": [
      "67.34831\n",
      "58.69668\n",
      "63.30009\n",
      "60.662643\n",
      "61.86897\n",
      "22.48704\n"
     ]
    },
    {
     "name": "stderr",
     "output_type": "stream",
     "text": [
      " 33%|███▎      | 165/500 [00:06<00:13, 25.15it/s]"
     ]
    },
    {
     "name": "stdout",
     "output_type": "stream",
     "text": [
      "58.02337\n",
      "56.908054\n",
      "66.91545\n",
      "64.33758\n",
      "42.815437\n",
      "64.746864\n"
     ]
    },
    {
     "name": "stderr",
     "output_type": "stream",
     "text": [
      " 34%|███▍      | 171/500 [00:07<00:13, 25.26it/s]"
     ]
    },
    {
     "name": "stdout",
     "output_type": "stream",
     "text": [
      "63.879543\n",
      "62.34269\n",
      "72.43981\n",
      "71.10632\n",
      "41.662292\n",
      "65.14217\n"
     ]
    },
    {
     "name": "stderr",
     "output_type": "stream",
     "text": [
      " 35%|███▍      | 174/500 [00:07<00:13, 24.63it/s]"
     ]
    },
    {
     "name": "stdout",
     "output_type": "stream",
     "text": [
      "51.724213\n",
      "64.12342\n",
      "43.643436\n",
      "74.69432\n",
      "59.009575\n"
     ]
    },
    {
     "name": "stderr",
     "output_type": "stream",
     "text": [
      " 36%|███▌      | 180/500 [00:07<00:13, 24.51it/s]"
     ]
    },
    {
     "name": "stdout",
     "output_type": "stream",
     "text": [
      "62.89171\n",
      "69.086205\n",
      "71.96767\n",
      "63.17465\n",
      "61.094994\n",
      "54.9478\n"
     ]
    },
    {
     "name": "stderr",
     "output_type": "stream",
     "text": [
      " 37%|███▋      | 186/500 [00:07<00:12, 25.35it/s]"
     ]
    },
    {
     "name": "stdout",
     "output_type": "stream",
     "text": [
      "47.42653\n",
      "65.01529\n",
      "47.49658\n",
      "59.836155\n",
      "69.65961\n",
      "69.17264\n"
     ]
    },
    {
     "name": "stderr",
     "output_type": "stream",
     "text": [
      " 38%|███▊      | 192/500 [00:07<00:12, 25.39it/s]"
     ]
    },
    {
     "name": "stdout",
     "output_type": "stream",
     "text": [
      "67.46114\n",
      "49.793022\n",
      "77.11821\n",
      "48.299416\n",
      "42.9235\n",
      "36.108124\n"
     ]
    },
    {
     "name": "stderr",
     "output_type": "stream",
     "text": [
      " 40%|███▉      | 198/500 [00:08<00:14, 21.10it/s]"
     ]
    },
    {
     "name": "stdout",
     "output_type": "stream",
     "text": [
      "69.516495\n",
      "28.410881\n",
      "67.28655\n",
      "62.94419\n"
     ]
    },
    {
     "name": "stderr",
     "output_type": "stream",
     "text": [
      " 41%|████      | 204/500 [00:08<00:12, 23.22it/s]"
     ]
    },
    {
     "name": "stdout",
     "output_type": "stream",
     "text": [
      "55.0824\n",
      "56.794083\n",
      "23.998047\n",
      "58.36669\n",
      "31.73712\n",
      "57.08273\n"
     ]
    },
    {
     "name": "stderr",
     "output_type": "stream",
     "text": [
      " 42%|████▏     | 210/500 [00:08<00:11, 24.35it/s]"
     ]
    },
    {
     "name": "stdout",
     "output_type": "stream",
     "text": [
      "55.9778\n",
      "36.0704\n",
      "61.38452\n",
      "68.224045\n",
      "62.34707\n",
      "63.736195\n"
     ]
    },
    {
     "name": "stderr",
     "output_type": "stream",
     "text": [
      " 43%|████▎     | 216/500 [00:08<00:11, 25.17it/s]"
     ]
    },
    {
     "name": "stdout",
     "output_type": "stream",
     "text": [
      "36.842457\n",
      "42.329227\n",
      "53.562943\n",
      "55.96158\n",
      "62.599895\n",
      "52.842606\n"
     ]
    },
    {
     "name": "stderr",
     "output_type": "stream",
     "text": [
      " 44%|████▍     | 222/500 [00:09<00:11, 25.00it/s]"
     ]
    },
    {
     "name": "stdout",
     "output_type": "stream",
     "text": [
      "65.69885\n",
      "68.91993\n",
      "61.94228\n",
      "55.908867\n",
      "53.25068\n",
      "62.037876\n"
     ]
    },
    {
     "name": "stderr",
     "output_type": "stream",
     "text": [
      " 45%|████▌     | 225/500 [00:09<00:11, 24.65it/s]"
     ]
    },
    {
     "name": "stdout",
     "output_type": "stream",
     "text": [
      "38.330956\n",
      "69.2421\n",
      "37.76928\n",
      "52.468365\n",
      "63.87569\n"
     ]
    },
    {
     "name": "stderr",
     "output_type": "stream",
     "text": [
      " 46%|████▌     | 231/500 [00:09<00:11, 24.03it/s]"
     ]
    },
    {
     "name": "stdout",
     "output_type": "stream",
     "text": [
      "58.1481\n",
      "58.965275\n",
      "54.530823\n",
      "43.746326\n",
      "50.925064\n"
     ]
    },
    {
     "name": "stderr",
     "output_type": "stream",
     "text": [
      " 47%|████▋     | 237/500 [00:09<00:10, 24.74it/s]"
     ]
    },
    {
     "name": "stdout",
     "output_type": "stream",
     "text": [
      "68.52342\n",
      "60.65097\n",
      "67.63161\n",
      "61.28734\n",
      "48.89663\n",
      "68.87713\n"
     ]
    },
    {
     "name": "stderr",
     "output_type": "stream",
     "text": [
      " 49%|████▊     | 243/500 [00:09<00:10, 24.27it/s]"
     ]
    },
    {
     "name": "stdout",
     "output_type": "stream",
     "text": [
      "60.24308\n",
      "61.344738\n",
      "76.992\n",
      "53.331585\n",
      "63.99238\n"
     ]
    },
    {
     "name": "stderr",
     "output_type": "stream",
     "text": [
      " 49%|████▉     | 246/500 [00:10<00:10, 24.07it/s]"
     ]
    },
    {
     "name": "stdout",
     "output_type": "stream",
     "text": [
      "46.793625\n",
      "63.395554\n",
      "54.129166\n",
      "55.42959\n",
      "46.619217\n"
     ]
    },
    {
     "name": "stderr",
     "output_type": "stream",
     "text": [
      " 50%|█████     | 252/500 [00:10<00:10, 23.41it/s]"
     ]
    },
    {
     "name": "stdout",
     "output_type": "stream",
     "text": [
      "66.53395\n",
      "68.294\n",
      "61.85176\n",
      "64.58302\n",
      "66.74371\n"
     ]
    },
    {
     "name": "stderr",
     "output_type": "stream",
     "text": [
      " 52%|█████▏    | 258/500 [00:10<00:10, 23.78it/s]"
     ]
    },
    {
     "name": "stdout",
     "output_type": "stream",
     "text": [
      "53.464516\n",
      "69.41255\n",
      "73.20872\n",
      "68.00453\n",
      "66.25419\n",
      "63.75964\n"
     ]
    },
    {
     "name": "stderr",
     "output_type": "stream",
     "text": [
      " 53%|█████▎    | 264/500 [00:10<00:09, 24.70it/s]"
     ]
    },
    {
     "name": "stdout",
     "output_type": "stream",
     "text": [
      "52.413723\n",
      "66.44789\n",
      "47.070236\n",
      "56.812233\n",
      "43.598053\n",
      "40.3836\n"
     ]
    },
    {
     "name": "stderr",
     "output_type": "stream",
     "text": [
      " 54%|█████▍    | 270/500 [00:11<00:09, 25.26it/s]"
     ]
    },
    {
     "name": "stdout",
     "output_type": "stream",
     "text": [
      "49.85862\n",
      "54.374557\n",
      "69.15215\n",
      "51.82283\n",
      "52.628246\n",
      "63.414886\n"
     ]
    },
    {
     "name": "stderr",
     "output_type": "stream",
     "text": [
      " 55%|█████▌    | 276/500 [00:11<00:08, 25.17it/s]"
     ]
    },
    {
     "name": "stdout",
     "output_type": "stream",
     "text": [
      "46.663635\n",
      "62.279476\n",
      "63.00448\n",
      "50.239716\n",
      "66.84438\n",
      "68.81969\n"
     ]
    },
    {
     "name": "stderr",
     "output_type": "stream",
     "text": [
      " 56%|█████▋    | 282/500 [00:11<00:08, 25.74it/s]"
     ]
    },
    {
     "name": "stdout",
     "output_type": "stream",
     "text": [
      "77.317825\n",
      "62.001663\n",
      "48.755928\n",
      "58.650696\n",
      "58.861538\n",
      "50.41246\n"
     ]
    },
    {
     "name": "stderr",
     "output_type": "stream",
     "text": [
      " 58%|█████▊    | 288/500 [00:11<00:08, 26.43it/s]"
     ]
    },
    {
     "name": "stdout",
     "output_type": "stream",
     "text": [
      "51.01583\n",
      "69.32796\n",
      "62.88675\n",
      "74.463295\n",
      "38.820232\n",
      "63.12905\n"
     ]
    },
    {
     "name": "stderr",
     "output_type": "stream",
     "text": [
      " 59%|█████▉    | 294/500 [00:12<00:07, 27.11it/s]"
     ]
    },
    {
     "name": "stdout",
     "output_type": "stream",
     "text": [
      "49.56849\n",
      "63.978893\n",
      "55.453\n",
      "51.560028\n",
      "60.66142\n",
      "68.16345\n"
     ]
    },
    {
     "name": "stderr",
     "output_type": "stream",
     "text": [
      " 60%|██████    | 300/500 [00:12<00:07, 25.80it/s]"
     ]
    },
    {
     "name": "stdout",
     "output_type": "stream",
     "text": [
      "45.950058\n",
      "36.58619\n",
      "68.05832\n",
      "64.737\n",
      "48.41899\n",
      "65.42303\n"
     ]
    },
    {
     "name": "stderr",
     "output_type": "stream",
     "text": [
      " 61%|██████    | 306/500 [00:12<00:07, 24.93it/s]"
     ]
    },
    {
     "name": "stdout",
     "output_type": "stream",
     "text": [
      "62.031406\n",
      "57.296642\n",
      "29.153015\n",
      "61.785652\n",
      "46.93769\n"
     ]
    },
    {
     "name": "stderr",
     "output_type": "stream",
     "text": [
      " 62%|██████▏   | 312/500 [00:12<00:07, 24.87it/s]"
     ]
    },
    {
     "name": "stdout",
     "output_type": "stream",
     "text": [
      "52.438786\n",
      "58.922543\n",
      "55.52649\n",
      "51.832382\n",
      "59.081394\n",
      "61.1393\n"
     ]
    },
    {
     "name": "stderr",
     "output_type": "stream",
     "text": [
      " 64%|██████▎   | 318/500 [00:12<00:07, 24.26it/s]"
     ]
    },
    {
     "name": "stdout",
     "output_type": "stream",
     "text": [
      "62.891376\n",
      "53.904568\n",
      "57.82527\n",
      "72.07195\n",
      "65.67033\n"
     ]
    },
    {
     "name": "stderr",
     "output_type": "stream",
     "text": [
      " 64%|██████▍   | 321/500 [00:13<00:07, 23.48it/s]"
     ]
    },
    {
     "name": "stdout",
     "output_type": "stream",
     "text": [
      "64.94504\n",
      "50.79505\n",
      "47.98004\n",
      "64.098015\n",
      "43.79273\n"
     ]
    },
    {
     "name": "stderr",
     "output_type": "stream",
     "text": [
      " 65%|██████▌   | 327/500 [00:13<00:07, 24.19it/s]"
     ]
    },
    {
     "name": "stdout",
     "output_type": "stream",
     "text": [
      "50.77898\n",
      "74.61592\n",
      "40.229637\n",
      "58.56505\n",
      "56.47967\n",
      "55.77879\n"
     ]
    },
    {
     "name": "stderr",
     "output_type": "stream",
     "text": [
      " 67%|██████▋   | 333/500 [00:13<00:06, 24.49it/s]"
     ]
    },
    {
     "name": "stdout",
     "output_type": "stream",
     "text": [
      "67.51414\n",
      "61.303516\n",
      "59.11936\n",
      "71.8223\n",
      "67.22405\n",
      "65.11499\n"
     ]
    },
    {
     "name": "stderr",
     "output_type": "stream",
     "text": [
      " 68%|██████▊   | 339/500 [00:13<00:06, 24.52it/s]"
     ]
    },
    {
     "name": "stdout",
     "output_type": "stream",
     "text": [
      "31.86329\n",
      "56.964005\n",
      "67.94769\n",
      "52.931755\n",
      "54.978226\n",
      "60.208447\n"
     ]
    },
    {
     "name": "stderr",
     "output_type": "stream",
     "text": [
      " 69%|██████▉   | 345/500 [00:14<00:06, 24.55it/s]"
     ]
    },
    {
     "name": "stdout",
     "output_type": "stream",
     "text": [
      "63.91818\n",
      "50.256485\n",
      "59.76553\n",
      "69.21511\n",
      "58.408276\n",
      "46.25242\n"
     ]
    },
    {
     "name": "stderr",
     "output_type": "stream",
     "text": [
      " 70%|███████   | 351/500 [00:14<00:06, 24.35it/s]"
     ]
    },
    {
     "name": "stdout",
     "output_type": "stream",
     "text": [
      "57.855957\n",
      "67.41031\n",
      "46.811962\n",
      "72.52532\n",
      "57.152885\n",
      "68.0189\n"
     ]
    },
    {
     "name": "stderr",
     "output_type": "stream",
     "text": [
      " 71%|███████▏  | 357/500 [00:14<00:05, 25.01it/s]"
     ]
    },
    {
     "name": "stdout",
     "output_type": "stream",
     "text": [
      "61.566826\n",
      "50.842613\n",
      "68.52397\n",
      "60.201195\n",
      "71.746735\n",
      "57.667385\n"
     ]
    },
    {
     "name": "stderr",
     "output_type": "stream",
     "text": [
      " 72%|███████▏  | 360/500 [00:14<00:06, 21.58it/s]"
     ]
    },
    {
     "name": "stdout",
     "output_type": "stream",
     "text": [
      "30.942413\n",
      "59.587666\n",
      "67.92104\n",
      "56.430008\n"
     ]
    },
    {
     "name": "stderr",
     "output_type": "stream",
     "text": [
      " 73%|███████▎  | 366/500 [00:15<00:05, 23.16it/s]"
     ]
    },
    {
     "name": "stdout",
     "output_type": "stream",
     "text": [
      "67.841156\n",
      "68.54299\n",
      "71.055405\n",
      "43.817394\n",
      "45.241013\n",
      "52.6476\n"
     ]
    },
    {
     "name": "stderr",
     "output_type": "stream",
     "text": [
      " 74%|███████▍  | 372/500 [00:15<00:05, 24.49it/s]"
     ]
    },
    {
     "name": "stdout",
     "output_type": "stream",
     "text": [
      "57.287907\n",
      "26.30996\n",
      "53.988888\n",
      "73.09897\n",
      "51.881187\n",
      "68.04477\n"
     ]
    },
    {
     "name": "stderr",
     "output_type": "stream",
     "text": [
      " 76%|███████▌  | 378/500 [00:15<00:04, 24.82it/s]"
     ]
    },
    {
     "name": "stdout",
     "output_type": "stream",
     "text": [
      "75.645615\n",
      "37.105186\n",
      "71.01985\n",
      "59.09559\n",
      "69.142845\n",
      "38.87997\n"
     ]
    },
    {
     "name": "stderr",
     "output_type": "stream",
     "text": [
      " 77%|███████▋  | 384/500 [00:15<00:04, 24.98it/s]"
     ]
    },
    {
     "name": "stdout",
     "output_type": "stream",
     "text": [
      "60.471348\n",
      "55.189583\n",
      "65.23422\n",
      "58.064526\n",
      "52.071827\n",
      "75.8863\n"
     ]
    },
    {
     "name": "stderr",
     "output_type": "stream",
     "text": [
      " 78%|███████▊  | 390/500 [00:15<00:04, 24.25it/s]"
     ]
    },
    {
     "name": "stdout",
     "output_type": "stream",
     "text": [
      "64.4482\n",
      "48.15123\n",
      "64.70924\n",
      "62.360832\n",
      "64.72822\n"
     ]
    },
    {
     "name": "stderr",
     "output_type": "stream",
     "text": [
      " 79%|███████▉  | 396/500 [00:16<00:04, 24.22it/s]"
     ]
    },
    {
     "name": "stdout",
     "output_type": "stream",
     "text": [
      "45.03682\n",
      "74.39546\n",
      "60.381054\n",
      "55.926105\n",
      "57.896725\n"
     ]
    },
    {
     "name": "stderr",
     "output_type": "stream",
     "text": [
      " 80%|███████▉  | 399/500 [00:16<00:04, 23.92it/s]"
     ]
    },
    {
     "name": "stdout",
     "output_type": "stream",
     "text": [
      "67.51032\n",
      "44.53971\n",
      "54.5386\n",
      "48.614502\n",
      "34.61572\n"
     ]
    },
    {
     "name": "stderr",
     "output_type": "stream",
     "text": [
      " 81%|████████  | 405/500 [00:16<00:04, 23.19it/s]"
     ]
    },
    {
     "name": "stdout",
     "output_type": "stream",
     "text": [
      "67.729294\n",
      "56.996643\n",
      "61.203545\n",
      "68.90419\n",
      "35.191364\n"
     ]
    },
    {
     "name": "stderr",
     "output_type": "stream",
     "text": [
      " 82%|████████▏ | 411/500 [00:16<00:03, 24.40it/s]"
     ]
    },
    {
     "name": "stdout",
     "output_type": "stream",
     "text": [
      "62.79268\n",
      "68.53055\n",
      "72.79885\n",
      "55.951912\n",
      "53.2332\n",
      "53.000374\n"
     ]
    },
    {
     "name": "stderr",
     "output_type": "stream",
     "text": [
      " 83%|████████▎ | 417/500 [00:17<00:03, 24.70it/s]"
     ]
    },
    {
     "name": "stdout",
     "output_type": "stream",
     "text": [
      "75.17609\n",
      "71.454796\n",
      "24.889559\n",
      "65.59953\n",
      "53.00738\n",
      "41.76314\n"
     ]
    },
    {
     "name": "stderr",
     "output_type": "stream",
     "text": [
      " 85%|████████▍ | 423/500 [00:17<00:03, 24.43it/s]"
     ]
    },
    {
     "name": "stdout",
     "output_type": "stream",
     "text": [
      "69.170616\n",
      "61.95493\n",
      "57.144314\n",
      "64.89756\n",
      "65.73537\n",
      "60.519733\n"
     ]
    },
    {
     "name": "stderr",
     "output_type": "stream",
     "text": [
      " 86%|████████▌ | 429/500 [00:17<00:02, 25.16it/s]"
     ]
    },
    {
     "name": "stdout",
     "output_type": "stream",
     "text": [
      "51.00377\n",
      "59.46482\n",
      "64.33736\n",
      "60.74564\n",
      "62.380585\n",
      "67.37035\n"
     ]
    },
    {
     "name": "stderr",
     "output_type": "stream",
     "text": [
      " 87%|████████▋ | 435/500 [00:17<00:02, 25.19it/s]"
     ]
    },
    {
     "name": "stdout",
     "output_type": "stream",
     "text": [
      "69.587715\n",
      "43.812565\n",
      "72.43748\n",
      "40.353287\n",
      "67.87317\n",
      "76.49387\n"
     ]
    },
    {
     "name": "stderr",
     "output_type": "stream",
     "text": [
      " 88%|████████▊ | 441/500 [00:18<00:02, 25.04it/s]"
     ]
    },
    {
     "name": "stdout",
     "output_type": "stream",
     "text": [
      "48.75711\n",
      "54.42568\n",
      "72.55395\n",
      "69.846375\n",
      "52.364166\n",
      "53.50981\n"
     ]
    },
    {
     "name": "stderr",
     "output_type": "stream",
     "text": [
      " 89%|████████▉ | 447/500 [00:18<00:02, 26.12it/s]"
     ]
    },
    {
     "name": "stdout",
     "output_type": "stream",
     "text": [
      "47.01779\n",
      "67.955185\n",
      "53.644653\n",
      "53.228683\n",
      "71.132904\n",
      "60.757526\n"
     ]
    },
    {
     "name": "stderr",
     "output_type": "stream",
     "text": [
      " 91%|█████████ | 453/500 [00:18<00:01, 26.82it/s]"
     ]
    },
    {
     "name": "stdout",
     "output_type": "stream",
     "text": [
      "64.121544\n",
      "54.450787\n",
      "69.81397\n",
      "42.895164\n",
      "74.87383\n",
      "70.52214\n"
     ]
    },
    {
     "name": "stderr",
     "output_type": "stream",
     "text": [
      " 92%|█████████▏| 459/500 [00:18<00:01, 25.91it/s]"
     ]
    },
    {
     "name": "stdout",
     "output_type": "stream",
     "text": [
      "63.63042\n",
      "67.25341\n",
      "69.70117\n",
      "55.465466\n",
      "66.62004\n",
      "65.10081\n"
     ]
    },
    {
     "name": "stderr",
     "output_type": "stream",
     "text": [
      " 93%|█████████▎| 465/500 [00:18<00:01, 24.08it/s]"
     ]
    },
    {
     "name": "stdout",
     "output_type": "stream",
     "text": [
      "63.207584\n",
      "40.478653\n",
      "63.576015\n",
      "58.445538\n",
      "65.62595\n"
     ]
    },
    {
     "name": "stderr",
     "output_type": "stream",
     "text": [
      " 94%|█████████▎| 468/500 [00:19<00:01, 23.65it/s]"
     ]
    },
    {
     "name": "stdout",
     "output_type": "stream",
     "text": [
      "74.46338\n",
      "71.81136\n",
      "56.19687\n",
      "70.505974\n",
      "57.792484\n"
     ]
    },
    {
     "name": "stderr",
     "output_type": "stream",
     "text": [
      " 95%|█████████▍| 474/500 [00:19<00:01, 23.50it/s]"
     ]
    },
    {
     "name": "stdout",
     "output_type": "stream",
     "text": [
      "59.546543\n",
      "60.731476\n",
      "69.374825\n",
      "69.527084\n",
      "46.910076\n",
      "50.30483\n"
     ]
    },
    {
     "name": "stderr",
     "output_type": "stream",
     "text": [
      " 96%|█████████▌| 480/500 [00:19<00:00, 23.67it/s]"
     ]
    },
    {
     "name": "stdout",
     "output_type": "stream",
     "text": [
      "50.36047\n",
      "40.776764\n",
      "56.70956\n",
      "70.74625\n",
      "63.820095\n"
     ]
    },
    {
     "name": "stderr",
     "output_type": "stream",
     "text": [
      " 97%|█████████▋| 486/500 [00:19<00:00, 24.32it/s]"
     ]
    },
    {
     "name": "stdout",
     "output_type": "stream",
     "text": [
      "62.42824\n",
      "40.63448\n",
      "61.862392\n",
      "40.82248\n",
      "48.379154\n",
      "73.29798\n"
     ]
    },
    {
     "name": "stderr",
     "output_type": "stream",
     "text": [
      " 98%|█████████▊| 489/500 [00:20<00:00, 21.15it/s]"
     ]
    },
    {
     "name": "stdout",
     "output_type": "stream",
     "text": [
      "75.42074\n",
      "75.77835\n",
      "62.752426\n",
      "37.93398\n"
     ]
    },
    {
     "name": "stderr",
     "output_type": "stream",
     "text": [
      " 99%|█████████▉| 495/500 [00:20<00:00, 23.16it/s]"
     ]
    },
    {
     "name": "stdout",
     "output_type": "stream",
     "text": [
      "52.27562\n",
      "58.326157\n",
      "46.13291\n",
      "54.61003\n",
      "70.2361\n",
      "49.936703\n"
     ]
    },
    {
     "name": "stderr",
     "output_type": "stream",
     "text": [
      "100%|██████████| 500/500 [00:20<00:00, 24.41it/s]"
     ]
    },
    {
     "name": "stdout",
     "output_type": "stream",
     "text": [
      "70.3855\n",
      "65.24915\n",
      "[(np.float64(0.015304306295183256), np.float64(0.3333333333333333)), (np.float64(-0.339126247000779), np.float64(0.5714285714285714)), (-0.34, np.float64(0.5)), (-0.34, np.float64(0.5)), (0.0, np.float64(0.4)), (-0.34, np.float64(0.3333333333333333)), (np.float64(-0.3391961196298546), np.float64(0.3333333333333333)), (-0.34, np.float64(0.2)), (-0.34, np.float64(0.2)), (np.float64(-0.6794144113545246), np.float64(0.8)), (np.float64(-0.33737648909010287), np.float64(0.5)), (np.float64(-0.33989297579211275), np.float64(0.3333333333333333)), (0.0, np.float64(0.7142857142857143)), (-0.34, np.float64(0.8333333333333334)), (-0.34, np.float64(0.5714285714285714)), (np.float64(-0.294360211673437), np.float64(0.42857142857142855)), (-0.34, np.float64(0.42857142857142855)), (np.float64(-0.33926250330696894), np.float64(0.75)), (-0.34, np.float64(0.7142857142857143)), (-0.34, np.float64(0.6666666666666666)), (-0.34, np.float64(0.6)), (0.0, np.float64(0.3333333333333333)), (-0.34, np.float64(0.7142857142857143)), (np.float64(-0.33754742509271274), np.float64(0.8571428571428571)), (np.float64(-0.33946024689610277), np.float64(0.8571428571428571)), (0.0, np.float64(0.8571428571428571)), (0.0, np.float64(0.7142857142857143)), (np.float64(-0.32927086845878795), np.float64(1.0)), (np.float64(-0.3391961196298546), np.float64(1.0)), (-0.34, np.float64(1.0)), (np.float64(-0.33730209757181784), np.float64(0.8571428571428571)), (np.float64(-0.3392996157424495), np.float64(0.6666666666666666)), (np.float64(-0.6584896181881684), np.float64(0.6666666666666666)), (np.float64(-0.33346211266029663), np.float64(0.7142857142857143)), (np.float64(0.002276836552597026), np.float64(0.6666666666666666)), (np.float64(-0.3379034613229168), np.float64(0.6666666666666666)), (np.float64(-0.33991836126454567), np.float64(0.6)), (np.float64(0.002316294051384666), np.float64(0.8)), (np.float64(-0.6742405070722249), np.float64(0.8)), (-0.34, np.float64(1.0)), (np.float64(-0.32143745954684977), np.float64(1.0)), (np.float64(-0.33708483075455964), np.float64(0.8)), (0.0, np.float64(1.0)), (np.float64(0.0007618887976566678), np.float64(1.0)), (np.float64(-0.3061992975448809), np.float64(0.8)), (0.0, np.float64(1.0)), (np.float64(-0.3399252202630805), np.float64(1.0)), (-0.34, np.float64(1.0)), (-0.34, np.float64(1.0)), (-0.34, np.float64(1.0)), (-0.34, np.float64(1.0)), (0.0, 0), (-0.34, np.float64(1.0)), (-0.34, 0), (0.0, 0), (np.float64(-0.09348882382942517), np.float64(0.8333333333333334)), (0.0, np.float64(0.875)), (np.float64(-0.1874405811195946), np.float64(1.0)), (-0.34, np.float64(1.0)), (np.float64(-0.3398953385627998), np.float64(1.0)), (0.0, np.float64(0.8333333333333334)), (np.float64(-0.33462686397184266), np.float64(0.8571428571428571)), (np.float64(-0.6740307304285603), np.float64(0.8571428571428571)), (np.float64(-0.33913770469226207), np.float64(0.6666666666666666)), (0.0, np.float64(0.6)), (np.float64(-0.32865709174487473), np.float64(0.6)), (np.float64(-0.3393884909664455), np.float64(0.8)), (-0.34, np.float64(0.8)), (np.float64(-0.33768370594861535), np.float64(1.0)), (np.float64(-0.3380260102084553), np.float64(1.0)), (0.0, np.float64(1.0)), (-0.34, np.float64(0.8)), (0.0, np.float64(1.0)), (np.float64(-0.31170522260407085), np.float64(0.75)), (np.float64(-0.339120546478755), np.float64(0.8)), (-0.34, np.float64(0.75)), (0.0, np.float64(0.75)), (-0.34, np.float64(0.5)), (0.0, np.float64(0.75)), (np.float64(-0.32828215628421564), np.float64(0.75)), (np.float64(-0.33990336593852893), np.float64(0.8)), (np.float64(-0.33493496079007673), np.float64(1.0)), (0.0, np.float64(1.0)), (0.0, np.float64(1.0)), (-0.34, np.float64(0.8)), (np.float64(-0.33776284665655215), np.float64(0.8)), (-0.34, np.float64(0.6)), (np.float64(-0.3277684506189759), np.float64(0.8333333333333334)), (np.float64(-0.6745833864230241), np.float64(0.6)), (np.float64(-0.6799017421706481), np.float64(0.8333333333333334)), (np.float64(-0.3393184002986235), np.float64(0.8333333333333334)), (np.float64(-0.33989772253940587), np.float64(0.8)), (0.0, np.float64(1.0)), (np.float64(-0.6746268639718427), np.float64(1.0)), (np.float64(-0.337509018077229), np.float64(1.0)), (np.float64(-0.33928098214269), np.float64(1.0)), (np.float64(-0.33760548044441113), np.float64(1.0)), (-0.34, np.float64(1.0)), (0.0, np.float64(0.875)), (np.float64(-0.5557366282387882), np.float64(0.875)), (np.float64(-0.33921400647350114), np.float64(0.875)), (-0.34, np.float64(0.875)), (np.float64(-0.679274805160493), np.float64(0.875)), (np.float64(-0.6772469485659836), np.float64(0.6666666666666666)), (-0.68, np.float64(0.6666666666666666)), (np.float64(-1.019324694630498), np.float64(0.5714285714285714)), (-0.68, np.float64(0.6666666666666666)), (np.float64(-0.6775281917662386), np.float64(0.6666666666666666)), (np.float64(-0.33990174217064817), np.float64(0.6666666666666666)), (-0.34, np.float64(0.7142857142857143)), (-0.34, np.float64(1.0)), (np.float64(-0.674156175691995), np.float64(1.0)), (np.float64(-0.6792996157424496), np.float64(0.8571428571428571)), (np.float64(-0.6722349289472409), np.float64(0.8333333333333334)), (-0.34, np.float64(0.6666666666666666)), (np.float64(-0.33511389434010147), np.float64(0.6666666666666666)), (np.float64(-0.33445377233520146), np.float64(0.8571428571428571)), (-0.34, np.float64(0.3333333333333333)), (np.float64(-0.33030428302981685), np.float64(0.8)), (np.float64(-0.33933733144410877), np.float64(0.8333333333333334)), (np.float64(-0.33932469463049797), np.float64(1.0)), (np.float64(-0.3399025529318982), np.float64(1.0)), (-0.34, np.float64(1.0)), (-0.34, np.float64(1.0)), (np.float64(-0.33458338642302404), np.float64(1.0)), (np.float64(-0.33104499936789583), np.float64(1.0)), (np.float64(-0.31631410394521925), np.float64(0.8)), (np.float64(-0.322566578494895), np.float64(1.0)), (-0.34, np.float64(1.0)), (-0.34, np.float64(1.0)), (0.0, np.float64(1.0)), (-0.34, np.float64(1.0)), (-0.34, np.float64(1.0)), (-0.34, np.float64(1.0)), (-0.68, np.float64(1.0)), (-0.34, np.float64(1.0)), (0.0, np.float64(1.0)), (np.float64(-0.16591229807696373), np.float64(1.0)), (np.float64(0.0), np.float64(0.8333333333333334)), (np.float64(-0.2791325370345548), np.float64(0.8571428571428571)), (-0.34, np.float64(0.8333333333333334)), (np.float64(-0.31300882211447945), np.float64(0.7142857142857143)), (-0.34, np.float64(0.8571428571428571)), (np.float64(-0.33938204483523593), np.float64(0.7142857142857143)), (np.float64(0.005631949705022832), np.float64(0.875)), (-0.34, np.float64(0.6666666666666666)), (-0.34, np.float64(0.8571428571428571)), (-0.34, np.float64(1.0)), (-0.34, np.float64(0.7142857142857143)), (np.float64(-0.6798945486035022), np.float64(1.0)), (np.float64(-0.3399286858532991), np.float64(1.0)), (np.float64(-0.3377034062681651), np.float64(0.8333333333333334)), (np.float64(-0.3392080258151449), np.float64(1.0)), (-0.34, np.float64(1.0)), (np.float64(-0.3026158922681656), np.float64(1.0)), (np.float64(-0.3398993235017144), np.float64(1.0)), (np.float64(-0.3303042829466917), np.float64(0.8571428571428571)), (np.float64(-0.3371562660905959), np.float64(0.8333333333333334)), (np.float64(-0.339914973132427), np.float64(0.8)), (0.0, 0), (np.float64(-0.3396334076887019), np.float64(0.75)), (-0.34, np.float64(0.75)), (np.float64(-0.3398898588173422), np.float64(0.75)), (np.float64(-0.3392686455123904), np.float64(1.0)), (0.0, np.float64(1.0)), (np.float64(-0.3018126616589417), np.float64(1.0)), (np.float64(-0.3372104905384407), np.float64(1.0)), (np.float64(-0.3355237297643376), np.float64(0.8333333333333334)), (np.float64(-0.33940142456360267), np.float64(0.8571428571428571)), (np.float64(-0.3393627922739217), np.float64(0.8571428571428571)), (0.0, np.float64(1.0)), (np.float64(-0.2776728631227608), np.float64(0.875)), (0.0, np.float64(1.0)), (np.float64(-0.322566578494895), np.float64(0.8571428571428571)), (-0.34, np.float64(0.8571428571428571)), (np.float64(-0.3396334076887019), np.float64(0.8333333333333334)), (np.float64(-0.33991921282291776), np.float64(0.8571428571428571)), (np.float64(-0.3339065522144283), np.float64(0.8333333333333334)), (np.float64(-0.6754318235498841), np.float64(0.8571428571428571)), (np.float64(-0.3380054624468548), np.float64(0.8571428571428571)), (np.float64(-0.3392502717039093), np.float64(0.8333333333333334)), (np.float64(-0.33445377233520146), np.float64(0.6666666666666666)), (-0.34, np.float64(0.8571428571428571)), (0.0, np.float64(1.0)), (np.float64(-0.3284313290941524), np.float64(1.0)), (-0.34, np.float64(1.0)), (np.float64(-0.3391035583283161), np.float64(1.0)), (np.float64(-0.6697423447799457), np.float64(1.0)), (np.float64(-0.6747581068396192), np.float64(0.8571428571428571)), (np.float64(-0.33990174216981905), np.float64(0.8333333333333334)), (0.0, np.float64(0.8333333333333334)), (np.float64(-0.6795933544077626), np.float64(1.0)), (-0.34, np.float64(0.8333333333333334)), (0.0, np.float64(0.6666666666666666)), (0.0, np.float64(0.7142857142857143)), (np.float64(-0.665067262954601), np.float64(0.6666666666666666)), (-0.34, np.float64(0.5)), (np.float64(-0.3392381112085512), np.float64(1.0)), (np.float64(-0.33917252938149334), np.float64(1.0)), (-0.34, np.float64(0.6666666666666666)), (-0.34, np.float64(0.8)), (-0.34, np.float64(-1.0)), (np.float64(0.006010803334126559), np.float64(0.75)), (0.0, np.float64(0.75)), (np.float64(0.000791336865146603), np.float64(0.8333333333333334)), (-0.34, np.float64(0.8333333333333334)), (0.0, np.float64(0.8333333333333334)), (np.float64(0.000809805774956585), np.float64(0.8)), (-0.34, np.float64(0.8)), (-0.34, np.float64(0.8)), (-0.34, np.float64(0.6666666666666666)), (0.0, np.float64(0.6666666666666666)), (-0.34, np.float64(0.5)), (0.0, np.float64(0.5)), (0.0, np.float64(1.0)), (np.float64(0.1465274481083647), np.float64(0.6)), (0.0, np.float64(0.6)), (np.float64(-0.3305489525638509), np.float64(0.5)), (np.float64(-0.33534038286269335), np.float64(0.5)), (np.float64(-0.33933100507181035), np.float64(0.5)), (-0.34, np.float64(0.42857142857142855)), (-0.34, np.float64(0.42857142857142855)), (np.float64(-0.6736217478683437), np.float64(0.7142857142857143)), (-0.34, np.float64(0.625)), (np.float64(-0.3312122826512746), np.float64(0.75)), (0.0, np.float64(0.625)), (-0.34, np.float64(0.875)), (np.float64(-0.33724694858471316), np.float64(0.875)), (-0.34, np.float64(0.8888888888888888)), (np.float64(-0.32034449071728444), np.float64(0.8888888888888888)), (-0.34, np.float64(0.875)), (0.0, np.float64(0.75)), (-0.34, np.float64(0.8571428571428571)), (np.float64(-0.6782129636713383), np.float64(0.8333333333333334)), (np.float64(-0.33932469463049797), np.float64(0.8333333333333334)), (np.float64(-0.33918428734498784), np.float64(0.8333333333333334)), (np.float64(-0.33919019422504343), np.float64(1.0)), (-0.34, np.float64(1.0)), (np.float64(-0.3374899042314801), np.float64(0.6)), (np.float64(-0.3285815703671706), np.float64(1.0)), (np.float64(-0.33346211266029663), np.float64(1.0)), (-0.34, np.float64(1.0)), (-0.34, np.float64(1.0)), (np.float64(-0.33382447258898995), np.float64(1.0)), (0.0, np.float64(0.8333333333333334)), (np.float64(-0.2370671463511254), np.float64(1.0)), (-0.34, np.float64(1.0)), (-0.34, np.float64(1.0)), (0.0, np.float64(0.8571428571428571)), (np.float64(-0.2724606432130098), np.float64(0.875)), (np.float64(-0.33990012744138426), np.float64(0.75)), (np.float64(-0.6773952398489128), np.float64(0.75)), (np.float64(-0.6792140064735012), np.float64(0.5714285714285714)), (np.float64(-0.33538604424367874), np.float64(0.42857142857142855)), (-0.34, np.float64(0.5714285714285714)), (np.float64(-0.6711285225591819), np.float64(0.5)), (np.float64(-0.6652031345840411), np.float64(0.42857142857142855)), (np.float64(-0.3375474251124381), np.float64(0.625)), (np.float64(-0.3399116154974102), np.float64(0.5714285714285714)), (np.float64(-0.3398898588173422), np.float64(0.6666666666666666)), (-0.34, np.float64(0.6)), (np.float64(-0.33991751148163113), np.float64(0.8333333333333334)), (-0.34, np.float64(0.6666666666666666)), (-0.34, np.float64(1.0)), (-0.34, np.float64(1.0)), (0.0, np.float64(0.8333333333333334)), (-0.34, np.float64(1.0)), (0.0, np.float64(0.8)), (np.float64(-0.3126329319151752), np.float64(1.0)), (0.0, np.float64(1.0)), (0.0, np.float64(1.0)), (np.float64(-0.33992092112389233), np.float64(1.0)), (-0.34, np.float64(0.8)), (np.float64(-0.6742405070722249), np.float64(0.75)), (np.float64(-0.6798921929559247), np.float64(0.75)), (-0.34, np.float64(0.6)), (-0.34, np.float64(0.6)), (np.float64(0.00011014118265781602), np.float64(0.6)), (np.float64(-0.6687212232065711), np.float64(0.8)), (np.float64(-0.33923205785914884), np.float64(0.75)), (0.0, np.float64(0.6666666666666666)), (np.float64(0.0026047601510872254), np.float64(0.8)), (np.float64(-0.6573230927946407), np.float64(0.8571428571428571)), (-0.34, np.float64(1.0)), (0.0, np.float64(1.0)), (np.float64(-0.3393949509730877), np.float64(1.0)), (-0.34, np.float64(1.0)), (-0.34, np.float64(1.0)), (0.0, np.float64(1.0)), (-0.34, np.float64(1.0)), (-0.34, np.float64(1.0)), (-0.34, np.float64(1.0)), (0.0, np.float64(1.0)), (0.0, np.float64(1.0)), (np.float64(-0.03563629608590746), np.float64(0.8)), (np.float64(-0.32547610072728317), np.float64(1.0)), (-0.34, np.float64(0.8571428571428571)), (0.0, np.float64(0.6666666666666666)), (np.float64(-0.2902573498673469), np.float64(0.6666666666666666)), (np.float64(-0.3015469033267658), np.float64(0.7142857142857143)), (-0.34, np.float64(0.6666666666666666)), (np.float64(-0.33928717631885835), np.float64(0.6666666666666666)), (np.float64(-0.33923205785914884), np.float64(0.7142857142857143)), (-0.34, np.float64(0.6666666666666666)), (-0.34, np.float64(0.6)), (np.float64(0.04281969767252926), np.float64(0.6)), (-0.34, np.float64(0.4)), (-0.34, np.float64(0.5)), (np.float64(-0.33988374080779954), np.float64(0.5)), (0.0, np.float64(0.5)), (-0.68, np.float64(0.6)), (np.float64(-0.3390867404466969), np.float64(0.6)), (np.float64(-0.3279138929972174), np.float64(0.8)), (-0.34, np.float64(0.8)), (-0.34, np.float64(1.0)), (-0.34, np.float64(1.0)), (np.float64(-0.33990012744138426), np.float64(0.8)), (np.float64(-0.33926250330696894), np.float64(0.8333333333333334)), (np.float64(-0.3295841321101145), np.float64(0.8333333333333334)), (-0.34, np.float64(0.8333333333333334)), (-0.34, np.float64(0.8571428571428571)), (np.float64(-0.33386544173037647), np.float64(0.8571428571428571)), (0.0, np.float64(0.8333333333333334)), (-0.68, np.float64(1.0)), (np.float64(-0.6799025529318983), np.float64(0.8571428571428571)), (-0.34, np.float64(0.6666666666666666)), (np.float64(-0.3279138929972174), np.float64(1.0)), (-0.34, np.float64(1.0)), (-0.34, np.float64(1.0)), (np.float64(-0.3295841321101145), np.float64(0.8)), (np.float64(-0.33741405149881504), np.float64(0.8)), (np.float64(0.006418372862637047), np.float64(0.8)), (np.float64(-0.3348462702142159), np.float64(0.6)), (np.float64(-0.33780275206360666), np.float64(0.8333333333333334)), (np.float64(-0.33933733144410877), np.float64(0.8)), (0.0, np.float64(0.8)), (-0.34, np.float64(0.8)), (np.float64(-0.6792625033069689), np.float64(1.0)), (-0.34, np.float64(1.0)), (0.0, np.float64(1.0)), (np.float64(-0.33724694856598353), np.float64(1.0)), (np.float64(-0.33575544161280746), np.float64(1.0)), (-0.34, np.float64(1.0)), (np.float64(-0.6736217478683437), np.float64(1.0)), (np.float64(-0.32360042485439167), np.float64(0.8)), (np.float64(0.0008333216127904675), np.float64(1.0)), (-0.34, np.float64(1.0)), (np.float64(-0.6799383070358689), np.float64(1.0)), (np.float64(-0.3398937610101267), np.float64(0.8571428571428571)), (0.0, np.float64(0.6666666666666666)), (np.float64(-0.3300619028571027), np.float64(0.8)), (-0.34, np.float64(0.8333333333333334)), (np.float64(-0.3390007715262713), np.float64(0.8)), (np.float64(-0.6779441113192197), np.float64(1.0)), (-0.34, np.float64(1.0)), (np.float64(-0.3261205562062953), np.float64(1.0)), (np.float64(-0.3257506749441933), np.float64(0.8333333333333334)), (np.float64(-0.3379441113192197), np.float64(0.8)), (0.0, np.float64(0.8)), (0.0, np.float64(0.6666666666666666)), (np.float64(0.0117178436396814), np.float64(0.8333333333333334)), (np.float64(-0.2757520348396268), np.float64(0.8571428571428571)), (-0.68, np.float64(1.0)), (np.float64(-0.6773952398296809), np.float64(1.0)), (np.float64(-0.33737648909010287), np.float64(1.0)), (np.float64(-0.33806724698847346), np.float64(1.0)), (0.0, np.float64(1.0)), (-0.34, np.float64(1.0)), (-0.34, np.float64(1.0)), (-0.34, np.float64(1.0)), (0.0, np.float64(1.0)), (-0.34, np.float64(1.0)), (-0.68, np.float64(1.0)), (-0.34, np.float64(1.0)), (0.0, np.float64(1.0)), (np.float64(-0.1625500703469888), np.float64(0.8333333333333334)), (np.float64(0.0), np.float64(0.8571428571428571)), (np.float64(-0.33802601018739004), np.float64(0.8571428571428571)), (np.float64(-0.33919019422504343), np.float64(0.8571428571428571)), (np.float64(-0.3130088219213207), np.float64(1.0)), (0.0, np.float64(0.7777777777777778)), (np.float64(-0.29398044866608963), np.float64(0.9)), (0.0, np.float64(1.0)), (np.float64(-0.3297423447799456), np.float64(1.0)), (-0.34, np.float64(1.0)), (-0.34, np.float64(1.0)), (np.float64(-0.6752494196479449), np.float64(1.0)), (np.float64(-0.33739523982968084), np.float64(1.0)), (-0.34, np.float64(1.0)), (np.float64(-0.3391035583283161), np.float64(1.0)), (np.float64(0.006297586522506427), np.float64(0.875)), (np.float64(-0.1750871159342361), np.float64(1.0)), (-0.34, np.float64(1.0)), (np.float64(-0.314929370843223), np.float64(1.0)), (np.float64(-0.322566578494895), np.float64(0.8571428571428571)), (-0.34, np.float64(0.875)), (-0.34, np.float64(0.875)), (np.float64(-0.32934878765537745), np.float64(0.8888888888888888)), (-0.34, np.float64(0.5)), (-0.34, np.float64(0.875)), (0.0, np.float64(0.8888888888888888)), (0.0, np.float64(0.875)), (np.float64(-0.3376640628342686), np.float64(0.8571428571428571)), (-0.34, np.float64(0.8571428571428571)), (np.float64(-0.6798814867436745), np.float64(0.8571428571428571)), (np.float64(-0.679208025815145), np.float64(0.8333333333333334)), (0.0, np.float64(0.8333333333333334)), (np.float64(-0.33722868872730116), np.float64(0.8333333333333334)), (np.float64(-0.6793500312075291), np.float64(0.6)), (np.float64(-0.3312962775133), np.float64(0.6)), (-0.34, np.float64(0.6)), (-0.34, np.float64(0.6666666666666666)), (0.0, np.float64(0.8333333333333334)), (np.float64(-0.320231928502964), np.float64(1.0)), (np.float64(-0.33782278690540085), np.float64(0.8333333333333334)), (-0.34, np.float64(0.6666666666666666)), (np.float64(-0.33091525217097634), np.float64(1.0)), (0.0, np.float64(0.6)), (0.0, np.float64(0.8)), (np.float64(-0.6553216501405883), np.float64(0.8333333333333334)), (np.float64(-0.6679138929972174), np.float64(1.0)), (-0.34, np.float64(1.0)), (np.float64(-0.339126247000779), np.float64(1.0)), (np.float64(-0.33938204483523593), np.float64(1.0)), (np.float64(-0.3378630182033044), np.float64(0.6666666666666666)), (-0.34, np.float64(0.8333333333333334)), (np.float64(-0.3279870128349283), np.float64(0.8571428571428571)), (np.float64(-0.6792381112085513), np.float64(1.0)), (np.float64(-0.3339065522144283), np.float64(0.8333333333333334)), (np.float64(-0.3392140064673676), np.float64(0.8333333333333334)), (np.float64(-0.330713318872989), np.float64(0.8)), (np.float64(-0.3324082936829255), np.float64(0.8333333333333334)), (0.0, np.float64(0.8333333333333334)), (np.float64(-0.287188288280954), np.float64(0.8333333333333334)), (0.0, np.float64(0.8)), (np.float64(-0.29945653804998273), np.float64(1.0)), (np.float64(-0.33794411129835483), np.float64(1.0)), (0.0, np.float64(1.0)), (0.0, np.float64(0.8571428571428571)), (np.float64(-0.3374708504587396), np.float64(0.8571428571428571)), (np.float64(-0.6799009336684125), np.float64(0.8571428571428571)), (-0.34, np.float64(0.8333333333333334)), (-0.34, np.float64(0.8333333333333334)), (-0.34, np.float64(1.0)), (-0.34, np.float64(1.0)), (-0.34, np.float64(0.75)), (-0.34, np.float64(1.0)), (-0.34, np.float64(0.6666666666666666)), (-0.34, np.float64(1.0)), (-0.34, np.float64(1.0)), (-0.34, np.float64(1.0)), (0.0, np.float64(1.0)), (np.float64(-0.34), np.float64(0.7142857142857143)), (np.float64(-0.13464464557119998), np.float64(1.0)), (np.float64(-0.33511389434010147), np.float64(1.0)), (np.float64(-0.673501809634344), np.float64(0.875)), (np.float64(-0.6799074640462685), np.float64(0.875)), (np.float64(-0.6799391862339994), np.float64(1.0)), (-0.34, np.float64(1.0)), (np.float64(-0.33411422014077835), np.float64(1.0)), (np.float64(-0.3342405070722249), np.float64(1.0)), (np.float64(-0.32022527518418914), np.float64(1.0)), (0.0, np.float64(1.0)), (np.float64(-0.33917252938149334), np.float64(0.8333333333333334)), (np.float64(-0.33905361521641636), np.float64(1.0)), (np.float64(-0.3376444773311306), np.float64(1.0)), (np.float64(-0.3257506749441933), np.float64(1.0)), (np.float64(-0.3303042829466917), np.float64(1.0)), (-0.34, np.float64(1.0)), (np.float64(-0.3396334076887019), np.float64(1.0)), (-0.34, np.float64(0.8333333333333334)), (np.float64(-0.33692770260869614), np.float64(0.8)), (np.float64(0.0006499687924709412), np.float64(0.8)), (np.float64(-0.2364851923668288), np.float64(0.8333333333333334)), (np.float64(-0.3392441825189068), np.float64(1.0)), (-0.34, np.float64(1.0)), (0.0, np.float64(1.0)), (0.0, np.float64(1.0)), (-0.34, np.float64(1.0)), (-0.34, np.float64(1.0)), (-0.34, np.float64(1.0)), (np.float64(-0.6781294422531842), np.float64(0.8333333333333334)), (np.float64(-0.3399025529318982), np.float64(1.0)), (0.0, np.float64(1.0)), (np.float64(-0.33933100507181035), np.float64(0.8333333333333334)), (0.0, np.float64(0.7142857142857143)), (-0.34, np.float64(0.8571428571428571)), (np.float64(-0.33949993377597465), np.float64(0.6666666666666666)), (np.float64(-0.3321485400837388), np.float64(0.75)), (np.float64(-0.33079587326316306), np.float64(1.0)), (np.float64(-0.3379645122459271), np.float64(1.0)), (0.0, np.float64(0.8333333333333334)), (-0.34, np.float64(1.0)), (-0.34, np.float64(1.0)), (-0.34, np.float64(1.0)), (-0.34, np.float64(0.8333333333333334)), (np.float64(-0.33989772253940587), np.float64(0.8333333333333334)), (0.0, np.float64(0.8)), (np.float64(-0.6761314318801667), np.float64(0.8333333333333334)), (np.float64(-0.33921400647350114), np.float64(0.6))]\n"
     ]
    },
    {
     "name": "stderr",
     "output_type": "stream",
     "text": [
      "\n"
     ]
    }
   ],
   "source": [
    "N = 500\n",
    "\n",
    "eval_env = LookaheadEnv(orbit, requests, t0, t_end, agility_bangbang, field_of_regard, crosstrack_discretization, alongtrack_discretization, eval_analytic=True)\n",
    "analytic_rl_pairs = []\n",
    "state = eval_env.reset()[0]\n",
    "for i in tqdm(range(N)):\n",
    "    action, _ = model.predict(state)\n",
    "    print(action[0] * 90)\n",
    "    # pitch_deg = np.rad2deg(np.arcsin(action[1]))\n",
    "    # roll_deg = np.rad2deg(np.arcsin(action[1]))\n",
    "    # print(roll_deg)\n",
    "    state, reward, done, truncated, info = eval_env.step(action)\n",
    "    eval_env.reset()\n",
    "    analytic_rl_pairs.append((info[\"utility_analytic\"], reward))\n",
    "\n",
    "    if done:\n",
    "        state = eval_env.reset()\n",
    "\n",
    "print(analytic_rl_pairs)"
   ]
  },
  {
   "cell_type": "code",
   "execution_count": 85,
   "id": "d6b92ad3",
   "metadata": {},
   "outputs": [
    {
     "data": {
      "image/png": "[encoded data removed]",
      "text/plain": [
       "<Figure size 640x480 with 1 Axes>"
      ]
     },
     "metadata": {},
     "output_type": "display_data"
    }
   ],
   "source": [
    "analytic_utility = [x[0] for x in analytic_rl_pairs]\n",
    "\n",
    "rl_utility = [x[1] for x in analytic_rl_pairs]\n",
    "# Add line of best fit\n",
    "z = np.polyfit(analytic_utility, rl_utility, 1)\n",
    "p = np.poly1d(z)\n",
    "plt.plot(analytic_utility, p(analytic_utility), \"r--\", alpha=0.8, label=f\"y={z[0]:.3f}x+{z[1]:.3f}\")\n",
    "plt.legend()\n",
    "\n",
    "plt.scatter(analytic_utility, rl_utility)\n",
    "plt.xlabel(\"Analytic Utility\")\n",
    "plt.ylabel(\"RL Utility\")\n",
    "plt.title(\"RL vs. Analytic Utility\")\n",
    "plt.show()"
   ]
  },
  {
   "cell_type": "code",
   "execution_count": 53,
   "id": "1ce1cd72",
   "metadata": {},
   "outputs": [
    {
     "ename": "BrokenPipeError",
     "evalue": "[Errno 32] Broken pipe",
     "output_type": "error",
     "traceback": [
      "\u001b[0;31m---------------------------------------------------------------------------\u001b[0m",
      "\u001b[0;31mBrokenPipeError\u001b[0m                           Traceback (most recent call last)",
      "Cell \u001b[0;32mIn[53], line 1\u001b[0m\n\u001b[0;32m----> 1\u001b[0m \u001b[43mtrain_env\u001b[49m\u001b[38;5;241;43m.\u001b[39;49m\u001b[43mstep\u001b[49m\u001b[43m(\u001b[49m\u001b[43mnp\u001b[49m\u001b[38;5;241;43m.\u001b[39;49m\u001b[43marray\u001b[49m\u001b[43m(\u001b[49m\u001b[43m[\u001b[49m\u001b[38;5;241;43m0\u001b[39;49m\u001b[43m]\u001b[49m\u001b[43m)\u001b[49m\u001b[43m)\u001b[49m;\n",
      "File \u001b[0;32m/Library/Frameworks/Python.framework/Versions/3.10/lib/python3.10/site-packages/stable_baselines3/common/vec_env/base_vec_env.py:221\u001b[0m, in \u001b[0;36mVecEnv.step\u001b[0;34m(self, actions)\u001b[0m\n\u001b[1;32m    214\u001b[0m \u001b[38;5;28;01mdef\u001b[39;00m\u001b[38;5;250m \u001b[39m\u001b[38;5;21mstep\u001b[39m(\u001b[38;5;28mself\u001b[39m, actions: np\u001b[38;5;241m.\u001b[39mndarray) \u001b[38;5;241m-\u001b[39m\u001b[38;5;241m>\u001b[39m VecEnvStepReturn:\n\u001b[1;32m    215\u001b[0m \u001b[38;5;250m    \u001b[39m\u001b[38;5;124;03m\"\"\"\u001b[39;00m\n\u001b[1;32m    216\u001b[0m \u001b[38;5;124;03m    Step the environments with the given action\u001b[39;00m\n\u001b[1;32m    217\u001b[0m \n\u001b[1;32m    218\u001b[0m \u001b[38;5;124;03m    :param actions: the action\u001b[39;00m\n\u001b[1;32m    219\u001b[0m \u001b[38;5;124;03m    :return: observation, reward, done, information\u001b[39;00m\n\u001b[1;32m    220\u001b[0m \u001b[38;5;124;03m    \"\"\"\u001b[39;00m\n\u001b[0;32m--> 221\u001b[0m     \u001b[38;5;28;43mself\u001b[39;49m\u001b[38;5;241;43m.\u001b[39;49m\u001b[43mstep_async\u001b[49m\u001b[43m(\u001b[49m\u001b[43mactions\u001b[49m\u001b[43m)\u001b[49m\n\u001b[1;32m    222\u001b[0m     \u001b[38;5;28;01mreturn\u001b[39;00m \u001b[38;5;28mself\u001b[39m\u001b[38;5;241m.\u001b[39mstep_wait()\n",
      "File \u001b[0;32m/Library/Frameworks/Python.framework/Versions/3.10/lib/python3.10/site-packages/stable_baselines3/common/vec_env/subproc_vec_env.py:133\u001b[0m, in \u001b[0;36mSubprocVecEnv.step_async\u001b[0;34m(self, actions)\u001b[0m\n\u001b[1;32m    131\u001b[0m \u001b[38;5;28;01mdef\u001b[39;00m\u001b[38;5;250m \u001b[39m\u001b[38;5;21mstep_async\u001b[39m(\u001b[38;5;28mself\u001b[39m, actions: np\u001b[38;5;241m.\u001b[39mndarray) \u001b[38;5;241m-\u001b[39m\u001b[38;5;241m>\u001b[39m \u001b[38;5;28;01mNone\u001b[39;00m:\n\u001b[1;32m    132\u001b[0m     \u001b[38;5;28;01mfor\u001b[39;00m remote, action \u001b[38;5;129;01min\u001b[39;00m \u001b[38;5;28mzip\u001b[39m(\u001b[38;5;28mself\u001b[39m\u001b[38;5;241m.\u001b[39mremotes, actions):\n\u001b[0;32m--> 133\u001b[0m         \u001b[43mremote\u001b[49m\u001b[38;5;241;43m.\u001b[39;49m\u001b[43msend\u001b[49m\u001b[43m(\u001b[49m\u001b[43m(\u001b[49m\u001b[38;5;124;43m\"\u001b[39;49m\u001b[38;5;124;43mstep\u001b[39;49m\u001b[38;5;124;43m\"\u001b[39;49m\u001b[43m,\u001b[49m\u001b[43m \u001b[49m\u001b[43maction\u001b[49m\u001b[43m)\u001b[49m\u001b[43m)\u001b[49m\n\u001b[1;32m    134\u001b[0m     \u001b[38;5;28mself\u001b[39m\u001b[38;5;241m.\u001b[39mwaiting \u001b[38;5;241m=\u001b[39m \u001b[38;5;28;01mTrue\u001b[39;00m\n",
      "File \u001b[0;32m/Library/Frameworks/Python.framework/Versions/3.10/lib/python3.10/multiprocessing/connection.py:206\u001b[0m, in \u001b[0;36m_ConnectionBase.send\u001b[0;34m(self, obj)\u001b[0m\n\u001b[1;32m    204\u001b[0m \u001b[38;5;28mself\u001b[39m\u001b[38;5;241m.\u001b[39m_check_closed()\n\u001b[1;32m    205\u001b[0m \u001b[38;5;28mself\u001b[39m\u001b[38;5;241m.\u001b[39m_check_writable()\n\u001b[0;32m--> 206\u001b[0m \u001b[38;5;28;43mself\u001b[39;49m\u001b[38;5;241;43m.\u001b[39;49m\u001b[43m_send_bytes\u001b[49m\u001b[43m(\u001b[49m\u001b[43m_ForkingPickler\u001b[49m\u001b[38;5;241;43m.\u001b[39;49m\u001b[43mdumps\u001b[49m\u001b[43m(\u001b[49m\u001b[43mobj\u001b[49m\u001b[43m)\u001b[49m\u001b[43m)\u001b[49m\n",
      "File \u001b[0;32m/Library/Frameworks/Python.framework/Versions/3.10/lib/python3.10/multiprocessing/connection.py:411\u001b[0m, in \u001b[0;36mConnection._send_bytes\u001b[0;34m(self, buf)\u001b[0m\n\u001b[1;32m    405\u001b[0m     \u001b[38;5;28mself\u001b[39m\u001b[38;5;241m.\u001b[39m_send(buf)\n\u001b[1;32m    406\u001b[0m \u001b[38;5;28;01melse\u001b[39;00m:\n\u001b[1;32m    407\u001b[0m     \u001b[38;5;66;03m# Issue #20540: concatenate before sending, to avoid delays due\u001b[39;00m\n\u001b[1;32m    408\u001b[0m     \u001b[38;5;66;03m# to Nagle's algorithm on a TCP socket.\u001b[39;00m\n\u001b[1;32m    409\u001b[0m     \u001b[38;5;66;03m# Also note we want to avoid sending a 0-length buffer separately,\u001b[39;00m\n\u001b[1;32m    410\u001b[0m     \u001b[38;5;66;03m# to avoid \"broken pipe\" errors if the other end closed the pipe.\u001b[39;00m\n\u001b[0;32m--> 411\u001b[0m     \u001b[38;5;28;43mself\u001b[39;49m\u001b[38;5;241;43m.\u001b[39;49m\u001b[43m_send\u001b[49m\u001b[43m(\u001b[49m\u001b[43mheader\u001b[49m\u001b[43m \u001b[49m\u001b[38;5;241;43m+\u001b[39;49m\u001b[43m \u001b[49m\u001b[43mbuf\u001b[49m\u001b[43m)\u001b[49m\n",
      "File \u001b[0;32m/Library/Frameworks/Python.framework/Versions/3.10/lib/python3.10/multiprocessing/connection.py:368\u001b[0m, in \u001b[0;36mConnection._send\u001b[0;34m(self, buf, write)\u001b[0m\n\u001b[1;32m    366\u001b[0m remaining \u001b[38;5;241m=\u001b[39m \u001b[38;5;28mlen\u001b[39m(buf)\n\u001b[1;32m    367\u001b[0m \u001b[38;5;28;01mwhile\u001b[39;00m \u001b[38;5;28;01mTrue\u001b[39;00m:\n\u001b[0;32m--> 368\u001b[0m     n \u001b[38;5;241m=\u001b[39m \u001b[43mwrite\u001b[49m\u001b[43m(\u001b[49m\u001b[38;5;28;43mself\u001b[39;49m\u001b[38;5;241;43m.\u001b[39;49m\u001b[43m_handle\u001b[49m\u001b[43m,\u001b[49m\u001b[43m \u001b[49m\u001b[43mbuf\u001b[49m\u001b[43m)\u001b[49m\n\u001b[1;32m    369\u001b[0m     remaining \u001b[38;5;241m-\u001b[39m\u001b[38;5;241m=\u001b[39m n\n\u001b[1;32m    370\u001b[0m     \u001b[38;5;28;01mif\u001b[39;00m remaining \u001b[38;5;241m==\u001b[39m \u001b[38;5;241m0\u001b[39m:\n",
      "\u001b[0;31mBrokenPipeError\u001b[0m: [Errno 32] Broken pipe"
     ]
    }
   ],
   "source": [
    "train_env.step(np.array([0]));"
   ]
  }
 ],
 "metadata": {
  "kernelspec": {
   "display_name": "Python 3",
   "language": "python",
   "name": "python3"
  },
  "language_info": {
   "codemirror_mode": {
    "name": "ipython",
    "version": 3
   },
   "file_extension": ".py",
   "mimetype": "text/x-python",
   "name": "python",
   "nbconvert_exporter": "python",
   "pygments_lexer": "ipython3",
   "version": "3.10.11"
  }
 },
 "nbformat": 4,
 "nbformat_minor": 5
}
