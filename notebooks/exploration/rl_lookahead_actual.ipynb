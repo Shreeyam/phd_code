{
 "cells": [
  {
   "cell_type": "code",
   "execution_count": 1,
   "id": "43218058",
   "metadata": {},
   "outputs": [],
   "source": [
    "import torch\n",
    "from stable_baselines3 import PPO, SAC\n",
    "from stable_baselines3.common.env_checker import check_env\n",
    "import numpy as np\n",
    "import gymnasium as gym\n",
    "from gymnasium import spaces\n",
    "from dynamic_tasker.access import *\n",
    "from dynamic_tasker.schedulers import *\n",
    "from dynamic_tasker.orbits import *\n",
    "from dynamic_tasker.cameras import *\n",
    "import matplotlib.pyplot as plt\n",
    "from stable_baselines3.common.vec_env import DummyVecEnv, VecNormalize, SubprocVecEnv\n",
    "from gymnasium.wrappers import RecordEpisodeStatistics \n",
    "import scipy.stats as st\n",
    "import datetime\n",
    "%load_ext autoreload\n",
    "%autoreload 2\n"
   ]
  },
  {
   "cell_type": "code",
   "execution_count": 51,
   "id": "7cb506b5",
   "metadata": {},
   "outputs": [],
   "source": [
    "class LookaheadEnv(gym.Env):\n",
    "\n",
    "    def __init__(self, orbit, requests, t_start, t_end, agility, field_of_regard, crosstrack_discretization, alongtrack_discretization, eval_analytic=False):\n",
    "        self.orbit = orbit\n",
    "        self.requests = requests\n",
    "        self.t_start = t_start\n",
    "        self.t_end = t_end\n",
    "        self.agility = agility\n",
    "        self.field_of_regard = field_of_regard\n",
    "        self.width = 800\n",
    "        self.height = 800\n",
    "        self.K = get_intrinsics_from_fov(45, self.width, self.height)\n",
    "        self.eval_analytic = eval_analytic\n",
    "        self.orbit_reset_count = 0\n",
    "        # Obtain the omniscient schedule\n",
    "        self.accesses = get_accesses(requests, orbit, 500, 45, t_start, t_end)\n",
    "        # Assign the states\n",
    "        for i in range(len(self.accesses)):\n",
    "            self.accesses[i].state = {\"observed\": False, \"cloudy\": np.random.rand() < 0.66}\n",
    "\n",
    "        # self.optimal_schedule = milp_schedule(self.orbit, self.requests, t_start, t_end)\n",
    "        self.schedule = milp_schedule(self.accesses, self.requests, self.agility)\n",
    "        # Calculate how many tasks in the schedule are not cloudy\n",
    "        self.base_advantage = np.sum([not a.state[\"cloudy\"] for a in self.schedule])\n",
    "        self.current_idx = 0\n",
    "        \n",
    "        # Try first discretizing in just time and angle...\n",
    "        self.crosstrack_discretization = crosstrack_discretization\n",
    "        self.alongtrack_discretization = alongtrack_discretization\n",
    "\n",
    "        # Figure out the number of states\n",
    "        self.crosstrack_states = int(np.floor(2 * self.field_of_regard / (self.crosstrack_discretization)))\n",
    "        # First figure out the horizon angle\n",
    "        self.horizon_angle = horizon_angle(self.orbit)\n",
    "        self.horizon_time = horizon_time(self.orbit)\n",
    "        self.alongtrack_states = int(np.floor(self.horizon_time/ (self.alongtrack_discretization)))\n",
    "\n",
    "\n",
    "        # total_observational_states = crosstrack_states * alongtrack_states\n",
    "\n",
    "        # Action space - 3d vector, \n",
    "        self.action_space = spaces.Box(low=-1, high=1, shape=(1,))\n",
    "        self.observation_space = spaces.Box(low=0.0, high=np.inf, shape=(2, self.alongtrack_states, self.crosstrack_states))\n",
    "\n",
    "\n",
    "    def step(self, action):\n",
    "        # Current time...\n",
    "        time = self.schedule[self.current_idx].time\n",
    "        orbit_new = propagate_orbit(self.orbit, time)\n",
    "        r , v = kepler2eci(orbit_new)\n",
    "        pos_ecef = eci2ecef(r, time)\n",
    "        \n",
    "        # Convert to ECI points\n",
    "        accesses_converted = [(latlong2ecef([a.lat, a.long]), a.angle, a.time, a, i) for i, a in enumerate(self.accesses)]\n",
    "        accesses_filtered = filter_accesses_horizon(orbit_new, time, accesses_converted, pos_ecef)\n",
    "        points = np.array([r for r, _, _, _, _ in accesses_filtered])\n",
    "\n",
    "        # Get pitch and roll from action\n",
    "        pitch_deg = action[0] * (np.rad2deg(self.horizon_angle))\n",
    "        # roll_deg = np.arcsin(action[2])\n",
    "        # For now roll_deg = 0\n",
    "        roll_deg = 0\n",
    "\n",
    "        # (Optional) Return equivalent analytic DT pairing\n",
    "        # Calculate analytic heuristic...\n",
    "        if(self.eval_analytic):\n",
    "            _, _, utility_analytic, _, _, _, _ = actual_advantage(pitch_deg, roll_deg, orbit_new, self.K, time, accesses_filtered, points, self.schedule)\n",
    "        # If the first action is 0, don't do anything\n",
    "        if pitch_deg <= 22.5 or len(accesses_filtered) == 0:                \n",
    "            self.current_idx = self.current_idx + 1\n",
    "            return self._get_obs(accesses_filtered, self.schedule,time), 0, False, True, {\"utility_analytic\": None if not self.eval_analytic else utility_analytic}\n",
    "\n",
    "\n",
    "        # 22.5 deg boresight        \n",
    "        t_maneuver = (self.agility(pitch_deg - 22.5) * 2) - 2 * self.agility(0)\n",
    "        \n",
    "        # Now project them into the camera frame\n",
    "        projected_accesses, in_box, projected_points = project_in_box(pitch_deg, roll_deg, orbit_new, time, accesses_filtered, points, self.width, self.height, self.K)\n",
    "        # Mark the ones in box as observed\n",
    "        for i in in_box:\n",
    "            accesses_filtered[i][-2].state[\"observed\"] = True\n",
    "\n",
    "        # Calculate the total advantage\n",
    "        times = [a[-2].time for a in projected_accesses]\n",
    "\n",
    "        if(len(times) == 0):\n",
    "            self.current_idx = self.current_idx + 1\n",
    "            \n",
    "            missed_opportunities = len([s for s in self.schedule if s.time >= time and s.time <= time + datetime.timedelta(seconds=t_maneuver)])\n",
    "            return self._get_obs(accesses_filtered, self.schedule,time), 0, False, True, {\"utility_analytic\": None if not self.eval_analytic else utility_analytic}\n",
    "\n",
    "        max_time = np.max(times)\n",
    "        min_time = np.min(times)\n",
    "\n",
    "        # Get the slice of the schedule that is in the time range\n",
    "        schedule_slice = [a for a in self.schedule if a.time >= min_time and a.time <= max_time]\n",
    "        original_schedule_advantage = np.sum([not a.state[\"cloudy\"] for a in schedule_slice])\n",
    "        access_slice = [a for a in self.accesses if a.time >= min_time and a.time <= max_time and not (a.state[\"observed\"] and a.state[\"cloudy\"])]\n",
    "        access_slice_omni = [a for a in self.accesses if a.time >= min_time and a.time<= max_time and not (a.state[\"cloudy\"])]\n",
    "\n",
    "        new_schedule = milp_schedule(access_slice, self.requests, self.agility)\n",
    "        omni_schedule = milp_schedule(access_slice_omni, self.requests, self.agility)\n",
    "\n",
    "        new_advantage = np.sum([not a.state[\"cloudy\"] for a in new_schedule])\n",
    "        omni_advantage = len(omni_schedule)\n",
    "\n",
    "        \n",
    "        missed_opportunities = len([s for s in schedule_slice if not s.state[\"cloudy\"] and self.agility(s.angle) > t_maneuver])\n",
    "        # reward = new_advantage - missed_opportunities - original_schedule_advantage# - 0.01 * (t_maneuver)\n",
    "        if(omni_advantage == missed_opportunities):\n",
    "            reward = 0\n",
    "        else:\n",
    "            reward = (new_advantage - missed_opportunities) / (omni_advantage - missed_opportunities)\n",
    "\n",
    "\n",
    "        # Move to the next schedule block\n",
    "        self.current_idx = self.current_idx + 1\n",
    "        \n",
    "        return self._get_obs(accesses_filtered, self.schedule, time), reward, False, True, {\"utility_analytic\": None if not self.eval_analytic else utility_analytic}\n",
    "    \n",
    "    def reset(self, seed=None, options=None):\n",
    "        # Only actually reset when current_idx is at the end\n",
    "        if self.current_idx >= (len(self.schedule) - 1):\n",
    "            self.orbit_reset_count = self.orbit_reset_count + 1\n",
    "\n",
    "            if(self.orbit_reset_count > 10):\n",
    "                self.requests = generate_requests(10000)\n",
    "                self.accesses = get_accesses(self.requests, self.orbit, 500, 45, self.t_start, self.t_end)\n",
    "                self.orbit_reset_count = 0\n",
    "\n",
    "            self.current_idx = 0\n",
    "            for a in self.accesses:\n",
    "                a.state = {\n",
    "                    \"observed\": False,\n",
    "                    \"cloudy\": np.random.rand() < 0.66\n",
    "                }\n",
    "                \n",
    "            self.schedule = milp_schedule(self.accesses, self.requests, self.agility)\n",
    "            \n",
    "        r , v = kepler2eci(self.orbit)\n",
    "        pos_ecef = eci2ecef(r, self.t_start)    \n",
    "        accesses_converted = [(latlong2ecef([a.lat, a.long]), a.angle, a.time, a, i) for i, a in enumerate(self.accesses)]\n",
    "        accesses_filtered = filter_accesses_horizon(self.orbit, self.t_start, accesses_converted, pos_ecef, self.field_of_regard)\n",
    "\n",
    "        return self._get_obs(accesses_filtered, self.schedule, self.t_start), {}\n",
    "\n",
    "    def _get_obs(self, accesses, schedule, time):\n",
    "        # Source data\n",
    "        times = [(a[2] - time).total_seconds() for a in accesses if not a[-2].state[\"observed\"]]\n",
    "        angles = [a[1] for a in accesses if not a[-2].state[\"observed\"]]\n",
    "\n",
    "        schedule_times = [(a.time - time).total_seconds() for a in schedule]\n",
    "        schedule_angles = [a.angle for a in schedule]\n",
    "\n",
    "        # Convert to 2D histogram\n",
    "        hist_accesses = np.histogram2d(times, angles, bins=[self.alongtrack_states, self.crosstrack_states], range=[[0, self.horizon_time], [-self.field_of_regard, self.field_of_regard]])\n",
    "        hist_schedule = np.histogram2d(schedule_times, schedule_angles, bins=[self.alongtrack_states, self.crosstrack_states], range=[[0, self.horizon_time], [-self.field_of_regard, self.field_of_regard]])\n",
    "\n",
    "        return np.stack([hist_accesses[0].astype(np.float32), hist_schedule[0].astype(np.float32)])\n",
    "\n",
    "    def _get_reward(self):\n",
    "        pass\n",
    "\n",
    "    def close(self):    \n",
    "        pass"
   ]
  },
  {
   "cell_type": "code",
   "execution_count": 52,
   "id": "36df836d",
   "metadata": {},
   "outputs": [],
   "source": [
    "# Generate randomly spaced requests\n",
    "\n",
    "def generate_requests(N):\n",
    "    \"\"\"\n",
    "    Generate N Request objects with lat/long\n",
    "    sampled uniformly over Earth's surface, using numpy.\n",
    "    \"\"\"\n",
    "    # 1) sample z = sin(lat) uniformly in [-1,1]\n",
    "    z = np.random.uniform(-1.0, 1.0, size=N)\n",
    "    # 2) sample longitude angle θ uniformly in [0, 2π)\n",
    "    theta = np.random.uniform(0.0, 2*np.pi, size=N)\n",
    "\n",
    "    # convert to lat, lon in degrees\n",
    "    lat = np.degrees(np.arcsin(z))\n",
    "    lon = np.degrees(theta)\n",
    "    # shift to [–180, +180)\n",
    "    lon = np.where(lon > 180.0, lon - 360.0, lon)\n",
    "\n",
    "    # build Request instances\n",
    "    return [\n",
    "        Request(i, float(lat[i]), float(lon[i]), f\"request_{i}\")\n",
    "        for i in range(N)\n",
    "    ]\n",
    "\n",
    "# requests = generate_requests(10)\n",
    "# print(requests)"
   ]
  },
  {
   "cell_type": "code",
   "execution_count": 53,
   "id": "b9ecaff0",
   "metadata": {},
   "outputs": [],
   "source": [
    "# Train with PPO\n",
    "t0 = datetime.datetime(2024, 1, 1)\n",
    "t_end = datetime.datetime(2024, 1, 1, 18, 0, 0)\n",
    "\n",
    "h = 400\n",
    "field_of_regard = 45\n",
    "crosstrack_discretization = 5 # deg\n",
    "alongtrack_discretization = 5 # seconds\n",
    "\n",
    "t_s = 10\n",
    "t_dotsq = 4\n",
    "def agility_bangbang(theta):\n",
    "    return t_s + t_dotsq * np.sqrt(np.abs(theta))\n",
    "\n",
    "orbit = circular_orbit(a=Constants.R_E+h, i=np.deg2rad(51.6), Omega=np.pi, M=np.pi/2, t=t0)\n",
    "requests = generate_requests(10000)\n",
    "\n",
    "# env.reset()\n",
    "# env.step(np.array([1, 0, 0]))\n",
    "# env = LookaheadEnv(orbit, requests, t0, t_end, agility_bangbang, field_of_regard, crosstrack_discretization, alongtrack_discretization)\n",
    "\n",
    "# check_env(env)"
   ]
  },
  {
   "cell_type": "code",
   "execution_count": 54,
   "id": "20017519",
   "metadata": {},
   "outputs": [],
   "source": [
    "# Some helpers for the analytic one\n",
    "width = 800\n",
    "height = 600\n",
    "\n",
    "def analytic_chain_probability(L, lam, M, c):\n",
    "    if L < (M-1)*c:\n",
    "        return 0.0\n",
    "    x = L - (M-1)*c\n",
    "    # Note: scipy's gamma.cdf(x, a, scale) uses 'a' as the shape and scale=1/rate.\n",
    "    return st.gamma.cdf(x, a=M-1, scale=1/lam)\n",
    "\n",
    "def expected_advantage(N, t_total, t_gap, A_min, A_max):\n",
    "   all_adv = np.arange(A_min, A_max+1)\n",
    "\n",
    "   probabilities = np.array([analytic_chain_probability(t_total, N/t_total * 1/3, adv + 2, t_gap) for adv in all_adv])\n",
    "   probabilities = [probabilities[i] - probabilities[i+1] for i in range(len(probabilities)-1)]\n",
    "   probabilities = np.append(probabilities, probabilities[-1])\n",
    "   \n",
    "   return np.sum(probabilities * all_adv)\n",
    "\n",
    "def actual_advantage(pitch_deg, roll_deg, orbit, K, time, accesses_filtered, points, schedule):\n",
    "    accesses_inbox, in_box_idx, projected_points = project_in_box(pitch_deg, roll_deg, orbit, time, accesses_filtered, points, width, height, K)\n",
    "    N = len([a for a in accesses_inbox if a[-2].state[\"observed\"] == False]) * 0.34\n",
    "    adv = 0\n",
    "    if(N > 0):\n",
    "        t_total = np.max([a[2] for a in accesses_inbox]) - np.min([a[2] for a in accesses_inbox])\n",
    "        t_gap = agility_bangbang(30)\n",
    "\n",
    "        if(t_total.total_seconds() > 0):\n",
    "            adv = expected_advantage(N, t_total.total_seconds(), t_gap, 2, 40)\n",
    "\n",
    "    # Now calculate cost...\n",
    "    # Check how many tasks in the schedul we miss\n",
    "    schedule_filtered = [s for s in schedule if s.time > time and s.time <= time + datetime.timedelta(hours=1)]\n",
    "    # Total lookahead maneuver time\n",
    "    # No setting time for lookahead\n",
    "    # Assume 35 deg boresight angle\n",
    "    t_maneuver = 2 * (agility_bangbang(pitch_deg - 35)) - agility_bangbang(0)\n",
    "\n",
    "    schedule_missed = [s for s in schedule_filtered if time + datetime.timedelta(seconds=t_maneuver) > s.time]\n",
    "\n",
    "    cost = len(schedule_missed) * 0.34\n",
    "    utility = adv - cost\n",
    "    missed = len(schedule_missed)\n",
    "    return accesses_inbox, in_box_idx, utility, adv, cost, missed, t_maneuver\n",
    "\n",
    "def evaluate_lookahead_chain(time, orbit, schedule, accesses, K):\n",
    "    orbit_new = propagate_orbit(orbit, time)\n",
    "    r , v = kepler2eci(orbit_new)\n",
    "    pos_ecef = eci2ecef(r, time)\n",
    "    v_ecef = eci2ecef(v, time)\n",
    "\n",
    "    accesses_filtered = filter_accesses_horizon(orbit, time, accesses, pos_ecef)\n",
    "    min_time = agility_bangbang(30)\n",
    "    accesses_filtered = [a for a in accesses_filtered if a[-2].time > time + datetime.timedelta(seconds=min_time)]\n",
    "    # Let's do a test to figure out what the heuristic will do best at...\n",
    "    points = np.array([r for r, _, _, _, _ in accesses_filtered])\n",
    "    idxs = np.array([i for _, _, _, _, i in accesses_filtered])\n",
    "\n",
    "    roll_deg = 0\n",
    "    pitch_degs = np.linspace(0, 70)\n",
    "\n",
    "    expected_utilities = []\n",
    "    expected_advantages = []\n",
    "    expected_costs = []\n",
    "    for pitch_deg in pitch_degs:\n",
    "        _, _, utility, adv, cost, _, _ = actual_advantage(pitch_deg, roll_deg, orbit, K, time, accesses_filtered, points, schedule)\n",
    "        \n",
    "        expected_utilities.append(utility)\n",
    "        expected_advantages.append(adv)\n",
    "        expected_costs.append(cost)\n",
    "\n",
    "    # Find the maximum advantage\n",
    "    max_adv = np.max(expected_utilities)\n",
    "    max_idx = np.argmax(expected_utilities)\n",
    "    # Find the pitch angle that gives the maximum advantage\n",
    "    best_pitch_deg = pitch_degs[max_idx]\n",
    "\n",
    "    # Recalculate in box\n",
    "    accesses_inbox, in_box_idx, utility, adv, cost, missed, t_maneuver = actual_advantage(best_pitch_deg, roll_deg, orbit, K, time, accesses_filtered, points, schedule)\n",
    "\n",
    "    mapped_in_box_idx = [idxs[i] for i in in_box_idx]\n",
    "    # Recalculate utility\n",
    "    return ((best_pitch_deg, roll_deg), mapped_in_box_idx, expected_utilities, expected_advantages, expected_costs, utility, adv, cost, missed, t_maneuver)"
   ]
  },
  {
   "cell_type": "code",
   "execution_count": 55,
   "id": "d561e552",
   "metadata": {},
   "outputs": [
    {
     "name": "stderr",
     "output_type": "stream",
     "text": [
      "/Users/shreeyam/phd_code/src/dynamic_tasker/orbits.py:61: RuntimeWarning: divide by zero encountered in matmul\n",
      "  eci = ecef @ rot_mat.T\n",
      "/Users/shreeyam/phd_code/src/dynamic_tasker/orbits.py:61: RuntimeWarning: overflow encountered in matmul\n",
      "  eci = ecef @ rot_mat.T\n",
      "/Users/shreeyam/phd_code/src/dynamic_tasker/orbits.py:61: RuntimeWarning: invalid value encountered in matmul\n",
      "  eci = ecef @ rot_mat.T\n",
      "/Users/shreeyam/phd_code/src/dynamic_tasker/orbits.py:61: RuntimeWarning: divide by zero encountered in matmul\n",
      "  eci = ecef @ rot_mat.T\n",
      "/Users/shreeyam/phd_code/src/dynamic_tasker/orbits.py:61: RuntimeWarning: overflow encountered in matmul\n",
      "  eci = ecef @ rot_mat.T\n",
      "/Users/shreeyam/phd_code/src/dynamic_tasker/orbits.py:61: RuntimeWarning: invalid value encountered in matmul\n",
      "  eci = ecef @ rot_mat.T\n",
      "/Users/shreeyam/phd_code/src/dynamic_tasker/orbits.py:61: RuntimeWarning: divide by zero encountered in matmul\n",
      "  eci = ecef @ rot_mat.T\n",
      "/Users/shreeyam/phd_code/src/dynamic_tasker/orbits.py:61: RuntimeWarning: overflow encountered in matmul\n",
      "  eci = ecef @ rot_mat.T\n",
      "/Users/shreeyam/phd_code/src/dynamic_tasker/orbits.py:61: RuntimeWarning: invalid value encountered in matmul\n",
      "  eci = ecef @ rot_mat.T\n",
      "/Users/shreeyam/phd_code/src/dynamic_tasker/orbits.py:61: RuntimeWarning: divide by zero encountered in matmul\n",
      "  eci = ecef @ rot_mat.T\n",
      "/Users/shreeyam/phd_code/src/dynamic_tasker/orbits.py:61: RuntimeWarning: overflow encountered in matmul\n",
      "  eci = ecef @ rot_mat.T\n",
      "/Users/shreeyam/phd_code/src/dynamic_tasker/orbits.py:61: RuntimeWarning: invalid value encountered in matmul\n",
      "  eci = ecef @ rot_mat.T\n",
      "/Users/shreeyam/phd_code/src/dynamic_tasker/orbits.py:61: RuntimeWarning: divide by zero encountered in matmul\n",
      "  eci = ecef @ rot_mat.T\n",
      "/Users/shreeyam/phd_code/src/dynamic_tasker/orbits.py:61: RuntimeWarning: overflow encountered in matmul\n",
      "  eci = ecef @ rot_mat.T\n",
      "/Users/shreeyam/phd_code/src/dynamic_tasker/orbits.py:61: RuntimeWarning: invalid value encountered in matmul\n",
      "  eci = ecef @ rot_mat.T\n",
      "/Users/shreeyam/phd_code/src/dynamic_tasker/orbits.py:61: RuntimeWarning: divide by zero encountered in matmul\n",
      "  eci = ecef @ rot_mat.T\n",
      "/Users/shreeyam/phd_code/src/dynamic_tasker/orbits.py:61: RuntimeWarning: overflow encountered in matmul\n",
      "  eci = ecef @ rot_mat.T\n",
      "/Users/shreeyam/phd_code/src/dynamic_tasker/orbits.py:61: RuntimeWarning: invalid value encountered in matmul\n",
      "  eci = ecef @ rot_mat.T\n",
      "/Users/shreeyam/phd_code/src/dynamic_tasker/orbits.py:61: RuntimeWarning: divide by zero encountered in matmul\n",
      "  eci = ecef @ rot_mat.T\n",
      "/Users/shreeyam/phd_code/src/dynamic_tasker/orbits.py:61: RuntimeWarning: overflow encountered in matmul\n",
      "  eci = ecef @ rot_mat.T\n",
      "/Users/shreeyam/phd_code/src/dynamic_tasker/orbits.py:61: RuntimeWarning: invalid value encountered in matmul\n",
      "  eci = ecef @ rot_mat.T\n",
      "/Users/shreeyam/phd_code/src/dynamic_tasker/orbits.py:61: RuntimeWarning: divide by zero encountered in matmul\n",
      "  eci = ecef @ rot_mat.T\n",
      "/Users/shreeyam/phd_code/src/dynamic_tasker/orbits.py:61: RuntimeWarning: overflow encountered in matmul\n",
      "  eci = ecef @ rot_mat.T\n",
      "/Users/shreeyam/phd_code/src/dynamic_tasker/orbits.py:61: RuntimeWarning: invalid value encountered in matmul\n",
      "  eci = ecef @ rot_mat.T\n"
     ]
    }
   ],
   "source": [
    "# Now train with PPO\n",
    "# env = LookaheadEnv(orbit, requests, t0, t_end, agility_bangbang, field_of_regard, crosstrack_discretization, alongtrack_discretization, eval_analytic=False)\n",
    "# env = RecordEpisodeStatistics(env)\n",
    "# env = DummyVecEnv([lambda: env])\n",
    "# env = VecNormalize(env, norm_obs=False, norm_reward=True)\n",
    "# train_env = env\n",
    "\n",
    "def make_env(rank, seed=0):\n",
    "    def _init():\n",
    "        env = LookaheadEnv(\n",
    "            orbit, requests, t0, t_end,\n",
    "            agility_bangbang, field_of_regard,\n",
    "            crosstrack_discretization, alongtrack_discretization,\n",
    "            eval_analytic=False,\n",
    "        )\n",
    "        env = RecordEpisodeStatistics(env)\n",
    "        env.reset(seed=seed + rank)\n",
    "        return env\n",
    "    return _init\n",
    "\n",
    "N_ENVS = 8                                # ≤ number of CPU cores\n",
    "train_env = SubprocVecEnv([make_env(i) for i in range(N_ENVS)])\n",
    "\n",
    "train_env = VecNormalize(\n",
    "    train_env,\n",
    "    norm_obs=False,\n",
    "    norm_reward=True,\n",
    ")\n"
   ]
  },
  {
   "cell_type": "code",
   "execution_count": 56,
   "id": "ab167d97",
   "metadata": {},
   "outputs": [
    {
     "name": "stderr",
     "output_type": "stream",
     "text": [
      "/Library/Frameworks/Python.framework/Versions/3.10/lib/python3.10/site-packages/stable_baselines3/common/buffers.py:242: UserWarning: This system does not have apparently enough memory to store the complete replay buffer 23.92GB > 10.20GB\n",
      "  warnings.warn(\n"
     ]
    },
    {
     "ename": "KeyboardInterrupt",
     "evalue": "",
     "output_type": "error",
     "traceback": [
      "\u001b[0;31m---------------------------------------------------------------------------\u001b[0m",
      "\u001b[0;31mKeyboardInterrupt\u001b[0m                         Traceback (most recent call last)",
      "Cell \u001b[0;32mIn[56], line 13\u001b[0m\n\u001b[1;32m     11\u001b[0m model \u001b[38;5;241m=\u001b[39m SAC(\u001b[38;5;124m\"\u001b[39m\u001b[38;5;124mMlpPolicy\u001b[39m\u001b[38;5;124m\"\u001b[39m, train_env, verbose\u001b[38;5;241m=\u001b[39m\u001b[38;5;241m0\u001b[39m, tensorboard_log\u001b[38;5;241m=\u001b[39m\u001b[38;5;124m\"\u001b[39m\u001b[38;5;124m./test_with_schedule\u001b[39m\u001b[38;5;124m\"\u001b[39m, policy_kwargs\u001b[38;5;241m=\u001b[39mpolicy_kwargs, gamma\u001b[38;5;241m=\u001b[39m\u001b[38;5;241m1.0\u001b[39m, device\u001b[38;5;241m=\u001b[39m\u001b[38;5;124m\"\u001b[39m\u001b[38;5;124mmps\u001b[39m\u001b[38;5;124m\"\u001b[39m)\n\u001b[1;32m     12\u001b[0m \u001b[38;5;66;03m# model = PPO(\"MlpPolicy\", train_env, verbose=0, tensorboard_log=\"./test_with_schedule\", policy_kwargs=policy_kwargs, gamma=1.0)\u001b[39;00m\n\u001b[0;32m---> 13\u001b[0m \u001b[43mmodel\u001b[49m\u001b[38;5;241;43m.\u001b[39;49m\u001b[43mlearn\u001b[49m\u001b[43m(\u001b[49m\u001b[43mtotal_timesteps\u001b[49m\u001b[38;5;241;43m=\u001b[39;49m\u001b[38;5;241;43m500000\u001b[39;49m\u001b[43m)\u001b[49m\n",
      "File \u001b[0;32m/Library/Frameworks/Python.framework/Versions/3.10/lib/python3.10/site-packages/stable_baselines3/sac/sac.py:308\u001b[0m, in \u001b[0;36mSAC.learn\u001b[0;34m(self, total_timesteps, callback, log_interval, tb_log_name, reset_num_timesteps, progress_bar)\u001b[0m\n\u001b[1;32m    299\u001b[0m \u001b[38;5;28;01mdef\u001b[39;00m\u001b[38;5;250m \u001b[39m\u001b[38;5;21mlearn\u001b[39m(\n\u001b[1;32m    300\u001b[0m     \u001b[38;5;28mself\u001b[39m: SelfSAC,\n\u001b[1;32m    301\u001b[0m     total_timesteps: \u001b[38;5;28mint\u001b[39m,\n\u001b[0;32m   (...)\u001b[0m\n\u001b[1;32m    306\u001b[0m     progress_bar: \u001b[38;5;28mbool\u001b[39m \u001b[38;5;241m=\u001b[39m \u001b[38;5;28;01mFalse\u001b[39;00m,\n\u001b[1;32m    307\u001b[0m ) \u001b[38;5;241m-\u001b[39m\u001b[38;5;241m>\u001b[39m SelfSAC:\n\u001b[0;32m--> 308\u001b[0m     \u001b[38;5;28;01mreturn\u001b[39;00m \u001b[38;5;28;43msuper\u001b[39;49m\u001b[43m(\u001b[49m\u001b[43m)\u001b[49m\u001b[38;5;241;43m.\u001b[39;49m\u001b[43mlearn\u001b[49m\u001b[43m(\u001b[49m\n\u001b[1;32m    309\u001b[0m \u001b[43m        \u001b[49m\u001b[43mtotal_timesteps\u001b[49m\u001b[38;5;241;43m=\u001b[39;49m\u001b[43mtotal_timesteps\u001b[49m\u001b[43m,\u001b[49m\n\u001b[1;32m    310\u001b[0m \u001b[43m        \u001b[49m\u001b[43mcallback\u001b[49m\u001b[38;5;241;43m=\u001b[39;49m\u001b[43mcallback\u001b[49m\u001b[43m,\u001b[49m\n\u001b[1;32m    311\u001b[0m \u001b[43m        \u001b[49m\u001b[43mlog_interval\u001b[49m\u001b[38;5;241;43m=\u001b[39;49m\u001b[43mlog_interval\u001b[49m\u001b[43m,\u001b[49m\n\u001b[1;32m    312\u001b[0m \u001b[43m        \u001b[49m\u001b[43mtb_log_name\u001b[49m\u001b[38;5;241;43m=\u001b[39;49m\u001b[43mtb_log_name\u001b[49m\u001b[43m,\u001b[49m\n\u001b[1;32m    313\u001b[0m \u001b[43m        \u001b[49m\u001b[43mreset_num_timesteps\u001b[49m\u001b[38;5;241;43m=\u001b[39;49m\u001b[43mreset_num_timesteps\u001b[49m\u001b[43m,\u001b[49m\n\u001b[1;32m    314\u001b[0m \u001b[43m        \u001b[49m\u001b[43mprogress_bar\u001b[49m\u001b[38;5;241;43m=\u001b[39;49m\u001b[43mprogress_bar\u001b[49m\u001b[43m,\u001b[49m\n\u001b[1;32m    315\u001b[0m \u001b[43m    \u001b[49m\u001b[43m)\u001b[49m\n",
      "File \u001b[0;32m/Library/Frameworks/Python.framework/Versions/3.10/lib/python3.10/site-packages/stable_baselines3/common/off_policy_algorithm.py:347\u001b[0m, in \u001b[0;36mOffPolicyAlgorithm.learn\u001b[0;34m(self, total_timesteps, callback, log_interval, tb_log_name, reset_num_timesteps, progress_bar)\u001b[0m\n\u001b[1;32m    345\u001b[0m         \u001b[38;5;66;03m# Special case when the user passes `gradient_steps=0`\u001b[39;00m\n\u001b[1;32m    346\u001b[0m         \u001b[38;5;28;01mif\u001b[39;00m gradient_steps \u001b[38;5;241m>\u001b[39m \u001b[38;5;241m0\u001b[39m:\n\u001b[0;32m--> 347\u001b[0m             \u001b[38;5;28;43mself\u001b[39;49m\u001b[38;5;241;43m.\u001b[39;49m\u001b[43mtrain\u001b[49m\u001b[43m(\u001b[49m\u001b[43mbatch_size\u001b[49m\u001b[38;5;241;43m=\u001b[39;49m\u001b[38;5;28;43mself\u001b[39;49m\u001b[38;5;241;43m.\u001b[39;49m\u001b[43mbatch_size\u001b[49m\u001b[43m,\u001b[49m\u001b[43m \u001b[49m\u001b[43mgradient_steps\u001b[49m\u001b[38;5;241;43m=\u001b[39;49m\u001b[43mgradient_steps\u001b[49m\u001b[43m)\u001b[49m\n\u001b[1;32m    349\u001b[0m callback\u001b[38;5;241m.\u001b[39mon_training_end()\n\u001b[1;32m    351\u001b[0m \u001b[38;5;28;01mreturn\u001b[39;00m \u001b[38;5;28mself\u001b[39m\n",
      "File \u001b[0;32m/Library/Frameworks/Python.framework/Versions/3.10/lib/python3.10/site-packages/stable_baselines3/sac/sac.py:215\u001b[0m, in \u001b[0;36mSAC.train\u001b[0;34m(self, gradient_steps, batch_size)\u001b[0m\n\u001b[1;32m    211\u001b[0m actor_losses, critic_losses \u001b[38;5;241m=\u001b[39m [], []\n\u001b[1;32m    213\u001b[0m \u001b[38;5;28;01mfor\u001b[39;00m gradient_step \u001b[38;5;129;01min\u001b[39;00m \u001b[38;5;28mrange\u001b[39m(gradient_steps):\n\u001b[1;32m    214\u001b[0m     \u001b[38;5;66;03m# Sample replay buffer\u001b[39;00m\n\u001b[0;32m--> 215\u001b[0m     replay_data \u001b[38;5;241m=\u001b[39m \u001b[38;5;28;43mself\u001b[39;49m\u001b[38;5;241;43m.\u001b[39;49m\u001b[43mreplay_buffer\u001b[49m\u001b[38;5;241;43m.\u001b[39;49m\u001b[43msample\u001b[49m\u001b[43m(\u001b[49m\u001b[43mbatch_size\u001b[49m\u001b[43m,\u001b[49m\u001b[43m \u001b[49m\u001b[43menv\u001b[49m\u001b[38;5;241;43m=\u001b[39;49m\u001b[38;5;28;43mself\u001b[39;49m\u001b[38;5;241;43m.\u001b[39;49m\u001b[43m_vec_normalize_env\u001b[49m\u001b[43m)\u001b[49m  \u001b[38;5;66;03m# type: ignore[union-attr]\u001b[39;00m\n\u001b[1;32m    217\u001b[0m     \u001b[38;5;66;03m# We need to sample because `log_std` may have changed between two gradient steps\u001b[39;00m\n\u001b[1;32m    218\u001b[0m     \u001b[38;5;28;01mif\u001b[39;00m \u001b[38;5;28mself\u001b[39m\u001b[38;5;241m.\u001b[39muse_sde:\n",
      "File \u001b[0;32m/Library/Frameworks/Python.framework/Versions/3.10/lib/python3.10/site-packages/stable_baselines3/common/buffers.py:298\u001b[0m, in \u001b[0;36mReplayBuffer.sample\u001b[0;34m(self, batch_size, env)\u001b[0m\n\u001b[1;32m    286\u001b[0m \u001b[38;5;250m\u001b[39m\u001b[38;5;124;03m\"\"\"\u001b[39;00m\n\u001b[1;32m    287\u001b[0m \u001b[38;5;124;03mSample elements from the replay buffer.\u001b[39;00m\n\u001b[1;32m    288\u001b[0m \u001b[38;5;124;03mCustom sampling when using memory efficient variant,\u001b[39;00m\n\u001b[0;32m   (...)\u001b[0m\n\u001b[1;32m    295\u001b[0m \u001b[38;5;124;03m:return:\u001b[39;00m\n\u001b[1;32m    296\u001b[0m \u001b[38;5;124;03m\"\"\"\u001b[39;00m\n\u001b[1;32m    297\u001b[0m \u001b[38;5;28;01mif\u001b[39;00m \u001b[38;5;129;01mnot\u001b[39;00m \u001b[38;5;28mself\u001b[39m\u001b[38;5;241m.\u001b[39moptimize_memory_usage:\n\u001b[0;32m--> 298\u001b[0m     \u001b[38;5;28;01mreturn\u001b[39;00m \u001b[38;5;28;43msuper\u001b[39;49m\u001b[43m(\u001b[49m\u001b[43m)\u001b[49m\u001b[38;5;241;43m.\u001b[39;49m\u001b[43msample\u001b[49m\u001b[43m(\u001b[49m\u001b[43mbatch_size\u001b[49m\u001b[38;5;241;43m=\u001b[39;49m\u001b[43mbatch_size\u001b[49m\u001b[43m,\u001b[49m\u001b[43m \u001b[49m\u001b[43menv\u001b[49m\u001b[38;5;241;43m=\u001b[39;49m\u001b[43menv\u001b[49m\u001b[43m)\u001b[49m\n\u001b[1;32m    299\u001b[0m \u001b[38;5;66;03m# Do not sample the element with index `self.pos` as the transitions is invalid\u001b[39;00m\n\u001b[1;32m    300\u001b[0m \u001b[38;5;66;03m# (we use only one array to store `obs` and `next_obs`)\u001b[39;00m\n\u001b[1;32m    301\u001b[0m \u001b[38;5;28;01mif\u001b[39;00m \u001b[38;5;28mself\u001b[39m\u001b[38;5;241m.\u001b[39mfull:\n",
      "File \u001b[0;32m/Library/Frameworks/Python.framework/Versions/3.10/lib/python3.10/site-packages/stable_baselines3/common/buffers.py:115\u001b[0m, in \u001b[0;36mBaseBuffer.sample\u001b[0;34m(self, batch_size, env)\u001b[0m\n\u001b[1;32m    113\u001b[0m upper_bound \u001b[38;5;241m=\u001b[39m \u001b[38;5;28mself\u001b[39m\u001b[38;5;241m.\u001b[39mbuffer_size \u001b[38;5;28;01mif\u001b[39;00m \u001b[38;5;28mself\u001b[39m\u001b[38;5;241m.\u001b[39mfull \u001b[38;5;28;01melse\u001b[39;00m \u001b[38;5;28mself\u001b[39m\u001b[38;5;241m.\u001b[39mpos\n\u001b[1;32m    114\u001b[0m batch_inds \u001b[38;5;241m=\u001b[39m np\u001b[38;5;241m.\u001b[39mrandom\u001b[38;5;241m.\u001b[39mrandint(\u001b[38;5;241m0\u001b[39m, upper_bound, size\u001b[38;5;241m=\u001b[39mbatch_size)\n\u001b[0;32m--> 115\u001b[0m \u001b[38;5;28;01mreturn\u001b[39;00m \u001b[38;5;28;43mself\u001b[39;49m\u001b[38;5;241;43m.\u001b[39;49m\u001b[43m_get_samples\u001b[49m\u001b[43m(\u001b[49m\u001b[43mbatch_inds\u001b[49m\u001b[43m,\u001b[49m\u001b[43m \u001b[49m\u001b[43menv\u001b[49m\u001b[38;5;241;43m=\u001b[39;49m\u001b[43menv\u001b[49m\u001b[43m)\u001b[49m\n",
      "File \u001b[0;32m/Library/Frameworks/Python.framework/Versions/3.10/lib/python3.10/site-packages/stable_baselines3/common/buffers.py:325\u001b[0m, in \u001b[0;36mReplayBuffer._get_samples\u001b[0;34m(self, batch_inds, env)\u001b[0m\n\u001b[1;32m    314\u001b[0m     next_obs \u001b[38;5;241m=\u001b[39m \u001b[38;5;28mself\u001b[39m\u001b[38;5;241m.\u001b[39m_normalize_obs(\u001b[38;5;28mself\u001b[39m\u001b[38;5;241m.\u001b[39mnext_observations[batch_inds, env_indices, :], env)\n\u001b[1;32m    316\u001b[0m data \u001b[38;5;241m=\u001b[39m (\n\u001b[1;32m    317\u001b[0m     \u001b[38;5;28mself\u001b[39m\u001b[38;5;241m.\u001b[39m_normalize_obs(\u001b[38;5;28mself\u001b[39m\u001b[38;5;241m.\u001b[39mobservations[batch_inds, env_indices, :], env),\n\u001b[1;32m    318\u001b[0m     \u001b[38;5;28mself\u001b[39m\u001b[38;5;241m.\u001b[39mactions[batch_inds, env_indices, :],\n\u001b[0;32m   (...)\u001b[0m\n\u001b[1;32m    323\u001b[0m     \u001b[38;5;28mself\u001b[39m\u001b[38;5;241m.\u001b[39m_normalize_reward(\u001b[38;5;28mself\u001b[39m\u001b[38;5;241m.\u001b[39mrewards[batch_inds, env_indices]\u001b[38;5;241m.\u001b[39mreshape(\u001b[38;5;241m-\u001b[39m\u001b[38;5;241m1\u001b[39m, \u001b[38;5;241m1\u001b[39m), env),\n\u001b[1;32m    324\u001b[0m )\n\u001b[0;32m--> 325\u001b[0m \u001b[38;5;28;01mreturn\u001b[39;00m ReplayBufferSamples(\u001b[38;5;241m*\u001b[39m\u001b[38;5;28;43mtuple\u001b[39;49m\u001b[43m(\u001b[49m\u001b[38;5;28;43mmap\u001b[39;49m\u001b[43m(\u001b[49m\u001b[38;5;28;43mself\u001b[39;49m\u001b[38;5;241;43m.\u001b[39;49m\u001b[43mto_torch\u001b[49m\u001b[43m,\u001b[49m\u001b[43m \u001b[49m\u001b[43mdata\u001b[49m\u001b[43m)\u001b[49m\u001b[43m)\u001b[49m)\n",
      "File \u001b[0;32m/Library/Frameworks/Python.framework/Versions/3.10/lib/python3.10/site-packages/stable_baselines3/common/buffers.py:139\u001b[0m, in \u001b[0;36mBaseBuffer.to_torch\u001b[0;34m(self, array, copy)\u001b[0m\n\u001b[1;32m    129\u001b[0m \u001b[38;5;250m\u001b[39m\u001b[38;5;124;03m\"\"\"\u001b[39;00m\n\u001b[1;32m    130\u001b[0m \u001b[38;5;124;03mConvert a numpy array to a PyTorch tensor.\u001b[39;00m\n\u001b[1;32m    131\u001b[0m \u001b[38;5;124;03mNote: it copies the data by default\u001b[39;00m\n\u001b[0;32m   (...)\u001b[0m\n\u001b[1;32m    136\u001b[0m \u001b[38;5;124;03m:return:\u001b[39;00m\n\u001b[1;32m    137\u001b[0m \u001b[38;5;124;03m\"\"\"\u001b[39;00m\n\u001b[1;32m    138\u001b[0m \u001b[38;5;28;01mif\u001b[39;00m copy:\n\u001b[0;32m--> 139\u001b[0m     \u001b[38;5;28;01mreturn\u001b[39;00m \u001b[43mth\u001b[49m\u001b[38;5;241;43m.\u001b[39;49m\u001b[43mtensor\u001b[49m\u001b[43m(\u001b[49m\u001b[43marray\u001b[49m\u001b[43m,\u001b[49m\u001b[43m \u001b[49m\u001b[43mdevice\u001b[49m\u001b[38;5;241;43m=\u001b[39;49m\u001b[38;5;28;43mself\u001b[39;49m\u001b[38;5;241;43m.\u001b[39;49m\u001b[43mdevice\u001b[49m\u001b[43m)\u001b[49m\n\u001b[1;32m    140\u001b[0m \u001b[38;5;28;01mreturn\u001b[39;00m th\u001b[38;5;241m.\u001b[39mas_tensor(array, device\u001b[38;5;241m=\u001b[39m\u001b[38;5;28mself\u001b[39m\u001b[38;5;241m.\u001b[39mdevice)\n",
      "\u001b[0;31mKeyboardInterrupt\u001b[0m: "
     ]
    }
   ],
   "source": [
    "# model = PPO(\"MlpPolicy\", env, verbose=1, tensorboard_log=\"./test_with_schedule\")\n",
    "\n",
    "# Define a larger policy network with 5 layers\n",
    "policy_kwargs = {\n",
    "    \"net_arch\": {\n",
    "        \"pi\": [256, 256, 256, 256, 256],  # Policy network: 5 layers of 256 units\n",
    "        \"qf\": [256, 256, 256, 256, 256]   # Q-function network: 5 layers of 256 units\n",
    "    }\n",
    "}\n",
    "\n",
    "model = SAC(\"MlpPolicy\", train_env, verbose=0, tensorboard_log=\"./test_with_schedule\", policy_kwargs=policy_kwargs, gamma=1.0, device=\"mps\")\n",
    "# model = PPO(\"MlpPolicy\", train_env, verbose=0, tensorboard_log=\"./test_with_schedule\", policy_kwargs=policy_kwargs, gamma=1.0)\n",
    "model.learn(total_timesteps=500000)"
   ]
  },
  {
   "cell_type": "code",
   "execution_count": 57,
   "id": "54ec7ba4",
   "metadata": {},
   "outputs": [],
   "source": [
    "model.save(\"test_with_schedule_sac_debugged_horizonfixed_250k\")"
   ]
  },
  {
   "cell_type": "code",
   "execution_count": 12,
   "id": "ab483faa",
   "metadata": {},
   "outputs": [],
   "source": [
    "# Eval environment\n",
    "\n",
    "# eval_env = LookaheadEnv(orbit, requests, t0, t_end, agility_bangbang, field_of_regard, crosstrack_discretization, alongtrack_discretization, eval_analytic=True)"
   ]
  },
  {
   "cell_type": "code",
   "execution_count": 50,
   "id": "c709048f",
   "metadata": {},
   "outputs": [
    {
     "name": "stderr",
     "output_type": "stream",
     "text": [
      "/Users/shreeyam/phd_code/src/dynamic_tasker/orbits.py:61: RuntimeWarning: divide by zero encountered in matmul\n",
      "  eci = ecef @ rot_mat.T\n",
      "/Users/shreeyam/phd_code/src/dynamic_tasker/orbits.py:61: RuntimeWarning: overflow encountered in matmul\n",
      "  eci = ecef @ rot_mat.T\n",
      "/Users/shreeyam/phd_code/src/dynamic_tasker/orbits.py:61: RuntimeWarning: invalid value encountered in matmul\n",
      "  eci = ecef @ rot_mat.T\n",
      "  1%|          | 6/500 [00:00<00:25, 19.45it/s]"
     ]
    },
    {
     "name": "stdout",
     "output_type": "stream",
     "text": [
      "43.35874515469127\n",
      "47.53946637713255\n",
      "44.73463746269397\n",
      "45.34293184309631\n",
      "45.61449020909117\n",
      "45.59793697494205\n",
      "45.55632635370465\n",
      "45.928484013832595\n",
      "45.3629265571974\n"
     ]
    },
    {
     "name": "stderr",
     "output_type": "stream",
     "text": [
      "  3%|▎         | 15/500 [00:00<00:15, 31.44it/s]"
     ]
    },
    {
     "name": "stdout",
     "output_type": "stream",
     "text": [
      "44.500662333133214\n",
      "46.10296420319895\n",
      "47.36569723734305\n",
      "44.992361648121594\n",
      "47.52787342483155\n",
      "45.44300211634421\n",
      "43.9270387300982\n",
      "43.9521416243594\n",
      "45.9915512671011\n"
     ]
    },
    {
     "name": "stderr",
     "output_type": "stream",
     "text": [
      "  5%|▌         | 25/500 [00:00<00:12, 36.91it/s]"
     ]
    },
    {
     "name": "stdout",
     "output_type": "stream",
     "text": [
      "45.675515327974956\n",
      "46.23994648208042\n",
      "46.36753721815082\n",
      "45.68789896740542\n",
      "39.48770024396077\n",
      "45.807065188089275\n",
      "44.622246122378364\n",
      "44.517187125299266\n",
      "41.693501176082556\n"
     ]
    },
    {
     "name": "stderr",
     "output_type": "stream",
     "text": [
      "  7%|▋         | 34/500 [00:01<00:12, 37.75it/s]"
     ]
    },
    {
     "name": "stdout",
     "output_type": "stream",
     "text": [
      "25.783869285148334\n",
      "46.618901776163085\n",
      "26.70399019118185\n",
      "46.036819527361835\n",
      "45.250853767092224\n",
      "38.2655880500431\n",
      "47.52244669446101\n",
      "47.596338966487515\n"
     ]
    },
    {
     "name": "stderr",
     "output_type": "stream",
     "text": [
      "  9%|▊         | 43/500 [00:01<00:11, 39.34it/s]"
     ]
    },
    {
     "name": "stdout",
     "output_type": "stream",
     "text": [
      "47.51935220670255\n",
      "27.973691511179094\n",
      "46.737499157185454\n",
      "46.61476062342749\n",
      "43.19999907036151\n",
      "37.847667239148926\n",
      "46.269543209667326\n",
      "46.18553696845967\n",
      "24.210157296468676\n"
     ]
    },
    {
     "name": "stderr",
     "output_type": "stream",
     "text": [
      " 10%|▉         | 48/500 [00:01<00:11, 39.99it/s]"
     ]
    },
    {
     "name": "stdout",
     "output_type": "stream",
     "text": [
      "45.28548472568325\n",
      "44.19308503977331\n",
      "46.86296812131853\n",
      "43.941043562563884\n",
      "41.68041217547185\n",
      "45.25589368649295\n",
      "45.81639415853758\n",
      "42.499137411846206\n",
      "40.79846041072378\n"
     ]
    },
    {
     "name": "stderr",
     "output_type": "stream",
     "text": [
      " 12%|█▏        | 58/500 [00:01<00:10, 40.20it/s]"
     ]
    },
    {
     "name": "stdout",
     "output_type": "stream",
     "text": [
      "42.52711294639789\n",
      "47.45176267812526\n",
      "45.415237052467276\n",
      "46.87299107615384\n",
      "46.8392361306415\n",
      "45.12259180022127\n",
      "47.11592543038294\n",
      "46.5874335660899\n",
      "45.10135701565815\n"
     ]
    },
    {
     "name": "stderr",
     "output_type": "stream",
     "text": [
      " 13%|█▎        | 63/500 [00:01<00:13, 31.46it/s]"
     ]
    },
    {
     "name": "stdout",
     "output_type": "stream",
     "text": [
      "46.85515795276638\n",
      "47.48898754557264\n",
      "46.45276077623405\n",
      "42.57157345433932\n"
     ]
    },
    {
     "name": "stderr",
     "output_type": "stream",
     "text": [
      " 14%|█▍        | 71/500 [00:02<00:12, 34.30it/s]"
     ]
    },
    {
     "name": "stdout",
     "output_type": "stream",
     "text": [
      "47.223020873450146\n",
      "45.04434790478443\n",
      "46.44972886083835\n",
      "44.756617427213634\n",
      "45.34569640385111\n",
      "46.06615458870446\n",
      "37.383232409135374\n",
      "45.58437583741232\n"
     ]
    },
    {
     "name": "stderr",
     "output_type": "stream",
     "text": [
      " 16%|█▌        | 80/500 [00:02<00:11, 37.32it/s]"
     ]
    },
    {
     "name": "stdout",
     "output_type": "stream",
     "text": [
      "35.42532042469419\n",
      "45.64457045039034\n",
      "46.5428308482331\n",
      "45.882561587961156\n",
      "47.01327831346852\n",
      "46.843525181689074\n",
      "42.878980095800785\n",
      "45.33611145555514\n",
      "40.51342054475179\n"
     ]
    },
    {
     "name": "stderr",
     "output_type": "stream",
     "text": [
      " 18%|█▊        | 88/500 [00:02<00:11, 36.74it/s]"
     ]
    },
    {
     "name": "stdout",
     "output_type": "stream",
     "text": [
      "47.42000435982473\n",
      "46.989091251062305\n",
      "46.63063124998284\n",
      "35.694063034364724\n",
      "47.393866177379635\n",
      "45.71122708192279\n",
      "46.142726095536545\n",
      "46.0485148708019\n"
     ]
    },
    {
     "name": "stderr",
     "output_type": "stream",
     "text": [
      " 19%|█▉        | 96/500 [00:02<00:11, 36.72it/s]"
     ]
    },
    {
     "name": "stdout",
     "output_type": "stream",
     "text": [
      "47.11262616034634\n",
      "46.027046861977574\n",
      "41.86324861946538\n",
      "44.643799457151914\n",
      "47.30849472098442\n",
      "46.70840300850065\n",
      "46.296733745486165\n",
      "34.17143284728614\n"
     ]
    },
    {
     "name": "stderr",
     "output_type": "stream",
     "text": [
      " 21%|██        | 105/500 [00:02<00:10, 37.90it/s]"
     ]
    },
    {
     "name": "stdout",
     "output_type": "stream",
     "text": [
      "31.015026891672026\n",
      "42.877393033145246\n",
      "42.149073484170216\n",
      "44.426354808153825\n",
      "39.023743239262856\n",
      "46.01710923309148\n",
      "46.86558478376134\n",
      "47.153940984959775\n"
     ]
    },
    {
     "name": "stderr",
     "output_type": "stream",
     "text": [
      " 23%|██▎       | 113/500 [00:03<00:10, 38.05it/s]"
     ]
    },
    {
     "name": "stdout",
     "output_type": "stream",
     "text": [
      "44.79148161006586\n",
      "38.58907010033804\n",
      "47.33922343949767\n",
      "43.98926978906432\n",
      "47.21208777515646\n",
      "46.249463169617016\n",
      "46.339328459337935\n",
      "43.12608973314516\n",
      "46.581984082132905\n"
     ]
    },
    {
     "name": "stderr",
     "output_type": "stream",
     "text": [
      " 24%|██▍       | 121/500 [00:03<00:09, 38.75it/s]"
     ]
    },
    {
     "name": "stdout",
     "output_type": "stream",
     "text": [
      "47.53740717755799\n",
      "46.58978287389182\n",
      "43.73111897389059\n",
      "46.74566200632772\n",
      "47.48969290675288\n",
      "46.80235256699101\n",
      "46.073248019283135\n",
      "43.49072733294832\n",
      "38.397587293489984\n"
     ]
    },
    {
     "name": "stderr",
     "output_type": "stream",
     "text": [
      " 26%|██▌       | 131/500 [00:03<00:09, 39.69it/s]"
     ]
    },
    {
     "name": "stdout",
     "output_type": "stream",
     "text": [
      "47.12177879049958\n",
      "44.5732405855417\n",
      "44.82829691295697\n",
      "38.41266154451926\n",
      "46.7952875783954\n",
      "46.71795951481355\n",
      "44.82400217351278\n",
      "36.63116949269009\n",
      "47.38110141537598\n"
     ]
    },
    {
     "name": "stderr",
     "output_type": "stream",
     "text": [
      " 28%|██▊       | 141/500 [00:03<00:08, 40.45it/s]"
     ]
    },
    {
     "name": "stdout",
     "output_type": "stream",
     "text": [
      "47.34710755720582\n",
      "46.43645214313936\n",
      "47.41543657734303\n",
      "44.94642784545693\n",
      "40.53640735547227\n",
      "44.23266490341922\n",
      "47.63673227084935\n",
      "43.049774204160734\n",
      "45.5629874661406\n"
     ]
    },
    {
     "name": "stderr",
     "output_type": "stream",
     "text": [
      " 30%|███       | 150/500 [00:04<00:09, 38.55it/s]"
     ]
    },
    {
     "name": "stdout",
     "output_type": "stream",
     "text": [
      "44.766543679306494\n",
      "40.25124234477476\n",
      "42.429710531162335\n",
      "47.424026056231405\n",
      "47.29770952100272\n",
      "47.482337809929916\n",
      "47.15881025246206\n",
      "43.177114650780084\n"
     ]
    },
    {
     "name": "stderr",
     "output_type": "stream",
     "text": [
      " 32%|███▏      | 158/500 [00:04<00:08, 38.38it/s]"
     ]
    },
    {
     "name": "stdout",
     "output_type": "stream",
     "text": [
      "47.02234561767254\n",
      "47.48930609578307\n",
      "45.38441163121157\n",
      "45.590963000692284\n",
      "47.513373701860374\n",
      "45.528481652275104\n",
      "45.35205034286986\n",
      "39.603368100726506\n"
     ]
    },
    {
     "name": "stderr",
     "output_type": "stream",
     "text": [
      " 33%|███▎      | 167/500 [00:04<00:08, 38.75it/s]"
     ]
    },
    {
     "name": "stdout",
     "output_type": "stream",
     "text": [
      "47.377421022766185\n",
      "47.60782952764945\n",
      "47.223214278935046\n",
      "44.55055525984179\n",
      "47.478759808459195\n",
      "43.48002177051922\n",
      "39.67686218498997\n",
      "47.183156589973485\n"
     ]
    },
    {
     "name": "stderr",
     "output_type": "stream",
     "text": [
      " 34%|███▍      | 171/500 [00:04<00:08, 39.06it/s]"
     ]
    },
    {
     "name": "stdout",
     "output_type": "stream",
     "text": [
      "47.27019474657684\n",
      "46.87111390527095\n",
      "47.19411244185363\n",
      "38.70664925836636\n",
      "47.283312189170616\n",
      "46.17105431067834\n",
      "44.982327316493055\n"
     ]
    },
    {
     "name": "stderr",
     "output_type": "stream",
     "text": [
      " 36%|███▌      | 179/500 [00:04<00:09, 35.26it/s]"
     ]
    },
    {
     "name": "stdout",
     "output_type": "stream",
     "text": [
      "47.565416842489356\n",
      "46.06925476485954\n",
      "47.499044630787644\n",
      "45.89140135630059\n",
      "46.92410131973799\n",
      "47.376664466016415\n",
      "47.418502623118414\n",
      "47.48534128334254\n",
      "43.02574641685974\n"
     ]
    },
    {
     "name": "stderr",
     "output_type": "stream",
     "text": [
      " 38%|███▊      | 188/500 [00:05<00:08, 37.38it/s]"
     ]
    },
    {
     "name": "stdout",
     "output_type": "stream",
     "text": [
      "47.072255609570966\n",
      "44.52053190250878\n",
      "43.46267784924064\n",
      "47.589911078312774\n",
      "47.1597090191272\n",
      "45.469020842460395\n",
      "46.777955033910054\n",
      "41.51608577406295\n",
      "47.377910224875066\n"
     ]
    },
    {
     "name": "stderr",
     "output_type": "stream",
     "text": [
      " 39%|███▉      | 197/500 [00:05<00:07, 38.96it/s]"
     ]
    },
    {
     "name": "stdout",
     "output_type": "stream",
     "text": [
      "45.090526308503534\n",
      "42.63142676352045\n",
      "41.281217566233664\n",
      "44.51566263500649\n",
      "42.161934948916326\n",
      "46.63105219133234\n",
      "47.05082173112633\n",
      "46.76036082318041\n",
      "42.49399510130641\n"
     ]
    },
    {
     "name": "stderr",
     "output_type": "stream",
     "text": [
      " 41%|████▏     | 207/500 [00:05<00:07, 40.12it/s]"
     ]
    },
    {
     "name": "stdout",
     "output_type": "stream",
     "text": [
      "44.11596175846959\n",
      "42.205593392935064\n",
      "44.8985144807703\n",
      "46.12254366434716\n",
      "44.50220388861583\n",
      "43.58317515473236\n",
      "45.399514324223915\n",
      "37.37173047118021\n",
      "42.30758634423878\n"
     ]
    },
    {
     "name": "stderr",
     "output_type": "stream",
     "text": [
      " 43%|████▎     | 217/500 [00:05<00:06, 40.84it/s]"
     ]
    },
    {
     "name": "stdout",
     "output_type": "stream",
     "text": [
      "46.09189458338651\n",
      "45.89124208119537\n",
      "45.750812633965324\n",
      "44.749717402119856\n",
      "46.16127026850086\n",
      "39.191255142776065\n",
      "45.58418243192742\n",
      "46.78155578896723\n",
      "44.170086852259594\n"
     ]
    },
    {
     "name": "stderr",
     "output_type": "stream",
     "text": [
      " 45%|████▌     | 227/500 [00:06<00:06, 41.16it/s]"
     ]
    },
    {
     "name": "stdout",
     "output_type": "stream",
     "text": [
      "46.357696292007184\n",
      "45.64583327443883\n",
      "46.60320748990279\n",
      "44.3648518639544\n",
      "45.170522230097745\n",
      "46.87919142846399\n",
      "40.507447728306225\n",
      "44.83173270451232\n",
      "42.22545727391401\n"
     ]
    },
    {
     "name": "stderr",
     "output_type": "stream",
     "text": [
      " 46%|████▋     | 232/500 [00:06<00:06, 39.89it/s]"
     ]
    },
    {
     "name": "stdout",
     "output_type": "stream",
     "text": [
      "37.05236113163778\n",
      "46.06559143743959\n",
      "47.47891908356441\n",
      "44.29562976554866\n",
      "39.59361250053209\n",
      "26.172597244615254\n",
      "47.135362681615774\n",
      "45.55570631847363\n",
      "45.52588774341874\n"
     ]
    },
    {
     "name": "stderr",
     "output_type": "stream",
     "text": [
      " 48%|████▊     | 242/500 [00:06<00:06, 40.21it/s]"
     ]
    },
    {
     "name": "stdout",
     "output_type": "stream",
     "text": [
      "41.82137633198369\n",
      "44.614071896442866\n",
      "47.37344483353243\n",
      "44.72884098654347\n",
      "36.6632634263909\n",
      "45.94954814649727\n",
      "47.10985591119493\n",
      "46.43162838281\n",
      "47.1706876245938\n"
     ]
    },
    {
     "name": "stderr",
     "output_type": "stream",
     "text": [
      " 50%|█████     | 252/500 [00:06<00:06, 40.07it/s]"
     ]
    },
    {
     "name": "stdout",
     "output_type": "stream",
     "text": [
      "46.58411723086346\n",
      "43.44813261909655\n",
      "44.38533009176775\n",
      "46.9549267409937\n",
      "41.73446900850249\n",
      "38.10796826824307\n",
      "44.12791876815393\n",
      "45.62904112763188\n",
      "46.76483190291966\n"
     ]
    },
    {
     "name": "stderr",
     "output_type": "stream",
     "text": [
      " 52%|█████▏    | 261/500 [00:06<00:06, 39.34it/s]"
     ]
    },
    {
     "name": "stdout",
     "output_type": "stream",
     "text": [
      "44.914641085173315\n",
      "45.38370058163472\n",
      "45.148286287730414\n",
      "36.58409232230584\n",
      "47.41415099970808\n",
      "43.71933261610468\n",
      "45.976363248139535\n",
      "47.194544759996354\n"
     ]
    },
    {
     "name": "stderr",
     "output_type": "stream",
     "text": [
      " 54%|█████▍    | 270/500 [00:07<00:05, 40.02it/s]"
     ]
    },
    {
     "name": "stdout",
     "output_type": "stream",
     "text": [
      "46.66479576005145\n",
      "45.687466649262696\n",
      "45.52047238984144\n",
      "47.400373703106986\n",
      "42.364805925787245\n",
      "44.97610421059644\n",
      "46.73149789875682\n",
      "42.46516630726251\n",
      "46.30894104462157\n"
     ]
    },
    {
     "name": "stderr",
     "output_type": "stream",
     "text": [
      " 56%|█████▌    | 279/500 [00:07<00:05, 39.43it/s]"
     ]
    },
    {
     "name": "stdout",
     "output_type": "stream",
     "text": [
      "44.80110637713813\n",
      "47.287595551821575\n",
      "46.156412377791796\n",
      "46.25646558584986\n",
      "23.42816203703621\n",
      "45.90271557716746\n",
      "46.657275699726654\n",
      "46.325949350499876\n",
      "47.132108918752095\n"
     ]
    },
    {
     "name": "stderr",
     "output_type": "stream",
     "text": [
      " 58%|█████▊    | 288/500 [00:07<00:05, 39.37it/s]"
     ]
    },
    {
     "name": "stdout",
     "output_type": "stream",
     "text": [
      "46.64488637189958\n",
      "47.214442771354996\n",
      "46.57014084038085\n",
      "47.39399132210516\n",
      "44.36019875552348\n",
      "30.169003039943153\n",
      "46.42378977227477\n",
      "47.5845867390813\n"
     ]
    },
    {
     "name": "stderr",
     "output_type": "stream",
     "text": [
      " 59%|█████▉    | 297/500 [00:07<00:05, 39.62it/s]"
     ]
    },
    {
     "name": "stdout",
     "output_type": "stream",
     "text": [
      "43.45742177076855\n",
      "46.1697687330434\n",
      "45.20994281863844\n",
      "41.98341599795344\n",
      "47.341453290970684\n",
      "46.62576767087717\n",
      "47.169618206030215\n",
      "47.14594309931934\n",
      "45.43622723597596\n"
     ]
    },
    {
     "name": "stderr",
     "output_type": "stream",
     "text": [
      " 61%|██████    | 305/500 [00:08<00:05, 38.79it/s]"
     ]
    },
    {
     "name": "stdout",
     "output_type": "stream",
     "text": [
      "43.30035945183676\n",
      "47.40428731997798\n",
      "46.70184997560038\n",
      "45.81359546740309\n",
      "46.69731063510176\n",
      "46.6747959613003\n",
      "46.34197925216044\n",
      "44.05571026152542\n"
     ]
    },
    {
     "name": "stderr",
     "output_type": "stream",
     "text": [
      " 62%|██████▏   | 309/500 [00:08<00:04, 38.59it/s]"
     ]
    },
    {
     "name": "stdout",
     "output_type": "stream",
     "text": [
      "42.98994364856606\n",
      "44.90112545481651\n",
      "44.85209147599676\n",
      "41.74186961249836\n",
      "45.39953138941376\n",
      "44.79592993621865\n"
     ]
    },
    {
     "name": "stderr",
     "output_type": "stream",
     "text": [
      " 63%|██████▎   | 317/500 [00:08<00:05, 34.40it/s]"
     ]
    },
    {
     "name": "stdout",
     "output_type": "stream",
     "text": [
      "43.311690737893485\n",
      "38.42018160484405\n",
      "44.38164401076134\n",
      "43.876116203602336\n",
      "47.382307355458316\n",
      "45.41572625457615\n",
      "44.78712429825891\n",
      "42.02388893986789\n"
     ]
    },
    {
     "name": "stderr",
     "output_type": "stream",
     "text": [
      " 65%|██████▌   | 326/500 [00:08<00:04, 37.31it/s]"
     ]
    },
    {
     "name": "stdout",
     "output_type": "stream",
     "text": [
      "45.537298667028075\n",
      "45.06280675179952\n",
      "46.13306719808458\n",
      "46.458210260191045\n",
      "45.870450991568205\n",
      "46.038082351410324\n",
      "47.46287211671401\n",
      "43.5534020868504\n",
      "46.77653293475635\n"
     ]
    },
    {
     "name": "stderr",
     "output_type": "stream",
     "text": [
      " 67%|██████▋   | 334/500 [00:08<00:04, 37.57it/s]"
     ]
    },
    {
     "name": "stdout",
     "output_type": "stream",
     "text": [
      "46.92235498197724\n",
      "45.978138027883354\n",
      "47.55298200748936\n",
      "32.871526141264205\n",
      "44.06470930497006\n",
      "47.4980662265699\n",
      "25.848517912675756\n",
      "38.712178379875965\n"
     ]
    },
    {
     "name": "stderr",
     "output_type": "stream",
     "text": [
      " 68%|██████▊   | 342/500 [00:09<00:04, 36.61it/s]"
     ]
    },
    {
     "name": "stdout",
     "output_type": "stream",
     "text": [
      "41.24300860617192\n",
      "43.51418628058783\n",
      "45.358785404461806\n",
      "45.540785654152955\n",
      "43.93856911003644\n",
      "45.645941353974514\n",
      "44.71309550471365\n",
      "37.9350580763424\n"
     ]
    },
    {
     "name": "stderr",
     "output_type": "stream",
     "text": [
      " 70%|███████   | 350/500 [00:09<00:04, 36.71it/s]"
     ]
    },
    {
     "name": "stdout",
     "output_type": "stream",
     "text": [
      "47.39235306388009\n",
      "45.48214397345078\n",
      "47.344877705732806\n",
      "46.72417693231355\n",
      "42.55243768812707\n",
      "46.65686613517039\n",
      "40.64834362405869\n",
      "45.82315197371598\n"
     ]
    },
    {
     "name": "stderr",
     "output_type": "stream",
     "text": [
      " 72%|███████▏  | 359/500 [00:09<00:03, 38.58it/s]"
     ]
    },
    {
     "name": "stdout",
     "output_type": "stream",
     "text": [
      "46.3520989097382\n",
      "38.44779308201238\n",
      "46.07314562814407\n",
      "46.61095508609218\n",
      "41.11062255175523\n",
      "47.00299369238893\n",
      "46.95898825617668\n",
      "44.85539643442997\n",
      "46.56373570579256\n"
     ]
    },
    {
     "name": "stderr",
     "output_type": "stream",
     "text": [
      " 74%|███████▎  | 368/500 [00:09<00:03, 39.56it/s]"
     ]
    },
    {
     "name": "stdout",
     "output_type": "stream",
     "text": [
      "47.17374229357596\n",
      "40.805479892146465\n",
      "39.15943425211276\n",
      "45.332743924759164\n",
      "45.32468915515258\n",
      "30.79403268318629\n",
      "32.09147062507739\n",
      "43.26701407088069\n",
      "43.84981305765541\n"
     ]
    },
    {
     "name": "stderr",
     "output_type": "stream",
     "text": [
      " 75%|███████▌  | 377/500 [00:10<00:03, 39.53it/s]"
     ]
    },
    {
     "name": "stdout",
     "output_type": "stream",
     "text": [
      "44.93816829357221\n",
      "47.21460204646021\n",
      "45.98868431520723\n",
      "46.536886473770615\n",
      "42.10970977959567\n",
      "44.96646806673094\n",
      "47.352375012471136\n",
      "47.23834541393047\n",
      "43.338528593122206\n"
     ]
    },
    {
     "name": "stderr",
     "output_type": "stream",
     "text": [
      " 77%|███████▋  | 387/500 [00:10<00:02, 40.59it/s]"
     ]
    },
    {
     "name": "stdout",
     "output_type": "stream",
     "text": [
      "44.14609319533828\n",
      "46.7613164738117\n",
      "45.48798026837759\n",
      "46.944676250293796\n",
      "47.10672729305677\n",
      "46.83498120997361\n",
      "47.31730035894416\n",
      "42.71356152224183\n",
      "46.31047691170757\n"
     ]
    },
    {
     "name": "stderr",
     "output_type": "stream",
     "text": [
      " 79%|███████▉  | 397/500 [00:10<00:02, 40.53it/s]"
     ]
    },
    {
     "name": "stdout",
     "output_type": "stream",
     "text": [
      "30.86250391323887\n",
      "46.839600188024846\n",
      "46.871284557169396\n",
      "46.262751264109234\n",
      "46.167015549081825\n",
      "46.29043100203695\n",
      "46.811459689971336\n",
      "47.360714201908465\n",
      "43.18320692355456\n"
     ]
    },
    {
     "name": "stderr",
     "output_type": "stream",
     "text": [
      " 80%|████████  | 402/500 [00:10<00:02, 40.46it/s]"
     ]
    },
    {
     "name": "stdout",
     "output_type": "stream",
     "text": [
      "45.881640067709554\n",
      "43.1620347113542\n",
      "42.45950635263076\n",
      "44.525674213048575\n",
      "46.99418805442919\n",
      "45.763116635843176\n",
      "45.677176339786485\n",
      "44.05685931764161\n",
      "45.55996692753813\n"
     ]
    },
    {
     "name": "stderr",
     "output_type": "stream",
     "text": [
      " 82%|████████▏ | 412/500 [00:10<00:02, 40.87it/s]"
     ]
    },
    {
     "name": "stdout",
     "output_type": "stream",
     "text": [
      "46.25025954514309\n",
      "46.58970323633921\n",
      "47.35579942723326\n",
      "44.177510209841934\n",
      "46.161804977782644\n",
      "47.44176247687641\n",
      "47.04629945581755\n",
      "47.10204005424616\n",
      "46.97831173947722\n"
     ]
    },
    {
     "name": "stderr",
     "output_type": "stream",
     "text": [
      " 84%|████████▍ | 422/500 [00:11<00:01, 41.32it/s]"
     ]
    },
    {
     "name": "stdout",
     "output_type": "stream",
     "text": [
      "45.83299858825624\n",
      "29.886676539156433\n",
      "43.389530757170675\n",
      "44.94918671781512\n",
      "45.741642938622235\n",
      "46.295226320383236\n",
      "47.28813026110337\n",
      "45.2235153329614\n"
     ]
    },
    {
     "name": "stderr",
     "output_type": "stream",
     "text": [
      " 86%|████████▌ | 431/500 [00:11<00:01, 36.18it/s]"
     ]
    },
    {
     "name": "stdout",
     "output_type": "stream",
     "text": [
      "45.175670229034154\n",
      "39.103488871406014\n",
      "47.01804518983174\n",
      "39.38169128464699\n",
      "47.5092382375214\n",
      "43.4045481242338\n",
      "46.288639157103276\n",
      "45.25773672699616\n"
     ]
    },
    {
     "name": "stderr",
     "output_type": "stream",
     "text": [
      " 88%|████████▊ | 440/500 [00:11<00:01, 38.22it/s]"
     ]
    },
    {
     "name": "stdout",
     "output_type": "stream",
     "text": [
      "47.04375674253072\n",
      "45.09148764753144\n",
      "45.46884450216533\n",
      "47.14729693771367\n",
      "37.24336042477358\n",
      "46.527876053532744\n",
      "45.83791336293144\n",
      "47.110043628283215\n",
      "46.56917381295633\n"
     ]
    },
    {
     "name": "stderr",
     "output_type": "stream",
     "text": [
      " 90%|████████▉ | 448/500 [00:11<00:01, 38.23it/s]"
     ]
    },
    {
     "name": "stdout",
     "output_type": "stream",
     "text": [
      "44.097252622003445\n",
      "44.511936735223784\n",
      "42.546049618728624\n",
      "46.62149568501944\n",
      "45.933091615090596\n",
      "47.55619595157673\n",
      "47.404219059218605\n",
      "47.0686207241341\n"
     ]
    },
    {
     "name": "stderr",
     "output_type": "stream",
     "text": [
      " 91%|█████████ | 456/500 [00:12<00:01, 38.36it/s]"
     ]
    },
    {
     "name": "stdout",
     "output_type": "stream",
     "text": [
      "46.290339987691105\n",
      "47.332613522631256\n",
      "47.5782896840287\n",
      "46.89670031324441\n",
      "47.41611349654019\n",
      "47.01930801388023\n",
      "44.89040282719757\n",
      "46.19198761022088\n",
      "47.11557843818943\n"
     ]
    },
    {
     "name": "stderr",
     "output_type": "stream",
     "text": [
      " 93%|█████████▎| 465/500 [00:12<00:00, 38.77it/s]"
     ]
    },
    {
     "name": "stdout",
     "output_type": "stream",
     "text": [
      "43.54633709825479\n",
      "46.988101470051326\n",
      "45.26688366875278\n",
      "37.45697678284989\n",
      "40.75253798485234\n",
      "47.1730653743788\n",
      "40.792425021915456\n",
      "32.36298917229596\n"
     ]
    },
    {
     "name": "stderr",
     "output_type": "stream",
     "text": [
      " 95%|█████████▍| 473/500 [00:12<00:00, 38.74it/s]"
     ]
    },
    {
     "name": "stdout",
     "output_type": "stream",
     "text": [
      "46.800577787247185\n",
      "43.02686134259624\n",
      "45.84161650912769\n",
      "39.31385146661865\n",
      "46.968920196666154\n",
      "45.52624042400886\n",
      "46.94415291780523\n",
      "45.15053889278988\n",
      "46.33183684099622\n"
     ]
    },
    {
     "name": "stderr",
     "output_type": "stream",
     "text": [
      " 96%|█████████▋| 482/500 [00:12<00:00, 39.21it/s]"
     ]
    },
    {
     "name": "stdout",
     "output_type": "stream",
     "text": [
      "46.816334645870235\n",
      "40.947513467221896\n",
      "46.03278076576531\n",
      "38.90130050212887\n",
      "45.34520151334562\n",
      "43.645997806946426\n",
      "8.654229907043934\n",
      "39.58209349738708\n",
      "43.732461435491686\n"
     ]
    },
    {
     "name": "stderr",
     "output_type": "stream",
     "text": [
      " 98%|█████████▊| 491/500 [00:12<00:00, 39.50it/s]"
     ]
    },
    {
     "name": "stdout",
     "output_type": "stream",
     "text": [
      "47.075065677498685\n",
      "45.08269338636493\n",
      "45.5037996993634\n",
      "47.101630489689896\n",
      "45.46026071167357\n",
      "46.15120749488924\n",
      "45.19612001486443\n",
      "47.32607186652422\n",
      "40.17869253434935\n"
     ]
    },
    {
     "name": "stderr",
     "output_type": "stream",
     "text": [
      "100%|██████████| 500/500 [00:13<00:00, 37.98it/s]"
     ]
    },
    {
     "name": "stdout",
     "output_type": "stream",
     "text": [
      "46.892752565993725\n",
      "45.208059959358934\n",
      "46.76565672042881\n",
      "46.143590731821995\n",
      "47.24601906096386\n",
      "47.39095371831284\n",
      "45.43613053323351\n",
      "[(np.float64(0.0), np.int64(0)), (-0.34, np.int64(2)), (-0.34, np.int64(1)), (0.0, np.int64(2)), (-0.34, np.int64(2)), (0.0, np.int64(2)), (0.0, np.int64(0)), (0.0, np.int64(0)), (-0.34, np.int64(0)), (-0.34, np.int64(0)), (0.0, np.int64(0)), (-0.34, np.int64(1)), (0.0, np.int64(0)), (-0.34, np.int64(2)), (-0.34, np.int64(2)), (0.0, np.int64(0)), (-0.34, np.int64(1)), (0.0, np.int64(1)), (-0.34, np.int64(1)), (0.0, np.int64(1)), (-0.34, np.int64(0)), (-0.34, np.int64(1)), (0.0, np.int64(-1)), (-0.34, np.int64(1)), (-0.34, np.int64(1)), (-0.34, np.int64(0)), (-0.34, np.int64(0)), (-0.34, np.int64(-2)), (-0.34, np.int64(1)), (0.0, np.int64(-1)), (-0.34, np.int64(0)), (0.0, np.int64(0)), (0.0, np.int64(-2)), (-0.34, np.int64(1)), (-0.34, np.int64(2)), (-0.34, np.int64(2)), (0.0, np.int64(3)), (-0.34, np.int64(2)), (-0.34, np.int64(1)), (-0.34, np.int64(0)), (0.0, np.int64(0)), (-0.34, np.int64(1)), (0.0, np.int64(1)), (-0.34, np.int64(1)), (-0.34, np.int64(0)), (0.0, np.int64(0)), (-0.34, np.int64(1)), (-0.34, np.int64(3)), (-0.34, np.int64(3)), (-0.34, np.int64(0)), (0.0, np.int64(1)), (0.0, np.int64(0)), (-0.34, np.int64(2)), (-0.34, np.int64(2)), (-0.34, np.int64(2)), (-0.34, np.int64(1)), (-0.34, 0), (0.0, 0), (np.float64(0.0), np.int64(1)), (-0.34, np.int64(4)), (0.0, np.int64(2)), (0.0, np.int64(2)), (-0.34, np.int64(0)), (-0.34, np.int64(1)), (0.0, np.int64(0)), (0.0, np.int64(0)), (-0.34, np.int64(2)), (-0.34, np.int64(2)), (0.0, np.int64(2)), (-0.34, np.int64(3)), (-0.34, np.int64(1)), (0.0, np.int64(0)), (0.0, np.int64(1)), (0.0, np.int64(0)), (0.0, np.int64(-1)), (0.0, np.int64(1)), (-0.34, np.int64(2)), (0.0, np.int64(1)), (0.0, np.int64(3)), (-0.34, np.int64(0)), (0.0, np.int64(2)), (-0.34, np.int64(2)), (-0.34, np.int64(2)), (0.0, np.int64(0)), (0.0, np.int64(1)), (-0.34, np.int64(0)), (0.0, np.int64(1)), (0.0, np.int64(2)), (0.0, np.int64(2)), (-0.34, np.int64(-1)), (-0.34, np.int64(1)), (-0.34, np.int64(1)), (-0.34, np.int64(2)), (0.0, np.int64(1)), (-0.34, np.int64(-1)), (-0.34, np.int64(1)), (-0.34, np.int64(0)), (-0.34, np.int64(0)), (0.0, np.int64(0)), (0.0, np.int64(0)), (-0.34, np.int64(-1)), (0.0, np.int64(0)), (0.0, np.int64(1)), (-0.34, np.int64(1)), (0.0, np.int64(1)), (-0.34, np.int64(0)), (-0.34, np.int64(1)), (0.0, np.int64(0)), (0.0, np.int64(0)), (-0.34, np.int64(1)), (0.0, np.int64(1)), (0.0, np.int64(1)), (0.0, np.int64(1)), (-0.34, np.int64(-1)), (-0.34, np.int64(0)), (-0.34, np.int64(1)), (0.0, np.int64(1)), (-0.34, np.int64(1)), (0.0, np.int64(0)), (-0.34, np.int64(1)), (-0.34, np.int64(1)), (0.0, np.int64(1)), (-0.34, np.int64(1)), (0.0, np.int64(1)), (0.0, np.int64(0)), (0.0, np.int64(2)), (-0.34, np.int64(1)), (-0.34, np.int64(1)), (-0.34, np.int64(0)), (-0.34, np.int64(5)), (0.0, np.int64(4)), (0.0, np.int64(4)), (0.0, np.int64(2)), (-0.34, np.int64(2)), (0.0, np.int64(0)), (-0.34, np.float64(1.0)), (-0.34, 0), (0.0, 0), (np.float64(0.0), np.int64(-1)), (-0.34, np.int64(1)), (0.0, np.int64(2)), (-0.34, np.int64(1)), (-0.34, np.int64(1)), (0.0, np.int64(1)), (0.0, np.int64(1)), (-0.34, np.int64(3)), (0.0, np.int64(2)), (0.0, np.int64(1)), (0.0, np.int64(1)), (0.0, np.int64(1)), (-0.34, np.int64(2)), (0.0, np.int64(1)), (0.0, np.int64(0)), (0.0, np.int64(1)), (-0.34, np.int64(0)), (-0.34, np.int64(0)), (0.0, np.int64(1)), (-0.34, np.int64(-1)), (0.0, np.int64(1)), (-0.34, np.int64(2)), (-0.34, np.int64(2)), (0.0, np.int64(1)), (-0.34, np.int64(2)), (-0.34, np.int64(2)), (0.0, np.int64(1)), (0.0, np.int64(2)), (-0.34, np.int64(3)), (-0.34, np.int64(2)), (-0.34, np.int64(2)), (0.0, np.int64(2)), (0.0, np.int64(3)), (0.0, np.int64(2)), (-0.34, np.int64(1)), (-0.34, np.int64(1)), (0.0, np.int64(0)), (-0.34, np.int64(0)), (-0.34, np.int64(0)), (-0.34, np.int64(0)), (0.0, np.int64(1)), (-0.34, np.int64(1)), (-0.34, np.int64(0)), (0.0, np.int64(-1)), (0.0, np.int64(0)), (-0.34, np.int64(-1)), (-0.34, np.int64(0)), (-0.34, np.int64(0)), (-0.34, np.int64(0)), (0.0, np.int64(0)), (-0.34, np.int64(1)), (-0.34, np.int64(2)), (-0.34, np.int64(-1)), (-0.34, np.int64(0)), (-0.34, np.int64(2)), (0.0, np.int64(2)), (-0.34, np.int64(1)), (-0.34, np.int64(1)), (-0.34, np.int64(1)), (0.0, np.int64(1)), (-0.34, np.int64(0)), (-0.34, np.int64(0)), (0.0, np.int64(0)), (-0.34, np.int64(-1)), (0.0, np.int64(-1)), (-0.34, np.int64(0)), (-0.34, np.int64(1)), (0.0, np.int64(1)), (0.0, np.int64(1)), (0.0, np.int64(1)), (0.0, np.int64(1)), (-0.34, np.int64(0)), (-0.34, np.int64(0)), (-0.34, np.int64(0)), (0.0, np.int64(0)), (0.0, np.int64(1)), (-0.34, np.int64(1)), (0.0, np.int64(2)), (-0.34, np.int64(1)), (0.0, np.int64(0)), (-0.34, np.int64(0)), (-0.34, np.float64(1.0)), (0.0, np.float64(1.0)), (-0.34, 0), (0.0, 0), (np.float64(-0.34), np.int64(0)), (0.0, np.int64(1)), (0.0, np.int64(0)), (0.0, np.int64(0)), (0.0, np.int64(0)), (0.0, np.int64(0)), (np.float64(0.0), np.int64(0)), (0.0, np.int64(2)), (-0.34, np.int64(1)), (0.0, np.int64(-1)), (-0.34, np.int64(0)), (-0.34, np.int64(2)), (-0.34, np.int64(1)), (0.0, np.int64(1)), (0.0, np.int64(-1)), (-0.34, np.int64(0)), (0.0, np.int64(1)), (-0.34, np.int64(1)), (0.0, np.int64(0)), (-0.34, np.int64(2)), (0.0, np.int64(3)), (-0.34, np.int64(3)), (0.0, np.int64(3)), (0.0, np.int64(0)), (-0.34, np.int64(1)), (0.0, np.int64(0)), (0.0, np.int64(0)), (-0.34, np.int64(0)), (0.0, np.float64(1.0)), (0.0, np.int64(0)), (0.0, np.int64(1)), (-0.34, np.int64(0)), (0.0, np.int64(0)), (0.0, np.int64(-2)), (-0.34, np.int64(-1)), (0.0, np.int64(-2)), (-0.34, np.int64(2)), (0.0, np.int64(0)), (-0.34, np.int64(1)), (-0.34, np.int64(1)), (-0.34, np.int64(-1)), (0.0, np.int64(-1)), (0.0, np.int64(2)), (0.0, np.int64(-1)), (-0.34, np.int64(-1)), (0.0, np.int64(0)), (-0.34, np.int64(1)), (-0.34, np.int64(1)), (0.0, np.int64(1)), (0.0, np.int64(1)), (-0.34, np.int64(0)), (0.0, np.int64(0)), (-0.34, np.int64(-1)), (-0.34, np.float64(1.0)), (-0.34, np.int64(-1)), (-0.34, np.int64(-1)), (-0.34, np.int64(-1)), (0.0, np.int64(1)), (-0.34, np.int64(1)), (-0.34, np.int64(2)), (0.0, np.int64(1)), (-0.34, np.int64(-1)), (-0.34, np.int64(0)), (0.0, np.float64(1.0)), (0.0, np.int64(0)), (0.0, np.int64(0)), (-0.34, np.int64(-2)), (0.0, np.int64(1)), (-0.34, np.int64(1)), (-0.34, np.int64(1)), (-0.34, np.int64(1)), (-0.34, np.int64(2)), (0.0, np.int64(2)), (-0.34, np.int64(1)), (0.0, np.float64(0.0)), (0.0, 0), (np.float64(-0.34), np.int64(-1)), (-0.34, np.int64(0)), (0.0, np.int64(0)), (0.0, np.int64(-1)), (0.0, np.int64(-1)), (-0.34, np.int64(1)), (0.0, np.int64(0)), (-0.34, np.int64(0)), (0.0, np.int64(0)), (0.0, np.int64(3)), (0.0, np.int64(2)), (-0.34, np.int64(3)), (0.0, np.int64(2)), (-0.34, np.int64(1)), (-0.34, np.int64(0)), (0.0, np.int64(0)), (-0.34, np.int64(0)), (-0.34, np.int64(2)), (-0.34, np.int64(2)), (-0.34, np.int64(2)), (-0.34, np.int64(1)), (0.0, np.int64(0)), (0.0, np.int64(0)), (-0.34, np.int64(-1)), (0.0, np.int64(-3)), (0.0, np.int64(-3)), (-0.34, np.int64(-1)), (-0.34, np.int64(1)), (-0.34, np.int64(0)), (-0.34, np.int64(1)), (0.0, np.int64(1)), (-0.68, np.int64(1)), (-0.34, np.int64(1)), (0.0, np.int64(0)), (-0.34, np.int64(0)), (0.0, np.int64(1)), (-0.34, np.int64(2)), (0.0, np.float64(0.0)), (-0.34, np.int64(1)), (0.0, np.int64(0)), (0.0, np.int64(1)), (-0.34, np.int64(-1)), (-0.34, np.int64(0)), (-0.34, np.int64(1)), (-0.34, np.int64(3)), (0.0, np.int64(1)), (-0.34, np.int64(1)), (-0.34, np.int64(1)), (-0.34, np.int64(0)), (0.0, np.int64(-1)), (0.0, np.int64(0)), (-0.34, np.int64(0)), (-0.34, np.int64(-1)), (-0.34, np.int64(0)), (0.0, np.int64(2)), (0.0, np.int64(1)), (0.0, np.int64(3)), (-0.34, np.int64(2)), (0.0, np.int64(2)), (-0.34, np.int64(1)), (0.0, np.int64(2)), (0.0, np.int64(0)), (-0.34, np.int64(0)), (-0.34, np.int64(-2)), (0.0, np.int64(2)), (0.0, np.int64(1)), (-0.34, np.int64(-1)), (-0.34, np.int64(0)), (0.0, np.int64(-3)), (0.0, np.int64(1)), (-0.34, np.int64(2)), (0.0, np.int64(3)), (0.0, np.int64(2)), (-0.34, np.int64(1)), (0.0, np.int64(1)), (-0.34, np.int64(1)), (-0.34, np.int64(0)), (0.0, np.int64(1)), (-0.34, np.int64(1)), (0.0, np.int64(1)), (-0.34, np.int64(1)), (0.0, np.float64(0.0)), (0.0, 0), (np.float64(0.0), np.int64(0)), (-0.34, np.int64(1)), (-0.34, np.int64(1)), (-0.34, np.int64(2)), (-0.34, np.int64(2)), (-0.34, np.int64(0)), (0.0, np.int64(3)), (0.0, np.float64(0.0)), (-0.34, np.int64(1)), (0.0, np.int64(0)), (-0.34, np.int64(0)), (0.0, np.int64(1)), (0.0, np.int64(2)), (-0.34, np.int64(1)), (-0.34, np.int64(1)), (-0.34, np.int64(3)), (0.0, np.int64(0)), (0.0, np.int64(1)), (-0.34, np.int64(1)), (-0.34, np.int64(1)), (-0.34, np.int64(0)), (-0.34, np.int64(1)), (0.0, np.int64(0)), (-0.34, np.int64(0)), (0.0, np.int64(-2)), (-0.34, np.int64(1)), (0.0, np.int64(-1)), (-0.34, np.int64(2)), (0.0, np.int64(1)), (0.0, np.int64(1)), (0.0, np.int64(2)), (0.0, np.int64(2)), (0.0, np.int64(1)), (-0.34, np.int64(0)), (0.0, np.int64(0)), (0.0, np.int64(0)), (0.0, np.int64(0)), (0.0, np.int64(0)), (-0.34, np.int64(2)), (0.0, np.int64(2)), (0.0, np.int64(3)), (0.0, np.int64(1)), (-0.34, np.int64(1)), (0.0, np.int64(0)), (0.0, np.int64(2)), (0.0, np.int64(1)), (0.0, np.int64(0)), (-0.34, np.int64(1)), (-0.34, np.int64(0)), (0.0, np.int64(-1)), (-0.34, np.int64(0)), (0.0, np.int64(-1)), (0.0, np.int64(0)), (-0.34, np.int64(1)), (0.0, np.float64(0.0)), (-0.34, np.int64(2)), (-0.34, np.int64(1)), (0.0, np.int64(1)), (-0.34, np.int64(0)), (-0.34, np.int64(2)), (0.0, np.int64(1)), (-0.34, np.int64(-1)), (0.0, np.int64(2)), (0.0, np.int64(0)), (-0.34, np.int64(0)), (-0.34, np.int64(-1)), (-0.34, np.int64(-1)), (0.0, np.int64(0)), (-0.34, np.int64(0)), (-0.34, np.int64(0)), (0.0, np.int64(0)), (-0.34, np.int64(0)), (0.0, np.int64(0)), (-0.34, np.float64(0.0)), (-0.34, 0), (0.0, 0), (np.float64(-0.34), np.int64(1)), (0.0, np.int64(1)), (-0.34, np.int64(1)), (0.0, np.int64(1)), (0.0, np.int64(2)), (np.float64(0.0), np.int64(-2)), (0.0, np.int64(-2)), (0.0, np.int64(-1)), (0.0, np.int64(-1)), (-0.34, np.int64(0)), (-0.34, np.int64(1)), (0.0, np.int64(0)), (-0.34, np.int64(1)), (-0.34, np.int64(1)), (0.0, np.int64(3)), (-0.34, np.int64(-1)), (-0.34, np.int64(1)), (-0.34, np.int64(2)), (-0.34, np.int64(0)), (0.0, np.int64(2)), (0.0, np.int64(2)), (-0.34, np.int64(1)), (0.0, np.int64(-1)), (-0.68, 0), (-0.34, np.int64(-1)), (-0.34, np.int64(0)), (0.0, np.int64(1)), (-0.34, np.int64(1)), (0.0, np.int64(1)), (-0.34, np.int64(2)), (-0.34, np.int64(2)), (-0.34, np.int64(2)), (-0.34, np.int64(3)), (-0.34, np.int64(1)), (0.0, np.int64(1)), (-0.34, np.int64(1)), (-0.34, np.int64(1)), (0.0, np.int64(1)), (-0.34, np.int64(1)), (-0.34, np.int64(3)), (0.0, np.int64(3)), (-0.34, np.int64(3))]\n"
     ]
    },
    {
     "name": "stderr",
     "output_type": "stream",
     "text": [
      "\n"
     ]
    }
   ],
   "source": [
    "N = 500\n",
    "\n",
    "eval_env = LookaheadEnv(orbit, requests, t0, t_end, agility_bangbang, field_of_regard, crosstrack_discretization, alongtrack_discretization, eval_analytic=True)\n",
    "analytic_rl_pairs = []\n",
    "state = eval_env.reset()[0]\n",
    "for i in tqdm(range(N)):\n",
    "    action, _ = model.predict(state)\n",
    "    print(action[0] * (np.rad2deg(eval_env.horizon_angle) - 22.5))\n",
    "    # pitch_deg = np.rad2deg(np.arcsin(action[1]))\n",
    "    # roll_deg = np.rad2deg(np.arcsin(action[1]))\n",
    "    # print(roll_deg)\n",
    "    state, reward, done, truncated, info = eval_env.step(action)\n",
    "    eval_env.reset()\n",
    "    analytic_rl_pairs.append((info[\"utility_analytic\"], reward))\n",
    "\n",
    "    if done:\n",
    "        state = eval_env.reset()\n",
    "\n",
    "print(analytic_rl_pairs)"
   ]
  },
  {
   "cell_type": "code",
   "execution_count": 17,
   "id": "d6b92ad3",
   "metadata": {},
   "outputs": [
    {
     "data": {
      "image/png": "[encoded data removed]",
      "text/plain": [
       "<Figure size 640x480 with 1 Axes>"
      ]
     },
     "metadata": {},
     "output_type": "display_data"
    }
   ],
   "source": [
    "analytic_utility = [x[0] for x in analytic_rl_pairs]\n",
    "\n",
    "rl_utility = [x[1] for x in analytic_rl_pairs]\n",
    "# Add line of best fit\n",
    "z = np.polyfit(analytic_utility, rl_utility, 1)\n",
    "p = np.poly1d(z)\n",
    "plt.plot(analytic_utility, p(analytic_utility), \"r--\", alpha=0.8, label=f\"y={z[0]:.3f}x+{z[1]:.3f}\")\n",
    "plt.legend()\n",
    "\n",
    "plt.scatter(analytic_utility, rl_utility)\n",
    "plt.xlabel(\"Analytic Utility\")\n",
    "plt.ylabel(\"RL Utility\")\n",
    "plt.title(\"RL vs. Analytic Utility\")\n",
    "plt.show()"
   ]
  },
  {
   "cell_type": "code",
   "execution_count": null,
   "id": "1ce1cd72",
   "metadata": {},
   "outputs": [
    {
     "ename": "BrokenPipeError",
     "evalue": "[Errno 32] Broken pipe",
     "output_type": "error",
     "traceback": [
      "\u001b[0;31m---------------------------------------------------------------------------\u001b[0m",
      "\u001b[0;31mBrokenPipeError\u001b[0m                           Traceback (most recent call last)",
      "Cell \u001b[0;32mIn[53], line 1\u001b[0m\n\u001b[0;32m----> 1\u001b[0m \u001b[43mtrain_env\u001b[49m\u001b[38;5;241;43m.\u001b[39;49m\u001b[43mstep\u001b[49m\u001b[43m(\u001b[49m\u001b[43mnp\u001b[49m\u001b[38;5;241;43m.\u001b[39;49m\u001b[43marray\u001b[49m\u001b[43m(\u001b[49m\u001b[43m[\u001b[49m\u001b[38;5;241;43m0\u001b[39;49m\u001b[43m]\u001b[49m\u001b[43m)\u001b[49m\u001b[43m)\u001b[49m;\n",
      "File \u001b[0;32m/Library/Frameworks/Python.framework/Versions/3.10/lib/python3.10/site-packages/stable_baselines3/common/vec_env/base_vec_env.py:221\u001b[0m, in \u001b[0;36mVecEnv.step\u001b[0;34m(self, actions)\u001b[0m\n\u001b[1;32m    214\u001b[0m \u001b[38;5;28;01mdef\u001b[39;00m\u001b[38;5;250m \u001b[39m\u001b[38;5;21mstep\u001b[39m(\u001b[38;5;28mself\u001b[39m, actions: np\u001b[38;5;241m.\u001b[39mndarray) \u001b[38;5;241m-\u001b[39m\u001b[38;5;241m>\u001b[39m VecEnvStepReturn:\n\u001b[1;32m    215\u001b[0m \u001b[38;5;250m    \u001b[39m\u001b[38;5;124;03m\"\"\"\u001b[39;00m\n\u001b[1;32m    216\u001b[0m \u001b[38;5;124;03m    Step the environments with the given action\u001b[39;00m\n\u001b[1;32m    217\u001b[0m \n\u001b[1;32m    218\u001b[0m \u001b[38;5;124;03m    :param actions: the action\u001b[39;00m\n\u001b[1;32m    219\u001b[0m \u001b[38;5;124;03m    :return: observation, reward, done, information\u001b[39;00m\n\u001b[1;32m    220\u001b[0m \u001b[38;5;124;03m    \"\"\"\u001b[39;00m\n\u001b[0;32m--> 221\u001b[0m     \u001b[38;5;28;43mself\u001b[39;49m\u001b[38;5;241;43m.\u001b[39;49m\u001b[43mstep_async\u001b[49m\u001b[43m(\u001b[49m\u001b[43mactions\u001b[49m\u001b[43m)\u001b[49m\n\u001b[1;32m    222\u001b[0m     \u001b[38;5;28;01mreturn\u001b[39;00m \u001b[38;5;28mself\u001b[39m\u001b[38;5;241m.\u001b[39mstep_wait()\n",
      "File \u001b[0;32m/Library/Frameworks/Python.framework/Versions/3.10/lib/python3.10/site-packages/stable_baselines3/common/vec_env/subproc_vec_env.py:133\u001b[0m, in \u001b[0;36mSubprocVecEnv.step_async\u001b[0;34m(self, actions)\u001b[0m\n\u001b[1;32m    131\u001b[0m \u001b[38;5;28;01mdef\u001b[39;00m\u001b[38;5;250m \u001b[39m\u001b[38;5;21mstep_async\u001b[39m(\u001b[38;5;28mself\u001b[39m, actions: np\u001b[38;5;241m.\u001b[39mndarray) \u001b[38;5;241m-\u001b[39m\u001b[38;5;241m>\u001b[39m \u001b[38;5;28;01mNone\u001b[39;00m:\n\u001b[1;32m    132\u001b[0m     \u001b[38;5;28;01mfor\u001b[39;00m remote, action \u001b[38;5;129;01min\u001b[39;00m \u001b[38;5;28mzip\u001b[39m(\u001b[38;5;28mself\u001b[39m\u001b[38;5;241m.\u001b[39mremotes, actions):\n\u001b[0;32m--> 133\u001b[0m         \u001b[43mremote\u001b[49m\u001b[38;5;241;43m.\u001b[39;49m\u001b[43msend\u001b[49m\u001b[43m(\u001b[49m\u001b[43m(\u001b[49m\u001b[38;5;124;43m\"\u001b[39;49m\u001b[38;5;124;43mstep\u001b[39;49m\u001b[38;5;124;43m\"\u001b[39;49m\u001b[43m,\u001b[49m\u001b[43m \u001b[49m\u001b[43maction\u001b[49m\u001b[43m)\u001b[49m\u001b[43m)\u001b[49m\n\u001b[1;32m    134\u001b[0m     \u001b[38;5;28mself\u001b[39m\u001b[38;5;241m.\u001b[39mwaiting \u001b[38;5;241m=\u001b[39m \u001b[38;5;28;01mTrue\u001b[39;00m\n",
      "File \u001b[0;32m/Library/Frameworks/Python.framework/Versions/3.10/lib/python3.10/multiprocessing/connection.py:206\u001b[0m, in \u001b[0;36m_ConnectionBase.send\u001b[0;34m(self, obj)\u001b[0m\n\u001b[1;32m    204\u001b[0m \u001b[38;5;28mself\u001b[39m\u001b[38;5;241m.\u001b[39m_check_closed()\n\u001b[1;32m    205\u001b[0m \u001b[38;5;28mself\u001b[39m\u001b[38;5;241m.\u001b[39m_check_writable()\n\u001b[0;32m--> 206\u001b[0m \u001b[38;5;28;43mself\u001b[39;49m\u001b[38;5;241;43m.\u001b[39;49m\u001b[43m_send_bytes\u001b[49m\u001b[43m(\u001b[49m\u001b[43m_ForkingPickler\u001b[49m\u001b[38;5;241;43m.\u001b[39;49m\u001b[43mdumps\u001b[49m\u001b[43m(\u001b[49m\u001b[43mobj\u001b[49m\u001b[43m)\u001b[49m\u001b[43m)\u001b[49m\n",
      "File \u001b[0;32m/Library/Frameworks/Python.framework/Versions/3.10/lib/python3.10/multiprocessing/connection.py:411\u001b[0m, in \u001b[0;36mConnection._send_bytes\u001b[0;34m(self, buf)\u001b[0m\n\u001b[1;32m    405\u001b[0m     \u001b[38;5;28mself\u001b[39m\u001b[38;5;241m.\u001b[39m_send(buf)\n\u001b[1;32m    406\u001b[0m \u001b[38;5;28;01melse\u001b[39;00m:\n\u001b[1;32m    407\u001b[0m     \u001b[38;5;66;03m# Issue #20540: concatenate before sending, to avoid delays due\u001b[39;00m\n\u001b[1;32m    408\u001b[0m     \u001b[38;5;66;03m# to Nagle's algorithm on a TCP socket.\u001b[39;00m\n\u001b[1;32m    409\u001b[0m     \u001b[38;5;66;03m# Also note we want to avoid sending a 0-length buffer separately,\u001b[39;00m\n\u001b[1;32m    410\u001b[0m     \u001b[38;5;66;03m# to avoid \"broken pipe\" errors if the other end closed the pipe.\u001b[39;00m\n\u001b[0;32m--> 411\u001b[0m     \u001b[38;5;28;43mself\u001b[39;49m\u001b[38;5;241;43m.\u001b[39;49m\u001b[43m_send\u001b[49m\u001b[43m(\u001b[49m\u001b[43mheader\u001b[49m\u001b[43m \u001b[49m\u001b[38;5;241;43m+\u001b[39;49m\u001b[43m \u001b[49m\u001b[43mbuf\u001b[49m\u001b[43m)\u001b[49m\n",
      "File \u001b[0;32m/Library/Frameworks/Python.framework/Versions/3.10/lib/python3.10/multiprocessing/connection.py:368\u001b[0m, in \u001b[0;36mConnection._send\u001b[0;34m(self, buf, write)\u001b[0m\n\u001b[1;32m    366\u001b[0m remaining \u001b[38;5;241m=\u001b[39m \u001b[38;5;28mlen\u001b[39m(buf)\n\u001b[1;32m    367\u001b[0m \u001b[38;5;28;01mwhile\u001b[39;00m \u001b[38;5;28;01mTrue\u001b[39;00m:\n\u001b[0;32m--> 368\u001b[0m     n \u001b[38;5;241m=\u001b[39m \u001b[43mwrite\u001b[49m\u001b[43m(\u001b[49m\u001b[38;5;28;43mself\u001b[39;49m\u001b[38;5;241;43m.\u001b[39;49m\u001b[43m_handle\u001b[49m\u001b[43m,\u001b[49m\u001b[43m \u001b[49m\u001b[43mbuf\u001b[49m\u001b[43m)\u001b[49m\n\u001b[1;32m    369\u001b[0m     remaining \u001b[38;5;241m-\u001b[39m\u001b[38;5;241m=\u001b[39m n\n\u001b[1;32m    370\u001b[0m     \u001b[38;5;28;01mif\u001b[39;00m remaining \u001b[38;5;241m==\u001b[39m \u001b[38;5;241m0\u001b[39m:\n",
      "\u001b[0;31mBrokenPipeError\u001b[0m: [Errno 32] Broken pipe"
     ]
    }
   ],
   "source": [
    "train_env.step(np.array([0]));"
   ]
  }
 ],
 "metadata": {
  "kernelspec": {
   "display_name": "Python 3",
   "language": "python",
   "name": "python3"
  },
  "language_info": {
   "codemirror_mode": {
    "name": "ipython",
    "version": 3
   },
   "file_extension": ".py",
   "mimetype": "text/x-python",
   "name": "python",
   "nbconvert_exporter": "python",
   "pygments_lexer": "ipython3",
   "version": "3.10.11"
  }
 },
 "nbformat": 4,
 "nbformat_minor": 5
}
