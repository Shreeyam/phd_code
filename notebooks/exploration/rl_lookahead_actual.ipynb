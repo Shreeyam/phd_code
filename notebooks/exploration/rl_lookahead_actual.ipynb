{
 "cells": [
  {
   "cell_type": "code",
   "execution_count": 29,
   "id": "43218058",
   "metadata": {},
   "outputs": [
    {
     "name": "stdout",
     "output_type": "stream",
     "text": [
      "The autoreload extension is already loaded. To reload it, use:\n",
      "  %reload_ext autoreload\n"
     ]
    }
   ],
   "source": [
    "import torch\n",
    "from stable_baselines3 import PPO, SAC\n",
    "from stable_baselines3.common.env_checker import check_env\n",
    "import numpy as np\n",
    "import gymnasium as gym\n",
    "from gymnasium import spaces\n",
    "from dynamic_tasker.access import *\n",
    "from dynamic_tasker.schedulers import *\n",
    "from dynamic_tasker.orbits import *\n",
    "from dynamic_tasker.cameras import *\n",
    "import matplotlib.pyplot as plt\n",
    "from stable_baselines3.common.vec_env import DummyVecEnv, VecNormalize, SubprocVecEnv\n",
    "from gymnasium.wrappers import RecordEpisodeStatistics \n",
    "import scipy.stats as st\n",
    "import datetime\n",
    "%load_ext autoreload\n",
    "%autoreload 2\n"
   ]
  },
  {
   "cell_type": "code",
   "execution_count": 9,
   "id": "7cb506b5",
   "metadata": {},
   "outputs": [],
   "source": [
    "class LookaheadEnv(gym.Env):\n",
    "\n",
    "    def __init__(self, orbit, requests, t_start, t_end, agility, field_of_regard, crosstrack_discretization, alongtrack_discretization, eval_analytic=False):\n",
    "        self.orbit = orbit\n",
    "        self.requests = requests\n",
    "        self.t_start = t_start\n",
    "        self.t_end = t_end\n",
    "        self.agility = agility\n",
    "        self.field_of_regard = field_of_regard\n",
    "        self.width = 800\n",
    "        self.height = 800\n",
    "        self.K = get_intrinsics_from_fov(45, self.width, self.height)\n",
    "        self.eval_analytic = eval_analytic\n",
    "        self.orbit_reset_count = 0\n",
    "        # Obtain the omniscient schedule\n",
    "        self.accesses = get_accesses(requests, orbit, 500, 45, t_start, t_end)\n",
    "        # Assign the states\n",
    "        for i in range(len(self.accesses)):\n",
    "            self.accesses[i].state = {\"observed\": False, \"cloudy\": np.random.rand() < 0.66}\n",
    "\n",
    "        # self.optimal_schedule = milp_schedule(self.orbit, self.requests, t_start, t_end)\n",
    "        self.schedule = milp_schedule(self.accesses, self.requests, self.agility)\n",
    "        # Calculate how many tasks in the schedule are not cloudy\n",
    "        self.base_advantage = np.sum([not a.state[\"cloudy\"] for a in self.schedule])\n",
    "        self.current_idx = 0\n",
    "        \n",
    "        # Try first discretizing in just time and angle...\n",
    "        self.crosstrack_discretization = crosstrack_discretization\n",
    "        self.alongtrack_discretization = alongtrack_discretization\n",
    "\n",
    "        # Figure out the number of states\n",
    "        self.crosstrack_states = int(np.floor(2 * self.field_of_regard) / (self.crosstrack_discretization))\n",
    "        # First figure out the horizon angle\n",
    "        self.horizon_angle = horizon_angle(self.orbit)\n",
    "        self.horizon_time = horizon_time(self.orbit)\n",
    "        self.alongtrack_states = int(np.floor(self.horizon_time/ (self.alongtrack_discretization)))\n",
    "\n",
    "\n",
    "        # total_observational_states = crosstrack_states * alongtrack_states\n",
    "\n",
    "        # Action space - 3d vector, \n",
    "        self.action_space = spaces.Box(low=-1, high=1, shape=(1,))\n",
    "        self.observation_space = spaces.Box(low=0.0, high=np.inf, shape=(2, self.alongtrack_states, self.crosstrack_states))\n",
    "\n",
    "\n",
    "    def step(self, action):\n",
    "        # Current time...\n",
    "        time = self.schedule[self.current_idx].time\n",
    "        orbit_new = propagate_orbit(self.orbit, time)\n",
    "        r , v = kepler2eci(orbit_new)\n",
    "        pos_ecef = eci2ecef(r, time)\n",
    "        \n",
    "        # Convert to ECI points\n",
    "        accesses_converted = [(latlong2ecef([a.lat, a.long]), a.angle, a.time, a, i) for i, a in enumerate(self.accesses)]\n",
    "        accesses_filtered = filter_accesses_horizon(orbit_new, time, accesses_converted, pos_ecef)\n",
    "        points = np.array([r for r, _, _, _, _ in accesses_filtered])\n",
    "\n",
    "        # Get pitch and roll from action\n",
    "        pitch_deg = action[0] * 90\n",
    "\n",
    "        # roll_deg = np.arcsin(action[2])\n",
    "        # For now roll_deg = 0\n",
    "        roll_deg = 0\n",
    "\n",
    "        # (Optional) Return equivalent analytic DT pairing\n",
    "        # Calculate analytic heuristic...\n",
    "        if(self.eval_analytic):\n",
    "            _, _, utility_analytic, _, _, _, _ = actual_advantage(pitch_deg, roll_deg, orbit_new, self.K, time, accesses_filtered, points, self.schedule)\n",
    "        # If the first action is 0, don't do anything\n",
    "        if pitch_deg <= 22.5 or len(accesses_filtered) == 0:\n",
    "                \n",
    "            self.current_idx = self.current_idx + 1\n",
    "            return self._get_obs(accesses_filtered, self.schedule,time), 0, False, True, {\"utility_analytic\": None if not self.eval_analytic else utility_analytic}\n",
    "\n",
    "\n",
    "        # Now project them into the camera frame\n",
    "        projected_accesses, in_box = project_in_box(pitch_deg, roll_deg, orbit_new, time, accesses_filtered, points, self.width, self.height, self.K)\n",
    "        # Mark the ones in box as observed\n",
    "        for i in in_box:\n",
    "            accesses_filtered[i][-2].state[\"observed\"] = True\n",
    "\n",
    "        # Calculate the total advantage\n",
    "        times = [a[-2].time for a in accesses_filtered]\n",
    "        max_time = np.max(times)\n",
    "        min_time = np.min(times)\n",
    "\n",
    "        # Get the slice of the schedule that is in the time range\n",
    "        schedule_slice = [a for a in self.schedule if a.time >= min_time and a.time <= max_time]\n",
    "        original_schedule_advantage = np.sum([not a.state[\"cloudy\"] for a in schedule_slice])\n",
    "        access_slice = [a for a in self.accesses if a.time >= min_time and a.time <= max_time and not (a.state[\"observed\"] and a.state[\"cloudy\"])]\n",
    "\n",
    "        new_schedule = milp_schedule(access_slice, self.requests, self.agility)\n",
    "        new_advantage = np.sum([not a.state[\"cloudy\"] for a in new_schedule])\n",
    "\n",
    "        # 22.5 deg boresight        \n",
    "        t_maneuver = (self.agility(pitch_deg - 22.5) * 2) - self.agility(0)\n",
    "        missed_opportunities = len([s for s in schedule_slice if not s.state[\"cloudy\"] and self.agility(s.angle) > t_maneuver])\n",
    "        reward = new_advantage - missed_opportunities - original_schedule_advantage - 0.001 * (t_maneuver)\n",
    "\n",
    "        # Move to the next schedule block\n",
    "        self.current_idx = self.current_idx + 1\n",
    "        \n",
    "        return self._get_obs(accesses_filtered, self.schedule, time), reward, False, True, {\"utility_analytic\": None if not self.eval_analytic else utility_analytic}\n",
    "    \n",
    "    def reset(self, seed=None, options=None):\n",
    "        # Only actually reset when current_idx is at the end\n",
    "        if self.current_idx >= (len(self.schedule) - 1):\n",
    "            self.orbit_reset_count = self.orbit_reset_count + 1\n",
    "\n",
    "            if(self.orbit_reset_count > 10):\n",
    "                self.requests = generate_requests(10000)\n",
    "                self.accesses = get_accesses(self.requests, self.orbit, 500, 45, self.t_start, self.t_end)\n",
    "                self.orbit_reset_count = 0\n",
    "\n",
    "            self.current_idx = 0\n",
    "            for a in self.accesses:\n",
    "                a.state = {\n",
    "                    \"observed\": False,\n",
    "                    \"cloudy\": np.random.rand() < 0.66\n",
    "                }\n",
    "                \n",
    "            self.schedule = milp_schedule(self.accesses, self.requests, self.agility)\n",
    "            \n",
    "        r , v = kepler2eci(self.orbit)\n",
    "        pos_ecef = eci2ecef(r, self.t_start)    \n",
    "        accesses_converted = [(latlong2ecef([a.lat, a.long]), a.angle, a.time, a, i) for i, a in enumerate(self.accesses)]\n",
    "        accesses_filtered = filter_accesses_horizon(self.orbit, self.t_start, accesses_converted, pos_ecef)\n",
    "\n",
    "        return self._get_obs(accesses_filtered, self.schedule, self.t_start), {}\n",
    "\n",
    "    def _get_obs(self, accesses, schedule, time):\n",
    "        # Source data\n",
    "        times = [(a[2] - time).total_seconds() for a in accesses if not a[-2].state[\"observed\"]]\n",
    "        angles = [a[1] for a in accesses if not a[-2].state[\"observed\"]]\n",
    "\n",
    "        schedule_times = [(a.time - time).total_seconds() for a in schedule]\n",
    "        schedule_angles = [a.angle for a in schedule]\n",
    "\n",
    "        # Convert to 2D histogram\n",
    "        hist_accesses = np.histogram2d(times, angles, bins=[self.alongtrack_states, self.crosstrack_states], range=[[0, self.horizon_time], [-self.field_of_regard, self.field_of_regard]])\n",
    "        hist_schedule = np.histogram2d(schedule_times, schedule_angles, bins=[self.alongtrack_states, self.crosstrack_states], range=[[0, self.horizon_time], [-self.field_of_regard, self.field_of_regard]])\n",
    "\n",
    "        return np.stack([hist_accesses[0].astype(np.float32), hist_schedule[0].astype(np.float32)])\n",
    "\n",
    "    def _get_reward(self):\n",
    "        pass\n",
    "\n",
    "    def close(self):    \n",
    "        pass"
   ]
  },
  {
   "cell_type": "code",
   "execution_count": 10,
   "id": "36df836d",
   "metadata": {},
   "outputs": [],
   "source": [
    "# Generate randomly spaced requests\n",
    "\n",
    "def generate_requests(N):\n",
    "    \"\"\"\n",
    "    Generate N Request objects with lat/long\n",
    "    sampled uniformly over Earth's surface, using numpy.\n",
    "    \"\"\"\n",
    "    # 1) sample z = sin(lat) uniformly in [-1,1]\n",
    "    z = np.random.uniform(-1.0, 1.0, size=N)\n",
    "    # 2) sample longitude angle θ uniformly in [0, 2π)\n",
    "    theta = np.random.uniform(0.0, 2*np.pi, size=N)\n",
    "\n",
    "    # convert to lat, lon in degrees\n",
    "    lat = np.degrees(np.arcsin(z))\n",
    "    lon = np.degrees(theta)\n",
    "    # shift to [–180, +180)\n",
    "    lon = np.where(lon > 180.0, lon - 360.0, lon)\n",
    "\n",
    "    # build Request instances\n",
    "    return [\n",
    "        Request(i, float(lat[i]), float(lon[i]), f\"request_{i}\")\n",
    "        for i in range(N)\n",
    "    ]\n",
    "\n",
    "# requests = generate_requests(10)\n",
    "# print(requests)"
   ]
  },
  {
   "cell_type": "code",
   "execution_count": 11,
   "id": "b9ecaff0",
   "metadata": {},
   "outputs": [],
   "source": [
    "# Train with PPO\n",
    "t0 = datetime.datetime(2024, 1, 1)\n",
    "t_end = datetime.datetime(2024, 1, 1, 18, 0, 0)\n",
    "\n",
    "h = 400\n",
    "field_of_regard = 45\n",
    "crosstrack_discretization = 7.5 # deg\n",
    "alongtrack_discretization = 10 # seconds\n",
    "\n",
    "t_s = 10\n",
    "t_dotsq = 4\n",
    "def agility_bangbang(theta):\n",
    "    return t_s + t_dotsq * np.sqrt(np.abs(theta))\n",
    "\n",
    "orbit = circular_orbit(a=Constants.R_E+h, i=np.deg2rad(51.6), Omega=np.pi, M=np.pi/2, t=t0)\n",
    "requests = generate_requests(10000)\n",
    "\n",
    "# env.reset()\n",
    "# env.step(np.array([1, 0, 0]))\n",
    "# env = LookaheadEnv(orbit, requests, t0, t_end, agility_bangbang, field_of_regard, crosstrack_discretization, alongtrack_discretization)\n",
    "\n",
    "# check_env(env)"
   ]
  },
  {
   "cell_type": "code",
   "execution_count": 12,
   "id": "20017519",
   "metadata": {},
   "outputs": [],
   "source": [
    "# Some helpers for the analytic one\n",
    "width = 800\n",
    "height = 600\n",
    "\n",
    "def analytic_chain_probability(L, lam, M, c):\n",
    "    if L < (M-1)*c:\n",
    "        return 0.0\n",
    "    x = L - (M-1)*c\n",
    "    # Note: scipy's gamma.cdf(x, a, scale) uses 'a' as the shape and scale=1/rate.\n",
    "    return st.gamma.cdf(x, a=M-1, scale=1/lam)\n",
    "\n",
    "def expected_advantage(N, t_total, t_gap, A_min, A_max):\n",
    "   all_adv = np.arange(A_min, A_max+1)\n",
    "\n",
    "   probabilities = np.array([analytic_chain_probability(t_total, N/t_total * 1/3, adv + 2, t_gap) for adv in all_adv])\n",
    "   probabilities = [probabilities[i] - probabilities[i+1] for i in range(len(probabilities)-1)]\n",
    "   probabilities = np.append(probabilities, probabilities[-1])\n",
    "   \n",
    "   return np.sum(probabilities * all_adv)\n",
    "\n",
    "def actual_advantage(pitch_deg, roll_deg, orbit, K, time, accesses_filtered, points, schedule):\n",
    "    accesses_inbox, in_box_idx = project_in_box(pitch_deg, roll_deg, orbit, time, accesses_filtered, points, width, height, K)\n",
    "    N = len([a for a in accesses_inbox if a[-2].state[\"observed\"] == False]) * 0.34\n",
    "    adv = 0\n",
    "    if(N > 0):\n",
    "        t_total = np.max([a[2] for a in accesses_inbox]) - np.min([a[2] for a in accesses_inbox])\n",
    "        t_gap = agility_bangbang(30)\n",
    "\n",
    "        if(t_total.total_seconds() > 0):\n",
    "            adv = expected_advantage(N, t_total.total_seconds(), t_gap, 2, 40)\n",
    "\n",
    "    # Now calculate cost...\n",
    "    # Check how many tasks in the schedul we miss\n",
    "    schedule_filtered = [s for s in schedule if s.time > time and s.time <= time + datetime.timedelta(hours=1)]\n",
    "    # Total lookahead maneuver time\n",
    "    # No setting time for lookahead\n",
    "    # Assume 35 deg boresight angle\n",
    "    t_maneuver = 2 * (agility_bangbang(pitch_deg - 35)) - agility_bangbang(0)\n",
    "\n",
    "    schedule_missed = [s for s in schedule_filtered if time + datetime.timedelta(seconds=t_maneuver) > s.time]\n",
    "\n",
    "    cost = len(schedule_missed) * 0.34\n",
    "    utility = adv - cost\n",
    "    missed = len(schedule_missed)\n",
    "    return accesses_inbox, in_box_idx, utility, adv, cost, missed, t_maneuver\n",
    "\n",
    "def evaluate_lookahead_chain(time, orbit, schedule, accesses, K):\n",
    "    orbit_new = propagate_orbit(orbit, time)\n",
    "    r , v = kepler2eci(orbit_new)\n",
    "    pos_ecef = eci2ecef(r, time)\n",
    "    v_ecef = eci2ecef(v, time)\n",
    "\n",
    "    accesses_filtered = filter_accesses_horizon(orbit, time, accesses, pos_ecef)\n",
    "    min_time = agility_bangbang(30)\n",
    "    accesses_filtered = [a for a in accesses_filtered if a[-2].time > time + datetime.timedelta(seconds=min_time)]\n",
    "    # Let's do a test to figure out what the heuristic will do best at...\n",
    "    points = np.array([r for r, _, _, _, _ in accesses_filtered])\n",
    "    idxs = np.array([i for _, _, _, _, i in accesses_filtered])\n",
    "\n",
    "    roll_deg = 0\n",
    "    pitch_degs = np.linspace(0, 70)\n",
    "\n",
    "    expected_utilities = []\n",
    "    expected_advantages = []\n",
    "    expected_costs = []\n",
    "    for pitch_deg in pitch_degs:\n",
    "        _, _, utility, adv, cost, _, _ = actual_advantage(pitch_deg, roll_deg, orbit, K, time, accesses_filtered, points, schedule)\n",
    "        \n",
    "        expected_utilities.append(utility)\n",
    "        expected_advantages.append(adv)\n",
    "        expected_costs.append(cost)\n",
    "\n",
    "    # Find the maximum advantage\n",
    "    max_adv = np.max(expected_utilities)\n",
    "    max_idx = np.argmax(expected_utilities)\n",
    "    # Find the pitch angle that gives the maximum advantage\n",
    "    best_pitch_deg = pitch_degs[max_idx]\n",
    "\n",
    "    # Recalculate in box\n",
    "    accesses_inbox, in_box_idx, utility, adv, cost, missed, t_maneuver = actual_advantage(best_pitch_deg, roll_deg, orbit, K, time, accesses_filtered, points, schedule)\n",
    "\n",
    "    mapped_in_box_idx = [idxs[i] for i in in_box_idx]\n",
    "    # Recalculate utility\n",
    "\n",
    "    return ((best_pitch_deg, roll_deg), mapped_in_box_idx, expected_utilities, expected_advantages, expected_costs, utility, adv, cost, missed, t_maneuver)"
   ]
  },
  {
   "cell_type": "code",
   "execution_count": 40,
   "id": "d561e552",
   "metadata": {},
   "outputs": [
    {
     "name": "stderr",
     "output_type": "stream",
     "text": [
      "/Users/shreeyam/phd_code/src/dynamic_tasker/orbits.py:61: RuntimeWarning: divide by zero encountered in matmul\n",
      "  eci = ecef @ rot_mat.T\n",
      "/Users/shreeyam/phd_code/src/dynamic_tasker/orbits.py:61: RuntimeWarning: overflow encountered in matmul\n",
      "  eci = ecef @ rot_mat.T\n",
      "/Users/shreeyam/phd_code/src/dynamic_tasker/orbits.py:61: RuntimeWarning: invalid value encountered in matmul\n",
      "  eci = ecef @ rot_mat.T\n",
      "/Users/shreeyam/phd_code/src/dynamic_tasker/orbits.py:61: RuntimeWarning: divide by zero encountered in matmul\n",
      "  eci = ecef @ rot_mat.T\n",
      "/Users/shreeyam/phd_code/src/dynamic_tasker/orbits.py:61: RuntimeWarning: overflow encountered in matmul\n",
      "  eci = ecef @ rot_mat.T\n",
      "/Users/shreeyam/phd_code/src/dynamic_tasker/orbits.py:61: RuntimeWarning: invalid value encountered in matmul\n",
      "  eci = ecef @ rot_mat.T\n",
      "/Users/shreeyam/phd_code/src/dynamic_tasker/orbits.py:61: RuntimeWarning: divide by zero encountered in matmul\n",
      "  eci = ecef @ rot_mat.T\n",
      "/Users/shreeyam/phd_code/src/dynamic_tasker/orbits.py:61: RuntimeWarning: overflow encountered in matmul\n",
      "  eci = ecef @ rot_mat.T\n",
      "/Users/shreeyam/phd_code/src/dynamic_tasker/orbits.py:61: RuntimeWarning: invalid value encountered in matmul\n",
      "  eci = ecef @ rot_mat.T\n",
      "/Users/shreeyam/phd_code/src/dynamic_tasker/orbits.py:61: RuntimeWarning: divide by zero encountered in matmul\n",
      "  eci = ecef @ rot_mat.T\n",
      "/Users/shreeyam/phd_code/src/dynamic_tasker/orbits.py:61: RuntimeWarning: overflow encountered in matmul\n",
      "  eci = ecef @ rot_mat.T\n",
      "/Users/shreeyam/phd_code/src/dynamic_tasker/orbits.py:61: RuntimeWarning: invalid value encountered in matmul\n",
      "  eci = ecef @ rot_mat.T\n",
      "/Users/shreeyam/phd_code/src/dynamic_tasker/orbits.py:61: RuntimeWarning: divide by zero encountered in matmul\n",
      "  eci = ecef @ rot_mat.T\n",
      "/Users/shreeyam/phd_code/src/dynamic_tasker/orbits.py:61: RuntimeWarning: overflow encountered in matmul\n",
      "  eci = ecef @ rot_mat.T\n",
      "/Users/shreeyam/phd_code/src/dynamic_tasker/orbits.py:61: RuntimeWarning: invalid value encountered in matmul\n",
      "  eci = ecef @ rot_mat.T\n",
      "/Users/shreeyam/phd_code/src/dynamic_tasker/orbits.py:61: RuntimeWarning: divide by zero encountered in matmul\n",
      "  eci = ecef @ rot_mat.T\n",
      "/Users/shreeyam/phd_code/src/dynamic_tasker/orbits.py:61: RuntimeWarning: overflow encountered in matmul\n",
      "  eci = ecef @ rot_mat.T\n",
      "/Users/shreeyam/phd_code/src/dynamic_tasker/orbits.py:61: RuntimeWarning: invalid value encountered in matmul\n",
      "  eci = ecef @ rot_mat.T\n",
      "/Users/shreeyam/phd_code/src/dynamic_tasker/orbits.py:61: RuntimeWarning: divide by zero encountered in matmul\n",
      "  eci = ecef @ rot_mat.T\n",
      "/Users/shreeyam/phd_code/src/dynamic_tasker/orbits.py:61: RuntimeWarning: overflow encountered in matmul\n",
      "  eci = ecef @ rot_mat.T\n",
      "/Users/shreeyam/phd_code/src/dynamic_tasker/orbits.py:61: RuntimeWarning: invalid value encountered in matmul\n",
      "  eci = ecef @ rot_mat.T\n",
      "/Users/shreeyam/phd_code/src/dynamic_tasker/orbits.py:61: RuntimeWarning: divide by zero encountered in matmul\n",
      "  eci = ecef @ rot_mat.T\n",
      "/Users/shreeyam/phd_code/src/dynamic_tasker/orbits.py:61: RuntimeWarning: overflow encountered in matmul\n",
      "  eci = ecef @ rot_mat.T\n",
      "/Users/shreeyam/phd_code/src/dynamic_tasker/orbits.py:61: RuntimeWarning: invalid value encountered in matmul\n",
      "  eci = ecef @ rot_mat.T\n",
      "/Users/shreeyam/phd_code/src/dynamic_tasker/orbits.py:61: RuntimeWarning: divide by zero encountered in matmul\n",
      "  eci = ecef @ rot_mat.T\n",
      "/Users/shreeyam/phd_code/src/dynamic_tasker/orbits.py:61: RuntimeWarning: overflow encountered in matmul\n",
      "  eci = ecef @ rot_mat.T\n",
      "/Users/shreeyam/phd_code/src/dynamic_tasker/orbits.py:61: RuntimeWarning: invalid value encountered in matmul\n",
      "  eci = ecef @ rot_mat.T\n",
      "/Users/shreeyam/phd_code/src/dynamic_tasker/orbits.py:61: RuntimeWarning: divide by zero encountered in matmul\n",
      "  eci = ecef @ rot_mat.T\n",
      "/Users/shreeyam/phd_code/src/dynamic_tasker/orbits.py:61: RuntimeWarning: overflow encountered in matmul\n",
      "  eci = ecef @ rot_mat.T\n",
      "/Users/shreeyam/phd_code/src/dynamic_tasker/orbits.py:61: RuntimeWarning: invalid value encountered in matmul\n",
      "  eci = ecef @ rot_mat.T\n",
      "/Users/shreeyam/phd_code/src/dynamic_tasker/orbits.py:61: RuntimeWarning: divide by zero encountered in matmul\n",
      "  eci = ecef @ rot_mat.T\n",
      "/Users/shreeyam/phd_code/src/dynamic_tasker/orbits.py:61: RuntimeWarning: overflow encountered in matmul\n",
      "  eci = ecef @ rot_mat.T\n",
      "/Users/shreeyam/phd_code/src/dynamic_tasker/orbits.py:61: RuntimeWarning: invalid value encountered in matmul\n",
      "  eci = ecef @ rot_mat.T\n",
      "/Users/shreeyam/phd_code/src/dynamic_tasker/orbits.py:61: RuntimeWarning: divide by zero encountered in matmul\n",
      "  eci = ecef @ rot_mat.T\n",
      "/Users/shreeyam/phd_code/src/dynamic_tasker/orbits.py:61: RuntimeWarning: overflow encountered in matmul\n",
      "  eci = ecef @ rot_mat.T\n",
      "/Users/shreeyam/phd_code/src/dynamic_tasker/orbits.py:61: RuntimeWarning: invalid value encountered in matmul\n",
      "  eci = ecef @ rot_mat.T\n"
     ]
    }
   ],
   "source": [
    "# Now train with PPO\n",
    "# env = LookaheadEnv(orbit, requests, t0, t_end, agility_bangbang, field_of_regard, crosstrack_discretization, alongtrack_discretization, eval_analytic=False)\n",
    "# eval_env = env\n",
    "# env = RecordEpisodeStatistics(env)\n",
    "# env = DummyVecEnv([lambda: env])\n",
    "# env = AsyncVectorEnv(env)\n",
    "def make_env(rank, seed=0):\n",
    "    def _init():\n",
    "        env = LookaheadEnv(\n",
    "            orbit, requests, t0, t_end,\n",
    "            agility_bangbang, field_of_regard,\n",
    "            crosstrack_discretization, alongtrack_discretization,\n",
    "            eval_analytic=False,\n",
    "        )\n",
    "        env = RecordEpisodeStatistics(env)\n",
    "        env.reset(seed=seed + rank)       # different seed per worker\n",
    "        return env\n",
    "    return _init\n",
    "\n",
    "N_ENVS = 12                                # ≤ number of CPU cores\n",
    "train_env = SubprocVecEnv([make_env(i) for i in range(N_ENVS)])\n",
    "# env = VecNormalize(env, norm_obs=True, norm_reward=True)\n"
   ]
  },
  {
   "cell_type": "code",
   "execution_count": null,
   "id": "ab167d97",
   "metadata": {},
   "outputs": [],
   "source": [
    "# model = PPO(\"MlpPolicy\", env, verbose=1, tensorboard_log=\"./test_with_schedule\")\n",
    "\n",
    "# Define a larger policy network with 5 layers\n",
    "policy_kwargs = {\n",
    "    \"net_arch\": {\n",
    "        \"pi\": [256, 256, 256, 256, 256],  # Policy network: 5 layers of 256 units\n",
    "        \"qf\": [256, 256, 256, 256, 256]   # Q-function network: 5 layers of 256 units\n",
    "    }\n",
    "}\n",
    "\n",
    "model = SAC(\"MlpPolicy\", train_env, verbose=0, tensorboard_log=\"./test_with_schedule\", policy_kwargs=policy_kwargs, gamma=1.0, batch_size=1024)\n",
    "# model = PPO(\"MlpPolicy\", train_env, verbose=0, tensorboard_log=\"./test_with_schedule\", policy_kwargs=policy_kwargs, gamma=1.0)\n",
    "model.learn(total_timesteps=500000)"
   ]
  },
  {
   "cell_type": "code",
   "execution_count": null,
   "id": "54ec7ba4",
   "metadata": {},
   "outputs": [],
   "source": [
    "model.save(\"test_with_schedule_sac_200k\")"
   ]
  },
  {
   "cell_type": "code",
   "execution_count": null,
   "id": "ab483faa",
   "metadata": {},
   "outputs": [
    {
     "name": "stdout",
     "output_type": "stream",
     "text": [
      "True\n"
     ]
    }
   ],
   "source": [
    "# Eval environment\n",
    "\n",
    "# eval_env = LookaheadEnv(orbit, requests, t0, t_end, agility_bangbang, field_of_regard, crosstrack_discretization, alongtrack_discretization, eval_analytic=True)"
   ]
  },
  {
   "cell_type": "code",
   "execution_count": 36,
   "id": "c709048f",
   "metadata": {},
   "outputs": [
    {
     "name": "stderr",
     "output_type": "stream",
     "text": [
      "  1%|          | 5/500 [00:00<00:12, 40.81it/s]"
     ]
    },
    {
     "name": "stdout",
     "output_type": "stream",
     "text": [
      "73.90709\n",
      "79.09366\n",
      "80.325554\n",
      "82.76476\n",
      "74.17473\n",
      "57.77459\n",
      "52.780937\n",
      "72.093796\n",
      "79.1599\n"
     ]
    },
    {
     "name": "stderr",
     "output_type": "stream",
     "text": [
      "  3%|▎         | 15/500 [00:00<00:11, 41.16it/s]"
     ]
    },
    {
     "name": "stdout",
     "output_type": "stream",
     "text": [
      "75.533775\n",
      "66.82771\n",
      "76.54581\n",
      "61.618603\n",
      "79.679634\n",
      "50.17115\n",
      "70.03984\n",
      "61.6068\n",
      "62.651897\n"
     ]
    },
    {
     "name": "stderr",
     "output_type": "stream",
     "text": [
      "  4%|▍         | 20/500 [00:00<00:11, 40.19it/s]"
     ]
    },
    {
     "name": "stdout",
     "output_type": "stream",
     "text": [
      "71.21295\n",
      "60.895702\n",
      "68.833176\n",
      "76.01232\n",
      "80.71373\n",
      "68.93485\n"
     ]
    },
    {
     "name": "stderr",
     "output_type": "stream",
     "text": [
      "  6%|▌         | 30/500 [00:00<00:12, 37.33it/s]"
     ]
    },
    {
     "name": "stdout",
     "output_type": "stream",
     "text": [
      "61.51361\n",
      "60.175457\n",
      "57.80167\n",
      "74.59487\n",
      "67.91718\n",
      "57.27912\n",
      "61.924255\n",
      "66.894775\n",
      "77.74807\n",
      "77.65414\n"
     ]
    },
    {
     "name": "stderr",
     "output_type": "stream",
     "text": [
      "  8%|▊         | 40/500 [00:01<00:11, 39.79it/s]"
     ]
    },
    {
     "name": "stdout",
     "output_type": "stream",
     "text": [
      "72.49429\n",
      "62.09992\n",
      "74.87614\n",
      "76.321144\n",
      "77.86944\n",
      "42.79281\n",
      "78.52468\n",
      "65.69603\n",
      "66.1902\n"
     ]
    },
    {
     "name": "stderr",
     "output_type": "stream",
     "text": [
      " 10%|█         | 50/500 [00:01<00:10, 41.86it/s]"
     ]
    },
    {
     "name": "stdout",
     "output_type": "stream",
     "text": [
      "66.980835\n",
      "72.462814\n",
      "74.362724\n",
      "50.427483\n",
      "67.533516\n",
      "66.77554\n",
      "78.149025\n",
      "77.857834\n",
      "81.37307\n"
     ]
    },
    {
     "name": "stderr",
     "output_type": "stream",
     "text": [
      " 12%|█▏        | 60/500 [00:01<00:10, 41.16it/s]"
     ]
    },
    {
     "name": "stdout",
     "output_type": "stream",
     "text": [
      "71.48244\n",
      "54.943516\n",
      "74.90001\n",
      "72.63231\n",
      "77.81995\n",
      "68.06844\n",
      "66.01733\n",
      "62.85763\n",
      "77.61347\n"
     ]
    },
    {
     "name": "stderr",
     "output_type": "stream",
     "text": [
      " 13%|█▎        | 65/500 [00:01<00:10, 41.56it/s]"
     ]
    },
    {
     "name": "stdout",
     "output_type": "stream",
     "text": [
      "79.31076\n",
      "72.58598\n",
      "65.13887\n",
      "57.62518\n",
      "75.76482\n",
      "54.21019\n",
      "76.19431\n",
      "72.49518\n",
      "68.60674\n"
     ]
    },
    {
     "name": "stderr",
     "output_type": "stream",
     "text": [
      " 15%|█▌        | 75/500 [00:01<00:10, 41.21it/s]"
     ]
    },
    {
     "name": "stdout",
     "output_type": "stream",
     "text": [
      "73.00806\n",
      "76.312965\n",
      "75.09312\n",
      "67.624855\n",
      "73.64258\n",
      "73.67728\n",
      "72.57827\n",
      "71.44798\n",
      "76.53621\n"
     ]
    },
    {
     "name": "stderr",
     "output_type": "stream",
     "text": [
      " 17%|█▋        | 85/500 [00:02<00:10, 40.76it/s]"
     ]
    },
    {
     "name": "stdout",
     "output_type": "stream",
     "text": [
      "83.69026\n",
      "80.27171\n",
      "73.88269\n",
      "69.625725\n",
      "44.37764\n",
      "40.438293\n",
      "34.452847\n",
      "75.6804\n",
      "67.81406\n"
     ]
    },
    {
     "name": "stderr",
     "output_type": "stream",
     "text": [
      " 19%|█▉        | 95/500 [00:02<00:09, 41.34it/s]"
     ]
    },
    {
     "name": "stdout",
     "output_type": "stream",
     "text": [
      "58.179237\n",
      "69.256035\n",
      "45.959126\n",
      "69.11905\n",
      "73.52772\n",
      "59.748234\n",
      "75.91383\n",
      "62.85701\n",
      "75.07705\n"
     ]
    },
    {
     "name": "stderr",
     "output_type": "stream",
     "text": [
      " 21%|██        | 105/500 [00:02<00:09, 40.45it/s]"
     ]
    },
    {
     "name": "stdout",
     "output_type": "stream",
     "text": [
      "63.230556\n",
      "61.55494\n",
      "57.549026\n",
      "66.36944\n",
      "61.64769\n",
      "83.05827\n",
      "75.43039\n",
      "72.861015\n",
      "71.894165\n"
     ]
    },
    {
     "name": "stderr",
     "output_type": "stream",
     "text": [
      " 22%|██▏       | 110/500 [00:02<00:09, 41.15it/s]"
     ]
    },
    {
     "name": "stdout",
     "output_type": "stream",
     "text": [
      "76.84265\n",
      "77.74794\n",
      "63.37957\n",
      "72.095566\n",
      "69.16689\n",
      "43.78968\n",
      "62.782875\n",
      "70.84654\n",
      "39.763084\n"
     ]
    },
    {
     "name": "stderr",
     "output_type": "stream",
     "text": [
      " 24%|██▍       | 120/500 [00:02<00:09, 42.01it/s]"
     ]
    },
    {
     "name": "stdout",
     "output_type": "stream",
     "text": [
      "65.56014\n",
      "74.9942\n",
      "29.72968\n",
      "45.179527\n",
      "75.38539\n",
      "64.64303\n",
      "70.898705\n",
      "67.29321\n",
      "73.30392\n"
     ]
    },
    {
     "name": "stderr",
     "output_type": "stream",
     "text": [
      " 26%|██▌       | 130/500 [00:03<00:08, 41.89it/s]"
     ]
    },
    {
     "name": "stdout",
     "output_type": "stream",
     "text": [
      "46.48589\n",
      "70.88205\n",
      "66.88994\n",
      "71.39418\n",
      "84.6514\n",
      "56.79625\n",
      "80.36808\n",
      "50.947285\n",
      "78.57461\n"
     ]
    },
    {
     "name": "stderr",
     "output_type": "stream",
     "text": [
      " 28%|██▊       | 140/500 [00:03<00:08, 42.30it/s]"
     ]
    },
    {
     "name": "stdout",
     "output_type": "stream",
     "text": [
      "73.08927\n",
      "63.93882\n",
      "79.00481\n",
      "55.87241\n",
      "72.92757\n",
      "37.464214\n",
      "71.575775\n",
      "75.77854\n",
      "61.25219\n"
     ]
    },
    {
     "name": "stderr",
     "output_type": "stream",
     "text": [
      " 30%|███       | 150/500 [00:03<00:08, 41.59it/s]"
     ]
    },
    {
     "name": "stdout",
     "output_type": "stream",
     "text": [
      "65.876686\n",
      "37.38197\n",
      "75.833664\n",
      "66.57733\n",
      "78.81317\n",
      "78.588684\n",
      "64.8232\n",
      "56.594524\n",
      "77.61576\n"
     ]
    },
    {
     "name": "stderr",
     "output_type": "stream",
     "text": [
      " 31%|███       | 155/500 [00:03<00:08, 42.17it/s]"
     ]
    },
    {
     "name": "stdout",
     "output_type": "stream",
     "text": [
      "79.23282\n",
      "78.3555\n",
      "69.305984\n",
      "58.831764\n",
      "67.37076\n",
      "79.53117\n",
      "63.188328\n",
      "68.803894\n",
      "56.91922\n"
     ]
    },
    {
     "name": "stderr",
     "output_type": "stream",
     "text": [
      " 33%|███▎      | 165/500 [00:04<00:08, 41.81it/s]"
     ]
    },
    {
     "name": "stdout",
     "output_type": "stream",
     "text": [
      "56.474384\n",
      "68.953896\n",
      "80.31458\n",
      "67.07225\n",
      "59.29008\n",
      "70.11461\n",
      "52.98412\n",
      "82.99833\n"
     ]
    },
    {
     "name": "stderr",
     "output_type": "stream",
     "text": [
      " 35%|███▌      | 175/500 [00:04<00:08, 37.84it/s]"
     ]
    },
    {
     "name": "stdout",
     "output_type": "stream",
     "text": [
      "75.07278\n",
      "53.92901\n",
      "65.832695\n",
      "67.135994\n",
      "72.32357\n",
      "67.26549\n",
      "66.38283\n",
      "61.350758\n",
      "62.20518\n"
     ]
    },
    {
     "name": "stderr",
     "output_type": "stream",
     "text": [
      " 37%|███▋      | 185/500 [00:04<00:07, 39.80it/s]"
     ]
    },
    {
     "name": "stdout",
     "output_type": "stream",
     "text": [
      "59.484573\n",
      "84.97779\n",
      "74.08343\n",
      "63.636063\n",
      "34.35635\n",
      "78.82947\n",
      "54.371628\n",
      "50.85198\n",
      "62.090523\n"
     ]
    },
    {
     "name": "stderr",
     "output_type": "stream",
     "text": [
      " 38%|███▊      | 190/500 [00:04<00:07, 40.00it/s]"
     ]
    },
    {
     "name": "stdout",
     "output_type": "stream",
     "text": [
      "51.016193\n",
      "61.770073\n",
      "79.05383\n",
      "81.04891\n",
      "63.564598\n",
      "79.603264\n",
      "64.58757\n",
      "62.619743\n",
      "84.36039\n"
     ]
    },
    {
     "name": "stderr",
     "output_type": "stream",
     "text": [
      " 40%|████      | 200/500 [00:04<00:07, 42.31it/s]"
     ]
    },
    {
     "name": "stdout",
     "output_type": "stream",
     "text": [
      "73.90505\n",
      "65.45549\n",
      "63.16117\n",
      "51.82251\n",
      "72.14298\n",
      "73.34779\n",
      "75.70866\n",
      "60.239895\n",
      "73.21847\n",
      "73.6135\n"
     ]
    },
    {
     "name": "stderr",
     "output_type": "stream",
     "text": [
      " 42%|████▏     | 210/500 [00:05<00:06, 43.35it/s]"
     ]
    },
    {
     "name": "stdout",
     "output_type": "stream",
     "text": [
      "82.41206\n",
      "81.56458\n",
      "34.140926\n",
      "60.45928\n",
      "79.04991\n",
      "74.40645\n",
      "61.9748\n",
      "70.05503\n",
      "49.768623\n",
      "77.57079\n"
     ]
    },
    {
     "name": "stderr",
     "output_type": "stream",
     "text": [
      " 44%|████▍     | 220/500 [00:05<00:06, 42.68it/s]"
     ]
    },
    {
     "name": "stdout",
     "output_type": "stream",
     "text": [
      "74.8413\n",
      "63.447975\n",
      "76.5623\n",
      "60.779587\n",
      "65.890396\n",
      "77.03169\n",
      "76.48001\n",
      "73.46043\n",
      "67.29833\n"
     ]
    },
    {
     "name": "stderr",
     "output_type": "stream",
     "text": [
      " 46%|████▌     | 230/500 [00:05<00:06, 43.17it/s]"
     ]
    },
    {
     "name": "stdout",
     "output_type": "stream",
     "text": [
      "64.545494\n",
      "62.20545\n",
      "67.257195\n",
      "71.11695\n",
      "45.7978\n",
      "77.06527\n",
      "67.29145\n",
      "65.43594\n",
      "70.29076\n",
      "73.626465\n"
     ]
    },
    {
     "name": "stderr",
     "output_type": "stream",
     "text": [
      " 48%|████▊     | 240/500 [00:05<00:06, 42.07it/s]"
     ]
    },
    {
     "name": "stdout",
     "output_type": "stream",
     "text": [
      "57.043236\n",
      "58.04122\n",
      "54.35177\n",
      "43.070034\n",
      "75.86849\n",
      "73.47459\n",
      "69.59298\n",
      "83.79313\n",
      "70.1134\n"
     ]
    },
    {
     "name": "stderr",
     "output_type": "stream",
     "text": [
      " 50%|█████     | 250/500 [00:06<00:05, 42.71it/s]"
     ]
    },
    {
     "name": "stdout",
     "output_type": "stream",
     "text": [
      "79.30391\n",
      "80.8768\n",
      "75.31686\n",
      "71.05616\n",
      "72.56734\n",
      "77.65346\n",
      "66.05654\n",
      "71.77569\n",
      "63.607697\n",
      "72.79578\n"
     ]
    },
    {
     "name": "stderr",
     "output_type": "stream",
     "text": [
      " 52%|█████▏    | 260/500 [00:06<00:05, 43.52it/s]"
     ]
    },
    {
     "name": "stdout",
     "output_type": "stream",
     "text": [
      "80.0972\n",
      "79.80641\n",
      "54.12348\n",
      "76.72688\n",
      "58.068947\n",
      "75.893814\n",
      "71.71742\n",
      "69.95138\n",
      "70.371605\n",
      "71.81825\n"
     ]
    },
    {
     "name": "stderr",
     "output_type": "stream",
     "text": [
      " 54%|█████▍    | 270/500 [00:06<00:05, 43.50it/s]"
     ]
    },
    {
     "name": "stdout",
     "output_type": "stream",
     "text": [
      "79.17018\n",
      "55.388527\n",
      "73.39084\n",
      "70.54152\n",
      "65.88986\n",
      "62.44202\n",
      "61.46503\n",
      "78.68574\n",
      "65.314514\n"
     ]
    },
    {
     "name": "stderr",
     "output_type": "stream",
     "text": [
      " 56%|█████▌    | 280/500 [00:06<00:04, 44.05it/s]"
     ]
    },
    {
     "name": "stdout",
     "output_type": "stream",
     "text": [
      "74.28817\n",
      "53.686646\n",
      "76.695724\n",
      "82.53238\n",
      "65.949295\n",
      "78.93202\n",
      "79.40356\n",
      "73.29613\n",
      "76.99019\n",
      "72.88158\n"
     ]
    },
    {
     "name": "stderr",
     "output_type": "stream",
     "text": [
      " 57%|█████▋    | 285/500 [00:06<00:04, 44.20it/s]"
     ]
    },
    {
     "name": "stdout",
     "output_type": "stream",
     "text": [
      "58.61264\n",
      "62.988857\n",
      "61.007572\n",
      "72.72056\n",
      "79.16656\n",
      "74.70684\n",
      "60.226387\n"
     ]
    },
    {
     "name": "stderr",
     "output_type": "stream",
     "text": [
      " 59%|█████▉    | 295/500 [00:07<00:05, 39.83it/s]"
     ]
    },
    {
     "name": "stdout",
     "output_type": "stream",
     "text": [
      "75.86875\n",
      "66.76167\n",
      "79.85791\n",
      "39.37443\n",
      "64.69754\n",
      "69.34708\n",
      "83.40738\n",
      "59.639584\n",
      "75.46665\n"
     ]
    },
    {
     "name": "stderr",
     "output_type": "stream",
     "text": [
      " 61%|██████    | 305/500 [00:07<00:04, 40.91it/s]"
     ]
    },
    {
     "name": "stdout",
     "output_type": "stream",
     "text": [
      "60.484684\n",
      "79.29878\n",
      "68.06575\n",
      "54.916653\n",
      "70.049515\n",
      "59.364258\n",
      "70.70446\n",
      "57.28513\n",
      "71.93869\n"
     ]
    },
    {
     "name": "stderr",
     "output_type": "stream",
     "text": [
      " 63%|██████▎   | 315/500 [00:07<00:04, 41.87it/s]"
     ]
    },
    {
     "name": "stdout",
     "output_type": "stream",
     "text": [
      "66.58888\n",
      "56.72324\n",
      "79.09319\n",
      "72.91698\n",
      "62.435303\n",
      "76.53881\n",
      "76.35537\n",
      "64.90257\n",
      "73.87072\n"
     ]
    },
    {
     "name": "stderr",
     "output_type": "stream",
     "text": [
      " 64%|██████▍   | 320/500 [00:07<00:04, 42.49it/s]"
     ]
    },
    {
     "name": "stdout",
     "output_type": "stream",
     "text": [
      "54.73437\n",
      "77.967415\n",
      "77.34135\n",
      "68.83013\n",
      "50.18631\n",
      "72.80601\n",
      "69.12049\n",
      "55.851143\n",
      "71.38005\n"
     ]
    },
    {
     "name": "stderr",
     "output_type": "stream",
     "text": [
      " 66%|██████▌   | 330/500 [00:07<00:04, 40.97it/s]"
     ]
    },
    {
     "name": "stdout",
     "output_type": "stream",
     "text": [
      "70.53182\n",
      "80.82588\n",
      "82.88291\n",
      "64.13271\n",
      "75.93119\n",
      "60.612194\n",
      "70.139595\n",
      "67.14131\n",
      "69.157906\n"
     ]
    },
    {
     "name": "stderr",
     "output_type": "stream",
     "text": [
      " 68%|██████▊   | 340/500 [00:08<00:04, 39.96it/s]"
     ]
    },
    {
     "name": "stdout",
     "output_type": "stream",
     "text": [
      "72.095764\n",
      "78.90799\n",
      "69.97145\n",
      "73.42227\n",
      "79.20458\n",
      "71.40274\n",
      "76.72873\n",
      "76.420105\n",
      "50.069267\n"
     ]
    },
    {
     "name": "stderr",
     "output_type": "stream",
     "text": [
      " 70%|███████   | 350/500 [00:08<00:03, 41.04it/s]"
     ]
    },
    {
     "name": "stdout",
     "output_type": "stream",
     "text": [
      "58.69512\n",
      "68.00524\n",
      "58.274746\n",
      "79.541405\n",
      "51.67842\n",
      "81.71642\n",
      "59.696766\n",
      "64.87632\n",
      "73.61621\n"
     ]
    },
    {
     "name": "stderr",
     "output_type": "stream",
     "text": [
      " 72%|███████▏  | 360/500 [00:08<00:03, 43.01it/s]"
     ]
    },
    {
     "name": "stdout",
     "output_type": "stream",
     "text": [
      "82.77243\n",
      "73.67854\n",
      "59.28068\n",
      "77.33438\n",
      "69.0374\n",
      "64.24742\n",
      "77.918175\n",
      "75.398\n",
      "73.96125\n",
      "82.515144\n"
     ]
    },
    {
     "name": "stderr",
     "output_type": "stream",
     "text": [
      " 74%|███████▍  | 370/500 [00:08<00:03, 41.30it/s]"
     ]
    },
    {
     "name": "stdout",
     "output_type": "stream",
     "text": [
      "62.430946\n",
      "41.942818\n",
      "51.813797\n",
      "77.12658\n",
      "69.86472\n",
      "62.140625\n",
      "62.389835\n",
      "75.90499\n",
      "79.9194\n"
     ]
    },
    {
     "name": "stderr",
     "output_type": "stream",
     "text": [
      " 75%|███████▌  | 375/500 [00:09<00:03, 40.94it/s]"
     ]
    },
    {
     "name": "stdout",
     "output_type": "stream",
     "text": [
      "68.30103\n",
      "76.50113\n",
      "77.12883\n",
      "57.812355\n",
      "40.430386\n",
      "53.814274\n",
      "61.25113\n",
      "59.68016\n",
      "65.853294\n"
     ]
    },
    {
     "name": "stderr",
     "output_type": "stream",
     "text": [
      " 77%|███████▋  | 385/500 [00:09<00:02, 41.02it/s]"
     ]
    },
    {
     "name": "stdout",
     "output_type": "stream",
     "text": [
      "73.25895\n",
      "79.32701\n",
      "60.098175\n",
      "76.27918\n",
      "67.26759\n",
      "55.59408\n",
      "56.174843\n",
      "71.51363\n",
      "65.819496\n"
     ]
    },
    {
     "name": "stderr",
     "output_type": "stream",
     "text": [
      " 79%|███████▉  | 395/500 [00:09<00:02, 39.36it/s]"
     ]
    },
    {
     "name": "stdout",
     "output_type": "stream",
     "text": [
      "74.992485\n",
      "67.69773\n",
      "61.653416\n",
      "82.92953\n",
      "73.257965\n",
      "64.75234\n",
      "76.10311\n",
      "76.13341\n"
     ]
    },
    {
     "name": "stderr",
     "output_type": "stream",
     "text": [
      " 81%|████████  | 404/500 [00:09<00:02, 37.86it/s]"
     ]
    },
    {
     "name": "stdout",
     "output_type": "stream",
     "text": [
      "54.99318\n",
      "63.294907\n",
      "71.35285\n",
      "69.967804\n",
      "65.00665\n",
      "73.3991\n",
      "71.502754\n",
      "72.34948\n"
     ]
    },
    {
     "name": "stderr",
     "output_type": "stream",
     "text": [
      " 82%|████████▏ | 412/500 [00:10<00:02, 37.69it/s]"
     ]
    },
    {
     "name": "stdout",
     "output_type": "stream",
     "text": [
      "70.73724\n",
      "81.98721\n",
      "79.74036\n",
      "70.63473\n",
      "45.6945\n",
      "67.03017\n",
      "47.364227\n",
      "69.88826\n"
     ]
    },
    {
     "name": "stderr",
     "output_type": "stream",
     "text": [
      " 84%|████████▍ | 421/500 [00:10<00:01, 39.53it/s]"
     ]
    },
    {
     "name": "stdout",
     "output_type": "stream",
     "text": [
      "73.85984\n",
      "66.38724\n",
      "78.08678\n",
      "64.31824\n",
      "65.51626\n",
      "71.00395\n",
      "73.71248\n",
      "78.238976\n",
      "73.98944\n"
     ]
    },
    {
     "name": "stderr",
     "output_type": "stream",
     "text": [
      " 86%|████████▌ | 431/500 [00:10<00:01, 41.78it/s]"
     ]
    },
    {
     "name": "stdout",
     "output_type": "stream",
     "text": [
      "73.50409\n",
      "74.044205\n",
      "71.32897\n",
      "71.20808\n",
      "77.65909\n",
      "80.80872\n",
      "80.15474\n",
      "68.51671\n",
      "59.448524\n",
      "44.949608\n"
     ]
    },
    {
     "name": "stderr",
     "output_type": "stream",
     "text": [
      " 87%|████████▋ | 436/500 [00:10<00:01, 35.57it/s]"
     ]
    },
    {
     "name": "stdout",
     "output_type": "stream",
     "text": [
      "59.933273\n",
      "66.075745\n",
      "74.72594\n",
      "66.17726\n",
      "69.99043\n",
      "75.14485\n"
     ]
    },
    {
     "name": "stderr",
     "output_type": "stream",
     "text": [
      " 89%|████████▉ | 446/500 [00:10<00:01, 37.68it/s]"
     ]
    },
    {
     "name": "stdout",
     "output_type": "stream",
     "text": [
      "78.45952\n",
      "72.84594\n",
      "60.417328\n",
      "70.79032\n",
      "56.266758\n",
      "59.246704\n",
      "68.66176\n",
      "72.69336\n",
      "79.563675\n"
     ]
    },
    {
     "name": "stderr",
     "output_type": "stream",
     "text": [
      " 91%|█████████ | 455/500 [00:11<00:01, 38.92it/s]"
     ]
    },
    {
     "name": "stdout",
     "output_type": "stream",
     "text": [
      "77.41247\n",
      "70.02942\n",
      "78.53038\n",
      "43.793938\n",
      "80.30783\n",
      "75.378174\n",
      "33.078312\n",
      "51.41565\n",
      "69.7906\n"
     ]
    },
    {
     "name": "stderr",
     "output_type": "stream",
     "text": [
      " 93%|█████████▎| 463/500 [00:11<00:00, 38.78it/s]"
     ]
    },
    {
     "name": "stdout",
     "output_type": "stream",
     "text": [
      "55.38549\n",
      "56.47683\n",
      "66.076\n",
      "81.59765\n",
      "70.169975\n",
      "73.31468\n",
      "69.781494\n",
      "70.371185\n",
      "80.58199\n"
     ]
    },
    {
     "name": "stderr",
     "output_type": "stream",
     "text": [
      " 94%|█████████▍| 472/500 [00:11<00:00, 39.47it/s]"
     ]
    },
    {
     "name": "stdout",
     "output_type": "stream",
     "text": [
      "60.113743\n",
      "74.7417\n",
      "73.77708\n",
      "70.9084\n",
      "81.574455\n",
      "80.714\n",
      "80.941345\n",
      "65.1167\n",
      "60.490402\n"
     ]
    },
    {
     "name": "stderr",
     "output_type": "stream",
     "text": [
      " 96%|█████████▌| 480/500 [00:11<00:00, 39.30it/s]"
     ]
    },
    {
     "name": "stdout",
     "output_type": "stream",
     "text": [
      "70.94812\n",
      "70.78154\n",
      "68.52057\n",
      "50.700104\n",
      "70.54038\n",
      "80.033585\n",
      "75.711655\n",
      "69.32692\n",
      "56.623043\n"
     ]
    },
    {
     "name": "stderr",
     "output_type": "stream",
     "text": [
      " 98%|█████████▊| 489/500 [00:12<00:00, 39.15it/s]"
     ]
    },
    {
     "name": "stdout",
     "output_type": "stream",
     "text": [
      "76.58756\n",
      "72.76445\n",
      "66.67005\n",
      "34.708664\n",
      "60.813812\n",
      "49.75489\n",
      "62.870678\n",
      "73.26619\n",
      "73.36691\n"
     ]
    },
    {
     "name": "stderr",
     "output_type": "stream",
     "text": [
      "100%|█████████▉| 498/500 [00:12<00:00, 38.14it/s]"
     ]
    },
    {
     "name": "stdout",
     "output_type": "stream",
     "text": [
      "53.97963\n",
      "74.84505\n",
      "83.238365\n",
      "62.442192\n",
      "63.686737\n",
      "70.78236\n",
      "66.0121\n",
      "73.92112\n"
     ]
    },
    {
     "name": "stderr",
     "output_type": "stream",
     "text": [
      "100%|██████████| 500/500 [00:12<00:00, 40.60it/s]"
     ]
    },
    {
     "name": "stdout",
     "output_type": "stream",
     "text": [
      "[(np.float64(-0.44455622903690817), np.float64(0.9326410064697266)), (-0.34, np.float64(0.9298169937133789)), (np.float64(-0.6799636073234443), np.float64(0.9291655120849609)), (np.float64(-0.6772355058967514), np.float64(0.9278956909179688)), (np.float64(-0.6799479877587904), np.float64(2.932491889953613)), (-0.34, np.float64(1.9424860687255858)), (-0.34, np.float64(1.9459775085449218)), (np.float64(-0.32346965522043525), np.float64(-0.06633828735351563)), (np.float64(-0.6791676804632231), np.float64(-0.07021821594238281)), (np.float64(-0.679620074181243), np.float64(-0.06825942993164062)), (-0.34, np.float64(0.9367367553710937)), (np.float64(-0.3394209239424407), np.float64(-0.06881268310546876)), (np.float64(-0.33511389434010147), np.float64(-0.060035888671875)), (-0.34, np.float64(-1.0704937744140626)), (-0.34, np.float64(-1.0520826988220215)), (np.float64(-0.338809371416103), np.float64(-0.06515931701660156)), (np.float64(-0.3394734398796973), np.float64(-1.0600283432006836)), (0.0, np.float64(-1.0606924209594726)), (np.float64(-0.32656566637704976), np.float64(-0.06583573150634765)), (np.float64(-0.3311285225591819), np.float64(0.9404285888671875)), (np.float64(0.03519858740917338), np.float64(-0.06445478057861329)), (np.float64(-0.6630307591228373), np.float64(0.9314783020019531)), (np.float64(-0.6796994984484854), np.float64(-0.07103833770751954)), (np.float64(-0.3375667178353675), np.float64(-0.06451449584960937)), (np.float64(-0.339369195233272), np.float64(-0.05996870422363281)), (np.float64(-0.3216852505134627), np.float64(-1.0591042709350587)), (-0.34, np.float64(-0.05753216552734375)), (-0.34, np.float64(-1.067741424560547)), (np.float64(-0.33760548044441113), np.float64(0.936086181640625)), (-0.34, np.float64(0.9428209381103516)), (np.float64(-0.6793058606891114), np.float64(0.9397690124511718)), (np.float64(-0.33724694856598353), np.float64(0.9366964721679687)), (np.float64(-0.3399884913355105), np.float64(0.9305367584228516)), (np.float64(-0.3339081529256921), np.float64(1.9305873336791992)), (np.float64(0.0041042742361407075), np.float64(1.933434684753418)), (np.float64(-0.33841508976922313), np.float64(2.9396572265625)), (np.float64(-0.3393373314505951), np.float64(2.932102912902832)), (-0.34, np.float64(2.931309684753418)), (np.float64(-0.33665674779750104), np.float64(3.930471481323242)), (0.0, np.float64(1.9539619674682618)), (np.float64(-0.3395896910973981), np.float64(1.9301202850341797)), (np.float64(-0.33718724357567426), np.float64(1.9374210510253906)), (np.float64(-0.33804660532088365), np.float64(3.937121154785156)), (np.float64(-0.33936279226737265), np.float64(2.9366448364257813)), (np.float64(4.239810283212483e-05), np.float64(2.9334524993896482)), (-0.34, np.float64(2.93238737487793)), (0.0, np.float64(2.9477228317260744)), (-0.34, np.float64(1.9363143920898438)), (-0.34, np.float64(1.9367681045532226)), (-0.34, np.float64(-0.06967861938476563)), (0.0, np.float64(-0.06952227783203126)), (np.float64(-0.46507699986713347), np.float64(-2.071383026123047)), (np.float64(-0.33774297703930506), np.float64(-0.06598995971679687)), (0.0, np.float64(-2.055567367553711)), (np.float64(-0.3382549598316668), np.float64(-0.0679102783203125)), (np.float64(-0.33328565894742823), np.float64(-0.06664334106445313)), (np.float64(-0.33996697351295047), np.float64(-0.06950190734863282)), (np.float64(-0.33992263607925116), np.float64(0.9359964752197265)), (np.float64(-0.330713318872989), np.float64(1.9372258682250976)), (np.float64(-0.6517052226040708), np.float64(0.9391778717041016)), (-0.34, np.float64(1.9306092376708985)), (np.float64(-0.33580210248351855), np.float64(1.9297016677856444)), (np.float64(-0.33872372642707926), np.float64(0.9333828430175781)), (np.float64(-0.3377827718085659), np.float64(0.937761245727539)), (0.0, np.float64(0.942586799621582)), (np.float64(-0.3318905939740659), np.float64(-0.06838619995117187)), (-0.34, np.float64(-1.0550494384765625)), (np.float64(-0.33870229489291614), np.float64(-0.06862112426757813)), (np.float64(6.344973159762574e-05), np.float64(-0.06656581115722657)), (np.float64(-0.677723163447403), np.float64(0.9356784439086914)), (np.float64(-0.6710449993678959), np.float64(0.9331447830200196)), (np.float64(-0.6778027520636066), np.float64(0.9313141479492187)), (np.float64(-0.33991666350976546), np.float64(0.9319831085205078)), (-0.34, np.float64(0.9362599716186524)), (np.float64(-0.3352948408427779), np.float64(1.9327887725830077)), (-0.34, np.float64(1.9327693634033203)), (np.float64(-0.3379645122459271), np.float64(1.9333871994018554)), (np.float64(-0.3300619028571027), np.float64(1.9340297317504882)), (np.float64(-0.33991751148163113), np.float64(1.9311925354003907)), (np.float64(-0.679788621746405), np.float64(1.927420639038086)), (np.float64(-0.3399453480649913), np.float64(0.9291938323974609)), (np.float64(-0.33990499861951073), np.float64(0.9326546249389649)), (np.float64(-0.32360042485439167), np.float64(-0.06491854858398438)), (0.0, np.float64(-0.04741883087158203)), (-0.34, np.float64(-0.04388289642333985)), (0.0, np.float64(1.9623416900634765)), (np.float64(-0.6068254519133028), np.float64(1.9316600875854493)), (np.float64(-0.334156175691995), np.float64(0.9361474304199219)), (-0.34, np.float64(1.9422143249511719)), (np.float64(-0.3380260102084553), np.float64(0.9352972869873046)), (-0.34, np.float64(1.9512523040771483)), (np.float64(-0.3135371949726877), np.float64(1.9353774871826173)), (np.float64(-0.3308786726884372), np.float64(2.9328530502319334)), (np.float64(-0.33394780386860967), np.float64(4.941174934387207)), (np.float64(-0.339369195233272), np.float64(2.931532180786133)), (np.float64(-0.3291158261759136), np.float64(0.9391782684326172)), (np.float64(-0.6746704770237107), np.float64(0.9319919738769531)), (np.float64(-0.33386544177240124), np.float64(2.938943603515625)), (np.float64(0.0063379900577050065), np.float64(1.940004837036133)), (-0.34, np.float64(-0.05736177062988281)), (np.float64(-0.33990664007439303), np.float64(0.9370127944946289)), (np.float64(-0.33762494976535), np.float64(0.9399455108642578)), (np.float64(-0.678637993758671), np.float64(-1.072255355834961)), (np.float64(-0.6756160881234068), np.float64(-2.068202621459961)), (np.float64(-0.6799066400752357), np.float64(-1.0667723999023437)), (np.float64(-0.33990829015373775), np.float64(-0.06622478485107422)), (np.float64(-0.33794411129835483), np.float64(1.931026023864746)), (np.float64(-1.0164169938638878), np.float64(-0.06946316528320312)), (np.float64(-0.6791492377865267), np.float64(0.9388502960205078)), (np.float64(-0.679933045333612), np.float64(0.9336607055664062)), (-0.68, np.float64(0.9353494644165039)), (-0.34, np.float64(-0.04691259384155273)), (np.float64(-0.33386544173037647), np.float64(1.939224967956543)), (np.float64(-0.6779034613021566), np.float64(1.9343746566772462)), (-0.34, np.float64(0.9567609062194824)), (np.float64(0.005674603165052205), np.float64(0.9375038146972656)), (np.float64(-0.6587626002430187), np.float64(1.9320376892089843)), (-0.34, np.float64(-1.0315104522705079)), (-0.34, np.float64(1.9519015769958497)), (np.float64(-0.3315496452679125), np.float64(1.9318221282958985)), (-0.34, np.float64(-1.061934127807617)), (np.float64(-0.33502417146410973), np.float64(-0.06565534210205078)), (np.float64(-0.6737836447722644), np.float64(1.936457809448242)), (-0.34, np.float64(-0.06702149200439453)), (0.0, np.float64(1.9508196868896484)), (np.float64(-0.678873439213829), np.float64(0.9343542327880859)), (-0.34, np.float64(0.9366993789672852)), (-0.34, np.float64(0.9340605010986328)), (-0.34, np.float64(0.9269310760498046)), (-0.34, np.float64(1.9431495971679686)), (-0.34, np.float64(1.9291431427001953)), (0.0, np.float64(0.9473312034606933)), (-0.34, np.float64(-0.06990638732910157)), (0.0, np.float64(-0.06690090942382812)), (np.float64(-0.0339940600687203), np.float64(1.9385016021728516)), (np.float64(-0.3287212230583444), np.float64(1.9298642578125)), (0.0, np.float64(0.943784912109375)), (np.float64(-0.6671465129727857), np.float64(1.9331901092529298)), (-0.34, np.float64(1.9590531158447266)), (np.float64(-0.33022323352936117), np.float64(2.9339567184448243)), (np.float64(-0.33937561284056006), np.float64(2.9316062774658205)), (np.float64(-0.33346211270087406), np.float64(2.940198989868164)), (np.float64(-0.33745185697371793), np.float64(1.9373112182617187)), (0.0, np.float64(1.9591382751464843)), (np.float64(-0.6781711214856875), np.float64(1.9315760803222657)), (np.float64(-0.3398860168403115), np.float64(1.9368873901367187)), (-0.34, np.float64(1.9299663162231446)), (np.float64(-0.33993217129737563), np.float64(0.9300860977172851)), (np.float64(-0.33014243971937024), np.float64(1.9379549713134765)), (-0.34, np.float64(0.9432875823974609)), (-0.34, np.float64(0.930608009338379)), (np.float64(-0.3387663135393118), np.float64(2.9297430419921877)), (np.float64(-0.33996104891693935), np.float64(2.9302107696533204)), (np.float64(-0.3392441825189068), np.float64(1.9352680816650392)), (np.float64(0.01230387248158953), np.float64(0.9417793273925781)), (np.float64(0.03792058726461149), np.float64(1.9364114837646484)), (np.float64(-0.33718724357567426), np.float64(0.9295848083496093)), (np.float64(0.001533115012880424), np.float64(2.9389700775146483)), (np.float64(-0.30101836504208), np.float64(1.9355624237060547)), (-0.34, np.float64(0.9430656814575196)), (-0.34, np.float64(0.9433699645996094)), (np.float64(-0.33730209757181784), np.float64(1.9354743194580077)), (np.float64(-0.3395265459607324), np.float64(2.9291712799072265)), (np.float64(-0.2582562374475006), np.float64(0.9365900421142578)), (np.float64(-0.32156113165342554), np.float64(0.9414761352539063)), (np.float64(-0.6551251725800711), np.float64(0.9347973327636718)), (-0.34, np.float64(1.9458300628662109)), (np.float64(-0.3399506227829872), np.float64(1.9277754669189453)), (np.float64(-0.33489055005061713), np.float64(3.931994331359863)), (0.0, np.float64(2.945150733947754)), (np.float64(-0.3375667178353675), np.float64(1.9373379364013672)), (-0.34, np.float64(1.9365518646240234)), (np.float64(-0.3393564041870757), np.float64(0.9335313491821289)), (np.float64(-0.3392260225641772), np.float64(-0.0635256118774414)), (np.float64(-0.3306310114675309), np.float64(0.9370047073364258)), (np.float64(-0.33988678038649595), np.float64(0.9401356964111328)), (np.float64(-0.33776284665655215), np.float64(0.9395903625488281)), (np.float64(-0.32426077915639095), np.float64(1.9413480453491212)), (np.float64(-0.3389160253303376), np.float64(2.9267656860351563)), (np.float64(-0.3393121222660314), np.float64(-0.06745728302001953)), (np.float64(-0.29843507224508187), np.float64(2.9386900787353514)), (0.0, np.float64(3.962453559875488)), (np.float64(-0.32108402578120104), np.float64(2.929957633972168)), (0.0, np.float64(2.9448360290527344)), (-0.34, np.float64(2.9474027404785157)), (np.float64(0.00011014118265781602), np.float64(2.9396632003784178)), (-0.34, np.float64(0.9472795562744141)), (np.float64(-0.6777429770393051), np.float64(0.9398673248291015)), (np.float64(-0.33940142456360267), np.float64(0.9298381729125976)), (np.float64(-0.3399619045630501), np.float64(-1.0712138061523437)), (np.float64(-0.6756624323926841), np.float64(-1.061265335083008)), (-0.34, np.float64(-1.0704533615112304)), (np.float64(0.00011776434621542465), np.float64(0.9381000518798828)), (np.float64(-0.33944053453104617), np.float64(1.939327880859375)), (np.float64(-0.3370424022253837), np.float64(0.9270789031982422)), (np.float64(-0.3393058606891113), np.float64(0.9326421508789062)), (np.float64(-0.6642607792927331), np.float64(0.9375676498413086)), (np.float64(-0.33920206351691007), np.float64(0.9389871063232422)), (-0.34, np.float64(0.9466797904968262)), (np.float64(-0.3375474251124381), np.float64(1.9336337738037108)), (np.float64(-0.33951988364258084), np.float64(1.9329538879394532)), (np.float64(-0.31723736744280057), np.float64(3.9316445922851564)), (-0.34, np.float64(2.940853759765625)), (-0.34, np.float64(2.933026481628418)), (-0.34, np.float64(2.9328050384521482)), (-0.34, np.float64(2.9280776977539062)), (-0.68, np.float64(2.9285172119140626)), (0.0, np.float64(2.9627049560546874)), (-0.34, np.float64(2.9407111206054686)), (-0.34, np.float64(0.9298402557373047)), (0.0, np.float64(-0.06763690185546875)), (np.float64(0.028458037725527574), np.float64(-0.06026318359375)), (np.float64(-0.33942744888847953), np.float64(0.9348318786621094)), (-0.34, np.float64(-0.05177549362182617)), (np.float64(-0.679640064655474), np.float64(-1.0693677597045899)), (np.float64(-0.6779237607708394), np.float64(0.9321221694946289)), (np.float64(-0.3399074640462684), np.float64(0.9388075103759765)), (np.float64(-0.33992608461362145), np.float64(-0.0688216552734375)), (np.float64(-0.3394209239424407), np.float64(-0.05949639892578125)), (np.float64(-0.33927480516680936), np.float64(-2.0626971130371095)), (np.float64(-0.3394734398796973), np.float64(0.9309235382080078)), (np.float64(-0.3352041206784296), np.float64(0.931223129272461)), (np.float64(-0.33445377233520146), np.float64(1.9328907470703125)), (np.float64(-0.33836055857932884), np.float64(0.9364547576904296)), (np.float64(6.344973159762574e-05), np.float64(0.9381260070800781)), (np.float64(0.003295151970799839), np.float64(1.9395901947021483)), (np.float64(-0.32452792362358635), np.float64(0.9364793472290039)), (-0.34, np.float64(0.9342193145751954)), (0.0, np.float64(-0.04861423492431641)), (np.float64(-0.6170237816363906), np.float64(1.9309053497314452)), (np.float64(-0.3296631072862641), np.float64(2.9364588623046877)), (np.float64(-0.33990829015373775), np.float64(1.9375795822143556)), (np.float64(-0.3355237297643376), np.float64(1.9346953125)), (np.float64(-0.33762494974538354), np.float64(3.932797782897949)), (-0.34, np.float64(2.942981201171875)), (-0.34, np.float64(3.9423068313598635)), (-0.34, np.float64(3.94485009765625)), (-0.34, np.float64(2.953716640472412)), (np.float64(-0.6459177733417103), np.float64(2.9315570068359373)), (np.float64(-0.33798496288264424), np.float64(2.9328828125)), (np.float64(-0.32990160396708845), np.float64(4.935100540161133)), (np.float64(-0.679974295209254), np.float64(3.9273680572509764)), (np.float64(-0.6742828823371341), np.float64(2.9347980270385743)), (-0.68, np.float64(2.9297053070068357)), (np.float64(-0.3399330453336119), np.float64(2.9288762283325194)), (np.float64(-0.33993918623489994), np.float64(1.9318598327636718)), (np.float64(-0.3378428757933888), np.float64(2.934254196166992)), (np.float64(-0.30480141259082666), np.float64(2.933393379211426)), (np.float64(-0.6738189108983408), np.float64(1.9305876998901368)), (np.float64(-0.33937561283398104), np.float64(1.9372020950317383)), (np.float64(-0.6781711214856875), np.float64(0.9338426818847656)), (np.float64(-0.33842427944674414), np.float64(1.9387077713012695)), (np.float64(-0.3399295554910772), np.float64(0.933264389038086)), (np.float64(-0.3394536654193742), np.float64(0.9292857437133789)), (np.float64(-0.6799226360792512), np.float64(-0.07056079864501953)), (-0.34, np.float64(-1.054987808227539)), (np.float64(-0.6782549598316668), np.float64(-1.0689111251831054)), (np.float64(-0.339120546478755), np.float64(-1.0577117614746094)), (np.float64(-0.33547771927870157), np.float64(-0.06845685577392578)), (np.float64(-0.3374708504587396), np.float64(-1.0661240997314454)), (np.float64(-0.30648178897269324), np.float64(-0.06510797119140625)), (np.float64(-0.679954995464644), np.float64(0.934648551940918)), (np.float64(-0.33991413079000427), np.float64(-1.0661815643310546)), (-0.34, np.float64(-1.0702236785888672)), (-0.34, np.float64(0.9441211853027344)), (np.float64(-0.3358488646030856), np.float64(0.9329297485351562)), (np.float64(-0.33991245194451497), np.float64(1.934550407409668)), (np.float64(-0.33916084609638153), np.float64(-0.06269678497314453)), (np.float64(-0.3399269503618796), np.float64(-0.060559761047363284)), (np.float64(0.0026608291781777325), np.float64(-0.05993757629394531)), (np.float64(4.413401319479109e-05), np.float64(-0.06996571350097656)), (np.float64(-0.33417634888781855), np.float64(-1.0623462371826171)), (np.float64(-0.3399304263156942), np.float64(-1.0675711975097657)), (-0.34, np.float64(-1.0546760025024413)), (np.float64(6.95736843058372e-05), np.float64(-0.06889419555664063)), (-0.34, np.float64(-1.0719844512939454)), (-0.34, np.float64(-1.0627328643798828)), (-0.34, np.float64(-0.07009700012207032)), (-0.68, np.float64(-0.07034755706787109)), (-0.68, np.float64(-0.06701712036132812)), (-0.34, np.float64(-1.069053970336914)), (-0.34, np.float64(-0.06678398132324219)), (0.0, np.float64(-0.05807503509521485)), (np.float64(0.19746565892556273), np.float64(2.939095314025879)), (np.float64(-0.3393436735608355), np.float64(0.9403564224243164)), (np.float64(-0.33760548044441113), np.float64(1.9333068237304687)), (np.float64(-0.6723215149081075), np.float64(1.9297782440185547)), (np.float64(-0.6799192128229178), np.float64(1.932196563720703)), (np.float64(-0.6770143816680422), np.float64(0.940862548828125)), (np.float64(-0.3394339858698294), np.float64(0.9315568695068359)), (np.float64(-0.33989219295672507), np.float64(0.9367764434814453)), (np.float64(-0.6799652974843173), np.float64(0.929411994934082)), (-0.34, np.float64(-0.04286280059814453)), (np.float64(-0.32360042485439167), np.float64(0.9380322875976562)), (np.float64(-0.3347581068396192), np.float64(-0.06475593566894532)), (np.float64(-0.6760514569674392), np.float64(0.9275654602050781)), (np.float64(-0.33987999626179793), np.float64(-1.0587537994384766)), (-0.68, np.float64(-1.0682225494384765)), (np.float64(-0.33730209757181784), np.float64(-1.0593053741455078)), (np.float64(8.078717708224909e-05), np.float64(0.9297080230712891)), (np.float64(-0.33994094586220025), np.float64(0.9359980773925781)), (-0.34, np.float64(0.9444514999389648)), (np.float64(-0.339369195233272), np.float64(1.934835075378418)), (-0.34, np.float64(1.94142724609375)), (np.float64(0.01653034477956477), np.float64(1.9344564514160156)), (-0.34, np.float64(1.9428168640136718)), (np.float64(3.6392676555713105e-05), np.float64(1.9337498779296876)), (np.float64(-0.33656068453762783), np.float64(0.9368804321289063)), (0.0, np.float64(0.9431994934082031)), (np.float64(-0.33617883464327813), np.float64(-0.07018275451660157)), (np.float64(-0.3399049986186725), np.float64(-0.0668039321899414)), (np.float64(-0.33780275206360666), np.float64(1.9394444885253905)), (np.float64(-0.33991413079000427), np.float64(0.9311911239624023)), (np.float64(-0.32478944699760387), np.float64(0.9312910308837891)), (np.float64(-0.33511389434010147), np.float64(1.9379061889648437)), (np.float64(-0.6793884909730535), np.float64(1.9326613006591797)), (-0.34, np.float64(1.9445797424316407)), (np.float64(-0.3352494196479449), np.float64(2.9304188385009766)), (np.float64(-0.3385309461891624), np.float64(2.9307560424804686)), (np.float64(-0.3130088219213207), np.float64(3.9355470123291014)), (-0.34, np.float64(3.9479057731628417)), (np.float64(-0.31551880184905895), np.float64(3.9332586212158205)), (np.float64(-0.29783785141956376), np.float64(4.9353766403198245)), (-0.34, np.float64(2.9437996368408204)), (np.float64(-0.33617883469186033), np.float64(4.934068588256836)), (np.float64(-0.33933733144410877), np.float64(3.9345559997558595)), (np.float64(-0.6795599243077748), np.float64(3.928902893066406)), (np.float64(-0.33865942606561167), np.float64(1.927834846496582)), (np.float64(0.0027530514340165183), np.float64(0.9383812713623046)), (np.float64(-0.3206963895259977), np.float64(0.931522689819336)), (np.float64(-0.33940791146200283), np.float64(1.9406119384765625)), (np.float64(-0.33923205785914884), np.float64(0.9347828445434571)), (np.float64(-0.32143745954684977), np.float64(1.9365486755371093)), (np.float64(-0.6793184002986236), np.float64(0.9353547210693359)), (-0.68, np.float64(0.9336605911254883)), (np.float64(-0.33944709450368), np.float64(0.9299158020019531)), (-0.34, np.float64(0.9348803787231446)), (np.float64(-0.33543182359682194), np.float64(1.932912124633789)), (np.float64(-0.33817112148568745), np.float64(-1.0702419586181642)), (np.float64(-0.3347581068396192), np.float64(-1.0659443969726563)), (np.float64(-0.6532333980023001), np.float64(-0.06891212463378907)), (np.float64(-0.33950657700991105), np.float64(2.9312557525634766)), (0.0, np.float64(1.9479948425292968)), (np.float64(-0.3334225567898362), np.float64(2.9418700942993166)), (np.float64(-0.33432539683494783), np.float64(2.9360339431762696)), (np.float64(-0.33911486484933984), np.float64(0.9421504058837891)), (np.float64(-0.3381920227439983), np.float64(1.929579391479492)), (-0.34, np.float64(1.9467863578796387)), (np.float64(-0.6744450633875122), np.float64(1.928438232421875)), (np.float64(-0.3339065522144283), np.float64(0.9412086791992188)), (np.float64(-0.33743292391846835), np.float64(1.9379223175048828)), (np.float64(-0.3241278465025043), np.float64(1.9328035202026368)), (np.float64(-0.33998039596848056), np.float64(1.9278917388916015)), (-0.34, np.float64(0.9327686614990234)), (-0.34, np.float64(0.9414823379516601)), (-0.68, np.float64(0.9307598114013672)), (-0.68, np.float64(0.9354253387451172)), (-0.68, np.float64(0.9383102035522461)), (-0.34, np.float64(0.930445297241211)), (-0.34, np.float64(0.931815185546875)), (-0.34, np.float64(0.9326108016967773)), (0.0, np.float64(0.9280244445800782)), (np.float64(0.10458113109506223), np.float64(0.9394472503662109)), (0.0, np.float64(0.9547247924804687)), (-0.34, np.float64(0.9466862258911133)), (-0.34, np.float64(0.9308721618652344)), (np.float64(-0.3223125421265062), np.float64(2.934942367553711)), (np.float64(-0.33708483075455964), np.float64(2.9396313629150392)), (np.float64(-0.33990664007523563), np.float64(2.9394732818603515)), (np.float64(-0.6780260101873901), np.float64(2.93153702545166)), (np.float64(-0.33965998463607716), np.float64(2.9293795318603517)), (np.float64(-0.3327572497729468), np.float64(2.9358588333129885)), (np.float64(0.004522280721298447), np.float64(4.931211631774902)), (np.float64(-0.3358488646030856), np.float64(0.9308709411621093)), (0.0, np.float64(0.9424606399536133)), (-0.34, np.float64(0.9561245727539063)), (-0.34, np.float64(1.9452326736450196)), (np.float64(-0.2622677785239864), np.float64(0.9401996765136719)), (np.float64(-0.3398993235017144), np.float64(0.9412195739746094)), (np.float64(-0.3392502717039093), np.float64(0.937325424194336)), (np.float64(-0.338680495598825), np.float64(0.9330037460327149)), (np.float64(-0.33945366542610833), np.float64(0.9296930465698242)), (np.float64(-0.3343680502949772), np.float64(0.9409461212158203)), (np.float64(-0.33990994868778185), np.float64(0.9313325653076172)), (np.float64(-0.3399234959509993), np.float64(0.936473129272461)), (-0.34, np.float64(0.9439780349731446)), (-0.34, np.float64(1.9435759735107423)), (np.float64(-0.33994006587057574), np.float64(0.9339922103881836)), (np.float64(-0.3344968400354524), np.float64(1.937345962524414)), (np.float64(-0.3380054624468548), np.float64(0.9320386428833007)), (np.float64(-0.3397637545425498), np.float64(0.9362165985107422)), (np.float64(-0.33940791146200283), np.float64(-0.06005815124511719)), (np.float64(0.00022373888432993238), np.float64(0.9278108520507813)), (np.float64(-0.3159151185126063), np.float64(-0.06699569702148438)), (np.float64(-0.6792502717039094), np.float64(-0.06200144195556641)), (np.float64(-0.3368493698969091), np.float64(1.9314286804199219)), (-0.34, np.float64(1.9314121322631836)), (0.0, np.float64(0.9443977661132813)), (np.float64(-0.3169175377371527), np.float64(2.9389032897949217)), (np.float64(-0.32966310720525904), np.float64(2.9340841522216796)), (np.float64(-0.33776284665655215), np.float64(3.9348824920654297)), (np.float64(-0.33923205785914884), np.float64(2.937842300415039)), (np.float64(-0.6355075340558032), np.float64(2.932925109863281)), (np.float64(-0.6777034062883674), np.float64(2.9339984283447267)), (-0.34, np.float64(2.9335166702270508)), (np.float64(-0.2888063308713127), np.float64(3.934437568664551)), (np.float64(-0.6799558659868052), np.float64(3.928297637939453)), (np.float64(-0.6795132271379771), np.float64(2.9294741134643556)), (np.float64(-0.6701424397193703), np.float64(0.9344966430664062)), (-0.34, np.float64(1.9514714660644532)), (np.float64(-0.3340724049536819), np.float64(1.9366152572631836)), (-0.34, np.float64(-0.0498912353515625)), (np.float64(-0.33394780386860967), np.float64(2.934928695678711)), (np.float64(-0.6784668849871196), np.float64(1.9326673736572266)), (np.float64(-0.6750241714641098), np.float64(-0.06299795532226563)), (-0.68, np.float64(-0.06964523315429688)), (np.float64(-0.33989613087798964), np.float64(0.9382663879394532)), (-0.34, np.float64(0.9375305786132813)), (np.float64(-0.33462686401643316), np.float64(-0.0657158203125)), (np.float64(-0.33632151397039894), np.float64(-1.0672503204345702)), (np.float64(-0.3380054624468548), np.float64(-2.069726837158203)), (np.float64(-0.3393564041870757), np.float64(-2.067404914855957)), (np.float64(-0.6713805045563228), np.float64(-2.0671337127685545)), (np.float64(-0.6799391862349), np.float64(-1.067435432434082)), (np.float64(-0.6782971002934163), np.float64(-0.06590218353271485)), (np.float64(-0.6799025529318983), np.float64(-0.06583293914794922)), (np.float64(-0.33946024689610277), np.float64(-2.0694153289794923)), (-0.34, np.float64(-2.071088119506836)), (np.float64(-0.6769458548701387), np.float64(-1.0707445755004883)), (np.float64(-0.6704671438400079), np.float64(1.9357315063476563)), (np.float64(-0.6739478038686098), np.float64(-0.05862823486328125)), (-0.34, np.float64(0.9520951881408691)), (np.float64(-0.31951926784361945), np.float64(0.9410538101196289)), (np.float64(-0.33991245194451497), np.float64(0.9371904602050781)), (np.float64(-0.3369941234203775), np.float64(2.932185989379883)), (np.float64(-0.33993742835518076), np.float64(1.9371289825439453)), (0.0, np.float64(0.9348693542480468)), (-0.34, np.float64(0.9319545822143555)), (-0.34, np.float64(-0.06984487915039063)), (-0.34, np.float64(-0.06676390075683594)), (-0.34, np.float64(-0.05926164245605469)), (-0.68, np.float64(-0.06559298706054688)), (-0.34, np.float64(-0.05648733520507813)), (0.0, np.float64(-0.05849524688720703)), (np.float64(-0.031073223981179843), np.float64(2.9356460418701174)), (np.float64(-0.33990994868778185), np.float64(3.9333221817016604)), (np.float64(-0.3358488646030856), np.float64(4.929567596435547)), (np.float64(-0.6733742357995317), np.float64(3.930717643737793)), (np.float64(-0.3378428757933888), np.float64(2.934846733093262)), (np.float64(-0.3399391862339994), np.float64(2.930117248535156)), (0.0, np.float64(2.9530837173461912)), (np.float64(-0.32974022829540006), np.float64(1.9291748352050782)), (np.float64(-0.3348021221899115), np.float64(1.9318260955810547)), (0.0, np.float64(0.9639805450439454)), (-0.34, np.float64(-0.05301861953735352)), (np.float64(-0.3392441825189068), np.float64(-0.0650145263671875)), (-0.34, np.float64(-0.05587669372558594)), (-0.34, np.float64(-0.0566317138671875)), (np.float64(-0.3399252202639649), np.float64(-0.0628096923828125)), (np.float64(-0.6720941272026518), np.float64(0.9285)), (np.float64(-0.3079086160397346), np.float64(0.9347652435302735)), (np.float64(6.520382261884296e-05), np.float64(1.9329724655151368)), (np.float64(-0.33506896942567954), np.float64(-0.06500923156738281)), (-0.34, np.float64(-0.06535120391845703)), (np.float64(-0.3394209239424407), np.float64(0.92903076171875)), (np.float64(-0.33354164777731554), np.float64(0.9409359664916992)), (np.float64(-0.6667238904188995), np.float64(1.932177261352539)), (np.float64(-0.6799192128229178), np.float64(1.9327135925292969)), (np.float64(-0.6793564041870758), np.float64(1.934339080810547)), (np.float64(-0.3397060281735599), np.float64(1.9285120697021485)), (np.float64(-0.33827601266848795), np.float64(1.9289615173339845)), (np.float64(-0.3388521051798032), np.float64(0.9288424530029297)), (np.float64(-0.3296631072862641), np.float64(0.9377748260498047)), (np.float64(-0.32903870384940354), np.float64(1.94069091796875)), (np.float64(-0.33926250330696894), np.float64(2.9343162536621095)), (np.float64(-0.32426077915639095), np.float64(-1.0655879364013672)), (np.float64(-0.334156175691995), np.float64(-1.064270767211914)), (-0.34, np.float64(-0.05248301696777344)), (np.float64(-0.33992177778931426), np.float64(0.9345510635375976)), (np.float64(-0.338809371416103), np.float64(-0.07068071746826173)), (np.float64(-0.3393564041870757), np.float64(1.9316429443359375)), (np.float64(-0.6638632702298889), np.float64(0.9352558441162109)), (-0.34, np.float64(1.943268051147461)), (np.float64(-0.6778227869054009), np.float64(2.931164604187012)), (np.float64(-0.33990829015373775), np.float64(2.9332820587158204)), (np.float64(-0.3355698532690953), np.float64(2.936831558227539)), (0.0, np.float64(0.9620472793579101)), (np.float64(-0.3028856200091374), np.float64(0.9404814758300781)), (0.0, np.float64(1.9482350273132325)), (np.float64(-0.3392686455123904), np.float64(1.9391696624755859)), (np.float64(0.002375050234650029), np.float64(2.93299967956543)), (np.float64(-0.6442720270534867), np.float64(1.9329431610107422)), (-0.34, np.float64(3.945114631652832)), (np.float64(-0.339910781070655), np.float64(0.932120101928711)), (np.float64(-0.3355379381043969), np.float64(3.9276521453857423)), (np.float64(-0.3395532417995632), np.float64(3.9394401321411134)), (np.float64(-0.3250672629546009), np.float64(2.9386584854125974)), (np.float64(-0.33493496079007673), np.float64(2.934411590576172)), (np.float64(-0.6688089359516757), np.float64(1.937229034423828)), (np.float64(-0.6778630182239574), np.float64(1.9326331787109374))]\n"
     ]
    },
    {
     "name": "stderr",
     "output_type": "stream",
     "text": [
      "\n"
     ]
    }
   ],
   "source": [
    "N = 500\n",
    "\n",
    "eval_env = LookaheadEnv(orbit, requests, t0, t_end, agility_bangbang, field_of_regard, crosstrack_discretization, alongtrack_discretization, eval_analytic=True)\n",
    "analytic_rl_pairs = []\n",
    "state = eval_env.reset()[0]\n",
    "for i in tqdm(range(N)):\n",
    "    action, _ = model.predict(state)\n",
    "    print(action[0] * 90)\n",
    "    # pitch_deg = np.rad2deg(np.arcsin(action[1]))\n",
    "    # roll_deg = np.rad2deg(np.arcsin(action[1]))\n",
    "    # print(roll_deg)\n",
    "    state, reward, done, truncated, info = eval_env.step(action)\n",
    "    eval_env.reset()\n",
    "    analytic_rl_pairs.append((info[\"utility_analytic\"], reward))\n",
    "\n",
    "    if done:\n",
    "        state = eval_env.reset()\n",
    "\n",
    "print(analytic_rl_pairs)"
   ]
  },
  {
   "cell_type": "code",
   "execution_count": 35,
   "id": "d6b92ad3",
   "metadata": {},
   "outputs": [
    {
     "data": {
      "image/png": "[encoded data removed]",
      "text/plain": [
       "<Figure size 640x480 with 1 Axes>"
      ]
     },
     "metadata": {},
     "output_type": "display_data"
    }
   ],
   "source": [
    "analytic_utility = [x[0] for x in analytic_rl_pairs]\n",
    "rl_utility = [x[1] for x in analytic_rl_pairs]\n",
    "\n",
    "plt.scatter(analytic_utility, rl_utility)\n",
    "plt.xlabel(\"Analytic Utility\")\n",
    "plt.ylabel(\"RL Utility\")\n",
    "plt.title(\"RL vs. Analytic Utility\")\n",
    "plt.show()"
   ]
  },
  {
   "cell_type": "code",
   "execution_count": null,
   "id": "1ce1cd72",
   "metadata": {},
   "outputs": [],
   "source": []
  }
 ],
 "metadata": {
  "kernelspec": {
   "display_name": "Python 3",
   "language": "python",
   "name": "python3"
  },
  "language_info": {
   "codemirror_mode": {
    "name": "ipython",
    "version": 3
   },
   "file_extension": ".py",
   "mimetype": "text/x-python",
   "name": "python",
   "nbconvert_exporter": "python",
   "pygments_lexer": "ipython3",
   "version": "3.10.11"
  }
 },
 "nbformat": 4,
 "nbformat_minor": 5
}
