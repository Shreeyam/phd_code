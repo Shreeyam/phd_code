{
 "cells": [
  {
   "cell_type": "code",
   "execution_count": 1,
   "metadata": {},
   "outputs": [],
   "source": [
    "import numpy as np\n",
    "import matplotlib.pyplot as plt\n",
    "import matplotlib.animation as animation\n",
    "import scienceplots\n",
    "import scipy.stats as st\n",
    "plt.style.use(['science', 'grid'])\n",
    "# plt.rcParams['text.latex.preamble'] = r'''\n",
    "#     # \\usepackage[T1]{fontenc}\n",
    "#     # \\usepackage{XCharter}\n",
    "#     # \\usepackage[charter,vvarbb,scaled=1.05]{newtxmath}\n",
    "# '''\n",
    "\n",
    "plt.rcParams['text.latex.preamble'] = r'''\n",
    "        \\usepackage[T1]{fontenc}\n",
    "        \\usepackage{newtxtext,newtxmath}\n",
    "    '''\n",
    "\n",
    "import os\n",
    "import sys\n",
    "import re\n",
    "import cartopy\n",
    "import cartopy.crs as ccrs\n",
    "import cartopy.feature as cfeature\n",
    "\n",
    "from dynamic_tasker.access import *\n",
    "from dynamic_tasker.orbits import *\n",
    "from dynamic_tasker.constants import *\n",
    "from dynamic_tasker.cameras import *\n",
    "from dynamic_tasker.schedulers import *\n",
    "from dynamic_tasker.rotations import *\n",
    "from tqdm import tqdm\n",
    "\n",
    "%load_ext autoreload\n",
    "%autoreload 2\n"
   ]
  },
  {
   "cell_type": "code",
   "execution_count": null,
   "metadata": {},
   "outputs": [
    {
     "name": "stdout",
     "output_type": "stream",
     "text": [
      "3.0915926535897933\n"
     ]
    }
   ],
   "source": [
    "# Generate a schedule...\n",
    "h = 400\n",
    "os.chdir(\"./exploration\")\n",
    "requests = load_worldcities(10000)\n",
    "t0 = datetime.datetime(2024, 1, 1, 12, 0, 0)\n",
    "orbit = circular_orbit(a=Constants.R_E+h, i=np.deg2rad(51.6), Omega=np.pi - 0.05, M=np.pi/2, t=t0)\n",
    "t_end = datetime.datetime(2024, 1, 1, 12, 17, 0)\n",
    "accesses = get_accesses(requests, orbit, 500, 30, t0, t_end)\n",
    "width=800\n",
    "height=600\n",
    "t_s = 10\n",
    "t_dotsq = 4\n",
    "def agility_bangbang(theta):\n",
    "    return t_s + t_dotsq * np.sqrt(np.abs(theta))\n",
    "\n"
   ]
  },
  {
   "cell_type": "code",
   "execution_count": 3,
   "metadata": {},
   "outputs": [],
   "source": [
    "schedule = milp_schedule(accesses, requests, agility_bangbang)\n",
    "# Calculate tasks/sec\n",
    "tasks_per_sec = len(schedule) / (t_end - t0).total_seconds()\n",
    "prob_task_good = 0.34"
   ]
  },
  {
   "cell_type": "markdown",
   "metadata": {},
   "source": [
    "$$d = R \\arccos\\!\\left(\\frac{(R+h)\\sin^2\\theta + \\cos\\theta\\,\\sqrt{R^2 - (R+h)^2 \\sin^2\\theta}}{R}\\right)$$\n"
   ]
  },
  {
   "cell_type": "code",
   "execution_count": 4,
   "metadata": {},
   "outputs": [],
   "source": [
    "def ecef2pitchroll(pos_ecef, v_ecef, average_vec):\n",
    "    # Unproject test    \n",
    "    Up = pos_ecef / np.linalg.norm(pos_ecef)\n",
    "\n",
    "    Along = v_ecef / np.linalg.norm(v_ecef)\n",
    "    Right = np.cross(Along, Up)\n",
    "    Right = Right / np.linalg.norm(Right)\n",
    "\n",
    "    Along = np.cross(Up, Right)\n",
    "    Along = Along / np.linalg.norm(Along)\n",
    "\n",
    "    R_ecef_to_body = np.vstack([Right, Along, Up])\n",
    "\n",
    "    v_local = R_ecef_to_body @ average_vec\n",
    "    v_local_norm = v_local / np.linalg.norm(v_local)  # normalize for angle calculations\n",
    "\n",
    "    pitch = -np.arctan2(v_local_norm[1], v_local_norm[2])\n",
    "    roll  = -np.arctan2(v_local_norm[0], v_local_norm[2])\n",
    "\n",
    "    pitch_deg = np.degrees(pitch) * 1\n",
    "    roll_deg  = np.degrees(roll)\n",
    "\n",
    "    return pitch_deg, roll_deg\n",
    "\n",
    "def project_in_box(pitch_deg, roll_deg, orbit, K, t, accesses, points):\n",
    "    # First, project and see if it's in the box\n",
    "    points_eci = np.array([ecef2eci(p, t) for p in points])\n",
    "    ecef_projected_dir = project_from_orbit(points_eci, K, orbit, t, pitch_angle=pitch_deg, roll_angle=roll_deg)\n",
    "    # Figure out how many are in the box\n",
    "    in_box_idx = np.array([i for i, p in enumerate(ecef_projected_dir) if p[0] >= 0 and p[0] <= width and p[1] >= 0 and p[1] <= height])\n",
    "    return [a for i, a in enumerate(accesses) if i in in_box_idx], in_box_idx\n",
    "\n",
    "def filter_accesses_horizon(orbit, time, accesses):\n",
    "    return [(r, a, t, access, idx) for r, a, t, access, idx in accesses if t >= time and t <= time + datetime.timedelta(hours=1) and dist(pos_ecef, r) < horizon_distance(orbit) and a <= 30]\n",
    "\n",
    "# def evaluate_lookahead_all(time, orbit, accesses_current):\n",
    "#     accesses_filtered = filter_accesses_horizon(orbit, time, accesses_current)\n",
    "#     # Let's try evaluating on a real dataset...\n",
    "#     points = np.array([r for r, _, _, _, _ in accesses_filtered])\n",
    "#     idxs = np.array([i for _, _, _, _, i in accesses_filtered])\n",
    "    \n",
    "#     # Take the average\n",
    "#     average_vec = pos_ecef - (np.mean(points, axis=0))\n",
    "\n",
    "#     # Get the angle between that and nadir\n",
    "#     nadir = -pos_ecef/np.linalg.norm(pos_ecef)\n",
    "#     lookahead_angle = np.arccos(np.dot(-nadir, average_vec)/np.linalg.norm(average_vec))\n",
    "#     pitch_deg, roll_deg = ecef2pitchroll(pos_ecef, v_ecef, average_vec)\n",
    "\n",
    "#     projected_accesses, in_box_idx = project_in_box(pitch_deg, roll_deg, orbit, t, accesses_filtered, points)\n",
    "#     not_observed = np.array([not accesses_filtered[i][-1].state[\"observed\"] for i in in_box_idx]).astype(int)\n",
    "\n",
    "#     total_unobserved_inbox = np.sum(not_observed)\n",
    "#     reward = total_unobserved_inbox * 1\n",
    "#     action=(pitch_deg, roll_deg)\n",
    "\n",
    "#     return action, reward\n",
    "\n",
    "def analytic_chain_probability(L, lam, M, c):\n",
    "    if L < (M-1)*c:\n",
    "        return 0.0\n",
    "    x = L - (M-1)*c\n",
    "    # Note: scipy's gamma.cdf(x, a, scale) uses 'a' as the shape and scale=1/rate.\n",
    "    return st.gamma.cdf(x, a=M-1, scale=1/lam)\n",
    "\n",
    "def expected_advantage(N, t_total, t_gap, A_min, A_max):\n",
    "   all_adv = np.arange(A_min, A_max+1)\n",
    "\n",
    "   probabilities = np.array([analytic_chain_probability(t_total, N/t_total * 1/3, adv + 2, t_gap) for adv in all_adv])\n",
    "   probabilities = [probabilities[i] - probabilities[i+1] for i in range(len(probabilities)-1)]\n",
    "   probabilities = np.append(probabilities, probabilities[-1])\n",
    "   \n",
    "   return np.sum(probabilities * all_adv)\n",
    "\n",
    "def actual_advantage(pitch_deg, roll_deg, orbit, K, time, accesses_filtered, points, schedule):\n",
    "    accesses_inbox, in_box_idx = project_in_box(pitch_deg, roll_deg, orbit, K, time, accesses_filtered, points)\n",
    "    N = len([a for a in accesses_inbox if a[3].state[\"observed\"] == False]) * 0.34\n",
    "    adv = 0\n",
    "    if(N > 0):\n",
    "        t_total = np.max([a[2] for a in accesses_inbox]) - np.min([a[2] for a in accesses_inbox])\n",
    "        t_gap = agility_bangbang(30)\n",
    "\n",
    "        if(t_total.total_seconds() > 0):\n",
    "            adv = expected_advantage(N, t_total.total_seconds(), t_gap, 2, 40)\n",
    "\n",
    "    # Now calculate cost...\n",
    "    # Check how many tasks in the schedul we miss\n",
    "    schedule_filtered = [s for s in schedule if s.time > time and s.time <= time + datetime.timedelta(hours=1)]\n",
    "    # Total lookahead maneuver time\n",
    "    # No setting time for lookahead\n",
    "    # Assume 20 deg boresight angle\n",
    "    t_maneuver = 2 * (agility_bangbang(pitch_deg - 35)) - agility_bangbang(0)\n",
    "\n",
    "    schedule_missed = [s for s in schedule_filtered if time + datetime.timedelta(seconds=t_maneuver) > s.time]\n",
    "\n",
    "    cost = len(schedule_missed) * 0.34\n",
    "    utility = adv - cost\n",
    "    missed = len(schedule_missed)\n",
    "    return accesses_inbox, in_box_idx, utility, adv, cost, missed, t_maneuver\n",
    "\n",
    "def evaluate_lookahead_chain(time, orbit, accesses_current, K):\n",
    "    accesses_filtered = filter_accesses_horizon(orbit, time, accesses_current)\n",
    "    # Let's do a test to figure out what the heuristic will do best at...\n",
    "    points = np.array([r for r, _, _, _, _ in accesses_filtered])\n",
    "    idxs = np.array([i for _, _, _, _, i in accesses_filtered])\n",
    "\n",
    "    roll_deg = 0\n",
    "    pitch_degs = np.linspace(0, 70)\n",
    "\n",
    "    expected_utilities = []\n",
    "    expected_advantages = []\n",
    "    expected_costs = []\n",
    "    for pitch_deg in pitch_degs:\n",
    "        _, _, utility, adv, cost, _, _ = actual_advantage(pitch_deg, roll_deg, orbit, K, time, accesses_filtered, points, schedule)\n",
    "        \n",
    "        expected_utilities.append(utility)\n",
    "        expected_advantages.append(adv)\n",
    "        expected_costs.append(cost)\n",
    "\n",
    "    # Find the maximum advantage\n",
    "    max_adv = np.max(expected_utilities)\n",
    "    max_idx = np.argmax(expected_utilities)\n",
    "    # Find the pitch angle that gives the maximum advantage\n",
    "    best_pitch_deg = pitch_degs[max_idx]\n",
    "\n",
    "    # Recalculate in box\n",
    "    accesses_inbox, in_box_idx, utility, adv, cost, missed, t_maneuver = actual_advantage(best_pitch_deg, roll_deg, orbit, K, time, accesses_filtered, points, schedule)\n",
    "\n",
    "    mapped_in_box_idx = [idxs[i] for i in in_box_idx]\n",
    "    # Recalculate utility\n",
    "\n",
    "    return ((best_pitch_deg, roll_deg), mapped_in_box_idx, expected_utilities, expected_advantages, expected_costs, utility, adv, cost, missed, t_maneuver)\n",
    "\n",
    "def roll2crosstrack(angle, h):\n",
    "    R = Constants.R_E\n",
    "    theta = np.radians(angle)\n",
    "    return np.sign(theta) *  R * np.arccos(((R + h) * (np.sin(theta)) ** 2 + np.cos(theta) * np.sqrt(R**2 - ((R + h)**2) * (np.sin(theta) ** 2)))/(R))\n",
    "\n",
    "def subtending_angle_from_fov(fov, h):\n",
    "    sign = np.sign(fov)\n",
    "    angle = np.abs(fov)\n",
    "    beta = np.pi - np.arcsin((Constants.R_E + h)/(Constants.R_E) * np.sin(angle)) # obtuse angle\n",
    "    \n",
    "    theta = np.pi - (angle + beta)\n",
    "    return theta * sign\n",
    "\n",
    "def accesses2track(accesses, orbit, t0, t_end):\n",
    "    v_orbit = v_orb(orbit.a - Constants.R_E)\n",
    "    # Along, across...\n",
    "    track = [(a.time - t0).total_seconds() * v_orbit for a in accesses]\n",
    "    roll2cr = [roll2crosstrack(a.angle, orbit.a - Constants.R_E) for a in accesses]\n",
    "    \n",
    "    return track, roll2cr\n",
    "\n",
    "for a in accesses:\n",
    "    a.state = {\"observed\": False}\n",
    "\n"
   ]
  },
  {
   "cell_type": "code",
   "execution_count": 5,
   "metadata": {},
   "outputs": [
    {
     "name": "stderr",
     "output_type": "stream",
     "text": [
      "  0%|          | 0/100 [00:00<?, ?it/s]"
     ]
    },
    {
     "name": "stdout",
     "output_type": "stream",
     "text": [
      "42 17\n"
     ]
    },
    {
     "name": "stderr",
     "output_type": "stream",
     "text": [
      "  1%|          | 1/100 [00:06<10:31,  6.38s/it]"
     ]
    },
    {
     "name": "stdout",
     "output_type": "stream",
     "text": [
      "42 17\n"
     ]
    },
    {
     "name": "stderr",
     "output_type": "stream",
     "text": [
      "  2%|▏         | 2/100 [00:13<10:39,  6.53s/it]"
     ]
    },
    {
     "name": "stdout",
     "output_type": "stream",
     "text": [
      "42 13\n"
     ]
    },
    {
     "name": "stderr",
     "output_type": "stream",
     "text": [
      "  3%|▎         | 3/100 [00:19<10:24,  6.44s/it]"
     ]
    },
    {
     "name": "stdout",
     "output_type": "stream",
     "text": [
      "42 17\n"
     ]
    },
    {
     "name": "stderr",
     "output_type": "stream",
     "text": [
      "  4%|▍         | 4/100 [00:35<16:25, 10.27s/it]"
     ]
    },
    {
     "name": "stdout",
     "output_type": "stream",
     "text": [
      "42 8\n"
     ]
    },
    {
     "name": "stderr",
     "output_type": "stream",
     "text": [
      "  5%|▌         | 5/100 [00:41<14:03,  8.88s/it]"
     ]
    },
    {
     "name": "stdout",
     "output_type": "stream",
     "text": [
      "42 15\n"
     ]
    },
    {
     "name": "stderr",
     "output_type": "stream",
     "text": [
      "  6%|▌         | 6/100 [00:48<12:42,  8.11s/it]"
     ]
    },
    {
     "name": "stdout",
     "output_type": "stream",
     "text": [
      "42 18\n"
     ]
    },
    {
     "name": "stderr",
     "output_type": "stream",
     "text": [
      "  7%|▋         | 7/100 [00:57<13:15,  8.56s/it]"
     ]
    },
    {
     "name": "stdout",
     "output_type": "stream",
     "text": [
      "42 14\n"
     ]
    },
    {
     "name": "stderr",
     "output_type": "stream",
     "text": [
      "  8%|▊         | 8/100 [01:04<12:07,  7.90s/it]"
     ]
    },
    {
     "name": "stdout",
     "output_type": "stream",
     "text": [
      "42 13\n"
     ]
    },
    {
     "name": "stderr",
     "output_type": "stream",
     "text": [
      "  9%|▉         | 9/100 [01:10<11:11,  7.38s/it]"
     ]
    },
    {
     "name": "stdout",
     "output_type": "stream",
     "text": [
      "42 21\n"
     ]
    },
    {
     "name": "stderr",
     "output_type": "stream",
     "text": [
      " 10%|█         | 10/100 [01:17<10:49,  7.21s/it]"
     ]
    },
    {
     "name": "stdout",
     "output_type": "stream",
     "text": [
      "42 11\n"
     ]
    },
    {
     "name": "stderr",
     "output_type": "stream",
     "text": [
      " 11%|█         | 11/100 [01:24<10:31,  7.09s/it]"
     ]
    },
    {
     "name": "stdout",
     "output_type": "stream",
     "text": [
      "42 13\n"
     ]
    },
    {
     "name": "stderr",
     "output_type": "stream",
     "text": [
      " 12%|█▏        | 12/100 [01:30<10:10,  6.94s/it]"
     ]
    },
    {
     "name": "stdout",
     "output_type": "stream",
     "text": [
      "42 15\n"
     ]
    },
    {
     "name": "stderr",
     "output_type": "stream",
     "text": [
      " 13%|█▎        | 13/100 [01:37<10:05,  6.96s/it]"
     ]
    },
    {
     "name": "stdout",
     "output_type": "stream",
     "text": [
      "42 19\n"
     ]
    },
    {
     "name": "stderr",
     "output_type": "stream",
     "text": [
      " 14%|█▍        | 14/100 [01:44<09:55,  6.93s/it]"
     ]
    },
    {
     "name": "stdout",
     "output_type": "stream",
     "text": [
      "42 11\n"
     ]
    },
    {
     "name": "stderr",
     "output_type": "stream",
     "text": [
      " 15%|█▌        | 15/100 [01:51<09:40,  6.83s/it]"
     ]
    },
    {
     "name": "stdout",
     "output_type": "stream",
     "text": [
      "42 17\n"
     ]
    },
    {
     "name": "stderr",
     "output_type": "stream",
     "text": [
      " 16%|█▌        | 16/100 [01:58<09:36,  6.86s/it]"
     ]
    },
    {
     "name": "stdout",
     "output_type": "stream",
     "text": [
      "42 14\n"
     ]
    },
    {
     "name": "stderr",
     "output_type": "stream",
     "text": [
      " 17%|█▋        | 17/100 [02:14<13:30,  9.76s/it]"
     ]
    },
    {
     "name": "stdout",
     "output_type": "stream",
     "text": [
      "42 15\n"
     ]
    },
    {
     "name": "stderr",
     "output_type": "stream",
     "text": [
      " 18%|█▊        | 18/100 [02:23<12:52,  9.42s/it]"
     ]
    },
    {
     "name": "stdout",
     "output_type": "stream",
     "text": [
      "42 13\n"
     ]
    },
    {
     "name": "stderr",
     "output_type": "stream",
     "text": [
      " 19%|█▉        | 19/100 [02:31<12:06,  8.97s/it]"
     ]
    },
    {
     "name": "stdout",
     "output_type": "stream",
     "text": [
      "42 11\n"
     ]
    },
    {
     "name": "stderr",
     "output_type": "stream",
     "text": [
      " 20%|██        | 20/100 [02:39<11:45,  8.81s/it]"
     ]
    },
    {
     "name": "stdout",
     "output_type": "stream",
     "text": [
      "42 13\n"
     ]
    },
    {
     "name": "stderr",
     "output_type": "stream",
     "text": [
      " 21%|██        | 21/100 [02:47<11:19,  8.60s/it]"
     ]
    },
    {
     "name": "stdout",
     "output_type": "stream",
     "text": [
      "42 14\n"
     ]
    },
    {
     "name": "stderr",
     "output_type": "stream",
     "text": [
      " 22%|██▏       | 22/100 [02:56<11:14,  8.65s/it]"
     ]
    },
    {
     "name": "stdout",
     "output_type": "stream",
     "text": [
      "42 8\n"
     ]
    },
    {
     "name": "stderr",
     "output_type": "stream",
     "text": [
      " 23%|██▎       | 23/100 [03:06<11:39,  9.08s/it]"
     ]
    },
    {
     "name": "stdout",
     "output_type": "stream",
     "text": [
      "42 11\n"
     ]
    },
    {
     "name": "stderr",
     "output_type": "stream",
     "text": [
      " 24%|██▍       | 24/100 [03:15<11:29,  9.07s/it]"
     ]
    },
    {
     "name": "stdout",
     "output_type": "stream",
     "text": [
      "42 17\n"
     ]
    },
    {
     "name": "stderr",
     "output_type": "stream",
     "text": [
      " 25%|██▌       | 25/100 [03:25<11:34,  9.26s/it]"
     ]
    },
    {
     "name": "stdout",
     "output_type": "stream",
     "text": [
      "42 14\n"
     ]
    },
    {
     "name": "stderr",
     "output_type": "stream",
     "text": [
      " 26%|██▌       | 26/100 [03:47<16:11, 13.13s/it]"
     ]
    },
    {
     "name": "stdout",
     "output_type": "stream",
     "text": [
      "42 14\n"
     ]
    },
    {
     "name": "stderr",
     "output_type": "stream",
     "text": [
      " 27%|██▋       | 27/100 [03:55<14:11, 11.67s/it]"
     ]
    },
    {
     "name": "stdout",
     "output_type": "stream",
     "text": [
      "42 11\n"
     ]
    },
    {
     "name": "stderr",
     "output_type": "stream",
     "text": [
      " 28%|██▊       | 28/100 [04:04<12:54, 10.76s/it]"
     ]
    },
    {
     "name": "stdout",
     "output_type": "stream",
     "text": [
      "42 11\n"
     ]
    },
    {
     "name": "stderr",
     "output_type": "stream",
     "text": [
      " 29%|██▉       | 29/100 [04:12<11:46,  9.95s/it]"
     ]
    },
    {
     "name": "stdout",
     "output_type": "stream",
     "text": [
      "42 10\n"
     ]
    },
    {
     "name": "stderr",
     "output_type": "stream",
     "text": [
      " 30%|███       | 30/100 [04:21<11:17,  9.67s/it]"
     ]
    },
    {
     "name": "stdout",
     "output_type": "stream",
     "text": [
      "42 12\n"
     ]
    },
    {
     "name": "stderr",
     "output_type": "stream",
     "text": [
      " 31%|███       | 31/100 [04:36<12:47, 11.12s/it]"
     ]
    },
    {
     "name": "stdout",
     "output_type": "stream",
     "text": [
      "42 11\n"
     ]
    },
    {
     "name": "stderr",
     "output_type": "stream",
     "text": [
      " 32%|███▏      | 32/100 [04:55<15:19, 13.52s/it]"
     ]
    },
    {
     "name": "stdout",
     "output_type": "stream",
     "text": [
      "42 15\n"
     ]
    },
    {
     "name": "stderr",
     "output_type": "stream",
     "text": [
      " 33%|███▎      | 33/100 [05:12<16:15, 14.56s/it]"
     ]
    },
    {
     "name": "stdout",
     "output_type": "stream",
     "text": [
      "42 18\n"
     ]
    },
    {
     "name": "stderr",
     "output_type": "stream",
     "text": [
      " 34%|███▍      | 34/100 [05:28<16:35, 15.08s/it]"
     ]
    },
    {
     "name": "stdout",
     "output_type": "stream",
     "text": [
      "42 18\n"
     ]
    },
    {
     "name": "stderr",
     "output_type": "stream",
     "text": [
      " 35%|███▌      | 35/100 [06:09<24:37, 22.72s/it]"
     ]
    },
    {
     "name": "stdout",
     "output_type": "stream",
     "text": [
      "42 11\n"
     ]
    },
    {
     "name": "stderr",
     "output_type": "stream",
     "text": [
      " 36%|███▌      | 36/100 [06:26<22:32, 21.14s/it]"
     ]
    },
    {
     "name": "stdout",
     "output_type": "stream",
     "text": [
      "42 19\n"
     ]
    },
    {
     "name": "stderr",
     "output_type": "stream",
     "text": [
      " 37%|███▋      | 37/100 [06:54<24:15, 23.11s/it]"
     ]
    },
    {
     "name": "stdout",
     "output_type": "stream",
     "text": [
      "42 15\n"
     ]
    },
    {
     "name": "stderr",
     "output_type": "stream",
     "text": [
      " 38%|███▊      | 38/100 [07:11<21:59, 21.28s/it]"
     ]
    },
    {
     "name": "stdout",
     "output_type": "stream",
     "text": [
      "42 19\n"
     ]
    },
    {
     "name": "stderr",
     "output_type": "stream",
     "text": [
      " 39%|███▉      | 39/100 [07:59<29:45, 29.26s/it]"
     ]
    },
    {
     "name": "stdout",
     "output_type": "stream",
     "text": [
      "42 19\n"
     ]
    },
    {
     "name": "stderr",
     "output_type": "stream",
     "text": [
      " 40%|████      | 40/100 [08:16<25:39, 25.66s/it]"
     ]
    },
    {
     "name": "stdout",
     "output_type": "stream",
     "text": [
      "42 10\n"
     ]
    },
    {
     "name": "stderr",
     "output_type": "stream",
     "text": [
      " 41%|████      | 41/100 [08:32<22:16, 22.65s/it]"
     ]
    },
    {
     "name": "stdout",
     "output_type": "stream",
     "text": [
      "42 15\n"
     ]
    },
    {
     "name": "stderr",
     "output_type": "stream",
     "text": [
      " 42%|████▏     | 42/100 [08:50<20:36, 21.32s/it]"
     ]
    },
    {
     "name": "stdout",
     "output_type": "stream",
     "text": [
      "42 16\n"
     ]
    },
    {
     "name": "stderr",
     "output_type": "stream",
     "text": [
      " 43%|████▎     | 43/100 [09:05<18:36, 19.58s/it]"
     ]
    },
    {
     "name": "stdout",
     "output_type": "stream",
     "text": [
      "42 15\n"
     ]
    },
    {
     "name": "stderr",
     "output_type": "stream",
     "text": [
      " 44%|████▍     | 44/100 [09:21<17:05, 18.31s/it]"
     ]
    },
    {
     "name": "stdout",
     "output_type": "stream",
     "text": [
      "42 14\n"
     ]
    },
    {
     "name": "stderr",
     "output_type": "stream",
     "text": [
      " 45%|████▌     | 45/100 [09:37<16:07, 17.59s/it]"
     ]
    },
    {
     "name": "stdout",
     "output_type": "stream",
     "text": [
      "42 16\n"
     ]
    },
    {
     "name": "stderr",
     "output_type": "stream",
     "text": [
      " 46%|████▌     | 46/100 [09:53<15:34, 17.31s/it]"
     ]
    },
    {
     "name": "stdout",
     "output_type": "stream",
     "text": [
      "42 23\n"
     ]
    },
    {
     "name": "stderr",
     "output_type": "stream",
     "text": [
      " 47%|████▋     | 47/100 [10:10<15:09, 17.15s/it]"
     ]
    },
    {
     "name": "stdout",
     "output_type": "stream",
     "text": [
      "42 16\n"
     ]
    },
    {
     "name": "stderr",
     "output_type": "stream",
     "text": [
      " 48%|████▊     | 48/100 [10:26<14:33, 16.80s/it]"
     ]
    },
    {
     "name": "stdout",
     "output_type": "stream",
     "text": [
      "42 16\n"
     ]
    },
    {
     "name": "stderr",
     "output_type": "stream",
     "text": [
      " 49%|████▉     | 49/100 [11:00<18:46, 22.08s/it]"
     ]
    },
    {
     "name": "stdout",
     "output_type": "stream",
     "text": [
      "42 11\n"
     ]
    },
    {
     "name": "stderr",
     "output_type": "stream",
     "text": [
      " 50%|█████     | 50/100 [11:39<22:26, 26.93s/it]"
     ]
    },
    {
     "name": "stdout",
     "output_type": "stream",
     "text": [
      "42 17\n"
     ]
    },
    {
     "name": "stderr",
     "output_type": "stream",
     "text": [
      " 51%|█████     | 51/100 [12:09<22:55, 28.08s/it]"
     ]
    },
    {
     "name": "stdout",
     "output_type": "stream",
     "text": [
      "42 12\n"
     ]
    },
    {
     "name": "stderr",
     "output_type": "stream",
     "text": [
      " 52%|█████▏    | 52/100 [12:26<19:41, 24.62s/it]"
     ]
    },
    {
     "name": "stdout",
     "output_type": "stream",
     "text": [
      "42 14\n"
     ]
    },
    {
     "name": "stderr",
     "output_type": "stream",
     "text": [
      " 53%|█████▎    | 53/100 [12:42<17:17, 22.06s/it]"
     ]
    },
    {
     "name": "stdout",
     "output_type": "stream",
     "text": [
      "42 12\n"
     ]
    },
    {
     "name": "stderr",
     "output_type": "stream",
     "text": [
      " 54%|█████▍    | 54/100 [12:59<15:40, 20.45s/it]"
     ]
    },
    {
     "name": "stdout",
     "output_type": "stream",
     "text": [
      "42 15\n"
     ]
    },
    {
     "name": "stderr",
     "output_type": "stream",
     "text": [
      " 55%|█████▌    | 55/100 [13:09<13:07, 17.50s/it]"
     ]
    },
    {
     "name": "stdout",
     "output_type": "stream",
     "text": [
      "42 15\n"
     ]
    },
    {
     "name": "stderr",
     "output_type": "stream",
     "text": [
      " 56%|█████▌    | 56/100 [13:19<10:59, 14.98s/it]"
     ]
    },
    {
     "name": "stdout",
     "output_type": "stream",
     "text": [
      "42 19\n"
     ]
    },
    {
     "name": "stderr",
     "output_type": "stream",
     "text": [
      " 57%|█████▋    | 57/100 [13:27<09:18, 12.98s/it]"
     ]
    },
    {
     "name": "stdout",
     "output_type": "stream",
     "text": [
      "42 11\n"
     ]
    },
    {
     "name": "stderr",
     "output_type": "stream",
     "text": [
      " 58%|█████▊    | 58/100 [13:35<08:07, 11.60s/it]"
     ]
    },
    {
     "name": "stdout",
     "output_type": "stream",
     "text": [
      "42 15\n"
     ]
    },
    {
     "name": "stderr",
     "output_type": "stream",
     "text": [
      " 59%|█████▉    | 59/100 [13:43<07:14, 10.60s/it]"
     ]
    },
    {
     "name": "stdout",
     "output_type": "stream",
     "text": [
      "42 19\n"
     ]
    },
    {
     "name": "stderr",
     "output_type": "stream",
     "text": [
      " 60%|██████    | 60/100 [13:53<06:50, 10.27s/it]"
     ]
    },
    {
     "name": "stdout",
     "output_type": "stream",
     "text": [
      "42 14\n"
     ]
    },
    {
     "name": "stderr",
     "output_type": "stream",
     "text": [
      " 61%|██████    | 61/100 [14:02<06:20,  9.76s/it]"
     ]
    },
    {
     "name": "stdout",
     "output_type": "stream",
     "text": [
      "42 20\n"
     ]
    },
    {
     "name": "stderr",
     "output_type": "stream",
     "text": [
      " 62%|██████▏   | 62/100 [14:10<06:00,  9.48s/it]"
     ]
    },
    {
     "name": "stdout",
     "output_type": "stream",
     "text": [
      "42 18\n"
     ]
    },
    {
     "name": "stderr",
     "output_type": "stream",
     "text": [
      " 63%|██████▎   | 63/100 [14:19<05:37,  9.12s/it]"
     ]
    },
    {
     "name": "stdout",
     "output_type": "stream",
     "text": [
      "42 18\n"
     ]
    },
    {
     "name": "stderr",
     "output_type": "stream",
     "text": [
      " 64%|██████▍   | 64/100 [14:26<05:14,  8.73s/it]"
     ]
    },
    {
     "name": "stdout",
     "output_type": "stream",
     "text": [
      "42 16\n"
     ]
    },
    {
     "name": "stderr",
     "output_type": "stream",
     "text": [
      " 65%|██████▌   | 65/100 [14:35<05:03,  8.68s/it]"
     ]
    },
    {
     "name": "stdout",
     "output_type": "stream",
     "text": [
      "42 13\n"
     ]
    },
    {
     "name": "stderr",
     "output_type": "stream",
     "text": [
      " 66%|██████▌   | 66/100 [14:48<05:37,  9.92s/it]"
     ]
    },
    {
     "name": "stdout",
     "output_type": "stream",
     "text": [
      "42 16\n"
     ]
    },
    {
     "name": "stderr",
     "output_type": "stream",
     "text": [
      " 67%|██████▋   | 67/100 [15:05<06:40, 12.14s/it]"
     ]
    },
    {
     "name": "stdout",
     "output_type": "stream",
     "text": [
      "42 16\n"
     ]
    },
    {
     "name": "stderr",
     "output_type": "stream",
     "text": [
      " 68%|██████▊   | 68/100 [15:16<06:13, 11.68s/it]"
     ]
    },
    {
     "name": "stdout",
     "output_type": "stream",
     "text": [
      "42 13\n"
     ]
    },
    {
     "name": "stderr",
     "output_type": "stream",
     "text": [
      " 69%|██████▉   | 69/100 [15:24<05:34, 10.78s/it]"
     ]
    },
    {
     "name": "stdout",
     "output_type": "stream",
     "text": [
      "42 16\n"
     ]
    },
    {
     "name": "stderr",
     "output_type": "stream",
     "text": [
      " 70%|███████   | 70/100 [15:33<05:04, 10.14s/it]"
     ]
    },
    {
     "name": "stdout",
     "output_type": "stream",
     "text": [
      "42 17\n"
     ]
    },
    {
     "name": "stderr",
     "output_type": "stream",
     "text": [
      " 71%|███████   | 71/100 [15:41<04:34,  9.45s/it]"
     ]
    },
    {
     "name": "stdout",
     "output_type": "stream",
     "text": [
      "42 9\n"
     ]
    },
    {
     "name": "stderr",
     "output_type": "stream",
     "text": [
      " 72%|███████▏  | 72/100 [15:49<04:12,  9.03s/it]"
     ]
    },
    {
     "name": "stdout",
     "output_type": "stream",
     "text": [
      "42 10\n"
     ]
    },
    {
     "name": "stderr",
     "output_type": "stream",
     "text": [
      " 73%|███████▎  | 73/100 [15:57<03:55,  8.73s/it]"
     ]
    },
    {
     "name": "stdout",
     "output_type": "stream",
     "text": [
      "42 12\n"
     ]
    },
    {
     "name": "stderr",
     "output_type": "stream",
     "text": [
      " 74%|███████▍  | 74/100 [16:06<03:47,  8.75s/it]"
     ]
    },
    {
     "name": "stdout",
     "output_type": "stream",
     "text": [
      "42 12\n"
     ]
    },
    {
     "name": "stderr",
     "output_type": "stream",
     "text": [
      " 75%|███████▌  | 75/100 [16:14<03:33,  8.56s/it]"
     ]
    },
    {
     "name": "stdout",
     "output_type": "stream",
     "text": [
      "42 16\n"
     ]
    },
    {
     "name": "stderr",
     "output_type": "stream",
     "text": [
      " 76%|███████▌  | 76/100 [16:23<03:28,  8.68s/it]"
     ]
    },
    {
     "name": "stdout",
     "output_type": "stream",
     "text": [
      "42 10\n"
     ]
    },
    {
     "name": "stderr",
     "output_type": "stream",
     "text": [
      " 77%|███████▋  | 77/100 [16:31<03:14,  8.45s/it]"
     ]
    },
    {
     "name": "stdout",
     "output_type": "stream",
     "text": [
      "42 11\n"
     ]
    },
    {
     "name": "stderr",
     "output_type": "stream",
     "text": [
      " 78%|███████▊  | 78/100 [16:39<03:07,  8.50s/it]"
     ]
    },
    {
     "name": "stdout",
     "output_type": "stream",
     "text": [
      "42 13\n"
     ]
    },
    {
     "name": "stderr",
     "output_type": "stream",
     "text": [
      " 79%|███████▉  | 79/100 [16:54<03:38, 10.39s/it]"
     ]
    },
    {
     "name": "stdout",
     "output_type": "stream",
     "text": [
      "42 20\n"
     ]
    },
    {
     "name": "stderr",
     "output_type": "stream",
     "text": [
      " 80%|████████  | 80/100 [17:04<03:23, 10.17s/it]"
     ]
    },
    {
     "name": "stdout",
     "output_type": "stream",
     "text": [
      "42 15\n"
     ]
    },
    {
     "name": "stderr",
     "output_type": "stream",
     "text": [
      " 81%|████████  | 81/100 [17:31<04:48, 15.17s/it]"
     ]
    },
    {
     "name": "stdout",
     "output_type": "stream",
     "text": [
      "42 9\n"
     ]
    },
    {
     "name": "stderr",
     "output_type": "stream",
     "text": [
      " 82%|████████▏ | 82/100 [17:40<04:00, 13.36s/it]"
     ]
    },
    {
     "name": "stdout",
     "output_type": "stream",
     "text": [
      "42 16\n"
     ]
    },
    {
     "name": "stderr",
     "output_type": "stream",
     "text": [
      " 83%|████████▎ | 83/100 [17:48<03:18, 11.70s/it]"
     ]
    },
    {
     "name": "stdout",
     "output_type": "stream",
     "text": [
      "42 14\n"
     ]
    },
    {
     "name": "stderr",
     "output_type": "stream",
     "text": [
      " 84%|████████▍ | 84/100 [17:56<02:51, 10.74s/it]"
     ]
    },
    {
     "name": "stdout",
     "output_type": "stream",
     "text": [
      "42 14\n"
     ]
    },
    {
     "name": "stderr",
     "output_type": "stream",
     "text": [
      " 85%|████████▌ | 85/100 [18:05<02:31, 10.07s/it]"
     ]
    },
    {
     "name": "stdout",
     "output_type": "stream",
     "text": [
      "42 17\n"
     ]
    },
    {
     "name": "stderr",
     "output_type": "stream",
     "text": [
      " 86%|████████▌ | 86/100 [18:13<02:14,  9.57s/it]"
     ]
    },
    {
     "name": "stdout",
     "output_type": "stream",
     "text": [
      "42 9\n"
     ]
    },
    {
     "name": "stderr",
     "output_type": "stream",
     "text": [
      " 87%|████████▋ | 87/100 [18:21<01:59,  9.22s/it]"
     ]
    },
    {
     "name": "stdout",
     "output_type": "stream",
     "text": [
      "42 18\n"
     ]
    },
    {
     "name": "stderr",
     "output_type": "stream",
     "text": [
      " 88%|████████▊ | 88/100 [18:30<01:47,  8.92s/it]"
     ]
    },
    {
     "name": "stdout",
     "output_type": "stream",
     "text": [
      "42 17\n"
     ]
    },
    {
     "name": "stderr",
     "output_type": "stream",
     "text": [
      " 89%|████████▉ | 89/100 [18:38<01:36,  8.80s/it]"
     ]
    },
    {
     "name": "stdout",
     "output_type": "stream",
     "text": [
      "42 11\n"
     ]
    },
    {
     "name": "stderr",
     "output_type": "stream",
     "text": [
      " 90%|█████████ | 90/100 [18:47<01:26,  8.67s/it]"
     ]
    },
    {
     "name": "stdout",
     "output_type": "stream",
     "text": [
      "42 16\n"
     ]
    },
    {
     "name": "stderr",
     "output_type": "stream",
     "text": [
      " 91%|█████████ | 91/100 [18:55<01:16,  8.53s/it]"
     ]
    },
    {
     "name": "stdout",
     "output_type": "stream",
     "text": [
      "42 8\n"
     ]
    },
    {
     "name": "stderr",
     "output_type": "stream",
     "text": [
      " 92%|█████████▏| 92/100 [19:04<01:09,  8.70s/it]"
     ]
    },
    {
     "name": "stdout",
     "output_type": "stream",
     "text": [
      "42 10\n"
     ]
    },
    {
     "name": "stderr",
     "output_type": "stream",
     "text": [
      " 93%|█████████▎| 93/100 [19:12<00:58,  8.42s/it]"
     ]
    },
    {
     "name": "stdout",
     "output_type": "stream",
     "text": [
      "42 13\n"
     ]
    },
    {
     "name": "stderr",
     "output_type": "stream",
     "text": [
      " 94%|█████████▍| 94/100 [19:20<00:49,  8.33s/it]"
     ]
    },
    {
     "name": "stdout",
     "output_type": "stream",
     "text": [
      "42 14\n"
     ]
    },
    {
     "name": "stderr",
     "output_type": "stream",
     "text": [
      " 95%|█████████▌| 95/100 [19:28<00:41,  8.22s/it]"
     ]
    },
    {
     "name": "stdout",
     "output_type": "stream",
     "text": [
      "42 14\n"
     ]
    },
    {
     "name": "stderr",
     "output_type": "stream",
     "text": [
      " 96%|█████████▌| 96/100 [19:36<00:32,  8.20s/it]"
     ]
    },
    {
     "name": "stdout",
     "output_type": "stream",
     "text": [
      "42 15\n"
     ]
    },
    {
     "name": "stderr",
     "output_type": "stream",
     "text": [
      " 97%|█████████▋| 97/100 [19:44<00:24,  8.18s/it]"
     ]
    },
    {
     "name": "stdout",
     "output_type": "stream",
     "text": [
      "42 11\n"
     ]
    },
    {
     "name": "stderr",
     "output_type": "stream",
     "text": [
      " 98%|█████████▊| 98/100 [19:52<00:16,  8.20s/it]"
     ]
    },
    {
     "name": "stdout",
     "output_type": "stream",
     "text": [
      "42 14\n"
     ]
    },
    {
     "name": "stderr",
     "output_type": "stream",
     "text": [
      " 99%|█████████▉| 99/100 [20:01<00:08,  8.27s/it]"
     ]
    },
    {
     "name": "stdout",
     "output_type": "stream",
     "text": [
      "42 12\n"
     ]
    },
    {
     "name": "stderr",
     "output_type": "stream",
     "text": [
      "100%|██████████| 100/100 [20:09<00:00, 12.10s/it]\n"
     ]
    },
    {
     "name": "stdout",
     "output_type": "stream",
     "text": [
      "17 17\n"
     ]
    },
    {
     "ename": "ValueError",
     "evalue": "Axes should be an instance of GeoAxes, got <class 'matplotlib.axes._axes.Axes'>",
     "output_type": "error",
     "traceback": [
      "\u001b[31m---------------------------------------------------------------------------\u001b[39m",
      "\u001b[31mValueError\u001b[39m                                Traceback (most recent call last)",
      "\u001b[36mCell\u001b[39m\u001b[36m \u001b[39m\u001b[32mIn[5]\u001b[39m\u001b[32m, line 119\u001b[39m\n\u001b[32m    116\u001b[39m \u001b[38;5;28mprint\u001b[39m(\u001b[38;5;28mlen\u001b[39m(schedule), \u001b[38;5;28mlen\u001b[39m([s \u001b[38;5;28;01mfor\u001b[39;00m s \u001b[38;5;129;01min\u001b[39;00m schedule \u001b[38;5;28;01mif\u001b[39;00m \u001b[38;5;129;01mnot\u001b[39;00m s.state[\u001b[33m\"\u001b[39m\u001b[33mcloudy\u001b[39m\u001b[33m\"\u001b[39m]]))\n\u001b[32m    118\u001b[39m \u001b[38;5;66;03m# Plot accesses\u001b[39;00m\n\u001b[32m--> \u001b[39m\u001b[32m119\u001b[39m \u001b[43mplt\u001b[49m\u001b[43m.\u001b[49m\u001b[43mplot\u001b[49m\u001b[43m(\u001b[49m\u001b[43m[\u001b[49m\u001b[43ma\u001b[49m\u001b[43m.\u001b[49m\u001b[43mlong\u001b[49m\u001b[43m \u001b[49m\u001b[38;5;28;43;01mfor\u001b[39;49;00m\u001b[43m \u001b[49m\u001b[43ma\u001b[49m\u001b[43m \u001b[49m\u001b[38;5;129;43;01min\u001b[39;49;00m\u001b[43m \u001b[49m\u001b[43maccesses\u001b[49m\u001b[43m \u001b[49m\u001b[38;5;28;43;01mif\u001b[39;49;00m\u001b[43m \u001b[49m\u001b[43ma\u001b[49m\u001b[43m.\u001b[49m\u001b[43mstate\u001b[49m\u001b[43m[\u001b[49m\u001b[33;43m\"\u001b[39;49m\u001b[33;43mobserved\u001b[39;49m\u001b[33;43m\"\u001b[39;49m\u001b[43m]\u001b[49m\u001b[43m]\u001b[49m\u001b[43m,\u001b[49m\u001b[43m \u001b[49m\u001b[43m[\u001b[49m\u001b[43ma\u001b[49m\u001b[43m.\u001b[49m\u001b[43mlat\u001b[49m\u001b[43m \u001b[49m\u001b[38;5;28;43;01mfor\u001b[39;49;00m\u001b[43m \u001b[49m\u001b[43ma\u001b[49m\u001b[43m \u001b[49m\u001b[38;5;129;43;01min\u001b[39;49;00m\u001b[43m \u001b[49m\u001b[43maccesses\u001b[49m\u001b[43m \u001b[49m\u001b[38;5;28;43;01mif\u001b[39;49;00m\u001b[43m \u001b[49m\u001b[43ma\u001b[49m\u001b[43m.\u001b[49m\u001b[43mstate\u001b[49m\u001b[43m[\u001b[49m\u001b[33;43m\"\u001b[39;49m\u001b[33;43mobserved\u001b[39;49m\u001b[33;43m\"\u001b[39;49m\u001b[43m]\u001b[49m\u001b[43m]\u001b[49m\u001b[43m,\u001b[49m\u001b[43m \u001b[49m\u001b[33;43m'\u001b[39;49m\u001b[33;43mb.\u001b[39;49m\u001b[33;43m'\u001b[39;49m\u001b[43m,\u001b[49m\u001b[43m \u001b[49m\u001b[43mtransform\u001b[49m\u001b[43m=\u001b[49m\u001b[43mccrs\u001b[49m\u001b[43m.\u001b[49m\u001b[43mPlateCarree\u001b[49m\u001b[43m(\u001b[49m\u001b[43m)\u001b[49m\u001b[43m,\u001b[49m\u001b[43m \u001b[49m\u001b[43mlabel\u001b[49m\u001b[43m=\u001b[49m\u001b[33;43m'\u001b[39;49m\u001b[33;43mObserved Accesses\u001b[39;49m\u001b[33;43m'\u001b[39;49m\u001b[43m,\u001b[49m\u001b[43m \u001b[49m\u001b[43mmarkersize\u001b[49m\u001b[43m=\u001b[49m\u001b[32;43m5\u001b[39;49m\u001b[43m)\u001b[49m\n\u001b[32m    120\u001b[39m plt.plot([a.long \u001b[38;5;28;01mfor\u001b[39;00m a \u001b[38;5;129;01min\u001b[39;00m accesses \u001b[38;5;28;01mif\u001b[39;00m \u001b[38;5;129;01mnot\u001b[39;00m a.state[\u001b[33m\"\u001b[39m\u001b[33mobserved\u001b[39m\u001b[33m\"\u001b[39m]], [a.lat \u001b[38;5;28;01mfor\u001b[39;00m a \u001b[38;5;129;01min\u001b[39;00m accesses \u001b[38;5;28;01mif\u001b[39;00m \u001b[38;5;129;01mnot\u001b[39;00m a.state[\u001b[33m\"\u001b[39m\u001b[33mobserved\u001b[39m\u001b[33m\"\u001b[39m]], \u001b[33m'\u001b[39m\u001b[33mm.\u001b[39m\u001b[33m'\u001b[39m, transform=ccrs.PlateCarree(), label=\u001b[33m'\u001b[39m\u001b[33mUnobserved Accesses\u001b[39m\u001b[33m'\u001b[39m, markersize=\u001b[32m5\u001b[39m)\n\u001b[32m    121\u001b[39m plt.plot([r.long \u001b[38;5;28;01mfor\u001b[39;00m r \u001b[38;5;129;01min\u001b[39;00m requests \u001b[38;5;28;01mif\u001b[39;00m r \u001b[38;5;129;01mnot\u001b[39;00m \u001b[38;5;129;01min\u001b[39;00m [x.request \u001b[38;5;28;01mfor\u001b[39;00m x \u001b[38;5;129;01min\u001b[39;00m accesses]], [r.lat \u001b[38;5;28;01mfor\u001b[39;00m r \u001b[38;5;129;01min\u001b[39;00m requests \u001b[38;5;28;01mif\u001b[39;00m r \u001b[38;5;129;01mnot\u001b[39;00m \u001b[38;5;129;01min\u001b[39;00m [x.request \u001b[38;5;28;01mfor\u001b[39;00m x \u001b[38;5;129;01min\u001b[39;00m accesses]], \u001b[33m'\u001b[39m\u001b[33m.\u001b[39m\u001b[33m'\u001b[39m, transform=ccrs.PlateCarree(), label=\u001b[33m\"\u001b[39m\u001b[33mAll Requests\u001b[39m\u001b[33m\"\u001b[39m, color=\u001b[33m'\u001b[39m\u001b[33mgrey\u001b[39m\u001b[33m'\u001b[39m, markersize=\u001b[32m3\u001b[39m)\n",
      "\u001b[36mFile \u001b[39m\u001b[32mc:\\Users\\shree\\AppData\\Local\\Programs\\Python\\Python312\\Lib\\site-packages\\matplotlib\\pyplot.py:3827\u001b[39m, in \u001b[36mplot\u001b[39m\u001b[34m(scalex, scaley, data, *args, **kwargs)\u001b[39m\n\u001b[32m   3819\u001b[39m \u001b[38;5;129m@_copy_docstring_and_deprecators\u001b[39m(Axes.plot)\n\u001b[32m   3820\u001b[39m \u001b[38;5;28;01mdef\u001b[39;00m \u001b[34mplot\u001b[39m(\n\u001b[32m   3821\u001b[39m     *args: \u001b[38;5;28mfloat\u001b[39m | ArrayLike | \u001b[38;5;28mstr\u001b[39m,\n\u001b[32m   (...)\u001b[39m\u001b[32m   3825\u001b[39m     **kwargs,\n\u001b[32m   3826\u001b[39m ) -> \u001b[38;5;28mlist\u001b[39m[Line2D]:\n\u001b[32m-> \u001b[39m\u001b[32m3827\u001b[39m     \u001b[38;5;28;01mreturn\u001b[39;00m \u001b[43mgca\u001b[49m\u001b[43m(\u001b[49m\u001b[43m)\u001b[49m\u001b[43m.\u001b[49m\u001b[43mplot\u001b[49m\u001b[43m(\u001b[49m\n\u001b[32m   3828\u001b[39m \u001b[43m        \u001b[49m\u001b[43m*\u001b[49m\u001b[43margs\u001b[49m\u001b[43m,\u001b[49m\n\u001b[32m   3829\u001b[39m \u001b[43m        \u001b[49m\u001b[43mscalex\u001b[49m\u001b[43m=\u001b[49m\u001b[43mscalex\u001b[49m\u001b[43m,\u001b[49m\n\u001b[32m   3830\u001b[39m \u001b[43m        \u001b[49m\u001b[43mscaley\u001b[49m\u001b[43m=\u001b[49m\u001b[43mscaley\u001b[49m\u001b[43m,\u001b[49m\n\u001b[32m   3831\u001b[39m \u001b[43m        \u001b[49m\u001b[43m*\u001b[49m\u001b[43m*\u001b[49m\u001b[43m(\u001b[49m\u001b[43m{\u001b[49m\u001b[33;43m\"\u001b[39;49m\u001b[33;43mdata\u001b[39;49m\u001b[33;43m\"\u001b[39;49m\u001b[43m:\u001b[49m\u001b[43m \u001b[49m\u001b[43mdata\u001b[49m\u001b[43m}\u001b[49m\u001b[43m \u001b[49m\u001b[38;5;28;43;01mif\u001b[39;49;00m\u001b[43m \u001b[49m\u001b[43mdata\u001b[49m\u001b[43m \u001b[49m\u001b[38;5;129;43;01mis\u001b[39;49;00m\u001b[43m \u001b[49m\u001b[38;5;129;43;01mnot\u001b[39;49;00m\u001b[43m \u001b[49m\u001b[38;5;28;43;01mNone\u001b[39;49;00m\u001b[43m \u001b[49m\u001b[38;5;28;43;01melse\u001b[39;49;00m\u001b[43m \u001b[49m\u001b[43m{\u001b[49m\u001b[43m}\u001b[49m\u001b[43m)\u001b[49m\u001b[43m,\u001b[49m\n\u001b[32m   3832\u001b[39m \u001b[43m        \u001b[49m\u001b[43m*\u001b[49m\u001b[43m*\u001b[49m\u001b[43mkwargs\u001b[49m\u001b[43m,\u001b[49m\n\u001b[32m   3833\u001b[39m \u001b[43m    \u001b[49m\u001b[43m)\u001b[49m\n",
      "\u001b[36mFile \u001b[39m\u001b[32mc:\\Users\\shree\\AppData\\Local\\Programs\\Python\\Python312\\Lib\\site-packages\\matplotlib\\axes\\_axes.py:1779\u001b[39m, in \u001b[36mAxes.plot\u001b[39m\u001b[34m(self, scalex, scaley, data, *args, **kwargs)\u001b[39m\n\u001b[32m   1777\u001b[39m lines = [*\u001b[38;5;28mself\u001b[39m._get_lines(\u001b[38;5;28mself\u001b[39m, *args, data=data, **kwargs)]\n\u001b[32m   1778\u001b[39m \u001b[38;5;28;01mfor\u001b[39;00m line \u001b[38;5;129;01min\u001b[39;00m lines:\n\u001b[32m-> \u001b[39m\u001b[32m1779\u001b[39m     \u001b[38;5;28;43mself\u001b[39;49m\u001b[43m.\u001b[49m\u001b[43madd_line\u001b[49m\u001b[43m(\u001b[49m\u001b[43mline\u001b[49m\u001b[43m)\u001b[49m\n\u001b[32m   1780\u001b[39m \u001b[38;5;28;01mif\u001b[39;00m scalex:\n\u001b[32m   1781\u001b[39m     \u001b[38;5;28mself\u001b[39m._request_autoscale_view(\u001b[33m\"\u001b[39m\u001b[33mx\u001b[39m\u001b[33m\"\u001b[39m)\n",
      "\u001b[36mFile \u001b[39m\u001b[32mc:\\Users\\shree\\AppData\\Local\\Programs\\Python\\Python312\\Lib\\site-packages\\matplotlib\\axes\\_base.py:2401\u001b[39m, in \u001b[36m_AxesBase.add_line\u001b[39m\u001b[34m(self, line)\u001b[39m\n\u001b[32m   2398\u001b[39m \u001b[38;5;28;01mif\u001b[39;00m line.get_clip_path() \u001b[38;5;129;01mis\u001b[39;00m \u001b[38;5;28;01mNone\u001b[39;00m:\n\u001b[32m   2399\u001b[39m     line.set_clip_path(\u001b[38;5;28mself\u001b[39m.patch)\n\u001b[32m-> \u001b[39m\u001b[32m2401\u001b[39m \u001b[38;5;28;43mself\u001b[39;49m\u001b[43m.\u001b[49m\u001b[43m_update_line_limits\u001b[49m\u001b[43m(\u001b[49m\u001b[43mline\u001b[49m\u001b[43m)\u001b[49m\n\u001b[32m   2402\u001b[39m \u001b[38;5;28;01mif\u001b[39;00m \u001b[38;5;129;01mnot\u001b[39;00m line.get_label():\n\u001b[32m   2403\u001b[39m     line.set_label(\u001b[33mf\u001b[39m\u001b[33m'\u001b[39m\u001b[33m_child\u001b[39m\u001b[38;5;132;01m{\u001b[39;00m\u001b[38;5;28mlen\u001b[39m(\u001b[38;5;28mself\u001b[39m._children)\u001b[38;5;132;01m}\u001b[39;00m\u001b[33m'\u001b[39m)\n",
      "\u001b[36mFile \u001b[39m\u001b[32mc:\\Users\\shree\\AppData\\Local\\Programs\\Python\\Python312\\Lib\\site-packages\\matplotlib\\axes\\_base.py:2428\u001b[39m, in \u001b[36m_AxesBase._update_line_limits\u001b[39m\u001b[34m(self, line)\u001b[39m\n\u001b[32m   2425\u001b[39m \u001b[38;5;28;01mif\u001b[39;00m path.vertices.size == \u001b[32m0\u001b[39m:\n\u001b[32m   2426\u001b[39m     \u001b[38;5;28;01mreturn\u001b[39;00m\n\u001b[32m-> \u001b[39m\u001b[32m2428\u001b[39m line_trf = \u001b[43mline\u001b[49m\u001b[43m.\u001b[49m\u001b[43mget_transform\u001b[49m\u001b[43m(\u001b[49m\u001b[43m)\u001b[49m\n\u001b[32m   2430\u001b[39m \u001b[38;5;28;01mif\u001b[39;00m line_trf == \u001b[38;5;28mself\u001b[39m.transData:\n\u001b[32m   2431\u001b[39m     data_path = path\n",
      "\u001b[36mFile \u001b[39m\u001b[32mc:\\Users\\shree\\AppData\\Local\\Programs\\Python\\Python312\\Lib\\site-packages\\matplotlib\\artist.py:454\u001b[39m, in \u001b[36mArtist.get_transform\u001b[39m\u001b[34m(self)\u001b[39m\n\u001b[32m    451\u001b[39m     \u001b[38;5;28mself\u001b[39m._transform = IdentityTransform()\n\u001b[32m    452\u001b[39m \u001b[38;5;28;01melif\u001b[39;00m (\u001b[38;5;129;01mnot\u001b[39;00m \u001b[38;5;28misinstance\u001b[39m(\u001b[38;5;28mself\u001b[39m._transform, Transform)\n\u001b[32m    453\u001b[39m       \u001b[38;5;129;01mand\u001b[39;00m \u001b[38;5;28mhasattr\u001b[39m(\u001b[38;5;28mself\u001b[39m._transform, \u001b[33m'\u001b[39m\u001b[33m_as_mpl_transform\u001b[39m\u001b[33m'\u001b[39m)):\n\u001b[32m--> \u001b[39m\u001b[32m454\u001b[39m     \u001b[38;5;28mself\u001b[39m._transform = \u001b[38;5;28;43mself\u001b[39;49m\u001b[43m.\u001b[49m\u001b[43m_transform\u001b[49m\u001b[43m.\u001b[49m\u001b[43m_as_mpl_transform\u001b[49m\u001b[43m(\u001b[49m\u001b[38;5;28;43mself\u001b[39;49m\u001b[43m.\u001b[49m\u001b[43maxes\u001b[49m\u001b[43m)\u001b[49m\n\u001b[32m    455\u001b[39m \u001b[38;5;28;01mreturn\u001b[39;00m \u001b[38;5;28mself\u001b[39m._transform\n",
      "\u001b[36mFile \u001b[39m\u001b[32mc:\\Users\\shree\\AppData\\Local\\Programs\\Python\\Python312\\Lib\\site-packages\\cartopy\\crs.py:266\u001b[39m, in \u001b[36mCRS._as_mpl_transform\u001b[39m\u001b[34m(self, axes)\u001b[39m\n\u001b[32m    264\u001b[39m \u001b[38;5;28;01mimport\u001b[39;00m \u001b[34;01mcartopy\u001b[39;00m\u001b[34;01m.\u001b[39;00m\u001b[34;01mmpl\u001b[39;00m\u001b[34;01m.\u001b[39;00m\u001b[34;01mgeoaxes\u001b[39;00m \u001b[38;5;28;01mas\u001b[39;00m \u001b[34;01mgeoaxes\u001b[39;00m\n\u001b[32m    265\u001b[39m \u001b[38;5;28;01mif\u001b[39;00m \u001b[38;5;129;01mnot\u001b[39;00m \u001b[38;5;28misinstance\u001b[39m(axes, geoaxes.GeoAxes):\n\u001b[32m--> \u001b[39m\u001b[32m266\u001b[39m     \u001b[38;5;28;01mraise\u001b[39;00m \u001b[38;5;167;01mValueError\u001b[39;00m(\n\u001b[32m    267\u001b[39m         \u001b[33m'\u001b[39m\u001b[33mAxes should be an instance of GeoAxes, got \u001b[39m\u001b[38;5;132;01m%s\u001b[39;00m\u001b[33m'\u001b[39m % \u001b[38;5;28mtype\u001b[39m(axes)\n\u001b[32m    268\u001b[39m     )\n\u001b[32m    269\u001b[39m \u001b[38;5;28;01mreturn\u001b[39;00m (\n\u001b[32m    270\u001b[39m     geoaxes.InterProjectionTransform(\u001b[38;5;28mself\u001b[39m, axes.projection) +\n\u001b[32m    271\u001b[39m     axes.transData\n\u001b[32m    272\u001b[39m )\n",
      "\u001b[31mValueError\u001b[39m: Axes should be an instance of GeoAxes, got <class 'matplotlib.axes._axes.Axes'>"
     ]
    },
    {
     "data": {
      "image/png": "[encoded data removed]",
      "text/plain": [
       "<Figure size 350x262.5 with 1 Axes>"
      ]
     },
     "metadata": {},
     "output_type": "display_data"
    }
   ],
   "source": [
    "N = 1\n",
    "\n",
    "omni_schedule_perf = []\n",
    "initial_schedule_perf = []\n",
    "dt_schedule_perf = []\n",
    "\n",
    "for i in tqdm(range(N)):\n",
    "    for a in accesses:\n",
    "        a.state = {\"observed\": False, \"cloudy\": np.random.rand() < 0.66}\n",
    "\n",
    "    schedule = milp_schedule(accesses, requests, agility_bangbang)\n",
    "    schedule_omni = milp_schedule([a for a in accesses if not a.state[\"cloudy\"]], requests, agility_bangbang)\n",
    "\n",
    "    print(len(schedule), len([s for s in schedule if not s.state[\"cloudy\"]]))\n",
    "    initial_schedule_perf.append((len(schedule), len([s for s in schedule if not s.state[\"cloudy\"]])))\n",
    "    omni_schedule_perf.append((len(schedule_omni), len([s for s in schedule_omni if not s.state[\"cloudy\"]])))\n",
    "\n",
    "    K = get_intrinsics(800, width//2, height//2)\n",
    "\n",
    "    # fig = plt.figure(figsize=(10, 10))\n",
    "    # Create a cartopy GeoAxes with PlateCarree projection\n",
    "    # ax = plt.axes(projection=ccrs.PlateCarree())\n",
    "    lookahead_plotted=False\n",
    "    # box = np.array([[0, 0], [width, 0], [width, height], [0, height], [0, 0]])\n",
    "\n",
    "    def create_high_res_box(width, height, points_per_edge=10):\n",
    "        # Create the base box corners\n",
    "        corners = np.array([[0, 0], [width, 0], [width, height], [0, height]])\n",
    "        \n",
    "        # Create high resolution edges\n",
    "        edges = []\n",
    "        for i in range(4):\n",
    "            start = corners[i]\n",
    "            end = corners[(i + 1) % 4]\n",
    "            # Generate evenly spaced points along each edge\n",
    "            edge_points = np.linspace(start, end, points_per_edge)\n",
    "            edges.append(edge_points[:-1])  # Exclude last point to avoid duplicates\n",
    "        \n",
    "        # Combine all edges and add the closing point\n",
    "        high_res_box = np.vstack(edges + [corners[0]])\n",
    "        return high_res_box\n",
    "\n",
    "    # Create high resolution box with 20 points per edge\n",
    "    box_hires = create_high_res_box(width, height, points_per_edge=12)\n",
    "\n",
    "\n",
    "    utilities, advs, costs = [], [], []\n",
    "    i = 0\n",
    "    while(i < len(schedule)):\n",
    "        s = schedule[i]\n",
    "        t = s.time\n",
    "        # Convert all accesses to ECEF\n",
    "        accesses_converted = [(latlong2ecef([a.lat, a.long]), a.angle, a.time, a, i) for i, a in enumerate(accesses)]\n",
    "        # Get current orbit position in ECEF\n",
    "        orbit_new = propagate_orbit(orbit, t)\n",
    "        r , v = kepler2eci(orbit_new)\n",
    "        pos_ecef = eci2ecef(r, t)\n",
    "        v_ecef = eci2ecef(v, t)\n",
    "        \n",
    "        lookahead_action, in_box_idx, all_utilities, all_advs, all_costs, utility, adv, cost, missed, maneuver_time = evaluate_lookahead_chain(t, orbit_new, accesses_converted, K)\n",
    "        lookahead_reward = utility\n",
    "        utilities.append(all_utilities)\n",
    "        advs.append(all_advs)\n",
    "        costs.append(all_costs)\n",
    "\n",
    "        pitch_deg, roll_deg = lookahead_action\n",
    "\n",
    "        # For plotting\n",
    "        ecef_unprojected_dir = -(r - unproject_from_orbit(box_hires, 1, K, orbit_new, t, pitch_angle=pitch_deg, roll_angle=roll_deg))\n",
    "        # Calculate Earth line intersections in ECI\n",
    "        \n",
    "        eci_intersections = [earth_line_intersection(r, d, horizon_snap=True)[0] for d in ecef_unprojected_dir]\n",
    "        # Convert to latlong\n",
    "        latlong_intersections = [ecef2latlong(eci2ecef(i, t)) for i in eci_intersections]\n",
    "        if(lookahead_reward > 0):\n",
    "            # Mark the accesses as observed\n",
    "            for j in in_box_idx:\n",
    "                accesses[accesses_converted[j][-1]].state[\"observed\"] = True\n",
    "            \n",
    "            # Plot the lookahead\n",
    "            # plt.plot([a[1] for a in latlong_intersections], [a[0] for a in latlong_intersections], 'r', transform=ccrs.PlateCarree(), label='Lookahead' if not lookahead_plotted else None)\n",
    "            lookahead_plotted = True\n",
    "\n",
    "            # TODO: Re-optimize the schedule...\n",
    "            min_time = t\n",
    "            max_time = np.max([a[2] for a in accesses_converted if a[-2].state[\"observed\"]])\n",
    "\n",
    "            schedule_slice_idxs = [i for i, s in enumerate(schedule) if s.time >= min_time and s.time <= max_time]\n",
    "            schedule_slice = schedule[min(schedule_slice_idxs):max(schedule_slice_idxs)]\n",
    "            max_schedule_slice_idx = max(schedule_slice_idxs)\n",
    "\n",
    "            # TODO: Add the missed-schedule maneuver time to the min time\n",
    "            accesses_in_time = [a for a in accesses if a.time >= min_time + datetime.timedelta(seconds=maneuver_time) and a.time <= max_time and not (a.state[\"observed\"] and a.state[\"cloudy\"])] \n",
    "            # Make sure to add the bounding accesses\n",
    "            if(schedule[i] not in accesses_in_time):\n",
    "                accesses_in_time.insert(0, schedule[i])\n",
    "\n",
    "            max_bounding = [(i, s) for i, s in enumerate(schedule) if s.time >= max_time][0]\n",
    "            max_bounding_schedule_idx, max_bounding_schedule = max_bounding[0], max_bounding[1]\n",
    "            if(max_bounding_schedule not in accesses_in_time):\n",
    "                accesses_in_time.append(max_bounding_schedule)\n",
    "\n",
    "            # Re-optimize the schedule, force in the bounding accesses\n",
    "            # print([schedule[i], max_bounding_schedule])\n",
    "            try:\n",
    "                schedule_slice_optimized = milp_schedule(accesses_in_time, requests, agility_bangbang, [schedule[i], max_bounding_schedule])\n",
    "            except Exception as e:\n",
    "                print(e, [schedule[i], max_bounding_schedule], len(accesses_in_time))\n",
    "            \n",
    "            # Update the schedule\n",
    "            schedule = schedule[:i] + schedule_slice_optimized[1:-1] + schedule[max_bounding_schedule_idx:]\n",
    "        i += 1\n",
    "\n",
    "    dt_schedule_perf.append((len(schedule), len([s for s in schedule if not s.state[\"cloudy\"]])))\n",
    "\n",
    "print(len(schedule), len([s for s in schedule if not s.state[\"cloudy\"]]))\n",
    "\n",
    "# Plot accesses\n",
    "plt.plot([a.long for a in accesses if a.state[\"observed\"]], [a.lat for a in accesses if a.state[\"observed\"]], 'b.', transform=ccrs.PlateCarree(), label='Observed Accesses', markersize=5)\n",
    "plt.plot([a.long for a in accesses if not a.state[\"observed\"]], [a.lat for a in accesses if not a.state[\"observed\"]], 'm.', transform=ccrs.PlateCarree(), label='Unobserved Accesses', markersize=5)\n",
    "plt.plot([r.long for r in requests if r not in [x.request for x in accesses]], [r.lat for r in requests if r not in [x.request for x in accesses]], '.', transform=ccrs.PlateCarree(), label=\"All Requests\", color='grey', markersize=3)\n",
    "# May as well plot the orbit track\n",
    "orbit_latlong = [kepler2latlong(propagate_orbit(orbit, t), orbit.t + datetime.timedelta(seconds=t)) for t in np.linspace(0, (t_end - t0).total_seconds(), 100)]\n",
    "plt.plot([long for lat, long in orbit_latlong], [lat for lat, long in orbit_latlong], 'k-', label='Orbit Track')\n",
    "\n",
    "# Show the start and end latlong\n",
    "orbit_latlong_start = kepler2latlong(propagate_orbit(orbit, 0), t0)\n",
    "orbit_latlong_end = kepler2latlong(propagate_orbit(orbit, (t_end - t0).total_seconds()), t_end)\n",
    "print(orbit_latlong_start)\n",
    "print(orbit_latlong_end)\n",
    "plt.plot([orbit_latlong_start[1]], [orbit_latlong_start[0]], 'g*', transform=ccrs.PlateCarree(), label='Start', markersize=10)\n",
    "plt.plot([orbit_latlong_end[1]], [orbit_latlong_end[0]], 'r*', transform=ccrs.PlateCarree(), label='End', markersize=10)\n",
    "\n",
    "# Add coastlines\n",
    "ax.stock_img()\n",
    "ax.coastlines()\n",
    "ax.set_extent([-15, 65, 15, 60], crs=ccrs.PlateCarree())\n",
    "ax.legend(frameon=True, ncol=2)\n",
    "\n",
    "# Add gridlines for latitude and longitude\n",
    "gridlines = ax.gridlines(draw_labels=True, linestyle='--', color='gray', alpha=0.5)\n",
    "gridlines.top_labels = False    # Disable labels at the top\n",
    "gridlines.right_labels = False  # Disable labels on the right\n",
    "plt.savefig('lookahead_chain.png', dpi=300)\n",
    "plt.show()"
   ]
  },
  {
   "cell_type": "code",
   "execution_count": 6,
   "metadata": {},
   "outputs": [],
   "source": [
    "# Check for duplicates in schedule\n",
    "# for i, s in enumerate(schedule):\n",
    "#     print(s.requestid)\n",
    "\n",
    "# Check that they all follow agi\\lity constraints\n",
    "for i in range(len(schedule) - 1):\n",
    "    # print((schedule[i+1].time - schedule[i].time).total_seconds(), agility_bangbang(schedule[i].angle - schedule[i+1].angle))\n",
    "    if((schedule[i+1].time - schedule[i].time).total_seconds() < agility_bangbang(schedule[i].angle - schedule[i+1].angle)):\n",
    "        print(f\"Warning: Schedule does not follow agility constraints at {schedule[i].name} and {schedule[i+1].name}\")\n"
   ]
  },
  {
   "cell_type": "code",
   "execution_count": 7,
   "metadata": {},
   "outputs": [
    {
     "data": {
      "image/png": "[encoded data removed]",
      "text/plain": [
       "<Figure size 900x600 with 1 Axes>"
      ]
     },
     "metadata": {},
     "output_type": "display_data"
    }
   ],
   "source": [
    "# Plot some costs, utilities\n",
    "fig = plt.figure(figsize=(6, 4), dpi=150)\n",
    "\n",
    "angles = np.linspace(0, 70)\n",
    "\n",
    "# plt.plot(np.mean(utilities, axis=0), label='Utility', color='blue')\n",
    "plt.plot(angles, np.mean(advs, axis=0), label='Advantage (mean)', color='green')\n",
    "plt.plot(angles, np.mean(costs, axis=0), label='Cost (mean)', color='red')\n",
    "plt.plot([])\n",
    "\n",
    "# Plot the min and max of each\n",
    "# plt.fill_between(range(len(utilities[0])), np.min(utilities, axis=0), np.max(utilities, axis=0), color='blue', alpha=0.2)\n",
    "plt.fill_between(angles, np.min(advs, axis=0), np.max(advs, axis=0), color='green', alpha=0.2, label='Advantage (min/max)')\n",
    "plt.fill_between(angles, np.min(costs, axis=0), np.max(costs, axis=0), color='red', alpha=0.2 , label='Cost (min/max)')\n",
    "\n",
    "plt.legend()\n",
    "plt.xlim(0)\n",
    "\n",
    "plt.xlabel('Lookahead Angle [-]')\n",
    "plt.ylabel('Utility [-]')\n",
    "plt.show()\n"
   ]
  },
  {
   "cell_type": "code",
   "execution_count": 8,
   "metadata": {},
   "outputs": [
    {
     "data": {
      "image/png": "[encoded data removed]",
      "text/plain": [
       "<Figure size 350x250 with 1 Axes>"
      ]
     },
     "metadata": {},
     "output_type": "display_data"
    },
    {
     "data": {
      "image/png": "[encoded data removed]",
      "text/plain": [
       "<Figure size 350x262.5 with 1 Axes>"
      ]
     },
     "metadata": {},
     "output_type": "display_data"
    },
    {
     "data": {
      "image/png": "[encoded data removed]",
      "text/plain": [
       "<Figure size 350x250 with 1 Axes>"
      ]
     },
     "metadata": {},
     "output_type": "display_data"
    }
   ],
   "source": [
    "# Make a histogram plot\n",
    "plt.figure(figsize=(3.5, 2.5))\n",
    "n_bins = 5\n",
    "plt.hist([x[1] for x in omni_schedule_perf], label='Omniscient', bins=n_bins)\n",
    "plt.hist([x[1] for x in dt_schedule_perf], label='Dynamically Tasked', bins=n_bins)\n",
    "plt.hist([x[1] for x in initial_schedule_perf], label='Conventional Schedule', bins=n_bins)\n",
    "plt.legend()\n",
    "plt.show()\n",
    "\n",
    "# Now for schedule length\n",
    "plt.hist([x[0] for x in omni_schedule_perf], label='Omniscient', bins=n_bins)\n",
    "plt.hist([x[0] for x in initial_schedule_perf], label='Conventional Schedule', bins=n_bins)\n",
    "plt.hist([x[0] for x in dt_schedule_perf], label='Dynamically Tasked', bins=n_bins)\n",
    "plt.legend()\n",
    "plt.show()\n",
    "\n",
    "# Now figure out the error bars\n",
    "\n",
    "# Calculate proportion cloud free\n",
    "cloud_free_omni = [x[1]/x[0] for x in omni_schedule_perf]\n",
    "cloud_free_initial = [x[1]/x[0] for x in initial_schedule_perf]\n",
    "cloud_free_dt = [x[1]/x[0] for x in dt_schedule_perf]\n",
    "\n",
    "# Error bars\n",
    "cloud_free_omni_err = np.std(cloud_free_omni)\n",
    "cloud_free_initial_err = np.std(cloud_free_initial)\n",
    "cloud_free_dt_err = np.std(cloud_free_dt)\n",
    "\n",
    "# Cloud free centroids\n",
    "cloud_free_omni_centroid = np.mean(cloud_free_omni)\n",
    "cloud_free_initial_centroid = np.mean(cloud_free_initial)\n",
    "cloud_free_dt_centroid = np.mean(cloud_free_dt)\n",
    "\n",
    "\n",
    "# Schedule length error bars\n",
    "schedule_length_omni_err = np.std([x[0] for x in omni_schedule_perf])\n",
    "schedule_length_initial_err = np.std([x[0] for x in initial_schedule_perf])\n",
    "schedule_length_dt_err = np.std([x[0] for x in dt_schedule_perf])\n",
    "\n",
    "# Schedule length centroids\n",
    "schedule_length_omni_centroid = np.mean([x[0] for x in omni_schedule_perf])\n",
    "schedule_length_initial_centroid = np.mean([x[0] for x in initial_schedule_perf])\n",
    "schedule_length_dt_centroid = np.mean([x[0] for x in dt_schedule_perf])\n",
    "\n",
    "# Plot the centroids and error bars for all\n",
    "plt.figure(figsize=(3.5, 2.5))\n",
    "plt.errorbar(schedule_length_initial_centroid, cloud_free_initial_centroid,\n",
    "             xerr=schedule_length_initial_err, yerr=cloud_free_initial_err,\n",
    "             fmt='o', label='Conventional Schedule', capsize=5)\n",
    "plt.errorbar(schedule_length_dt_centroid, cloud_free_dt_centroid,\n",
    "             xerr=schedule_length_dt_err, yerr=cloud_free_dt_err,\n",
    "             fmt='o', label='Dynamically Tasked', capsize=5)\n",
    "plt.errorbar(schedule_length_omni_centroid, cloud_free_omni_centroid,\n",
    "             xerr=schedule_length_omni_err, yerr=cloud_free_omni_err,\n",
    "             fmt='o', label='Omniscient', capsize=5)\n",
    "\n",
    "plt.xlabel('Schedule Length [-]')\n",
    "plt.ylabel('Proportion Cloud Free [-]')\n",
    "plt.legend()\n",
    "plt.tight_layout()\n",
    "plt.savefig(\"smallsat_schedule_perf.pdf\")\n",
    "plt.show()\n",
    "\n"
   ]
  },
  {
   "cell_type": "code",
   "execution_count": 2,
   "metadata": {},
   "outputs": [
    {
     "ename": "NameError",
     "evalue": "name 'dt_schedule_perf' is not defined",
     "output_type": "error",
     "traceback": [
      "\u001b[31m---------------------------------------------------------------------------\u001b[39m",
      "\u001b[31mNameError\u001b[39m                                 Traceback (most recent call last)",
      "\u001b[36mCell\u001b[39m\u001b[36m \u001b[39m\u001b[32mIn[2]\u001b[39m\u001b[32m, line 4\u001b[39m\n\u001b[32m      1\u001b[39m \u001b[38;5;66;03m# Comparisons\u001b[39;00m\n\u001b[32m      2\u001b[39m \n\u001b[32m      3\u001b[39m \u001b[38;5;66;03m# Compare how much better the DT is than the conventional schedule\u001b[39;00m\n\u001b[32m----> \u001b[39m\u001b[32m4\u001b[39m improved = [x[\u001b[32m1\u001b[39m]/y[\u001b[32m1\u001b[39m] \u001b[38;5;28;01mfor\u001b[39;00m x, y \u001b[38;5;129;01min\u001b[39;00m \u001b[38;5;28mzip\u001b[39m(\u001b[43mdt_schedule_perf\u001b[49m, initial_schedule_perf)]\n\u001b[32m      5\u001b[39m \u001b[38;5;28mprint\u001b[39m(np.mean(improved))\n\u001b[32m      6\u001b[39m \u001b[38;5;28mprint\u001b[39m(np.max(improved))\n",
      "\u001b[31mNameError\u001b[39m: name 'dt_schedule_perf' is not defined"
     ]
    }
   ],
   "source": [
    "# Comparisons\n",
    "\n",
    "# Compare how much better the DT is than the conventional schedule\n",
    "improved = [x[1]/y[1] for x, y in zip(dt_schedule_perf, initial_schedule_perf)]\n",
    "print(np.mean(improved))\n",
    "print(np.max(improved))\n",
    "print(np.min(improved))\n",
    "\n",
    "improved_bool = [x[1] > y[1] for x, y in zip(dt_schedule_perf, initial_schedule_perf)]\n",
    "print(improved_bool)\n",
    "print(np.mean(improved_bool))\n",
    "\n",
    "# Compare how much shorter the DT is than the omniscient\n",
    "shorter = [x[0]/y[0] for x, y in zip(dt_schedule_perf, omni_schedule_perf)]\n",
    "\n",
    "print(np.mean(shorter))\n",
    "\n",
    "\n"
   ]
  },
  {
   "cell_type": "code",
   "execution_count": null,
   "metadata": {},
   "outputs": [],
   "source": []
  }
 ],
 "metadata": {
  "kernelspec": {
   "display_name": "Python 3",
   "language": "python",
   "name": "python3"
  },
  "language_info": {
   "codemirror_mode": {
    "name": "ipython",
    "version": 3
   },
   "file_extension": ".py",
   "mimetype": "text/x-python",
   "name": "python",
   "nbconvert_exporter": "python",
   "pygments_lexer": "ipython3",
   "version": "3.12.6"
  }
 },
 "nbformat": 4,
 "nbformat_minor": 2
}
